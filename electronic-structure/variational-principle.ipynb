{
 "cells": [
  {
   "cell_type": "markdown",
   "metadata": {},
   "source": [
    "# Variational Principle method\n",
    "\n",
    "This notebook follows (Thijssen, 2013, p. 29). The variational method is a method for deducing upper bounds of energy eigenstates (usually used on the ground state). \n",
    "\n",
    "## Theory \n",
    "\n",
    "Consider a subset of Hilbert space whose energy expectation values are greater than some eigenstate's energy that we want to find. It can be shown that the min energy expectation value of any superposition of these states is greater than or equal to the eigenenergy we want (see (Thijssen, 2013, p. 30) for the full proof or (Griffiths, 2018, p. 327) for the simple case).\n",
    "\n",
    "In the linear case this can be reformed into a matrix problem.\n",
    "\n",
    "If the subset of states is $\\{\\ket{n}|n=1,2,3,...\\}$ (this set doesn't have to be orthonormal), then a general ket takes the form:\n",
    "\n",
    "$\\ket{\\phi} = \\sum\\limits_{i = 1}^{\\infty}C_i\\ket{i}$\n",
    "\n",
    "$\\implies \\bra{\\phi}\\hat{H}\\ket{\\phi} = \\dfrac{\\sum\\limits_{i,j = 1}^{\\infty}C_i^{*}C_jH_{ij}}{\\sum\\limits_{i,j = 1}^{\\infty}C_i^{*}C_jS_{ij}}$\n",
    "\n",
    "where $H_{ij} = \\bra{i}\\hat{H}\\ket{j}$ and $S_{ij} = \\bra{i}\\hat{S}\\ket{j}$\n",
    "\n",
    "Minimising $\\bra{\\phi}\\hat{H}\\ket{\\phi}$ by calculus gives:\n",
    "\n",
    "$\\sum\\limits_{j = 1}^{\\infty}C_j(H_{ij} - E S_{ij})$ for all i\n",
    "\n",
    "This can be rewritten as a matrix equation $\\bf{H}\\bf{C} = E \\bf{S}\\bf{C}$"
   ]
  },
  {
   "cell_type": "markdown",
   "metadata": {
    "vscode": {
     "languageId": "plaintext"
    }
   },
   "source": [
    "## Linear variational method for the Hydrogen atom\n",
    "\n",
    "In atomic units the time-independent Schrödinger equation is:\n",
    "\n",
    "$(\\frac{1}{2}\\nabla^2 - \\frac{1}{r})\\psi(\\bm{r}) = E\\psi(\\bm{r})$\n",
    "\n",
    "Apply the linear variational principle method, where the guessed wavefunction is a linear superposition of:\n",
    "\n",
    "$\\psi_{\\alpha_n}(\\bm{r}) = e^{-\\alpha_n r^2}$\n",
    "\n",
    "where $\\alpha \\in \\{ \\alpha_1 = 13.00773, \\alpha_2 = 1.962079, \\alpha_3 = 0.444529, \\alpha_4 = 0.1219492 \\}$\n",
    "\n",
    "The corresponding matrix elements are:\n",
    "\n",
    "$S_{nm} = \\left( \\frac{\\pi}{\\alpha_n + \\alpha_m} \\right)^{\\frac{3}{2}}$\n",
    "\n",
    "$H_{nm} = 3\\frac{\\alpha_n\\alpha_m\\pi^{\\frac{3}{2}}}{(\\alpha_n + \\alpha_m)^{\\frac{5}{2}}} - \\frac{2\\pi}{\\alpha_n + \\alpha_m}$\n",
    "\n",
    "The following program implements this approach."
   ]
  },
  {
   "cell_type": "code",
   "execution_count": 25,
   "metadata": {},
   "outputs": [],
   "source": [
    "import numpy as np\n",
    "import matplotlib.pyplot as plt\n"
   ]
  },
  {
   "cell_type": "code",
   "execution_count": 26,
   "metadata": {},
   "outputs": [
    {
     "name": "stdout",
     "output_type": "stream",
     "text": [
      "Ground energy is -0.4992784056674857 hartree. The correct value is -0.5 hartree.\n"
     ]
    }
   ],
   "source": [
    "\n",
    "#functions that calculate components \n",
    "SComponent = lambda alpha_n,alpha_m: (np.pi/(alpha_n + alpha_m))**(3/2)\n",
    "HComponent = lambda alpha_n,alpha_m: 3*(alpha_n*alpha_m*(np.pi**1.5))/((alpha_n + alpha_m)**(5/2)) - 2*np.pi/(alpha_n + alpha_m)\n",
    "\n",
    "#values of alpha\n",
    "alphas = np.array([13.00773, 1.962079, 0.444529, 0.1219492])\n",
    "\n",
    "#finding matrices as lists\n",
    "S = [[SComponent(a_n,a_m) for a_m in alphas] for a_n in alphas]\n",
    "H = [[HComponent(a_n,a_m) for a_m in alphas] for a_n in alphas]\n",
    "\n",
    "#convert to numpy arrays\n",
    "S = np.array(S)\n",
    "H = np.array(H)\n",
    "\n",
    "#find eigenvalues\n",
    "eigenvalues, eigenvectors = np.linalg.eig(np.matmul(np.linalg.inv(S),H))\n",
    "\n",
    "#find min eigenvalue\n",
    "(groundEnergy,index) = min([(eigenvalue, i) for i, eigenvalue in enumerate(eigenvalues)])\n",
    "\n",
    "#print out\n",
    "print(f'Ground energy is {groundEnergy} hartree. The correct value is -0.5 hartree.')"
   ]
  },
  {
   "cell_type": "markdown",
   "metadata": {},
   "source": []
  },
  {
   "cell_type": "code",
   "execution_count": null,
   "metadata": {},
   "outputs": [],
   "source": []
  },
  {
   "cell_type": "markdown",
   "metadata": {},
   "source": [
    "## References\n",
    "\n",
    "Thijseen J., 2013. Computational Physics. Cambridge: Cambridge University Press\n",
    "\n",
    "Griffiths D., 2018. Introduction To Quantum Mechanics.  Cambridge: Cambridge University Press"
   ]
  },
  {
   "cell_type": "markdown",
   "metadata": {},
   "source": []
  }
 ],
 "metadata": {
  "kernelspec": {
   "display_name": ".venv",
   "language": "python",
   "name": "python3"
  },
  "language_info": {
   "codemirror_mode": {
    "name": "ipython",
    "version": 3
   },
   "file_extension": ".py",
   "mimetype": "text/x-python",
   "name": "python",
   "nbconvert_exporter": "python",
   "pygments_lexer": "ipython3",
   "version": "3.8.10"
  }
 },
 "nbformat": 4,
 "nbformat_minor": 2
}
