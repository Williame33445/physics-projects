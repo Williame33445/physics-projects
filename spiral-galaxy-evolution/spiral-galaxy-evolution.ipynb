{
 "cells": [
  {
   "cell_type": "markdown",
   "metadata": {},
   "source": [
    "# Spiral Galaxy evolution\n",
    "\n",
    "Simple spiral galaxy formation simulation, based on PARTICLE SIMULATION OF SPIRAL GALAXY EVOLUTION by D. Greenspan.\n",
    "\n",
    "Aims:\n",
    "- simple simulations\n",
    "- form some of the different types via different intial conditions\n",
    "- animation?\n",
    "- upgrade barnes hut?"
   ]
  },
  {
   "cell_type": "code",
   "execution_count": 54,
   "metadata": {},
   "outputs": [],
   "source": [
    "import numpy as np\n",
    "import itertools\n",
    "import matplotlib.pyplot as plt\n",
    "\n",
    "#why is it so unstable? The sums for the force are wrong\n",
    "# I think the problem is just the accuracy of the simulation\n"
   ]
  },
  {
   "cell_type": "code",
   "execution_count": 55,
   "metadata": {},
   "outputs": [],
   "source": [
    "G = 0.0001"
   ]
  },
  {
   "cell_type": "code",
   "execution_count": 56,
   "metadata": {},
   "outputs": [],
   "source": [
    "class Galaxy:\n",
    "    def __init__(self,r0,v0,Ms,alpha,beta,p,q,D,N,tN,sDim):\n",
    "        assert r0.shape == v0.shape\n",
    "        self.pNum = r0.shape[0]\n",
    "\n",
    "        assert r0.shape[1] == sDim\n",
    "        self.sDim = sDim\n",
    "\n",
    "        assert Ms.shape[0] == r0.shape[0]\n",
    "        self.Ms = Ms\n",
    "\n",
    "        assert D >= 0\n",
    "        self.alpha = alpha\n",
    "        self.beta = beta\n",
    "        self.D = D\n",
    "        self.p = p\n",
    "        self.q = q\n",
    "        \n",
    "        h = tN/N\n",
    "        self.ts = np.arange(0,N,step=h)\n",
    "        self.rs = np.empty([N,self.pNum,self.sDim])\n",
    "        self.rs[0] = r0\n",
    "        self.vs = np.empty([N,self.pNum,self.sDim]) \n",
    "        self.vs[0] = v0 + 0.5*h*self.getAs(t=0)\n",
    "\n",
    "        for t in range(N-1):\n",
    "            self.rs[t+1] = self.rs[t] + h*self.vs[t]\n",
    "            self.vs[t+1] = self.vs[t] + h*self.getAs(t)\n",
    "            print(t)\n",
    "\n",
    "    def getAs(self,t):\n",
    "        assert type(t) == int\n",
    "        rst = self.rs[t]\n",
    "\n",
    "        Fijs = np.zeros([self.pNum,self.pNum,self.sDim])\n",
    "        for i in range(self.pNum):\n",
    "            for j in range(i):\n",
    "                rij = rst[i] - rst[j]\n",
    "                rijMag = np.linalg.norm(rij)\n",
    "                if rijMag > self.D:\n",
    "                    Fijs[i,j] = -G*self.Ms[i]*self.Ms[j]*rij/(rijMag**3) #may get negative errors here, very little depenedence on sign\n",
    "                else:\n",
    "                    Fijs[i,j] = (-self.alpha/(rijMag**self.p) + self.beta/(rijMag**self.q))*self.Ms[i]*self.Ms[j]*rij/rijMag\n",
    "                Fijs[j,i] = -Fijs[i,j]\n",
    "        \n",
    "        As = np.empty([self.pNum,self.sDim])\n",
    "        for i in range(self.pNum):\n",
    "            As[i] = np.sum(Fijs[i],axis=0)/self.Ms[i]\n",
    "\n",
    "        return As\n",
    "    \n"
   ]
  },
  {
   "cell_type": "code",
   "execution_count": 57,
   "metadata": {},
   "outputs": [],
   "source": [
    "#intial conditions from example 1\n",
    "alpha = beta = 0.2 #should generalise this to form any ellipical properties as I want to investigate this\n",
    "p = 2\n",
    "q = 4\n",
    "D = 1.4\n",
    "w = np.array([0,0,0.75])\n",
    "\n",
    "a = 2\n",
    "b = 1.5\n",
    "\n",
    "r0s = []\n",
    "Ms = []\n",
    "v0s = []\n",
    "for i,j in itertools.product(range(-100,100), repeat=2):\n",
    "    r = np.array([i,j])\n",
    "    if r @ r <= 200:\n",
    "        if (r[0]/a)**2 + (r[1]/b)**2 <= 1:\n",
    "            Ms.append(100)\n",
    "            v0s.append(np.cross(w,np.array([i,j,0]))[:2])\n",
    "        else:\n",
    "            Ms.append(1)\n",
    "            v0s.append((10**-7)*np.random.uniform(-1,1,2)) \n",
    "        r0s.append(r)\n",
    "\n",
    "r0s = np.array(r0s)\n",
    "Ms = np.array(Ms)\n",
    "v0s = np.array(v0s)\n",
    "L = np.array(L)\n",
    "\n"
   ]
  },
  {
   "cell_type": "code",
   "execution_count": 58,
   "metadata": {},
   "outputs": [
    {
     "name": "stdout",
     "output_type": "stream",
     "text": [
      "0\n",
      "1\n",
      "2\n",
      "3\n",
      "4\n",
      "5\n",
      "6\n",
      "7\n",
      "8\n",
      "9\n",
      "10\n",
      "11\n",
      "12\n",
      "13\n",
      "14\n",
      "15\n",
      "16\n",
      "17\n",
      "18\n",
      "19\n",
      "20\n",
      "21\n",
      "22\n",
      "23\n",
      "24\n",
      "25\n",
      "26\n",
      "27\n",
      "28\n",
      "29\n",
      "30\n",
      "31\n",
      "32\n",
      "33\n",
      "34\n",
      "35\n",
      "36\n",
      "37\n",
      "38\n",
      "39\n",
      "40\n",
      "41\n",
      "42\n",
      "43\n",
      "44\n",
      "45\n",
      "46\n",
      "47\n",
      "48\n",
      "49\n",
      "50\n",
      "51\n",
      "52\n",
      "53\n",
      "54\n",
      "55\n",
      "56\n",
      "57\n",
      "58\n",
      "59\n",
      "60\n",
      "61\n",
      "62\n",
      "63\n",
      "64\n",
      "65\n",
      "66\n",
      "67\n",
      "68\n",
      "69\n",
      "70\n",
      "71\n",
      "72\n",
      "73\n",
      "74\n",
      "75\n",
      "76\n",
      "77\n",
      "78\n",
      "79\n",
      "80\n",
      "81\n",
      "82\n",
      "83\n",
      "84\n",
      "85\n",
      "86\n",
      "87\n",
      "88\n",
      "89\n",
      "90\n",
      "91\n",
      "92\n",
      "93\n",
      "94\n",
      "95\n",
      "96\n",
      "97\n",
      "98\n"
     ]
    }
   ],
   "source": [
    "g = Galaxy(r0s,v0s,Ms,alpha,beta,p,q,D,100,3,2)"
   ]
  },
  {
   "cell_type": "code",
   "execution_count": 59,
   "metadata": {},
   "outputs": [
    {
     "data": {
      "text/plain": [
       "<matplotlib.collections.PathCollection at 0x1eafc9dc7c0>"
      ]
     },
     "execution_count": 59,
     "metadata": {},
     "output_type": "execute_result"
    },
    {
     "data": {
      "image/png": "[encoded data removed]",
      "text/plain": [
       "<Figure size 640x480 with 1 Axes>"
      ]
     },
     "metadata": {},
     "output_type": "display_data"
    }
   ],
   "source": [
    "plt.scatter(g.rs[0,:,0],g.rs[0,:,1])"
   ]
  },
  {
   "cell_type": "code",
   "execution_count": 67,
   "metadata": {},
   "outputs": [
    {
     "data": {
      "text/plain": [
       "(-15.0, 15.0)"
      ]
     },
     "execution_count": 67,
     "metadata": {},
     "output_type": "execute_result"
    },
    {
     "data": {
      "image/png": "[encoded data removed]",
      "text/plain": [
       "<Figure size 640x480 with 1 Axes>"
      ]
     },
     "metadata": {},
     "output_type": "display_data"
    }
   ],
   "source": [
    "plt.scatter(g.rs[50,:,0],g.rs[50,:,1])\n",
    "plt.xlim(-15,15)\n",
    "plt.ylim(-15,15)"
   ]
  },
  {
   "cell_type": "code",
   "execution_count": 61,
   "metadata": {},
   "outputs": [
    {
     "data": {
      "text/plain": [
       "<matplotlib.collections.PathCollection at 0x1eafcafd040>"
      ]
     },
     "execution_count": 61,
     "metadata": {},
     "output_type": "execute_result"
    },
    {
     "data": {
      "image/png": "[encoded data removed]",
      "text/plain": [
       "<Figure size 640x480 with 1 Axes>"
      ]
     },
     "metadata": {},
     "output_type": "display_data"
    }
   ],
   "source": [
    "plt.scatter(g.rs[-10,:,0],g.rs[-10,:,1])"
   ]
  }
 ],
 "metadata": {
  "kernelspec": {
   "display_name": ".venv",
   "language": "python",
   "name": "python3"
  },
  "language_info": {
   "codemirror_mode": {
    "name": "ipython",
    "version": 3
   },
   "file_extension": ".py",
   "mimetype": "text/x-python",
   "name": "python",
   "nbconvert_exporter": "python",
   "pygments_lexer": "ipython3",
   "version": "3.8.10"
  }
 },
 "nbformat": 4,
 "nbformat_minor": 2
}
