{
 "cells": [
  {
   "cell_type": "markdown",
   "metadata": {},
   "source": [
    "# Deutsch Algorithm\n",
    "\n",
    "This notebook is part of a set of notebooks on different quantum algorithms. The main source of these notes is Introduction to Quantum Information Science by Vlatko Vedral.\n",
    "\n",
    "## Purpose \n",
    "\n",
    "The purpose of the Deutsch Algorithm is to determine if a function $f(x)$ (whose domain and range are $\\{0,1\\}$) follows $f(1) \\neq f(0)$ (called fair) or $f(1) =  f(0)$ (called unfair). \n",
    "\n",
    "\n",
    "## Algorithm\n",
    "\n",
    "The algorithm takes two qubits in $\\ket{\\psi_1}$ given by $(1)$.\n",
    "\n",
    " $$\\ket{\\psi_1} = \\ket{+-}\\tag{1}$$\n",
    "\n",
    "where $\\ket{\\pm} = \\frac{1}{\\sqrt{2}}(\\ket{0} \\pm \\ket{1})$. \n",
    " \n",
    "The algorithm then consists of two parts:\n",
    "\n",
    "Firstly, $\\hat{U_f}$ is applied to $\\ket{\\psi_1}$ and the result is denoted by $\\ket{\\psi_2}$. $\\hat{U_f}$ is defined in $(2)$.\n",
    "\n",
    "$$\\hat{U_f}\\ket{xy} = \\ket{x}\\ket{g(x,y)}\\tag{2}$$\n",
    "\n",
    "where $g(x,y) = y + f(x)\\;(\\bmod\\; 2)$ and $x,y = \\{0,1\\}$.\n",
    "\n",
    "Then, $\\hat{H}\\otimes \\hat{I}$ is applied to $\\ket{\\psi_2}$ to get  $\\ket{\\psi_3}$ where $\\hat{H}$ is given by $(3)$.\n",
    "\n",
    "$$\\hat{H} = \\ket{0}\\bra{+} + \\ket{1}\\bra{-} \\tag{3}$$\n",
    "\n",
    "## Results of Algorithm\n",
    "\n",
    "By working through the algebra (see Vedral) it can be shown that for a fair function takes the form $\\ket{\\psi_3} = \\ket{0}\\ket{\\alpha}$ and for an unfair function takes the form $\\ket{\\psi_3} = \\ket{1}\\ket{\\alpha}$. As these states are orthogonal, the algorithm can be used to distinguish between the two different types of function.\n",
    "\n",
    "## Implementation\n",
    "\n",
    "The code below implements the algorithm and applies it to a fair and unfair function.\n"
   ]
  },
  {
   "cell_type": "code",
   "execution_count": 23,
   "metadata": {},
   "outputs": [],
   "source": [
    "import numpy as np"
   ]
  },
  {
   "cell_type": "code",
   "execution_count": 24,
   "metadata": {},
   "outputs": [],
   "source": [
    "#basis used is |00> = (1,0,0,0), |10> = (0,1,0,0), |01> = (0,0,1,0), |11> = (0,0,0,1)\n",
    "H = np.array([[1,1,0,0],[1,-1,0,0],[0,0,1,1],[0,0,1,-1]])/np.sqrt(2)\n",
    "psi_1 = np.array([1,1,-1,-1])/2\n"
   ]
  },
  {
   "cell_type": "code",
   "execution_count": 25,
   "metadata": {},
   "outputs": [],
   "source": [
    "def deutsch(f):\n",
    "    \"\"\"\n",
    "    Performs the Deutsch algorithm on f(x).\n",
    "    \"\"\"\n",
    "\n",
    "    def u(x1,y1,x2,y2):\n",
    "        \"\"\"\n",
    "        Finds matrix element <x1 y1|x2 y2>\n",
    "        \"\"\"\n",
    "        g = (y2 + f(x2)) % 2\n",
    "        if x1 == x2 and y1 == g:\n",
    "            return 1\n",
    "        else:\n",
    "            return 0\n",
    "        \n",
    "    #define U operator\n",
    "    U = np.array([[u(0,0,0,0),u(1,0,0,0),u(0,1,0,0),u(1,1,0,0)],\n",
    "                  [u(0,0,1,0),u(1,0,1,0),u(0,1,1,0),u(1,1,1,0)],\n",
    "                  [u(0,0,0,1),u(1,0,0,1),u(0,1,0,1),u(1,1,0,1)],\n",
    "                  [u(0,0,1,1),u(1,0,1,1),u(0,1,1,1),u(1,1,1,1)]])\n",
    "    \n",
    "    #apply U operator\n",
    "    psi_2 = U @ psi_1\n",
    "\n",
    "    #apply H operator\n",
    "    psi_3 = H @ psi_2\n",
    "\n",
    "    #determines if fair or unfair\n",
    "    if psi_3[0] == 0 and psi_3[2] == 0:\n",
    "        print(\"Type: fair\")\n",
    "    elif psi_3[1] == 0 and psi_3[3] == 0:\n",
    "        print(\"Type: unfair\")\n",
    "    else:\n",
    "        print(\"error\")\n",
    "    "
   ]
  },
  {
   "cell_type": "markdown",
   "metadata": {},
   "source": [
    "The following code applies the Deutsch algorithm to a fair function."
   ]
  },
  {
   "cell_type": "code",
   "execution_count": 26,
   "metadata": {},
   "outputs": [
    {
     "name": "stdout",
     "output_type": "stream",
     "text": [
      "Type: fair\n"
     ]
    }
   ],
   "source": [
    "def fair(x):\n",
    "    if x == 0:\n",
    "        return 0\n",
    "    elif x == 1:\n",
    "        return 1\n",
    "    \n",
    "deutsch(fair)"
   ]
  },
  {
   "cell_type": "markdown",
   "metadata": {},
   "source": [
    "The following code applies the Deutsch algorithm to a unfair function."
   ]
  },
  {
   "cell_type": "code",
   "execution_count": 27,
   "metadata": {},
   "outputs": [
    {
     "name": "stdout",
     "output_type": "stream",
     "text": [
      "Type: unfair\n"
     ]
    }
   ],
   "source": [
    "def unfair(x):\n",
    "    if x == 0:\n",
    "        return 0\n",
    "    elif x == 1:\n",
    "        return 0\n",
    "\n",
    "deutsch(unfair)"
   ]
  }
 ],
 "metadata": {
  "kernelspec": {
   "display_name": ".venv",
   "language": "python",
   "name": "python3"
  },
  "language_info": {
   "codemirror_mode": {
    "name": "ipython",
    "version": 3
   },
   "file_extension": ".py",
   "mimetype": "text/x-python",
   "name": "python",
   "nbconvert_exporter": "python",
   "pygments_lexer": "ipython3",
   "version": "3.8.10"
  }
 },
 "nbformat": 4,
 "nbformat_minor": 2
}
