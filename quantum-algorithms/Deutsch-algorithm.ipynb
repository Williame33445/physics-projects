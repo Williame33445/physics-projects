{
 "cells": [
  {
   "cell_type": "markdown",
   "metadata": {},
   "source": [
    "# Deutsch Algorithm\n",
    "\n",
    "This notebook is part of a set of notebooks on different quantum algorithms. The main source of these notes is Introduction to Quantum Information Science by Vlatko Vedral.\n",
    "\n",
    "## Purpose and comparison to classical \n",
    "\n",
    "The purpose of the Deutsch Algorithm is to determine if a function $f(x)$ (whose domain and range are $\\{0,1\\}$) follows $f(1) \\neq f(0)$ (called fair) or $f(1) =  f(0)$ (called unfair). \n",
    "\n",
    "\n",
    "## Algorithm\n",
    "\n",
    "The algorithm takes two qubits in $\\ket{\\psi_1}$ given by $(1)$.\n",
    "\n",
    " $$\\ket{\\psi_1} = \\ket{+-}\\tag{1}$$\n",
    "\n",
    "where $\\ket{\\pm} = \\frac{1}{\\sqrt{2}}(\\ket{0} \\pm \\ket{1})$. \n",
    " \n",
    "The algorithm then consists of two parts:\n",
    "\n",
    "Firstly, $\\hat{U_f}$ is applied to $\\ket{\\psi_1}$ and the result is denoted by $\\ket{\\psi_2}$. $\\hat{U_f}$ is defined in $(2)$.\n",
    "\n",
    "$$\\hat{U_f}\\ket{xy} = \\ket{x}\\ket{g(x,y)}\\tag{2}$$\n",
    "\n",
    "where $g(x,y) = y + f(x)\\;(\\bmod\\; 2)$.\n",
    "\n",
    "Then, $\\hat{H}\\otimes \\hat{I}$ is applied to $\\ket{\\psi_2}$ to get  $\\ket{\\psi_3}$ where $\\hat{H}$ is given by $(3)$.\n",
    "\n",
    "$$\\hat{H} = \\ket{0}\\bra{+} + \\ket{1}\\bra{-} \\tag{3}$$\n",
    "\n",
    "## Results of Algorithm\n",
    "\n",
    "By working through the algebra (see Vedral) it can be shown that for a fair function takes the form $\\ket{\\psi_3} = \\ket{0}\\ket{\\alpha}$ and for an unfair function takes the form $\\ket{\\psi_3} = \\ket{1}\\ket{\\alpha}$. As these states are orthogonal, the algorithm can be used to distinguish between the two different types of function.\n"
   ]
  },
  {
   "cell_type": "code",
   "execution_count": null,
   "metadata": {},
   "outputs": [],
   "source": [
    "import numpy as np"
   ]
  },
  {
   "cell_type": "code",
   "execution_count": null,
   "metadata": {},
   "outputs": [],
   "source": [
    "#basis used is |00> = (1,0,0,0), |01> = (0,1,0,0), |10> = (0,0,1,0), |11> = (0,0,0,1)\n",
    "psi_1 = np.array([1,-1,1,-1])/2"
   ]
  },
  {
   "cell_type": "code",
   "execution_count": null,
   "metadata": {},
   "outputs": [],
   "source": []
  }
 ],
 "metadata": {
  "kernelspec": {
   "display_name": ".venv",
   "language": "python",
   "name": "python3"
  },
  "language_info": {
   "codemirror_mode": {
    "name": "ipython",
    "version": 3
   },
   "file_extension": ".py",
   "mimetype": "text/x-python",
   "name": "python",
   "nbconvert_exporter": "python",
   "pygments_lexer": "ipython3",
   "version": "3.8.10"
  }
 },
 "nbformat": 4,
 "nbformat_minor": 2
}
