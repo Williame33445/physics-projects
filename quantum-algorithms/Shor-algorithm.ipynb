{
 "cells": [
  {
   "cell_type": "markdown",
   "metadata": {},
   "source": [
    "# Shor algorithm\n",
    "\n",
    "This notebook is part of a set of notebooks on different quantum algorithms. The main source of these notes is: (Vedral, 2013). \n",
    "\n",
    "## Theory\n",
    "\n",
    "### Shor's algorithm\n",
    "\n",
    "Shor's algorithm is a method for factoring a natural number $N$. It relies on the existance of an efficient classical algorithm for finding the greatest common factor (gcf) (called Euclid's algorithm (Lynn, 2000)) and on an efficient method to deduce some random eigenstates of an operator (called quantum phase estimation).\n",
    "\n",
    "The algorithm is (based on (Vedral, 2013, p. 140)):\n",
    "\n",
    "1. Randomly generate some natural number $a$ where $2<a<N$.\n",
    "\n",
    "2. If $a$ and $N$ are not coprime $\\left(K = gcf(a,N) \\neq 1\\right)$, then the factorization of $N$ is $\\frac{N}{K},K$ and the algorithm stopped.\n",
    "\n",
    "3. If $a$ is odd, then the algorithm fails. Otherwise, deduce the order of $a$ (smallest $r$ where $a^r \\bmod N = 1$) by the phase estimation method (see below).\n",
    "\n",
    "4. Then, as $a^r -1 \\bmod N = (a^\\frac{r}{2} - 1)(a^\\frac{r}{2} + 1) \\bmod N  = 0$ and as $a^\\frac{r}{2} \\bmod N  = 1$ can't be true (by the definition of $r$), if $N$ doesn't divide $b = a^\\frac{r}{2} + 1$ then $a$ and $b$ share common factors. These can be deduced by Euclid's algorithm. Meaning if $K = gcd(a,b) \\neq 1$ then the factorization of $N$ is $\\frac{N}{K},K$.\n",
    "\n",
    "It can be shown that this process has a success probability of $\\frac{1}{2}$ (Vedral, 2013, p. 142) and the complexity of the algorithm can be shown to be $O((\\log{n})^2(\\log{\\log{n}})(\\log{\\log{\\log{n}}}))$ (Shor, 1996, p. 15).\n",
    "\n",
    "### Euclid's algorithm\n",
    "\n",
    "Euclid's algorithm finds the gcf of two natural numbers (here these numbers shall be denoted by $a,b$ and it will be assumed that $a<b$). The algorithm works by recursively applying the formula $gcd(a,b) = gcd(a,b-a)$ until the gcd is trivial (Lynn, 2000).\n",
    "\n",
    "### Phase estimation\n",
    "\n",
    "This is the quantum part of the algorithm; it efficiently finds the order $r$ associated with $a$ and $N$. To find $r$, a qubit system of dimension $m >\\log_2(N)$ is set up with the normal binary labelling convention used for the basis (eg. $\\ket{0} = \\ket{000}, \\ket{1} = \\ket{010}, \\ket{2} = \\ket{011},...$). An operator $\\hat{U}_a$ is set up where $\\hat{U}_a\\ket{x} = \\ket{ax \\bmod N}$ (for efficient implementation see (Shor, 1996, p. 11)). It can then be shown that the eigenstates of $\\hat{U}_a$ take the form $\\lambda_n = e^{\\frac{2\\pi i n}{r}}$ and that $\\ket{1}$ is proportional to the sum of all eigenkets (Vendral, 2013, p. 144). Due to these properties, the quantum phase estimation algorithm can then be applied to $\\ket{1}$ (see (Shor, 1996, p. 15) and (Vendral, 2013, p. 142) for a description and circuit diagrams). The result is an equally weighted superposition corresponding to each of the different eigenstates. A measurement can then be made to find one of these eigenstates. The resulting number is approximately $2^{m}\\frac{n}{r}$. $r$ can then be approximated by the denominator of the coprime fraction closest to $\\frac{n}{r}$. This approximation can be made more accurate by performing the algorithm several times and taking the lowest common multiple (LCM) of the resulting r values.\n",
    "\n",
    "## Implmentation\n",
    "\n",
    "Below the algorithm is implemented. The result of the QM part of the algorithm is printed out and the classical part is then performed in a seperate function (the user inputs the results of the measurement of the QM register). Test cases were taken from: https://blendmaster.github.io/ShorJS/.\n",
    "\n"
   ]
  },
  {
   "cell_type": "code",
   "execution_count": 1,
   "metadata": {},
   "outputs": [],
   "source": [
    "import numpy as np\n",
    "import itertools\n",
    "import sys\n",
    "sys.path.append('C:\\workspace\\git-repos\\physics-projects\\quantum-algorithms')\n",
    "%run register\n"
   ]
  },
  {
   "cell_type": "markdown",
   "metadata": {},
   "source": [
    "Code for inverse QFT."
   ]
  },
  {
   "cell_type": "code",
   "execution_count": 2,
   "metadata": {},
   "outputs": [],
   "source": [
    "def invQFT(QFTRegister,start,end):\n",
    "    Rs = []\n",
    "    for i in range(2,end-start+1):\n",
    "        Rs.append(np.array([[1,0],[0,np.exp(-2*np.pi*1j/(2**i),dtype=np.complex128)]],dtype=np.complex128))\n",
    "\n",
    "    for i in reversed(range(end-start)):\n",
    "        for j in reversed(range(end -start - i - 1)):\n",
    "            gate = QFTRegister.findControlledSingleQubitOp(Rs[j], i+1+j, i)\n",
    "            QFTRegister.applyGate(gate)\n",
    "\n",
    "        QFTRegister.applyH(i)\n",
    "    \n",
    "    return QFTRegister\n"
   ]
  },
  {
   "cell_type": "markdown",
   "metadata": {},
   "source": [
    "Test cases for inverse QFT."
   ]
  },
  {
   "cell_type": "code",
   "execution_count": 3,
   "metadata": {},
   "outputs": [
    {
     "name": "stdout",
     "output_type": "stream",
     "text": [
      "Initial state: (0.354+0j)|0> + (0.354+0j)|1> + (-0.354+0j)|2> + (-0.354+0j)|3> + 0.354j|4> + 0.354j|5> + -0.354j|6> + -0.354j|7>\n",
      "Result: (1+0j)|2>\n"
     ]
    }
   ],
   "source": [
    "#result should be 2\n",
    "QFT1 = intialiseProductRegister([q0 + complex(0,1)*q1,q0-q1,q0+q1])\n",
    "print(f\"Initial state: {QFT1.displayQubits()}\")\n",
    "print(f\"Result: {invQFT(QFT1,0,3).displayQubits()}\")"
   ]
  },
  {
   "cell_type": "code",
   "execution_count": 4,
   "metadata": {},
   "outputs": [
    {
     "name": "stdout",
     "output_type": "stream",
     "text": [
      "Initial state: (0.5+0j)|0> + (-0.5+0j)|1> + 0.5j|2> + (-0-0.5j)|3>\n",
      "Result: (1+0j)|1>\n"
     ]
    }
   ],
   "source": [
    "#result should be 1\n",
    "QFT2 = intialiseProductRegister([q0 + complex(0,1)*q1,q0-q1])\n",
    "print(f\"Initial state: {QFT2.displayQubits()}\")\n",
    "print(f\"Result: {invQFT(QFT2,0,2).displayQubits()}\")"
   ]
  },
  {
   "cell_type": "markdown",
   "metadata": {},
   "source": [
    "Code for phase estimation."
   ]
  },
  {
   "cell_type": "code",
   "execution_count": 5,
   "metadata": {},
   "outputs": [],
   "source": [
    "def findDominantBit(register, start, end):\n",
    "    return int(register.binary[np.argmax(np.abs(register.qubits))][start:end],2)\n",
    "\n",
    "\n",
    "def phaseEstimation(psiAcc,U,e):\n",
    "    \"\"\"\n",
    "    Performs phase estimation.\n",
    "\n",
    "    Inputs:\n",
    "    psiAcc - accuracy of psi returned\n",
    "    U - unitary matrix\n",
    "    e - ket\n",
    "    \"\"\"\n",
    "    eBits = np.log2(np.shape(e)[0]).astype(int)\n",
    "\n",
    "    #better name\n",
    "    outputRegister = intialiseProductRegister([q0 for i in range(psiAcc)]) \n",
    "    eigenvectorRegister = intialiseProductRegister([e])\n",
    "    register = mergeRegisters(outputRegister,eigenvectorRegister) \n",
    "    \n",
    "    initalStr = register.displayQubits(binBits=eBits,dType=\"intbin\")\n",
    "    print(f\"Initial state (control qubits): {initalStr}\")\n",
    "\n",
    "    register.applySingleQubitProduct(np.array([[1,1],[1,-1]])/np.sqrt(2),0,psiAcc)\n",
    "\n",
    "    HStr = register.displayQubits(binBits=eBits,dType=\"intbin\") \n",
    "    print(f\"H applied (control qubits): {HStr}\")\n",
    "    \n",
    "    for i in range(psiAcc):\n",
    "        gateP1 = mergeRegisterOperator(outputRegister.findSingleQubitOp(np.array([[1,0],[0,0]]),psiAcc-1-i),\n",
    "                                        np.eye(eigenvectorRegister.N,dtype=np.complex128))\n",
    "        gateP2 =  mergeRegisterOperator(outputRegister.findSingleQubitOp(np.array([[0,0],[0,1]]),psiAcc-1-i), \n",
    "                                        np.linalg.matrix_power(U,2**i))\n",
    "\n",
    "\n",
    "        gate = gateP1 + gateP2\n",
    "        register.applyGate(gate)\n",
    "\n",
    "    HUStr = register.displayQubits(dType=\"intbin\",binBits=eBits)\n",
    "    print(f\"H and Us applied (control qubits): {HUStr}\")\n",
    "\n",
    "    #this is required as the QFT must be applied to the control qubits in reverse order\n",
    "    register.invertQubits(0,psiAcc)\n",
    "\n",
    "    register = invQFT(register,0,psiAcc)\n",
    "\n",
    "    invQFTStr = register.displayQubits(dType=\"intbin\",binBits=eBits)\n",
    "    print(f\"IQFT (control qubits): {invQFTStr}\") \n",
    "    #should display numbers calculated only up to psiAcc\n",
    "\n",
    "    #The display bit isn't working properly, I want the final bits to not be included in the number, instead just being bit on the outside\n",
    "\n",
    "    return register\n"
   ]
  },
  {
   "cell_type": "markdown",
   "metadata": {},
   "source": [
    "Tests for phase estimation function."
   ]
  },
  {
   "cell_type": "code",
   "execution_count": null,
   "metadata": {},
   "outputs": [
    {
     "name": "stdout",
     "output_type": "stream",
     "text": [
      "Initial state (control qubits): (1+0j)|0,0>\n",
      "H applied (control qubits): (0.354+0j)|0,0> + (0.354+0j)|1,0> + (0.354+0j)|2,0> + (0.354+0j)|3,0> + (0.354+0j)|4,0> + (0.354+0j)|5,0> + (0.354+0j)|6,0> + (0.354+0j)|7,0>\n",
      "H and Us applied (control qubits): (0.354+0j)|0,0> + (0.354+0j)|1,0> + (0.354+0j)|2,0> + (0.354+0j)|3,0> + (0.354+0j)|4,0> + (0.354+0j)|5,0> + (0.354+0j)|6,0> + (0.354+0j)|7,0>\n",
      "IQFT (control qubits): (1+0j)|0,0>\n",
      "Phase estimation result: 0.0\n"
     ]
    },
    {
     "name": "stderr",
     "output_type": "stream",
     "text": [
      "/Users/williamelderfield/git-rep/physics-projects/quantum-algorithms/register.py:65: RuntimeWarning: divide by zero encountered in matmul\n",
      "  controlled = self.findSingleQubitOp(np.array([[0,0],[0,1]],dtype=np.complex128), controlIndex) @ self.findSingleQubitOp(op, targetIndex)\n",
      "/Users/williamelderfield/git-rep/physics-projects/quantum-algorithms/register.py:65: RuntimeWarning: overflow encountered in matmul\n",
      "  controlled = self.findSingleQubitOp(np.array([[0,0],[0,1]],dtype=np.complex128), controlIndex) @ self.findSingleQubitOp(op, targetIndex)\n",
      "/Users/williamelderfield/git-rep/physics-projects/quantum-algorithms/register.py:65: RuntimeWarning: invalid value encountered in matmul\n",
      "  controlled = self.findSingleQubitOp(np.array([[0,0],[0,1]],dtype=np.complex128), controlIndex) @ self.findSingleQubitOp(op, targetIndex)\n"
     ]
    }
   ],
   "source": [
    "#result should be 0\n",
    "U1 = np.array([[1,0],[0,1]])\n",
    "e1 = np.array([1,0],dtype=np.complex128)\n",
    "phaseEst1 = phaseEstimation(3,U1,e1)\n",
    "bit1 = findDominantBit(phaseEst1,0,3)\n",
    "print(f\"Phase estimation result: {bit1/2**3}\")"
   ]
  },
  {
   "cell_type": "code",
   "execution_count": 7,
   "metadata": {},
   "outputs": [
    {
     "name": "stdout",
     "output_type": "stream",
     "text": [
      "Initial state (control qubits): (1+0j)|0,0>\n",
      "H applied (control qubits): (0.5+0j)|0,0> + (0.5+0j)|1,0> + (0.5+0j)|2,0> + (0.5+0j)|3,0>\n",
      "H and Us applied (control qubits): (0.5+0j)|0,0> + 0.5j|1,0> + (-0.5+0j)|2,0> + -0.5j|3,0>\n",
      "IQFT (control qubits): (1+0j)|1,0>\n",
      "Phase estimation result: 0.25\n"
     ]
    }
   ],
   "source": [
    "#result should be 0.25\n",
    "U2 = np.array([[complex(0,1),0],[0,1]]) \n",
    "e2 = np.array([1,0],dtype=np.complex128)\n",
    "phaseEst2 = phaseEstimation(2,U2,e2)\n",
    "bit2 = findDominantBit(phaseEst2,0,2)\n",
    "print(f\"Phase estimation result: {bit2/2**2}\")"
   ]
  },
  {
   "cell_type": "code",
   "execution_count": 8,
   "metadata": {},
   "outputs": [
    {
     "name": "stdout",
     "output_type": "stream",
     "text": [
      "Initial state (control qubits): (1+0j)|0,0>\n",
      "H applied (control qubits): (0.062+0j)|0,0> + (0.062+0j)|1,0> + (0.062+0j)|2,0> + (0.062+0j)|3,0> + (0.062+0j)|4,0> + (0.062+0j)|5,0> + (0.062+0j)|6,0> + (0.062+0j)|7,0> + (0.062+0j)|8,0> + (0.062+0j)|9,0> + ...\n",
      "H and Us applied (control qubits): (0.062+0j)|0,0> + (-0.062+0j)|1,0> + (0.062-0j)|2,0> + (-0.062+0j)|3,0> + (0.062-0j)|4,0> + (-0.062+0j)|5,0> + (0.062-0j)|6,0> + (-0.062+0j)|7,0> + (0.062-0j)|8,0> + (-0.062+0j)|9,0> + (0.062-0j)|10,0> + (-0.062+0j)|11,0> + (0.062-0j)|12,0> + ...\n"
     ]
    },
    {
     "name": "stderr",
     "output_type": "stream",
     "text": [
      "/Users/williamelderfield/git-rep/physics-projects/quantum-algorithms/register.py:78: RuntimeWarning: divide by zero encountered in matmul\n",
      "  self.qubits = self.getSingleQubitProduct(op,start,stop) @ self.qubits\n",
      "/Users/williamelderfield/git-rep/physics-projects/quantum-algorithms/register.py:78: RuntimeWarning: overflow encountered in matmul\n",
      "  self.qubits = self.getSingleQubitProduct(op,start,stop) @ self.qubits\n",
      "/Users/williamelderfield/git-rep/physics-projects/quantum-algorithms/register.py:78: RuntimeWarning: invalid value encountered in matmul\n",
      "  self.qubits = self.getSingleQubitProduct(op,start,stop) @ self.qubits\n",
      "/Users/williamelderfield/git-rep/physics-projects/quantum-algorithms/register.py:82: RuntimeWarning: divide by zero encountered in matmul\n",
      "  self.qubits = gate @ self.qubits\n",
      "/Users/williamelderfield/git-rep/physics-projects/quantum-algorithms/register.py:82: RuntimeWarning: overflow encountered in matmul\n",
      "  self.qubits = gate @ self.qubits\n",
      "/Users/williamelderfield/git-rep/physics-projects/quantum-algorithms/register.py:82: RuntimeWarning: invalid value encountered in matmul\n",
      "  self.qubits = gate @ self.qubits\n",
      "/Users/williamelderfield/git-rep/physics-projects/quantum-algorithms/register.py:86: RuntimeWarning: divide by zero encountered in matmul\n",
      "  self.qubits = self.findSingleQubitOp(H, index) @ self.qubits\n",
      "/Users/williamelderfield/git-rep/physics-projects/quantum-algorithms/register.py:86: RuntimeWarning: overflow encountered in matmul\n",
      "  self.qubits = self.findSingleQubitOp(H, index) @ self.qubits\n",
      "/Users/williamelderfield/git-rep/physics-projects/quantum-algorithms/register.py:86: RuntimeWarning: invalid value encountered in matmul\n",
      "  self.qubits = self.findSingleQubitOp(H, index) @ self.qubits\n"
     ]
    },
    {
     "name": "stdout",
     "output_type": "stream",
     "text": [
      "IQFT (control qubits): (1-0j)|128,0>\n",
      "Phase estimation result: 0.5\n"
     ]
    }
   ],
   "source": [
    "#result shoudl be 0.5 \n",
    "U3 = np.array([[np.exp(np.pi*complex(0,1)),0],[0,1]],dtype=np.complex128) \n",
    "e3 = np.array([1,0],dtype=np.complex128)\n",
    "phaseEst3 = phaseEstimation(8,U3,e3)\n",
    "bit2 = findDominantBit(phaseEst3,0,8)\n",
    "print(f\"Phase estimation result: {bit2/2**8}\")"
   ]
  },
  {
   "cell_type": "markdown",
   "metadata": {},
   "source": [
    "Code for full Shor algorithm."
   ]
  },
  {
   "cell_type": "code",
   "execution_count": null,
   "metadata": {},
   "outputs": [],
   "source": [
    "def findNearestDenominator(x):\n",
    "    \"\"\"\n",
    "    Function that finds the two coprime numbers whose fraction is nearest to x.\n",
    "    \"\"\"\n",
    "    xb = np.round(x)\n",
    "    xa = x - xb\n",
    "    if xa != 0:\n",
    "        xaRecpb = np.round(1/xa)\n",
    "        return xb*xaRecpb+1\n",
    "    else:\n",
    "        return xb\n",
    "      \n",
    "\n",
    "def shorQuantum(N,a,qNum,psiAcc):\n",
    "    \"\"\"\n",
    "    Quantum part of algorithm that factorizes natural number N.\n",
    "\n",
    "    Inputs:\n",
    "    N - number being factorized\n",
    "    a - int between 2 and N used in algorithm\n",
    "    qNum - number of qubits used for U_a matrix\n",
    "    psiAcc - accuracy of psi found in phase estimation\n",
    "    \"\"\"\n",
    "    HDim = 2**qNum\n",
    "\n",
    "    eigenvector1 = np.zeros([HDim],dtype=np.complex128)\n",
    "    eigenvector1[1] = 1\n",
    "\n",
    "    K = np.gcd(a,N)\n",
    "    if K != 1 and K != N:\n",
    "        print(f\"Factorization is: {(N/K,K)}\")\n",
    "    \n",
    "    #find U_a matrix\n",
    "    U_a = np.zeros([HDim,HDim],dtype=np.complex128)\n",
    "    for j,k in itertools.product(range(HDim), repeat=2): \n",
    "        if j == a*k % N and k < N:\n",
    "            U_a[j,k] = 1\n",
    "        elif j == k and k >= N:\n",
    "            U_a[j,k] = 1\n",
    "            \n",
    "    phaseEstimation(psiAcc,U_a,eigenvector1)\n",
    "    \n",
    "def shorClassical(measurementResults,a,N,psiAcc):\n",
    "    \"\"\"\n",
    "    Classical part of algorithm that factorizes natural number N.\n",
    "    Inputs:\n",
    "    measurementResults - list of integers found in quantum part of algorithm\n",
    "    a - int between 2 and N used in algorithm\n",
    "    N - number being factorized\n",
    "    \"\"\"\n",
    "\n",
    "    if measurementResults != []:\n",
    "\n",
    "        rs = [] #give r up to a common factor with n\n",
    "        for m in measurementResults:\n",
    "            rs.append(findNearestDenominator(2**psiAcc/m))\n",
    "        R = np.lcm.reduce(np.array(rs,dtype=int))\n",
    "\n",
    "        if R % 2 == 0:\n",
    "            g = np.gcd(int(a**(R/2) + 1),int(N)) \n",
    "            if g != 1 and g != N:\n",
    "                return N/g, g\n",
    "    \n",
    "    return \"failed\"\n"
   ]
  },
  {
   "cell_type": "markdown",
   "metadata": {},
   "source": [
    "Tests for Shor algorithm."
   ]
  },
  {
   "cell_type": "code",
   "execution_count": null,
   "metadata": {},
   "outputs": [
    {
     "name": "stdout",
     "output_type": "stream",
     "text": [
      "Shor's algorithm for factorizing 15\n",
      "Initial state (control qubits): (1+0j)|0,0001>\n",
      "H applied (control qubits): (0.25+0j)|0,0001> + (0.25+0j)|1,0001> + (0.25+0j)|2,0001> + (0.25+0j)|3,0001> + (0.25+0j)|4,0001> + (0.25+0j)|5,0001> + (0.25+0j)|6,0001> + (0.25+0j)|7,0001> + (0.25+0j)|8,0001> + (0.25+0j)|9,0001> + ...\n",
      "H and Us applied (control qubits): (0.25+0j)|0,0001> + (0.25+0j)|1,0010> + (0.25+0j)|2,0100> + (0.25+0j)|3,1000> + (0.25+0j)|4,0001> + (0.25+0j)|5,0010> + (0.25+0j)|6,0100> + (0.25+0j)|7,1000> + (0.25+0j)|8,0001> + (0.25+0j)|9,0010> + ...\n",
      "IQFT (control qubits): (0.25+0j)|0,0001> + (0.25+0j)|0,0010> + (0.25+0j)|0,0100> + (0.25+0j)|0,1000> + (0.25+0j)|4,0001> + -0.25j|4,0010> + (-0.25+0j)|4,0100> + (-0+0.25j)|4,1000> + (0.25+0j)|8,0001> + (-0.25+0j)|8,0010> + (0.25+ ...\n",
      "The factorization is: (np.float64(3.0), np.int64(5))\n"
     ]
    },
    {
     "name": "stderr",
     "output_type": "stream",
     "text": [
      "/Users/williamelderfield/git-rep/physics-projects/.venv/lib/python3.9/site-packages/numpy/linalg/_linalg.py:3220: RuntimeWarning: divide by zero encountered in matmul\n",
      "  return _core_matmul(x1, x2)\n",
      "/Users/williamelderfield/git-rep/physics-projects/.venv/lib/python3.9/site-packages/numpy/linalg/_linalg.py:3220: RuntimeWarning: overflow encountered in matmul\n",
      "  return _core_matmul(x1, x2)\n",
      "/Users/williamelderfield/git-rep/physics-projects/.venv/lib/python3.9/site-packages/numpy/linalg/_linalg.py:3220: RuntimeWarning: invalid value encountered in matmul\n",
      "  return _core_matmul(x1, x2)\n"
     ]
    }
   ],
   "source": [
    "print(\"Shor's algorithm for factorizing 15\")\n",
    "\n",
    "shorQuantum(15,2,4,4)\n",
    "\n",
    "print(f\"The factorization is: {shorClassical([4,8,12],2,15,4)}\")"
   ]
  },
  {
   "cell_type": "code",
   "execution_count": null,
   "metadata": {},
   "outputs": [
    {
     "name": "stdout",
     "output_type": "stream",
     "text": [
      "Shor's algorithm for factorizing 12\n",
      "Initial state (control qubits): (1+0j)|0,0001>\n",
      "H applied (control qubits): (0.062+0j)|0,0001> + (0.062+0j)|1,0001> + (0.062+0j)|2,0001> + (0.062+0j)|3,0001> + (0.062+0j)|4,0001> + (0.062+0j)|5,0001> + (0.062+0j)|6,0001> + (0.062+0j)|7,0001> + (0.062+0j)|8,0001> + (0.062+0j)|9,0001> + ...\n",
      "H and Us applied (control qubits): (0.062+0j)|0,0001> + (0.062+0j)|1,0101> + (0.062+0j)|2,0001> + (0.062+0j)|3,0101> + (0.062+0j)|4,0001> + (0.062+0j)|5,0101> + (0.062+0j)|6,0001> + (0.062+0j)|7,0101> + (0.062+0j)|8,0001> + (0.062+0j)|9,0101> + ...\n",
      "IQFT (control qubits): (0.5+0j)|0,0001> + (0.5+0j)|0,0101> + (0.5+0j)|128,0001> + (-0.5+0j)|128,0101>\n",
      "The factorization is: (np.float64(2.0), np.int64(6))\n"
     ]
    }
   ],
   "source": [
    "print(\"Shor's algorithm for factorizing 12\")\n",
    "\n",
    "shorQuantum(12,5,4,8)\n",
    "\n",
    "print(f\"The factorization is: {shorClassical([128],5,12,8)}\")"
   ]
  },
  {
   "cell_type": "code",
   "execution_count": null,
   "metadata": {},
   "outputs": [
    {
     "name": "stdout",
     "output_type": "stream",
     "text": [
      "Shor's algorithm for factorizing 21\n",
      "Initial state (control qubits): (1+0j)|0,0001>\n",
      "H applied (control qubits): (0.25+0j)|0,0001> + (0.25+0j)|1,0001> + (0.25+0j)|2,0001> + (0.25+0j)|3,0001> + (0.25+0j)|4,0001> + (0.25+0j)|5,0001> + (0.25+0j)|6,0001> + (0.25+0j)|7,0001> + (0.25+0j)|8,0001> + (0.25+0j)|9,0001> + ...\n",
      "H and Us applied (control qubits): (0.25+0j)|0,0001> + (0.25+0j)|1,0101> + (0.25+0j)|2,0100>\n",
      "IQFT (control qubits): (0.062+0j)|0,0001> + (0.062+0j)|0,0100> + (0.062+0j)|0,0101> + (0.062+0j)|1,0001> + (0.044-0.044j)|1,0100> + (0.058-0.024j)|1,0101> + (0.062+0j)|2,0001> + -0.062j|2,0100> + (0.044-0.044j)|2,0101> + (0.062+0j)|3,0001> + (-0.044-0.044j)|3,0100> + (0.024-0.058j)|3,0101> + (0.062+0j)|4,0001> + ...\n",
      "The factorization is: (np.float64(2.0), np.int64(6))\n"
     ]
    }
   ],
   "source": [
    "print(\"Shor's algorithm for factorizing 21\")\n",
    "\n",
    "shorQuantum(21,5,4,4)\n",
    "\n",
    "print(f\"The factorization is: {shorClassical([8],5,12,4)}\")"
   ]
  },
  {
   "cell_type": "markdown",
   "metadata": {},
   "source": [
    "# References\n",
    "\n",
    "Vedral, V., 2013. Introduction to Quantum Information Science. Oxford: Oxford University Press.\n",
    "\n",
    "Lynn, B., 2000. Euclid's Algorithm. [Online] \n",
    "Available at: https://crypto.stanford.edu/pbc/notes/numbertheory/euclid.html\n",
    "[Accessed 27 August 2024].\n",
    "\n",
    "Shor, P., 1996. Polynomial-Time Algorithms for Prime Factorization and Discrete Logarithms on a Quantum Computer. \n",
    "\n",
    "\n",
    "\n"
   ]
  },
  {
   "cell_type": "markdown",
   "metadata": {},
   "source": []
  }
 ],
 "metadata": {
  "kernelspec": {
   "display_name": ".venv",
   "language": "python",
   "name": "python3"
  },
  "language_info": {
   "codemirror_mode": {
    "name": "ipython",
    "version": 3
   },
   "file_extension": ".py",
   "mimetype": "text/x-python",
   "name": "python",
   "nbconvert_exporter": "python",
   "pygments_lexer": "ipython3",
   "version": "3.9.6"
  }
 },
 "nbformat": 4,
 "nbformat_minor": 2
}
