{
 "cells": [
  {
   "cell_type": "code",
   "execution_count": 92,
   "metadata": {},
   "outputs": [],
   "source": [
    "import numpy as np"
   ]
  },
  {
   "cell_type": "code",
   "execution_count": 93,
   "metadata": {},
   "outputs": [],
   "source": [
    "# |0> = [1,0], |1> = [0,1]\n",
    "H = np.array([[1,1],[1,-1]])/np.sqrt(2)"
   ]
  },
  {
   "cell_type": "code",
   "execution_count": 94,
   "metadata": {},
   "outputs": [],
   "source": [
    "def invQFT(f):\n",
    "    \"\"\"\n",
    "    Performs inverse quantum fourier transform on a tensor products of qubit states.\n",
    "\n",
    "    Intputs:\n",
    "    f - tensor product of qubit states, in form [[qubit 1 state], [qubit 2 state], ...]\n",
    "    \"\"\"\n",
    "\n",
    "    N = f.shape[0]\n",
    "    fInv = np.empty([N,2],dtype=np.complex_)\n",
    "\n",
    "    for i in range(N): \n",
    "        s = f[i]\n",
    "        for k in range(2,N-i):\n",
    "            s[1] *= np.exp(-2*np.pi*complex(0,1)/(2**k))\n",
    "        s = H @ s\n",
    "        fInv[i] = s\n",
    "    \n",
    "    return fInv\n"
   ]
  },
  {
   "cell_type": "code",
   "execution_count": 95,
   "metadata": {},
   "outputs": [],
   "source": [
    "def findNumber(s): #rename to convert from binary\n",
    "    \"\"\"\n",
    "    Function that finds the associated number for a qubit tensor product state. \n",
    "    \"\"\"\n",
    "    binaryForm = np.empty(s.shape[0])\n",
    "    for i,ket in enumerate(s):\n",
    "        if np.allclose(ket,np.array([1,0])):\n",
    "            binaryForm[i] = 0\n",
    "        elif np.allclose(ket,np.array([0,1])):\n",
    "            binaryForm[i] = 1\n",
    "        else:\n",
    "            print(\"error\")\n",
    "    \n",
    "    number = sum([b*2**i for i,b in enumerate(np.flip(binaryForm))])\n",
    "    return number\n",
    "\n",
    "        "
   ]
  },
  {
   "cell_type": "code",
   "execution_count": 96,
   "metadata": {},
   "outputs": [
    {
     "name": "stdout",
     "output_type": "stream",
     "text": [
      "2.0\n"
     ]
    }
   ],
   "source": [
    "#test case for invQFT: 3 qubit system, |2> = |010> state should be the result\n",
    "invf = np.array([[1,np.exp(np.pi*complex(0,0.5))],[1,-1],[1,1]])/np.sqrt(2) \n",
    "print(findNumber(invQFT(invf)))\n",
    "\n"
   ]
  },
  {
   "cell_type": "code",
   "execution_count": 103,
   "metadata": {},
   "outputs": [],
   "source": [
    "\n",
    "def phaseEstimation(t,U,e): \n",
    "    \"\"\"\n",
    "    Performs phase estimation.\n",
    "\n",
    "    Inputs:\n",
    "    t - accuracy of psi returned\n",
    "    U - unitary matrix\n",
    "    e - normalised ket\n",
    "    \"\"\"\n",
    "    N = U.shape[0]\n",
    "\n",
    "    #cache?\n",
    "    def pow(n,prev=np.identity(N)):\n",
    "        next = U @ prev\n",
    "        if n == 1:\n",
    "            return next\n",
    "        return pow(n-1,next)\n",
    "    \n",
    "\n",
    "    f = np.zeros([t,2])\n",
    "\n",
    "    for i in range(t):\n",
    "        s = np.array([1,0])\n",
    "        s = H @ s\n",
    "\n",
    "        #apply \n",
    "        s[1] *= e @ pow(2**i) @ e\n",
    "        \n",
    "        f[t-1-i] = s\n",
    "\n",
    "    return findNumber(invQFT(f)) #apply inverse QFT\n"
   ]
  },
  {
   "cell_type": "code",
   "execution_count": 104,
   "metadata": {},
   "outputs": [
    {
     "data": {
      "text/plain": [
       "0.0"
      ]
     },
     "execution_count": 104,
     "metadata": {},
     "output_type": "execute_result"
    }
   ],
   "source": [
    "#test for phase esimation, identity matrix, result should be 1\n",
    "U1 = np.array([[1,0],[0,1]])\n",
    "e1 = np.array([1,0])\n",
    "phaseEstimation(2,U1,e1)"
   ]
  },
  {
   "cell_type": "code",
   "execution_count": 102,
   "metadata": {},
   "outputs": [
    {
     "ename": "IndentationError",
     "evalue": "expected an indented block (1175582580.py, line 3)",
     "output_type": "error",
     "traceback": [
      "\u001b[1;36m  Cell \u001b[1;32mIn[102], line 3\u001b[1;36m\u001b[0m\n\u001b[1;33m    def Shor(a,N,n):\u001b[0m\n\u001b[1;37m    ^\u001b[0m\n\u001b[1;31mIndentationError\u001b[0m\u001b[1;31m:\u001b[0m expected an indented block\n"
     ]
    }
   ],
   "source": [
    "\n",
    "\n",
    "\n",
    "def findOrder(a,N,n,m,t): \n",
    "    \"\"\"\n",
    "    a - some int (will be removed as a parameter eventually)\n",
    "    N - number of qubits used \n",
    "    n - number to be factorized \n",
    "    m - number of common factors found\n",
    "    \"\"\"\n",
    "    #use basis |0> = [1,0,0,..], |1> = [0,1,0,..], ...\n",
    "    #define U_a\n",
    "    U_a = np.zeros([2**N,2**N])\n",
    "    for i in range(2**N):\n",
    "        for j in range(2**N):\n",
    "            if i == a*j % n:\n",
    "                U_a[i,j] = 1\n",
    "    \n",
    "    #in the actual algorithm |1> is plugged in, however due to this implementation not being able to consider\n",
    "    #superpositions the following is considered\n",
    "    eigenVal, eigenVec = np.linalg.eig(U_a)\n",
    "    rs = np.empty(m) \n",
    "    for i in range(m):\n",
    "        index = np.random.randint(0,high=2**N)\n",
    "        rs[i] = index/phaseEstimation(t,U_a,eigenVec[index])\n",
    "        \n",
    "    #find LCM\n",
    "    R = np.lcm.reduce(rs)\n",
    "    \n",
    "    return R\n",
    "\n",
    "    \n",
    "\n"
   ]
  },
  {
   "cell_type": "code",
   "execution_count": null,
   "metadata": {},
   "outputs": [],
   "source": []
  }
 ],
 "metadata": {
  "kernelspec": {
   "display_name": ".venv",
   "language": "python",
   "name": "python3"
  },
  "language_info": {
   "codemirror_mode": {
    "name": "ipython",
    "version": 3
   },
   "file_extension": ".py",
   "mimetype": "text/x-python",
   "name": "python",
   "nbconvert_exporter": "python",
   "pygments_lexer": "ipython3",
   "version": "3.8.10"
  }
 },
 "nbformat": 4,
 "nbformat_minor": 2
}
