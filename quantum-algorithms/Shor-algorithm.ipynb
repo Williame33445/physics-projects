{
 "cells": [
  {
   "cell_type": "markdown",
   "metadata": {},
   "source": [
    "# Shor algorithm\n",
    "\n",
    "This notebook is part of a set of notebooks on different quantum algorithms. The main source of these notes is Introduction to Quantum Information Science by Vlatko Vedral.\n",
    "\n",
    "## Theory\n",
    "\n",
    "Shor's algorithm is a method for factorizing a natural number. It combines the quantum phase estimation method with a classical algorithm for deducing primes.\n",
    "\n",
    "Need to finish this.\n"
   ]
  },
  {
   "cell_type": "code",
   "execution_count": 138,
   "metadata": {},
   "outputs": [],
   "source": [
    "import numpy as np\n",
    "import itertools"
   ]
  },
  {
   "cell_type": "code",
   "execution_count": 139,
   "metadata": {},
   "outputs": [],
   "source": [
    "# |0> = [1,0], |1> = [0,1]\n",
    "H = np.array([[1,1],[1,-1]])/np.sqrt(2)"
   ]
  },
  {
   "cell_type": "code",
   "execution_count": 140,
   "metadata": {},
   "outputs": [],
   "source": [
    "def invQFT(f):\n",
    "    \"\"\"\n",
    "    Performs inverse quantum fourier transform on a tensor products of qubit states.\n",
    "\n",
    "    Intputs:\n",
    "    f - tensor product of qubit states, in form [[qubit 1 state], [qubit 2 state], ...]\n",
    "    \"\"\"\n",
    "\n",
    "    qNum = f.shape[0]\n",
    "    fInv = np.empty([qNum,2],dtype=np.complex_)\n",
    "    fInv[-1] = H @ f[-1]\n",
    "\n",
    "    for i in reversed(range(qNum-1)): \n",
    "        s = f[i]\n",
    "        for k in range(i+1,qNum):\n",
    "            if np.allclose(fInv[k],np.array([0,1])):\n",
    "                s[1] *= np.exp(-2*np.pi*complex(0,1)/(2**(k+1)))\n",
    "        s = H @ s\n",
    "        fInv[i] = s\n",
    "    \n",
    "    return fInv\n"
   ]
  },
  {
   "cell_type": "code",
   "execution_count": 141,
   "metadata": {},
   "outputs": [],
   "source": [
    "def getDecimalLabel(s): \n",
    "    \"\"\"\n",
    "    Function that finds the associated number for a qubit tensor product state. \n",
    "    \"\"\"\n",
    "    #print(s)\n",
    "    sBinary = np.empty(s.shape[0])\n",
    "    for i,ket in enumerate(s):\n",
    "        if np.allclose(ket,np.array([1,0])):\n",
    "            sBinary[i] = 0\n",
    "        elif np.allclose(ket,np.array([0,1])):\n",
    "            sBinary[i] = 1\n",
    "    \n",
    "    number = sum([b*2**i for i,b in enumerate(np.flip(sBinary))])\n",
    "    return number\n",
    "\n",
    "        "
   ]
  },
  {
   "cell_type": "code",
   "execution_count": 142,
   "metadata": {},
   "outputs": [
    {
     "name": "stdout",
     "output_type": "stream",
     "text": [
      "2.0\n"
     ]
    }
   ],
   "source": [
    "#test case for invQFT: 3 qubit system, |2> = |010> state should be the result\n",
    "invf = np.array([[1,complex(0,1)],[1,-1],[1,1]])/np.sqrt(2) \n",
    "print(getDecimalLabel(invQFT(invf)))"
   ]
  },
  {
   "cell_type": "code",
   "execution_count": 143,
   "metadata": {},
   "outputs": [
    {
     "name": "stdout",
     "output_type": "stream",
     "text": [
      "1.0\n"
     ]
    }
   ],
   "source": [
    "f = [np.array([1,complex(0,1)]),np.array([1,-1])]/np.sqrt(2)\n",
    "print(getDecimalLabel(invQFT(f))) #should be 1"
   ]
  },
  {
   "cell_type": "code",
   "execution_count": 144,
   "metadata": {},
   "outputs": [],
   "source": [
    "\n",
    "def phaseEstimation(psiAcc,U,e): #reversed to tensor product convention used in QFT\n",
    "    \"\"\"\n",
    "    Performs phase estimation.\n",
    "\n",
    "    Inputs:\n",
    "    t - accuracy of psi returned\n",
    "    U - unitary matrix\n",
    "    e - normalised ket\n",
    "    \"\"\"\n",
    "    N = U.shape[0]\n",
    "\n",
    "    def pow(n,prev=np.identity(N,dtype=np.complex_)):\n",
    "        if n == 0:\n",
    "            return prev\n",
    "        return pow(n-1,U @ prev)\n",
    "    \n",
    "\n",
    "    f = np.zeros([psiAcc,2],dtype=np.complex_)\n",
    "\n",
    "    for i in range(psiAcc):\n",
    "        s = np.array([1,0],dtype=np.complex_)\n",
    "        s = H @ s\n",
    "\n",
    "        #apply U^2^i\n",
    "        s[1] *= e @ pow(2**i) @ e\n",
    "        \n",
    "        f[i] = s\n",
    "    \n",
    "    finvQFT = invQFT(f)\n",
    "    phase = getDecimalLabel(finvQFT)/2**psiAcc #from relating the phase and result of inv QFT \n",
    "\n",
    "    return phase\n"
   ]
  },
  {
   "cell_type": "code",
   "execution_count": 145,
   "metadata": {},
   "outputs": [
    {
     "data": {
      "text/plain": [
       "0.0"
      ]
     },
     "execution_count": 145,
     "metadata": {},
     "output_type": "execute_result"
    }
   ],
   "source": [
    "#test for phase esimation, identity matrix, result should be 0\n",
    "U1 = np.array([[1,0],[0,1]])\n",
    "e1 = np.array([1,0],dtype=np.complex_)\n",
    "phaseEstimation(9,U1,e1)"
   ]
  },
  {
   "cell_type": "code",
   "execution_count": 146,
   "metadata": {},
   "outputs": [
    {
     "data": {
      "text/plain": [
       "0.25"
      ]
     },
     "execution_count": 146,
     "metadata": {},
     "output_type": "execute_result"
    }
   ],
   "source": [
    "U2 = np.array([[complex(0,1),0],[0,1]])\n",
    "e2 = np.array([1,0],dtype=np.complex_)\n",
    "T = 9\n",
    "phaseEstimation(T,U2,e2)"
   ]
  },
  {
   "cell_type": "code",
   "execution_count": 147,
   "metadata": {},
   "outputs": [
    {
     "data": {
      "text/plain": [
       "0.5"
      ]
     },
     "execution_count": 147,
     "metadata": {},
     "output_type": "execute_result"
    }
   ],
   "source": [
    "p = 0.5\n",
    "U3 = np.array([[np.exp(2*np.pi*p*complex(0,1)),0],[0,1]],dtype=np.complex_) #complex(1,1)/np.sqrt(2)\n",
    "e3 = np.array([1,0],dtype=np.complex_)\n",
    "T3 = 8\n",
    "phaseEstimation(T3,U3,e3) #the issue comes from not being able to consider enough qubits"
   ]
  },
  {
   "cell_type": "code",
   "execution_count": 148,
   "metadata": {},
   "outputs": [],
   "source": [
    "def findNearestRational(x):\n",
    "    xb = np.round(x)\n",
    "    xa = x - xb\n",
    "    if xa != 0:\n",
    "        xaRecpb = np.round(1/xa)\n",
    "        return xb*xaRecpb+1,xaRecpb\n",
    "    else:\n",
    "        return xb,1\n",
    "      \n",
    "\n",
    "def shor(N,a,qNum,m,psiAcc):\n",
    "    HDim = 2**qNum\n",
    "\n",
    "    K = np.gcd(a,N)\n",
    "    if K != 1 and K != N:\n",
    "        return N/K,K\n",
    "    \n",
    "    #find U_a matrix\n",
    "    U_a = np.zeros([HDim,HDim],dtype=np.complex_)\n",
    "    for j,k in itertools.product(range(HDim), repeat=2): \n",
    "        if j == a*k % N and k < N:\n",
    "            U_a[j,k] = 1\n",
    "        elif j == k and k >= N:\n",
    "            U_a[j,k] = 1\n",
    "            \n",
    "    #random number generator models quantum probablities\n",
    "    eigenVal, eigenVec = np.linalg.eig(U_a)\n",
    "    \n",
    "    rs = []\n",
    "    for l in range(m):\n",
    "        index = np.random.randint(0,high=HDim)\n",
    "        phaseEst = phaseEstimation(psiAcc,U_a,eigenVec[index])\n",
    "        if phaseEst != None:\n",
    "            kj,rj = findNearestRational(phaseEst)\n",
    "            rs.append(rj)\n",
    "    \n",
    "    if rs != []:\n",
    "        R = np.lcm.reduce(np.array(rs,dtype=int))\n",
    "\n",
    "        if R % 2 == 0:\n",
    "            g = np.gcd(int(a**(R/2) + 1),int(N)) \n",
    "            if g != 1 and g != N:\n",
    "                return N/g, g\n",
    "    \n",
    "    return \"failed\"\n"
   ]
  },
  {
   "cell_type": "code",
   "execution_count": 149,
   "metadata": {},
   "outputs": [
    {
     "name": "stdout",
     "output_type": "stream",
     "text": [
      "(6.0, 2)\n"
     ]
    }
   ],
   "source": [
    "print(shor(12,5,4,6,4)) #a=5"
   ]
  },
  {
   "cell_type": "code",
   "execution_count": 150,
   "metadata": {},
   "outputs": [
    {
     "name": "stdout",
     "output_type": "stream",
     "text": [
      "failed\n"
     ]
    }
   ],
   "source": [
    "print(shor(21,5,4,6,4))"
   ]
  },
  {
   "cell_type": "code",
   "execution_count": 151,
   "metadata": {},
   "outputs": [],
   "source": [
    "#tested with https://blendmaster.github.io/ShorJS/\n",
    "#note it doesn't work with superpositions and how the quantum randomness was simulated"
   ]
  }
 ],
 "metadata": {
  "kernelspec": {
   "display_name": ".venv",
   "language": "python",
   "name": "python3"
  },
  "language_info": {
   "codemirror_mode": {
    "name": "ipython",
    "version": 3
   },
   "file_extension": ".py",
   "mimetype": "text/x-python",
   "name": "python",
   "nbconvert_exporter": "python",
   "pygments_lexer": "ipython3",
   "version": "3.8.10"
  }
 },
 "nbformat": 4,
 "nbformat_minor": 2
}
