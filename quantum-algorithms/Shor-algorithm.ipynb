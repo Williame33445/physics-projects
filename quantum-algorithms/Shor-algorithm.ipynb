{
 "cells": [
  {
   "cell_type": "markdown",
   "metadata": {},
   "source": [
    "# Shor algorithm\n",
    "\n",
    "This notebook is part of a set of notebooks on different quantum algorithms. The main source of these notes is: (Vedral, 2013). \n",
    "\n",
    "## Theory\n",
    "\n",
    "### Shor's algorithm\n",
    "\n",
    "Shor's algorithm is a method for factoring a natural number $N$. It relies on the existance of an efficient classical algorithm for finding the greatest common factor (gcf) (called Euclid's algorithm (Lynn, 2000)) and on an efficient method to deduce some random eigenstates of an operator (called quantum phase estimation).\n",
    "\n",
    "The algorithm is (based on (Vedral, 2013, p. 140)):\n",
    "\n",
    "1. Randomly generate some natural number $a$ where $2<a<N$.\n",
    "\n",
    "2. If $a$ and $N$ are not coprime $\\left(K = gcf(a,N) \\neq 1\\right)$, then the factorization of $N$ is $\\frac{N}{K},K$ and the algorithm stopped.\n",
    "\n",
    "3. If $a$ is odd, then the algorithm fails. Otherwise, deduce the order of $a$ (smallest $r$ where $a^r \\bmod N = 1$) by the phase estimation method (see below).\n",
    "\n",
    "4. Then, as $a^r -1 \\bmod N = (a^\\frac{r}{2} - 1)(a^\\frac{r}{2} + 1) \\bmod N  = 0$ and as $a^\\frac{r}{2} \\bmod N  = 1$ can't be true (by the definition of $r$), if $N$ doesn't divide $b = a^\\frac{r}{2} + 1$ then $a$ and $b$ share common factors. These can be deduced by Euclid's algorithm. Meaning if $K = gcd(a,b) \\neq 1$ then the factorization of $N$ is $\\frac{N}{K},K$.\n",
    "\n",
    "It can be shown that this process has a success probability of $\\frac{1}{2}$ (Vedral, 2013, p. 142) and the complexity of the algorithm can be shown to be $O((\\log{n})^2(\\log{\\log{n}})(\\log{\\log{\\log{n}}}))$ (Shor, 1996, p. 15).\n",
    "\n",
    "### Euclid's algorithm\n",
    "\n",
    "Euclid's algorithm finds the gcf of two natural numbers (here these numbers shall be denoted by $a,b$ and it will be assumed that $a<b$). The algorithm works by recursively applying the formula $gcd(a,b) = gcd(a,b-a)$ until the gcd is trivial (Lynn, 2000).\n",
    "\n",
    "### Phase estimation\n",
    "\n",
    "This is the quantum part of the algorithm; it efficiently finds the order $r$ associated with $a$ and $N$. To find $r$, a qubit system of dimension $m >\\log_2(N)$ is set up with the normal binary labelling convention used for the basis (eg. $\\ket{0} = \\ket{000}, \\ket{1} = \\ket{010}, \\ket{2} = \\ket{011},...$). An operator $\\hat{U}_a$ is set up where $\\hat{U}_a\\ket{x} = \\ket{ax \\bmod N}$ (for efficient implementation see (Shor, 1996, p. 11)). It can then be shown that the eigenstates of $\\hat{U}_a$ take the form $\\lambda_n = e^{\\frac{2\\pi i n}{r}}$ and that $\\ket{1}$ is proportional to the sum of all eigenkets (Vendral, 2013, p. 144). Due to these properties, the quantum phase estimation algorithm can then be applied to $\\ket{1}$ (see (Shor, 1996, p. 15) and (Vendral, 2013, p. 142) for a description and circuit diagrams). The result is an equally weighted superposition corresponding to each of the different eigenstates. A measurement can then be made to find one of these eigenstates. The resulting number is approximately $2^{2m+1}\\frac{n}{r}$. $r$ can then be approximated by the denominator of the coprime fraction closest to $\\frac{n}{r}$. This approximation can be made more accurate by performing the algorithm several times and taking the lowest common multiple (LCM) of the resulting r values.\n",
    "\n",
    "## Implmentation\n",
    "\n",
    "Below the algorithm is implemented. For simplicity, the implementation only considers product states and the quantum randomness is simulated by randomly selecting an eigenstate for phase estimation to be applied to. Test cases were taken from: https://blendmaster.github.io/ShorJS/.\n",
    "\n"
   ]
  },
  {
   "cell_type": "code",
   "execution_count": 14,
   "metadata": {},
   "outputs": [],
   "source": [
    "import numpy as np\n",
    "import itertools\n",
    "\n",
    "# basis used is |0> = [1,0], |1> = [0,1]\n",
    "H = np.array([[1,1],[1,-1]])/np.sqrt(2)"
   ]
  },
  {
   "cell_type": "markdown",
   "metadata": {},
   "source": [
    "Code for inverse QFT."
   ]
  },
  {
   "cell_type": "code",
   "execution_count": 15,
   "metadata": {},
   "outputs": [],
   "source": [
    "def invQFT(f):\n",
    "    \"\"\"\n",
    "    Performs inverse quantum fourier transform on a tensor products of qubit states.\n",
    "\n",
    "    Intputs:\n",
    "    f - tensor product of qubit states, in form [[qubit 1 state], [qubit 2 state], ...]\n",
    "    \"\"\"\n",
    "\n",
    "    qNum = f.shape[0]\n",
    "    fInv = np.empty([qNum,2],dtype=np.complex_)\n",
    "    fInv[-1] = H @ f[-1]\n",
    "\n",
    "    for i in reversed(range(qNum-1)): \n",
    "        s = f[i]\n",
    "        for k in range(i+1,qNum):\n",
    "            if np.allclose(fInv[k],np.array([0,1])):\n",
    "                s[1] *= np.exp(-2*np.pi*complex(0,1)/(2**(k+1)))\n",
    "        s = H @ s\n",
    "        fInv[i] = s\n",
    "    \n",
    "    return fInv\n"
   ]
  },
  {
   "cell_type": "code",
   "execution_count": 16,
   "metadata": {},
   "outputs": [],
   "source": [
    "def getDecimalLabel(s): \n",
    "    \"\"\"\n",
    "    Function that finds the associated number for a qubit tensor product state. \n",
    "    \"\"\"\n",
    "    #print(s)\n",
    "    sBinary = np.empty(s.shape[0])\n",
    "    for i,ket in enumerate(s):\n",
    "        if np.allclose(ket,np.array([1,0])):\n",
    "            sBinary[i] = 0\n",
    "        elif np.allclose(ket,np.array([0,1])):\n",
    "            sBinary[i] = 1\n",
    "    \n",
    "    number = sum([b*2**i for i,b in enumerate(np.flip(sBinary))])\n",
    "    return number\n"
   ]
  },
  {
   "cell_type": "markdown",
   "metadata": {},
   "source": [
    "Test cases for inverse QFT."
   ]
  },
  {
   "cell_type": "code",
   "execution_count": 17,
   "metadata": {},
   "outputs": [
    {
     "name": "stdout",
     "output_type": "stream",
     "text": [
      "Result: 2.0\n"
     ]
    }
   ],
   "source": [
    "#result should be 2\n",
    "f1 = np.array([[1,complex(0,1)],[1,-1],[1,1]])/np.sqrt(2) \n",
    "print(f\"Result: {getDecimalLabel(invQFT(f1))}\")"
   ]
  },
  {
   "cell_type": "code",
   "execution_count": 18,
   "metadata": {},
   "outputs": [
    {
     "name": "stdout",
     "output_type": "stream",
     "text": [
      "Result: 1.0\n"
     ]
    }
   ],
   "source": [
    "#result should be 1\n",
    "f2 = [np.array([1,complex(0,1)]),np.array([1,-1])]/np.sqrt(2)\n",
    "print(f\"Result: {getDecimalLabel(invQFT(f2))}\")"
   ]
  },
  {
   "cell_type": "markdown",
   "metadata": {},
   "source": [
    "Code for phase estimation."
   ]
  },
  {
   "cell_type": "code",
   "execution_count": 19,
   "metadata": {},
   "outputs": [],
   "source": [
    "\n",
    "def phaseEstimation(psiAcc,U,e): #reversed to tensor product convention used in QFT\n",
    "    \"\"\"\n",
    "    Performs phase estimation.\n",
    "\n",
    "    Inputs:\n",
    "    psiAcc - accuracy of psi returned\n",
    "    U - unitary matrix\n",
    "    e - normalised ket\n",
    "    \"\"\"\n",
    "    N = U.shape[0]\n",
    "\n",
    "    def pow(n,prev=np.identity(N,dtype=np.complex_)):\n",
    "        if n == 0:\n",
    "            return prev\n",
    "        return pow(n-1,U @ prev)\n",
    "    \n",
    "\n",
    "    f = np.zeros([psiAcc,2],dtype=np.complex_)\n",
    "\n",
    "    for i in range(psiAcc):\n",
    "        s = np.array([1,0],dtype=np.complex_)\n",
    "        s = H @ s\n",
    "\n",
    "        #apply U^2^i\n",
    "        s[1] *= e @ pow(2**i) @ e\n",
    "        \n",
    "        f[i] = s\n",
    "    \n",
    "    finvQFT = invQFT(f)\n",
    "    phase = getDecimalLabel(finvQFT)/2**psiAcc #from relating the phase and result of inv QFT \n",
    "\n",
    "    return phase\n"
   ]
  },
  {
   "cell_type": "markdown",
   "metadata": {},
   "source": [
    "Tests for phase estimation function."
   ]
  },
  {
   "cell_type": "code",
   "execution_count": 20,
   "metadata": {},
   "outputs": [
    {
     "name": "stdout",
     "output_type": "stream",
     "text": [
      "Psi: 0.0\n"
     ]
    }
   ],
   "source": [
    "#result should be 0\n",
    "U1 = np.array([[1,0],[0,1]])\n",
    "e1 = np.array([1,0],dtype=np.complex_)\n",
    "print(f\"Psi: {phaseEstimation(9,U1,e1)}\")"
   ]
  },
  {
   "cell_type": "code",
   "execution_count": 21,
   "metadata": {},
   "outputs": [
    {
     "name": "stdout",
     "output_type": "stream",
     "text": [
      "Psi: 0.25\n"
     ]
    }
   ],
   "source": [
    "#result should be 0.25\n",
    "U2 = np.array([[complex(0,1),0],[0,1]])\n",
    "e2 = np.array([1,0],dtype=np.complex_)\n",
    "print(f\"Psi: {phaseEstimation(9,U2,e2)}\")"
   ]
  },
  {
   "cell_type": "code",
   "execution_count": 22,
   "metadata": {},
   "outputs": [
    {
     "name": "stdout",
     "output_type": "stream",
     "text": [
      "Psi: 0.5\n"
     ]
    }
   ],
   "source": [
    "#result shoudl be 0.5 \n",
    "U3 = np.array([[np.exp(np.pi*complex(0,1)),0],[0,1]],dtype=np.complex_) \n",
    "e3 = np.array([1,0],dtype=np.complex_)\n",
    "print(f\"Psi: {phaseEstimation(8,U3,e3)}\")"
   ]
  },
  {
   "cell_type": "markdown",
   "metadata": {},
   "source": [
    "Code for full Shor algorithm."
   ]
  },
  {
   "cell_type": "code",
   "execution_count": 23,
   "metadata": {},
   "outputs": [],
   "source": [
    "def findNearestRational(x):\n",
    "    \"\"\"\n",
    "    Function that finds the two coprime numbers whose fraction is nearest to x.\n",
    "    \"\"\"\n",
    "    xb = np.round(x)\n",
    "    xa = x - xb\n",
    "    if xa != 0:\n",
    "        xaRecpb = np.round(1/xa)\n",
    "        return xb*xaRecpb+1,xaRecpb\n",
    "    else:\n",
    "        return xb,1\n",
    "      \n",
    "\n",
    "def shor(N,a,qNum,m,psiAcc):\n",
    "    \"\"\"\n",
    "    Function that factorizes natural number N.\n",
    "\n",
    "    Inputs:\n",
    "    N - number being factorized\n",
    "    a - int between 2 and N used in algorithm\n",
    "    qNum - number of qubits used for U_a matrix\n",
    "    m - number of runs of phase estimation algorithm\n",
    "    psiAcc - accuracy of psi found in phase estimation\n",
    "    \"\"\"\n",
    "    HDim = 2**qNum\n",
    "\n",
    "    K = np.gcd(a,N)\n",
    "    if K != 1 and K != N:\n",
    "        return N/K,K\n",
    "    \n",
    "    #find U_a matrix\n",
    "    U_a = np.zeros([HDim,HDim],dtype=np.complex_)\n",
    "    for j,k in itertools.product(range(HDim), repeat=2): \n",
    "        if j == a*k % N and k < N:\n",
    "            U_a[j,k] = 1\n",
    "        elif j == k and k >= N:\n",
    "            U_a[j,k] = 1\n",
    "            \n",
    "    #random number generator models quantum probablities\n",
    "    eigenVal, eigenVec = np.linalg.eig(U_a)\n",
    "    \n",
    "    rs = []\n",
    "    for l in range(m):\n",
    "        index = np.random.randint(0,high=HDim)\n",
    "        phaseEst = phaseEstimation(psiAcc,U_a,eigenVec[index])\n",
    "        if phaseEst != None:\n",
    "            kj,rj = findNearestRational(phaseEst)\n",
    "            rs.append(rj)\n",
    "    \n",
    "    if rs != []:\n",
    "        R = np.lcm.reduce(np.array(rs,dtype=int))\n",
    "\n",
    "        if R % 2 == 0:\n",
    "            g = np.gcd(int(a**(R/2) + 1),int(N)) \n",
    "            if g != 1 and g != N:\n",
    "                return N/g, g\n",
    "    \n",
    "    return \"failed\"\n"
   ]
  },
  {
   "cell_type": "markdown",
   "metadata": {},
   "source": [
    "Tests for Shor algorithm."
   ]
  },
  {
   "cell_type": "code",
   "execution_count": 24,
   "metadata": {},
   "outputs": [
    {
     "name": "stdout",
     "output_type": "stream",
     "text": [
      "12 is factorized to: (6.0, 2)\n"
     ]
    }
   ],
   "source": [
    "print(f\"12 is factorized to: {shor(12,5,4,6,4)}\") "
   ]
  },
  {
   "cell_type": "code",
   "execution_count": 25,
   "metadata": {},
   "outputs": [
    {
     "name": "stdout",
     "output_type": "stream",
     "text": [
      "21 is factorized to: failed\n"
     ]
    }
   ],
   "source": [
    "#should fail\n",
    "print(f\"21 is factorized to: {shor(21,5,4,6,4)}\") "
   ]
  },
  {
   "cell_type": "markdown",
   "metadata": {},
   "source": [
    "# References\n",
    "\n",
    "Vedral, V., 2013. Introduction to Quantum Information Science. Oxford: Oxford University Press.\n",
    "\n",
    "Lynn, B., 2000. Euclid's Algorithm. [Online] \n",
    "Available at: https://crypto.stanford.edu/pbc/notes/numbertheory/euclid.html\n",
    "[Accessed 27 August 2024].\n",
    "\n",
    "Shor, P., 1996. Polynomial-Time Algorithms for Prime Factorization and Discrete Logarithms on a Quantum Computer. \n",
    "\n",
    "\n",
    "\n"
   ]
  },
  {
   "cell_type": "markdown",
   "metadata": {},
   "source": []
  }
 ],
 "metadata": {
  "kernelspec": {
   "display_name": ".venv",
   "language": "python",
   "name": "python3"
  },
  "language_info": {
   "codemirror_mode": {
    "name": "ipython",
    "version": 3
   },
   "file_extension": ".py",
   "mimetype": "text/x-python",
   "name": "python",
   "nbconvert_exporter": "python",
   "pygments_lexer": "ipython3",
   "version": "3.8.10"
  }
 },
 "nbformat": 4,
 "nbformat_minor": 2
}
