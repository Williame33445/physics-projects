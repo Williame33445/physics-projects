{
 "cells": [
  {
   "cell_type": "markdown",
   "metadata": {},
   "source": [
    "# Shor algorithm\n",
    "\n",
    "This notebook is part of a set of notebooks on different quantum algorithms. The main source of these notes is: (Vedral, 2013). \n",
    "\n",
    "## Theory\n",
    "\n",
    "### Shor's algorithm\n",
    "\n",
    "Shor's algorithm is a method for factoring a natural number $N$. It relies on the existance of an efficient classical algorithm for finding the greatest common factor (gcf) (called Euclid's algorithm (Lynn, 2000)) and on an efficient method to deduce some random eigenstates of an operator (called quantum phase estimation).\n",
    "\n",
    "The algorithm is (based on (Vedral, 2013, p. 140)):\n",
    "\n",
    "1. Randomly generate some natural number $a$ where $2<a<N$.\n",
    "\n",
    "2. If $a$ and $N$ are not coprime $\\left(K = gcf(a,N) \\neq 1\\right)$, then the factorization of $N$ is $\\frac{N}{K},K$ and the algorithm stopped.\n",
    "\n",
    "3. If $a$ is odd, then the algorithm fails. Otherwise, deduce the order of $a$ (smallest $r$ where $a^r \\bmod N = 1$) by the phase estimation method (see below).\n",
    "\n",
    "4. Then, as $a^r -1 \\bmod N = (a^\\frac{r}{2} - 1)(a^\\frac{r}{2} + 1) \\bmod N  = 0$ and as $a^\\frac{r}{2} \\bmod N  = 1$ can't be true (by the definition of $r$), if $N$ doesn't divide $b = a^\\frac{r}{2} + 1$ then $a$ and $b$ share common factors. These can be deduced by Euclid's algorithm. Meaning if $K = gcd(a,b) \\neq 1$ then the factorization of $N$ is $\\frac{N}{K},K$.\n",
    "\n",
    "It can be shown that this process has a success probability of $\\frac{1}{2}$ (Vedral, 2013, p. 142) and the complexity of the algorithm can be shown to be $O((\\log{n})^2(\\log{\\log{n}})(\\log{\\log{\\log{n}}}))$ (Shor, 1996, p. 15).\n",
    "\n",
    "### Euclid's algorithm\n",
    "\n",
    "Euclid's algorithm finds the gcf of two natural numbers (here these numbers shall be denoted by $a,b$ and it will be assumed that $a<b$). The algorithm works by recursively applying the formula $gcd(a,b) = gcd(a,b-a)$ until the gcd is trivial (Lynn, 2000).\n",
    "\n",
    "### Phase estimation\n",
    "\n",
    "This is the quantum part of the algorithm; it efficiently finds the order $r$ associated with $a$ and $N$. To find $r$, a qubit system of dimension $m >\\log_2(N)$ is set up with the normal binary labelling convention used for the basis (eg. $\\ket{0} = \\ket{000}, \\ket{1} = \\ket{010}, \\ket{2} = \\ket{011},...$). An operator $\\hat{U}_a$ is set up where $\\hat{U}_a\\ket{x} = \\ket{ax \\bmod N}$ (for efficient implementation see (Shor, 1996, p. 11)). It can then be shown that the eigenstates of $\\hat{U}_a$ take the form $\\lambda_n = e^{\\frac{2\\pi i n}{r}}$ and that $\\ket{1}$ is proportional to the sum of all eigenkets (Vendral, 2013, p. 144). Due to these properties, the quantum phase estimation algorithm can then be applied to $\\ket{1}$ (see (Shor, 1996, p. 15) and (Vendral, 2013, p. 142) for a description and circuit diagrams). The result is an equally weighted superposition corresponding to each of the different eigenstates. A measurement can then be made to find one of these eigenstates. The resulting number is approximately $2^{2m+1}\\frac{n}{r}$. $r$ can then be approximated by the denominator of the coprime fraction closest to $\\frac{n}{r}$. This approximation can be made more accurate by performing the algorithm several times and taking the lowest common multiple (LCM) of the resulting r values.\n",
    "\n",
    "## Implmentation\n",
    "\n",
    "Below the algorithm is implemented. The quantum randomness is simulated by using a random number generator. Test cases were taken from: https://blendmaster.github.io/ShorJS/.\n",
    "\n"
   ]
  },
  {
   "cell_type": "code",
   "execution_count": 1,
   "metadata": {},
   "outputs": [],
   "source": [
    "import numpy as np\n",
    "import itertools\n",
    "import sys\n",
    "sys.path.append('C:\\workspace\\git-repos\\physics-projects\\quantum-algorithms')\n",
    "%run register\n"
   ]
  },
  {
   "cell_type": "markdown",
   "metadata": {},
   "source": [
    "Code for inverse QFT."
   ]
  },
  {
   "cell_type": "code",
   "execution_count": 2,
   "metadata": {},
   "outputs": [],
   "source": [
    "def invQFT(QFTRegister,start,end):\n",
    "    Rs = []\n",
    "    for i in range(2,end-start+1):\n",
    "        Rs.append(np.array([[1,0],[0,np.exp(-2*np.pi*1j/(2**i),dtype=np.complex_)]],dtype=np.complex_))\n",
    "\n",
    "    for i in reversed(range(end-start)):\n",
    "        for j in reversed(range(end -start - i - 1)):\n",
    "            gate = QFTRegister.findControlledSingleQubitOp(Rs[j], i+1+j, i)\n",
    "            QFTRegister.applyGate(gate)\n",
    "\n",
    "        QFTRegister.applyH(i)\n",
    "    \n",
    "    return QFTRegister\n"
   ]
  },
  {
   "cell_type": "markdown",
   "metadata": {},
   "source": [
    "Test cases for inverse QFT."
   ]
  },
  {
   "cell_type": "code",
   "execution_count": 3,
   "metadata": {},
   "outputs": [
    {
     "name": "stdout",
     "output_type": "stream",
     "text": [
      "Initial state: (0.354+0j)|0> + (0.354+0j)|1> + (-0.354+0j)|2> + (-0.354+0j)|3> + 0.354j|4> + 0.354j|5> + -0.354j|6> + -0.354j|7>\n",
      "Result: (1+0j)|2>\n"
     ]
    }
   ],
   "source": [
    "#result should be 2\n",
    "QFT1 = Register([q0 + complex(0,1)*q1,q0-q1,q0+q1])\n",
    "print(f\"Initial state: {QFT1.displayQubits()}\")\n",
    "print(f\"Result: {invQFT(QFT1,0,3).displayQubits()}\")"
   ]
  },
  {
   "cell_type": "code",
   "execution_count": 4,
   "metadata": {},
   "outputs": [
    {
     "name": "stdout",
     "output_type": "stream",
     "text": [
      "Initial state: (0.5+0j)|0> + (-0.5+0j)|1> + 0.5j|2> + (-0-0.5j)|3>\n",
      "Result: (1+0j)|1>\n"
     ]
    }
   ],
   "source": [
    "#result should be 1\n",
    "QFT2 = Register([q0 + complex(0,1)*q1,q0-q1])\n",
    "print(f\"Initial state: {QFT2.displayQubits()}\")\n",
    "print(f\"Result: {invQFT(QFT2,0,2).displayQubits()}\")"
   ]
  },
  {
   "cell_type": "markdown",
   "metadata": {},
   "source": [
    "Code for phase estimation."
   ]
  },
  {
   "cell_type": "code",
   "execution_count": 15,
   "metadata": {},
   "outputs": [],
   "source": [
    "def findDominantBit(register, start, end):\n",
    "    return int(register.binary[np.argmax(np.abs(register.qubits))][start:end],2)\n",
    "\n",
    "\n",
    "def phaseEstimation(psiAcc,U,e):\n",
    "    \"\"\"\n",
    "    Performs phase estimation.\n",
    "\n",
    "    Inputs:\n",
    "    psiAcc - accuracy of psi returned\n",
    "    U - unitary matrix\n",
    "    e - ket\n",
    "    \"\"\"\n",
    "\n",
    "    register = Register([q0 for i in range(psiAcc)] + [e])\n",
    "    print(f\"Initial state (control qubits): {register.displayQubits(endBitsRemoved=1)}\")\n",
    "\n",
    "    register.applySingleQubitProduct(np.array([[1,1],[1,-1]])/np.sqrt(2),0,psiAcc)\n",
    "    print(f\"H applied (control qubits): {register.displayQubits(endBitsRemoved=1)}\")\n",
    "    \n",
    "    for i in range(psiAcc): \n",
    "        gate = register.findControlledSingleQubitOp(np.linalg.matrix_power(U,2**i), psiAcc-1-i, psiAcc)\n",
    "        register.applyGate(gate)\n",
    "\n",
    "    print(f\"H and Us applied (control qubits): {register.displayQubits(endBitsRemoved=1)}\")\n",
    "\n",
    "    #this is required as the QFT must be applied to the control qubits in reverse order\n",
    "    register.invertQubits(0,register.n-1)\n",
    "\n",
    "    register = invQFT(register,0,register.n-1)\n",
    "    print(f\"IQFT (control qubits): {register.displayQubits(endBitsRemoved=1)}\")\n",
    "\n",
    "    return register\n"
   ]
  },
  {
   "cell_type": "markdown",
   "metadata": {},
   "source": [
    "Tests for phase estimation function."
   ]
  },
  {
   "cell_type": "code",
   "execution_count": 18,
   "metadata": {},
   "outputs": [
    {
     "name": "stdout",
     "output_type": "stream",
     "text": [
      "Initial state (control qubits): (1+0j)|0>\n",
      "H applied (control qubits): (0.354+0j)|0> + (0.354+0j)|1> + (0.354+0j)|2> + (0.354+0j)|3> + (0.354+0j)|4> + (0.354+0j)|5> + (0.354+0j)|6> + (0.354+0j)|7>\n",
      "H and Us applied (control qubits): (0.354+0j)|0> + (0.354+0j)|1> + (0.354+0j)|2> + (0.354+0j)|3> + (0.354+0j)|4> + (0.354+0j)|5> + (0.354+0j)|6> + (0.354+0j)|7>\n",
      "IQFT (control qubits): (1+0j)|0>\n",
      "Phase estimation result: 0.0\n"
     ]
    }
   ],
   "source": [
    "#result should be 0\n",
    "U1 = np.array([[1,0],[0,1]])\n",
    "e1 = np.array([1,0],dtype=np.complex_) #I am doing the QFT on the last qubit\n",
    "phaseEst1 = phaseEstimation(3,U1,e1)\n",
    "bit1 = findDominantBit(phaseEst1,0,3)\n",
    "print(f\"Phase estimation result: {bit1/2**3}\")"
   ]
  },
  {
   "cell_type": "code",
   "execution_count": 19,
   "metadata": {},
   "outputs": [
    {
     "name": "stdout",
     "output_type": "stream",
     "text": [
      "Initial state (control qubits): (1+0j)|0>\n",
      "H applied (control qubits): (0.5+0j)|0> + (0.5+0j)|1> + (0.5+0j)|2> + (0.5+0j)|3>\n",
      "H and Us applied (control qubits): (0.5+0j)|0> + 0.5j|1> + (-0.5+0j)|2> + -0.5j|3>\n",
      "IQFT (control qubits): (1+0j)|1>\n",
      "Phase estimation result: 0.25\n"
     ]
    }
   ],
   "source": [
    "#result should be 0.25\n",
    "U2 = np.array([[complex(0,1),0],[0,1]]) \n",
    "e2 = np.array([1,0],dtype=np.complex_)\n",
    "phaseEst2 = phaseEstimation(2,U2,e2)\n",
    "bit2 = findDominantBit(phaseEst2,0,2)\n",
    "print(f\"Phase estimation result: {bit2/2**2}\")"
   ]
  },
  {
   "cell_type": "code",
   "execution_count": 20,
   "metadata": {},
   "outputs": [
    {
     "name": "stdout",
     "output_type": "stream",
     "text": [
      "Initial state (control qubits): (1+0j)|0>\n",
      "H applied (control qubits): (0.062+0j)|0> + (0.062+0j)|1> + (0.062+0j)|2> + (0.062+0j)|3> + (0.062+0j)|4> + (0.062+0j)|5> + (0.062+0j)|6> + (0.062+0j)|7> + (0.062+0j)|8> + (0.062+0j)|9> + (0.062+0j)|10> + (0.062+0j)|11> + (0.062+0j)|12> + (0.062+0j)|13> + (0.062+0j)|14> + (0.062+0j)|15> + (0.062+0j)|16> + (0.062+0j)|17> + (0.062+0j)|18> + (0.062+0j)|19> + (0.062+0j)|20> + (0.062+0j)|21> + (0.062+0j)|22> + (0.062+0j)|23> + (0.062+0j)|24> + (0.062+0j)|25> + (0.062+0j)|26> + (0.062+0j)|27> + (0.062+0j)|28> + (0.062+0j)|29> + (0.062+0j)|30> + (0.062+0j)|31> + (0.062+0j)|32> + (0.062+0j)|33> + (0.062+0j)|34> + (0.062+0j)|35> + (0.062+0j)|36> + (0.062+0j)|37> + (0.062+0j)|38> + (0.062+0j)|39> + (0.062+0j)|40> + (0.062+0j)|41> + (0.062+0j)|42> + (0.062+0j)|43> + (0.062+0j)|44> + (0.062+0j)|45> + (0.062+0j)|46> + (0.062+0j)|47> + (0.062+0j)|48> + (0.062+0j)|49> + (0.062+0j)|50> + (0.062+0j)|51> + (0.062+0j)|52> + (0.062+0j)|53> + (0.062+0j)|54> + (0.062+0j)|55> + (0.062+0j)|56> + (0.062+0j)|57> + (0.062+0j)|58> + (0.062+0j)|59> + (0.062+0j)|60> + (0.062+0j)|61> + (0.062+0j)|62> + (0.062+0j)|63> + (0.062+0j)|64> + (0.062+0j)|65> + (0.062+0j)|66> + (0.062+0j)|67> + (0.062+0j)|68> + (0.062+0j)|69> + (0.062+0j)|70> + (0.062+0j)|71> + (0.062+0j)|72> + (0.062+0j)|73> + (0.062+0j)|74> + (0.062+0j)|75> + (0.062+0j)|76> + (0.062+0j)|77> + (0.062+0j)|78> + (0.062+0j)|79> + (0.062+0j)|80> + (0.062+0j)|81> + (0.062+0j)|82> + (0.062+0j)|83> + (0.062+0j)|84> + (0.062+0j)|85> + (0.062+0j)|86> + (0.062+0j)|87> + (0.062+0j)|88> + (0.062+0j)|89> + (0.062+0j)|90> + (0.062+0j)|91> + (0.062+0j)|92> + (0.062+0j)|93> + (0.062+0j)|94> + (0.062+0j)|95> + (0.062+0j)|96> + (0.062+0j)|97> + (0.062+0j)|98> + (0.062+0j)|99> + (0.062+0j)|100> + (0.062+0j)|101> + (0.062+0j)|102> + (0.062+0j)|103> + (0.062+0j)|104> + (0.062+0j)|105> + (0.062+0j)|106> + (0.062+0j)|107> + (0.062+0j)|108> + (0.062+0j)|109> + (0.062+0j)|110> + (0.062+0j)|111> + (0.062+0j)|112> + (0.062+0j)|113> + (0.062+0j)|114> + (0.062+0j)|115> + (0.062+0j)|116> + (0.062+0j)|117> + (0.062+0j)|118> + (0.062+0j)|119> + (0.062+0j)|120> + (0.062+0j)|121> + (0.062+0j)|122> + (0.062+0j)|123> + (0.062+0j)|124> + (0.062+0j)|125> + (0.062+0j)|126> + (0.062+0j)|127> + (0.062+0j)|128> + (0.062+0j)|129> + (0.062+0j)|130> + (0.062+0j)|131> + (0.062+0j)|132> + (0.062+0j)|133> + (0.062+0j)|134> + (0.062+0j)|135> + (0.062+0j)|136> + (0.062+0j)|137> + (0.062+0j)|138> + (0.062+0j)|139> + (0.062+0j)|140> + (0.062+0j)|141> + (0.062+0j)|142> + (0.062+0j)|143> + (0.062+0j)|144> + (0.062+0j)|145> + (0.062+0j)|146> + (0.062+0j)|147> + (0.062+0j)|148> + (0.062+0j)|149> + (0.062+0j)|150> + (0.062+0j)|151> + (0.062+0j)|152> + (0.062+0j)|153> + (0.062+0j)|154> + (0.062+0j)|155> + (0.062+0j)|156> + (0.062+0j)|157> + (0.062+0j)|158> + (0.062+0j)|159> + (0.062+0j)|160> + (0.062+0j)|161> + (0.062+0j)|162> + (0.062+0j)|163> + (0.062+0j)|164> + (0.062+0j)|165> + (0.062+0j)|166> + (0.062+0j)|167> + (0.062+0j)|168> + (0.062+0j)|169> + (0.062+0j)|170> + (0.062+0j)|171> + (0.062+0j)|172> + (0.062+0j)|173> + (0.062+0j)|174> + (0.062+0j)|175> + (0.062+0j)|176> + (0.062+0j)|177> + (0.062+0j)|178> + (0.062+0j)|179> + (0.062+0j)|180> + (0.062+0j)|181> + (0.062+0j)|182> + (0.062+0j)|183> + (0.062+0j)|184> + (0.062+0j)|185> + (0.062+0j)|186> + (0.062+0j)|187> + (0.062+0j)|188> + (0.062+0j)|189> + (0.062+0j)|190> + (0.062+0j)|191> + (0.062+0j)|192> + (0.062+0j)|193> + (0.062+0j)|194> + (0.062+0j)|195> + (0.062+0j)|196> + (0.062+0j)|197> + (0.062+0j)|198> + (0.062+0j)|199> + (0.062+0j)|200> + (0.062+0j)|201> + (0.062+0j)|202> + (0.062+0j)|203> + (0.062+0j)|204> + (0.062+0j)|205> + (0.062+0j)|206> + (0.062+0j)|207> + (0.062+0j)|208> + (0.062+0j)|209> + (0.062+0j)|210> + (0.062+0j)|211> + (0.062+0j)|212> + (0.062+0j)|213> + (0.062+0j)|214> + (0.062+0j)|215> + (0.062+0j)|216> + (0.062+0j)|217> + (0.062+0j)|218> + (0.062+0j)|219> + (0.062+0j)|220> + (0.062+0j)|221> + (0.062+0j)|222> + (0.062+0j)|223> + (0.062+0j)|224> + (0.062+0j)|225> + (0.062+0j)|226> + (0.062+0j)|227> + (0.062+0j)|228> + (0.062+0j)|229> + (0.062+0j)|230> + (0.062+0j)|231> + (0.062+0j)|232> + (0.062+0j)|233> + (0.062+0j)|234> + (0.062+0j)|235> + (0.062+0j)|236> + (0.062+0j)|237> + (0.062+0j)|238> + (0.062+0j)|239> + (0.062+0j)|240> + (0.062+0j)|241> + (0.062+0j)|242> + (0.062+0j)|243> + (0.062+0j)|244> + (0.062+0j)|245> + (0.062+0j)|246> + (0.062+0j)|247> + (0.062+0j)|248> + (0.062+0j)|249> + (0.062+0j)|250> + (0.062+0j)|251> + (0.062+0j)|252> + (0.062+0j)|253> + (0.062+0j)|254> + (0.062+0j)|255>\n",
      "H and Us applied (control qubits): (0.062+0j)|0> + (-0.062+0j)|1> + (0.062-0j)|2> + (-0.062+0j)|3> + (0.062-0j)|4> + (-0.062+0j)|5> + (0.062-0j)|6> + (-0.062+0j)|7> + (0.062-0j)|8> + (-0.062+0j)|9> + (0.062-0j)|10> + (-0.062+0j)|11> + (0.062-0j)|12> + (-0.062+0j)|13> + (0.062-0j)|14> + (-0.062+0j)|15> + (0.062-0j)|16> + (-0.062+0j)|17> + (0.062-0j)|18> + (-0.062+0j)|19> + (0.062-0j)|20> + (-0.062+0j)|21> + (0.062-0j)|22> + (-0.062+0j)|23> + (0.062-0j)|24> + (-0.062+0j)|25> + (0.062-0j)|26> + (-0.062+0j)|27> + (0.062-0j)|28> + (-0.062+0j)|29> + (0.062-0j)|30> + (-0.062+0j)|31> + (0.062-0j)|32> + (-0.062+0j)|33> + (0.062-0j)|34> + (-0.062+0j)|35> + (0.062-0j)|36> + (-0.062+0j)|37> + (0.062-0j)|38> + (-0.062+0j)|39> + (0.062-0j)|40> + (-0.062+0j)|41> + (0.062-0j)|42> + (-0.062+0j)|43> + (0.062-0j)|44> + (-0.062+0j)|45> + (0.062-0j)|46> + (-0.062+0j)|47> + (0.062-0j)|48> + (-0.062+0j)|49> + (0.062-0j)|50> + (-0.062+0j)|51> + (0.062-0j)|52> + (-0.062+0j)|53> + (0.062-0j)|54> + (-0.062+0j)|55> + (0.062-0j)|56> + (-0.062+0j)|57> + (0.062-0j)|58> + (-0.062+0j)|59> + (0.062-0j)|60> + (-0.062+0j)|61> + (0.062-0j)|62> + (-0.062+0j)|63> + (0.062-0j)|64> + (-0.062+0j)|65> + (0.062-0j)|66> + (-0.062+0j)|67> + (0.062-0j)|68> + (-0.062+0j)|69> + (0.062-0j)|70> + (-0.062+0j)|71> + (0.062-0j)|72> + (-0.062+0j)|73> + (0.062-0j)|74> + (-0.062+0j)|75> + (0.062-0j)|76> + (-0.062+0j)|77> + (0.062-0j)|78> + (-0.062+0j)|79> + (0.062-0j)|80> + (-0.062+0j)|81> + (0.062-0j)|82> + (-0.062+0j)|83> + (0.062-0j)|84> + (-0.062+0j)|85> + (0.062-0j)|86> + (-0.062+0j)|87> + (0.062-0j)|88> + (-0.062+0j)|89> + (0.062-0j)|90> + (-0.062+0j)|91> + (0.062-0j)|92> + (-0.062+0j)|93> + (0.062-0j)|94> + (-0.062+0j)|95> + (0.062-0j)|96> + (-0.062+0j)|97> + (0.062-0j)|98> + (-0.062+0j)|99> + (0.062-0j)|100> + (-0.062+0j)|101> + (0.062-0j)|102> + (-0.062+0j)|103> + (0.062-0j)|104> + (-0.062+0j)|105> + (0.062-0j)|106> + (-0.062+0j)|107> + (0.062-0j)|108> + (-0.062+0j)|109> + (0.062-0j)|110> + (-0.062+0j)|111> + (0.062-0j)|112> + (-0.062+0j)|113> + (0.062-0j)|114> + (-0.062+0j)|115> + (0.062-0j)|116> + (-0.062+0j)|117> + (0.062-0j)|118> + (-0.062+0j)|119> + (0.062-0j)|120> + (-0.062+0j)|121> + (0.062-0j)|122> + (-0.062+0j)|123> + (0.062-0j)|124> + (-0.062+0j)|125> + (0.062-0j)|126> + (-0.062+0j)|127> + (0.062-0j)|128> + (-0.062+0j)|129> + (0.062-0j)|130> + (-0.062+0j)|131> + (0.062-0j)|132> + (-0.062+0j)|133> + (0.062-0j)|134> + (-0.062+0j)|135> + (0.062-0j)|136> + (-0.062+0j)|137> + (0.062-0j)|138> + (-0.062+0j)|139> + (0.062-0j)|140> + (-0.062+0j)|141> + (0.062-0j)|142> + (-0.062+0j)|143> + (0.062-0j)|144> + (-0.062+0j)|145> + (0.062-0j)|146> + (-0.062+0j)|147> + (0.062-0j)|148> + (-0.062+0j)|149> + (0.062-0j)|150> + (-0.062+0j)|151> + (0.062-0j)|152> + (-0.062+0j)|153> + (0.062-0j)|154> + (-0.062+0j)|155> + (0.062-0j)|156> + (-0.062+0j)|157> + (0.062-0j)|158> + (-0.062+0j)|159> + (0.062-0j)|160> + (-0.062+0j)|161> + (0.062-0j)|162> + (-0.062+0j)|163> + (0.062-0j)|164> + (-0.062+0j)|165> + (0.062-0j)|166> + (-0.062+0j)|167> + (0.062-0j)|168> + (-0.062+0j)|169> + (0.062-0j)|170> + (-0.062+0j)|171> + (0.062-0j)|172> + (-0.062+0j)|173> + (0.062-0j)|174> + (-0.062+0j)|175> + (0.062-0j)|176> + (-0.062+0j)|177> + (0.062-0j)|178> + (-0.062+0j)|179> + (0.062-0j)|180> + (-0.062+0j)|181> + (0.062-0j)|182> + (-0.062+0j)|183> + (0.062-0j)|184> + (-0.062+0j)|185> + (0.062-0j)|186> + (-0.062+0j)|187> + (0.062-0j)|188> + (-0.062+0j)|189> + (0.062-0j)|190> + (-0.062+0j)|191> + (0.062-0j)|192> + (-0.062+0j)|193> + (0.062-0j)|194> + (-0.062+0j)|195> + (0.062-0j)|196> + (-0.062+0j)|197> + (0.062-0j)|198> + (-0.062+0j)|199> + (0.062-0j)|200> + (-0.062+0j)|201> + (0.062-0j)|202> + (-0.062+0j)|203> + (0.062-0j)|204> + (-0.062+0j)|205> + (0.062-0j)|206> + (-0.062+0j)|207> + (0.062-0j)|208> + (-0.062+0j)|209> + (0.062-0j)|210> + (-0.062+0j)|211> + (0.062-0j)|212> + (-0.062+0j)|213> + (0.062-0j)|214> + (-0.062+0j)|215> + (0.062-0j)|216> + (-0.062+0j)|217> + (0.062-0j)|218> + (-0.062+0j)|219> + (0.062-0j)|220> + (-0.062+0j)|221> + (0.062-0j)|222> + (-0.062+0j)|223> + (0.062-0j)|224> + (-0.062+0j)|225> + (0.062-0j)|226> + (-0.062+0j)|227> + (0.062-0j)|228> + (-0.062+0j)|229> + (0.062-0j)|230> + (-0.062+0j)|231> + (0.062-0j)|232> + (-0.062+0j)|233> + (0.062-0j)|234> + (-0.062+0j)|235> + (0.062-0j)|236> + (-0.062+0j)|237> + (0.062-0j)|238> + (-0.062+0j)|239> + (0.062-0j)|240> + (-0.062+0j)|241> + (0.062-0j)|242> + (-0.062+0j)|243> + (0.062-0j)|244> + (-0.062+0j)|245> + (0.062-0j)|246> + (-0.062+0j)|247> + (0.062-0j)|248> + (-0.062+0j)|249> + (0.062-0j)|250> + (-0.062+0j)|251> + (0.062-0j)|252> + (-0.062+0j)|253> + (0.062-0j)|254> + (-0.062+0j)|255>\n",
      "IQFT (control qubits): (1-0j)|128>\n",
      "Phase estimation result: 0.5\n"
     ]
    }
   ],
   "source": [
    "#result shoudl be 0.5 \n",
    "U3 = np.array([[np.exp(np.pi*complex(0,1)),0],[0,1]],dtype=np.complex_) \n",
    "e3 = np.array([1,0],dtype=np.complex_)\n",
    "phaseEst3 = phaseEstimation(8,U3,e3)\n",
    "bit2 = findDominantBit(phaseEst3,0,8)\n",
    "print(f\"Phase estimation result: {bit2/2**8}\")"
   ]
  },
  {
   "cell_type": "markdown",
   "metadata": {},
   "source": [
    "Code for full Shor algorithm."
   ]
  },
  {
   "cell_type": "code",
   "execution_count": null,
   "metadata": {},
   "outputs": [],
   "source": [
    "#work in progress\n",
    "def findNearestRational(x):\n",
    "    \"\"\"\n",
    "    Function that finds the two coprime numbers whose fraction is nearest to x.\n",
    "    \"\"\"\n",
    "    xb = np.round(x)\n",
    "    xa = x - xb\n",
    "    if xa != 0:\n",
    "        xaRecpb = np.round(1/xa)\n",
    "        return xb*xaRecpb+1,xaRecpb\n",
    "    else:\n",
    "        return xb,1\n",
    "      \n",
    "\n",
    "def shor(N,a,qNum,m,psiAcc):\n",
    "    \"\"\"\n",
    "    Function that factorizes natural number N.\n",
    "\n",
    "    Inputs:\n",
    "    N - number being factorized\n",
    "    a - int between 2 and N used in algorithm\n",
    "    qNum - number of qubits used for U_a matrix\n",
    "    m - number of runs of phase estimation algorithm\n",
    "    psiAcc - accuracy of psi found in phase estimation\n",
    "    \"\"\"\n",
    "    HDim = 2**qNum\n",
    "\n",
    "    K = np.gcd(a,N)\n",
    "    if K != 1 and K != N:\n",
    "        return N/K,K\n",
    "    \n",
    "    #find U_a matrix\n",
    "    U_a = np.zeros([HDim,HDim],dtype=np.complex_)\n",
    "    for j,k in itertools.product(range(HDim), repeat=2): \n",
    "        if j == a*k % N and k < N:\n",
    "            U_a[j,k] = 1\n",
    "        elif j == k and k >= N:\n",
    "            U_a[j,k] = 1\n",
    "            \n",
    "    #random number generator models quantum probablities\n",
    "    eigenVal, eigenVec = np.linalg.eig(U_a)\n",
    "    \n",
    "    rs = []\n",
    "    for l in range(m):\n",
    "        index = np.random.randint(0,high=HDim)\n",
    "        phaseEst = phaseEstimation(psiAcc,U_a,eigenVec[index])\n",
    "        if phaseEst != None:\n",
    "            kj,rj = findNearestRational(phaseEst)\n",
    "            rs.append(rj)\n",
    "    \n",
    "    if rs != []:\n",
    "        R = np.lcm.reduce(np.array(rs,dtype=int))\n",
    "\n",
    "        if R % 2 == 0:\n",
    "            g = np.gcd(int(a**(R/2) + 1),int(N)) \n",
    "            if g != 1 and g != N:\n",
    "                return N/g, g\n",
    "    \n",
    "    return \"failed\"\n"
   ]
  },
  {
   "cell_type": "markdown",
   "metadata": {},
   "source": [
    "Tests for Shor algorithm."
   ]
  },
  {
   "cell_type": "code",
   "execution_count": 19,
   "metadata": {},
   "outputs": [
    {
     "name": "stdout",
     "output_type": "stream",
     "text": [
      "Initial state: (0.707+0j)|0> + (-0.707+0j)|1>\n"
     ]
    },
    {
     "ename": "ValueError",
     "evalue": "matmul: Input operand 1 has a mismatch in its core dimension 0, with gufunc signature (n?,k),(k,m?)->(n?,m?) (size 256 is different from 32)",
     "output_type": "error",
     "traceback": [
      "\u001b[1;31m---------------------------------------------------------------------------\u001b[0m",
      "\u001b[1;31mValueError\u001b[0m                                Traceback (most recent call last)",
      "Cell \u001b[1;32mIn[19], line 1\u001b[0m\n\u001b[1;32m----> 1\u001b[0m \u001b[38;5;28mprint\u001b[39m(\u001b[38;5;124mf\u001b[39m\u001b[38;5;124m\"\u001b[39m\u001b[38;5;124m12 is factorized to: \u001b[39m\u001b[38;5;132;01m{\u001b[39;00mshor(\u001b[38;5;241m12\u001b[39m,\u001b[38;5;241m5\u001b[39m,\u001b[38;5;241m4\u001b[39m,\u001b[38;5;241m6\u001b[39m,\u001b[38;5;241m4\u001b[39m)\u001b[38;5;132;01m}\u001b[39;00m\u001b[38;5;124m\"\u001b[39m) \n",
      "Cell \u001b[1;32mIn[18], line 45\u001b[0m, in \u001b[0;36mshor\u001b[1;34m(N, a, qNum, m, psiAcc)\u001b[0m\n\u001b[0;32m     43\u001b[0m \u001b[38;5;28;01mfor\u001b[39;00m l \u001b[38;5;129;01min\u001b[39;00m \u001b[38;5;28mrange\u001b[39m(m):\n\u001b[0;32m     44\u001b[0m     index \u001b[38;5;241m=\u001b[39m np\u001b[38;5;241m.\u001b[39mrandom\u001b[38;5;241m.\u001b[39mrandint(\u001b[38;5;241m0\u001b[39m,high\u001b[38;5;241m=\u001b[39mHDim)\n\u001b[1;32m---> 45\u001b[0m     phaseEst \u001b[38;5;241m=\u001b[39m \u001b[43mphaseEstimation\u001b[49m\u001b[43m(\u001b[49m\u001b[43mpsiAcc\u001b[49m\u001b[43m,\u001b[49m\u001b[43mU_a\u001b[49m\u001b[43m,\u001b[49m\u001b[43meigenVec\u001b[49m\u001b[43m[\u001b[49m\u001b[43mindex\u001b[49m\u001b[43m]\u001b[49m\u001b[43m)\u001b[49m\n\u001b[0;32m     46\u001b[0m     \u001b[38;5;28;01mif\u001b[39;00m phaseEst \u001b[38;5;241m!=\u001b[39m \u001b[38;5;28;01mNone\u001b[39;00m:\n\u001b[0;32m     47\u001b[0m         kj,rj \u001b[38;5;241m=\u001b[39m findNearestRational(phaseEst)\n",
      "Cell \u001b[1;32mIn[14], line 14\u001b[0m, in \u001b[0;36mphaseEstimation\u001b[1;34m(psiAcc, U, e)\u001b[0m\n\u001b[0;32m     11\u001b[0m register \u001b[38;5;241m=\u001b[39m Register([q0 \u001b[38;5;28;01mfor\u001b[39;00m i \u001b[38;5;129;01min\u001b[39;00m \u001b[38;5;28mrange\u001b[39m(psiAcc)] \u001b[38;5;241m+\u001b[39m [e], numberOfBitsRemoved\u001b[38;5;241m=\u001b[39m\u001b[38;5;241m1\u001b[39m,numberType\u001b[38;5;241m=\u001b[39m\u001b[38;5;124m\"\u001b[39m\u001b[38;5;124mint\u001b[39m\u001b[38;5;124m\"\u001b[39m)\n\u001b[0;32m     12\u001b[0m \u001b[38;5;28mprint\u001b[39m(\u001b[38;5;124mf\u001b[39m\u001b[38;5;124m\"\u001b[39m\u001b[38;5;124mInitial state: \u001b[39m\u001b[38;5;132;01m{\u001b[39;00m\u001b[38;5;28mstr\u001b[39m(register)\u001b[38;5;132;01m}\u001b[39;00m\u001b[38;5;124m\"\u001b[39m)\n\u001b[1;32m---> 14\u001b[0m \u001b[43mregister\u001b[49m\u001b[38;5;241;43m.\u001b[39;49m\u001b[43mapplySingleQubitProduct\u001b[49m\u001b[43m(\u001b[49m\u001b[43mnp\u001b[49m\u001b[38;5;241;43m.\u001b[39;49m\u001b[43marray\u001b[49m\u001b[43m(\u001b[49m\u001b[43m[\u001b[49m\u001b[43m[\u001b[49m\u001b[38;5;241;43m1\u001b[39;49m\u001b[43m,\u001b[49m\u001b[38;5;241;43m1\u001b[39;49m\u001b[43m]\u001b[49m\u001b[43m,\u001b[49m\u001b[43m[\u001b[49m\u001b[38;5;241;43m1\u001b[39;49m\u001b[43m,\u001b[49m\u001b[38;5;241;43m-\u001b[39;49m\u001b[38;5;241;43m1\u001b[39;49m\u001b[43m]\u001b[49m\u001b[43m]\u001b[49m\u001b[43m)\u001b[49m\u001b[38;5;241;43m/\u001b[39;49m\u001b[43mnp\u001b[49m\u001b[38;5;241;43m.\u001b[39;49m\u001b[43msqrt\u001b[49m\u001b[43m(\u001b[49m\u001b[38;5;241;43m2\u001b[39;49m\u001b[43m)\u001b[49m\u001b[43m,\u001b[49m\u001b[38;5;241;43m0\u001b[39;49m\u001b[43m,\u001b[49m\u001b[43mpsiAcc\u001b[49m\u001b[43m)\u001b[49m\n\u001b[0;32m     16\u001b[0m \u001b[38;5;28mprint\u001b[39m(\u001b[38;5;124mf\u001b[39m\u001b[38;5;124m\"\u001b[39m\u001b[38;5;124mH applied: \u001b[39m\u001b[38;5;132;01m{\u001b[39;00m\u001b[38;5;28mstr\u001b[39m(register)\u001b[38;5;132;01m}\u001b[39;00m\u001b[38;5;124m\"\u001b[39m)\n\u001b[0;32m     18\u001b[0m \u001b[38;5;28;01mfor\u001b[39;00m i \u001b[38;5;129;01min\u001b[39;00m \u001b[38;5;28mrange\u001b[39m(psiAcc): \u001b[38;5;66;03m#I think this is wrong\u001b[39;00m\n",
      "File \u001b[1;32mC:\\workspace\\git-repos\\physics-projects\\quantum-algorithms\\register.py:63\u001b[0m, in \u001b[0;36mRegister.applySingleQubitProduct\u001b[1;34m(self, op, start, stop)\u001b[0m\n\u001b[0;32m     61\u001b[0m     \u001b[38;5;28;01melse\u001b[39;00m:\n\u001b[0;32m     62\u001b[0m         registerOp \u001b[38;5;241m=\u001b[39m np\u001b[38;5;241m.\u001b[39mkron(registerOp, np\u001b[38;5;241m.\u001b[39meye(\u001b[38;5;241m2\u001b[39m,dtype\u001b[38;5;241m=\u001b[39mnp\u001b[38;5;241m.\u001b[39mcomplex_))\n\u001b[1;32m---> 63\u001b[0m \u001b[38;5;28mself\u001b[39m\u001b[38;5;241m.\u001b[39mregister \u001b[38;5;241m=\u001b[39m \u001b[43mregisterOp\u001b[49m\u001b[43m \u001b[49m\u001b[38;5;241;43m@\u001b[39;49m\u001b[43m \u001b[49m\u001b[38;5;28;43mself\u001b[39;49m\u001b[38;5;241;43m.\u001b[39;49m\u001b[43mregister\u001b[49m\n",
      "\u001b[1;31mValueError\u001b[0m: matmul: Input operand 1 has a mismatch in its core dimension 0, with gufunc signature (n?,k),(k,m?)->(n?,m?) (size 256 is different from 32)"
     ]
    }
   ],
   "source": [
    "print(f\"12 is factorized to: {shor(12,5,4,6,4)}\") "
   ]
  },
  {
   "cell_type": "code",
   "execution_count": null,
   "metadata": {},
   "outputs": [
    {
     "name": "stdout",
     "output_type": "stream",
     "text": [
      "21 is factorized to: failed\n"
     ]
    }
   ],
   "source": [
    "#should fail\n",
    "print(f\"21 is factorized to: {shor(21,5,4,6,4)}\") "
   ]
  },
  {
   "cell_type": "markdown",
   "metadata": {},
   "source": [
    "# References\n",
    "\n",
    "Vedral, V., 2013. Introduction to Quantum Information Science. Oxford: Oxford University Press.\n",
    "\n",
    "Lynn, B., 2000. Euclid's Algorithm. [Online] \n",
    "Available at: https://crypto.stanford.edu/pbc/notes/numbertheory/euclid.html\n",
    "[Accessed 27 August 2024].\n",
    "\n",
    "Shor, P., 1996. Polynomial-Time Algorithms for Prime Factorization and Discrete Logarithms on a Quantum Computer. \n",
    "\n",
    "\n",
    "\n"
   ]
  },
  {
   "cell_type": "markdown",
   "metadata": {},
   "source": []
  }
 ],
 "metadata": {
  "kernelspec": {
   "display_name": ".venv",
   "language": "python",
   "name": "python3"
  },
  "language_info": {
   "codemirror_mode": {
    "name": "ipython",
    "version": 3
   },
   "file_extension": ".py",
   "mimetype": "text/x-python",
   "name": "python",
   "nbconvert_exporter": "python",
   "pygments_lexer": "ipython3",
   "version": "3.8.10"
  }
 },
 "nbformat": 4,
 "nbformat_minor": 2
}
