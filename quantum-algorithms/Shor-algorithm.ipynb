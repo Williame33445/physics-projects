{
 "cells": [
  {
   "cell_type": "code",
   "execution_count": 203,
   "metadata": {},
   "outputs": [],
   "source": [
    "import numpy as np"
   ]
  },
  {
   "cell_type": "code",
   "execution_count": 204,
   "metadata": {},
   "outputs": [],
   "source": [
    "# |0> = [1,0], |1> = [0,1], kronecker product used to form composite state basis\n",
    "H = np.array([[1,1],[1,-1]])/np.sqrt(2)"
   ]
  },
  {
   "cell_type": "code",
   "execution_count": 205,
   "metadata": {},
   "outputs": [],
   "source": [
    "def tensorProduct(lst):\n",
    "    \"\"\"\n",
    "    Given a list of numpy arrays (or lists) finds the total tensor product \n",
    "    \"\"\"\n",
    "    prod = np.array(lst[0],dtype=np.complex_)\n",
    "    for l in lst[1:]:\n",
    "        prod = np.kron(prod,np.array(l,dtype=np.complex_))\n",
    "    return prod\n",
    "\n",
    "def getState(i,n):\n",
    "    \"\"\"\n",
    "    Gets the state corresponding to i in the binary convention (with n bits)\n",
    "    \"\"\"\n",
    "    i = format(i,\"b\")\n",
    "    \n",
    "    if n-len(i) >= 0:\n",
    "        s = tensorProduct([np.array([1,0]) for j in range(n-len(i))])\n",
    "    else:\n",
    "        i = i[:n]\n",
    "        s = 1\n",
    "\n",
    "    for d in i:\n",
    "        if d == \"0\":\n",
    "            s = np.kron(s,np.array([1,0]))\n",
    "        elif d == \"1\":\n",
    "            s = np.kron(s,np.array([0,1]))\n",
    "    return s\n",
    "\n",
    "def getNumber(s): \n",
    "    \"\"\"\n",
    "    Function that finds the associated number for a qubit tensor product state. \n",
    "    \"\"\"\n",
    "    N = s.shape[0]\n",
    "    n = int(np.log2(N))\n",
    "    for i in range(n):\n",
    "        if np.allclose(getState(i,n) @ s, 1):\n",
    "            return i\n",
    "\n",
    "def extendOperator(A,i,n):\n",
    "    \"\"\"\n",
    "    Takes a qubit operator and extends it to a n qubit space, the operator created acts on the ith tensor product.\n",
    "    \"\"\"\n",
    "    return tensorProduct([np.eye(2) if j != i else A for j in range(n)])"
   ]
  },
  {
   "cell_type": "code",
   "execution_count": 206,
   "metadata": {},
   "outputs": [],
   "source": [
    "def invQFT(f):\n",
    "    \"\"\"\n",
    "    Performs inverse quantum fourier transform on qubit states.\n",
    "    \"\"\"\n",
    "\n",
    "    N = f.shape[0]\n",
    "    n = int(np.log2(N))\n",
    "    fInv = f\n",
    "\n",
    "    for i in range(n): \n",
    "        for k in range(2,n-i):\n",
    "            cRk = np.eye(2,dtype=np.complex_)\n",
    "            cRk[1,1] = np.exp(-2*np.pi*complex(0,1)/(2**k))\n",
    "            cRkE = extendOperator(cRk,i,n)\n",
    "            fInv = cRkE @ fInv\n",
    "        \n",
    "        #apply H\n",
    "        HE = extendOperator(H,i,n)\n",
    "        fInv = HE @ fInv\n",
    "    \n",
    "    return fInv\n"
   ]
  },
  {
   "cell_type": "code",
   "execution_count": 207,
   "metadata": {},
   "outputs": [
    {
     "name": "stdout",
     "output_type": "stream",
     "text": [
      "2\n"
     ]
    }
   ],
   "source": [
    "#test case for invQFT: 3 qubit system, |2> = |010> state should be the result\n",
    "f = tensorProduct([[1,np.exp(np.pi*complex(0,0.5))],[1,-1],[1,1]])/np.sqrt(8) \n",
    "print(getNumber(invQFT(f)))\n"
   ]
  },
  {
   "cell_type": "code",
   "execution_count": 208,
   "metadata": {},
   "outputs": [],
   "source": [
    "\n",
    "def phaseEstimation(t,U,e): \n",
    "    \"\"\"\n",
    "    Performs phase estimation.\n",
    "\n",
    "    Inputs:\n",
    "    t - accuracy of psi returned\n",
    "    U - unitary matrix\n",
    "    e - normalised ket\n",
    "    \"\"\"\n",
    "    N = U.shape[0]\n",
    "\n",
    "    #cache?\n",
    "    def pow(n,prev=np.eye(N)):\n",
    "        next = U @ prev\n",
    "        if n == 1:\n",
    "            return next\n",
    "        return pow(n-1,next)\n",
    "    \n",
    "\n",
    "    f = tensorProduct([[1,0] for i in range(t)])\n",
    "\n",
    "\n",
    "    for i in range(t):\n",
    "        HE = extendOperator(H,i,t)\n",
    "        f = HE @ f\n",
    "\n",
    "        #apply \n",
    "        Ui = np.eye(2)\n",
    "        Ui[1,1] = e @ pow(2**i) @ e\n",
    "        UiE = extendOperator(Ui,i,t)\n",
    "        f = UiE @ f\n",
    "        \n",
    "    return getNumber(invQFT(f)) #apply inverse QFT\n"
   ]
  },
  {
   "cell_type": "code",
   "execution_count": 209,
   "metadata": {},
   "outputs": [
    {
     "data": {
      "text/plain": [
       "0"
      ]
     },
     "execution_count": 209,
     "metadata": {},
     "output_type": "execute_result"
    }
   ],
   "source": [
    "#test for phase esimation, identity matrix, result should be 1\n",
    "U1 = np.array([[1,0],[0,1]])\n",
    "e1 = np.array([1,0])\n",
    "phaseEstimation(2,U1,e1)"
   ]
  },
  {
   "cell_type": "code",
   "execution_count": 210,
   "metadata": {},
   "outputs": [],
   "source": [
    "\n",
    "\n",
    "\n",
    "def findOrder(a,N,n,m,t): \n",
    "    \"\"\"\n",
    "    a - some int (will be removed as a parameter eventually)\n",
    "    N - number of qubits used \n",
    "    n - number to be factorized \n",
    "    m - number of common factors found\n",
    "    \"\"\"\n",
    "    #use basis |0> = [1,0,0,..], |1> = [0,1,0,..], ...\n",
    "    #define U_a\n",
    "    U_a = np.zeros([2**N,2**N])\n",
    "    for i in range(2**N):\n",
    "        for j in range(2**N):\n",
    "            if i == a*j % n:\n",
    "                U_a[i,j] = 1\n",
    "    \n",
    "    #in the actual algorithm |1> is plugged in, however due to model QM problablities the eigenstate is randomly chosen\n",
    "    eigenVal, eigenVec = np.linalg.eig(U_a)\n",
    "    rs = np.empty(m) \n",
    "    for i in range(m):\n",
    "        index = np.random.randint(0,high=2**N)\n",
    "        rs[i] = index/phaseEstimation(t,U_a,eigenVec[index])\n",
    "        \n",
    "    #find LCM\n",
    "    R = np.lcm.reduce(rs)\n",
    "    \n",
    "    return R\n",
    "\n",
    "    "
   ]
  },
  {
   "cell_type": "code",
   "execution_count": null,
   "metadata": {},
   "outputs": [],
   "source": []
  }
 ],
 "metadata": {
  "kernelspec": {
   "display_name": ".venv",
   "language": "python",
   "name": "python3"
  },
  "language_info": {
   "codemirror_mode": {
    "name": "ipython",
    "version": 3
   },
   "file_extension": ".py",
   "mimetype": "text/x-python",
   "name": "python",
   "nbconvert_exporter": "python",
   "pygments_lexer": "ipython3",
   "version": "3.8.10"
  }
 },
 "nbformat": 4,
 "nbformat_minor": 2
}
