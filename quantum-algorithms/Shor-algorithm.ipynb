{
 "cells": [
  {
   "cell_type": "code",
   "execution_count": 11,
   "metadata": {},
   "outputs": [],
   "source": [
    "import numpy as np\n",
    "import itertools"
   ]
  },
  {
   "cell_type": "code",
   "execution_count": 12,
   "metadata": {},
   "outputs": [],
   "source": [
    "# |0> = [1,0], |1> = [0,1]\n",
    "H = np.array([[1,1],[1,-1]])/np.sqrt(2)"
   ]
  },
  {
   "cell_type": "code",
   "execution_count": 13,
   "metadata": {},
   "outputs": [],
   "source": [
    "def invQFT(f):\n",
    "    \"\"\"\n",
    "    Performs inverse quantum fourier transform on a tensor products of qubit states.\n",
    "\n",
    "    Intputs:\n",
    "    f - tensor product of qubit states, in form [[qubit 1 state], [qubit 2 state], ...]\n",
    "    \"\"\"\n",
    "\n",
    "    N = f.shape[0]\n",
    "    fInv = np.empty([N,2],dtype=np.complex_)\n",
    "    fInv[-1] = H @ f[-1]\n",
    "\n",
    "    for i in reversed(range(N-1)): \n",
    "        s = f[i]\n",
    "        for k in range(i+1,N):\n",
    "            if np.allclose(fInv[k],np.array([0,1])):\n",
    "                s[1] *= np.exp(-2*np.pi*complex(0,1)/(2**(k+1)))\n",
    "        s = H @ s\n",
    "        fInv[i] = s\n",
    "    \n",
    "    return fInv\n"
   ]
  },
  {
   "cell_type": "code",
   "execution_count": 14,
   "metadata": {},
   "outputs": [],
   "source": [
    "def findNumber(s): #rename to convert from binary\n",
    "    \"\"\"\n",
    "    Function that finds the associated number for a qubit tensor product state. \n",
    "    \"\"\"\n",
    "    binaryForm = np.empty(s.shape[0])\n",
    "    for i,ket in enumerate(s):\n",
    "        if np.allclose(ket,np.array([1,0])):\n",
    "            binaryForm[i] = 0\n",
    "        elif np.allclose(ket,np.array([0,1])):\n",
    "            binaryForm[i] = 1\n",
    "        else:\n",
    "            print(\"error\")\n",
    "    \n",
    "    number = sum([b*2**i for i,b in enumerate(np.flip(binaryForm))])\n",
    "    return number\n",
    "\n",
    "        "
   ]
  },
  {
   "cell_type": "code",
   "execution_count": 15,
   "metadata": {},
   "outputs": [
    {
     "name": "stdout",
     "output_type": "stream",
     "text": [
      "2.0\n"
     ]
    }
   ],
   "source": [
    "#test case for invQFT: 3 qubit system, |2> = |010> state should be the result\n",
    "invf = np.array([[1,complex(0,1)],[1,-1],[1,1]])/np.sqrt(2) \n",
    "print(findNumber(invQFT(invf)))"
   ]
  },
  {
   "cell_type": "code",
   "execution_count": 16,
   "metadata": {},
   "outputs": [
    {
     "name": "stdout",
     "output_type": "stream",
     "text": [
      "1.0\n"
     ]
    }
   ],
   "source": [
    "f = [np.array([1,complex(0,1)]),np.array([1,-1])]/np.sqrt(2)\n",
    "print(findNumber(invQFT(f))) #should be 1"
   ]
  },
  {
   "cell_type": "code",
   "execution_count": 17,
   "metadata": {},
   "outputs": [],
   "source": [
    "\n",
    "def phaseEstimation(t,U,e): #reversed to tensor product convention used in QFT\n",
    "    \"\"\"\n",
    "    Performs phase estimation.\n",
    "\n",
    "    Inputs:\n",
    "    t - accuracy of psi returned\n",
    "    U - unitary matrix\n",
    "    e - normalised ket\n",
    "    \"\"\"\n",
    "    N = U.shape[0]\n",
    "\n",
    "    def pow(n,prev=np.identity(N)):\n",
    "        next = U @ prev\n",
    "        if n == 1:\n",
    "            return next\n",
    "        return pow(n-1,next)\n",
    "    \n",
    "\n",
    "    f = np.zeros([t,2],dtype=np.complex_)\n",
    "\n",
    "    for i in range(t):\n",
    "        s = np.array([1,0],dtype=np.complex_)\n",
    "        s = H @ s\n",
    "\n",
    "        #apply U^2^i\n",
    "        s[1] *= e @ pow(2**i) @ e\n",
    "        \n",
    "        f[i] = s\n",
    "    \n",
    "    finvQFT = invQFT(f)\n",
    "    phase = findNumber(finvQFT)/2**t #from relating the phase and result of inv QFT \n",
    "\n",
    "    return phase\n"
   ]
  },
  {
   "cell_type": "code",
   "execution_count": 18,
   "metadata": {},
   "outputs": [
    {
     "data": {
      "text/plain": [
       "0.0"
      ]
     },
     "execution_count": 18,
     "metadata": {},
     "output_type": "execute_result"
    }
   ],
   "source": [
    "#test for phase esimation, identity matrix, result should be 0\n",
    "U1 = np.array([[1,0],[0,1]])\n",
    "e1 = np.array([1,0],dtype=np.complex_)\n",
    "phaseEstimation(3,U1,e1)"
   ]
  },
  {
   "cell_type": "code",
   "execution_count": 19,
   "metadata": {},
   "outputs": [
    {
     "data": {
      "text/plain": [
       "0.25"
      ]
     },
     "execution_count": 19,
     "metadata": {},
     "output_type": "execute_result"
    }
   ],
   "source": [
    "U2 = np.array([[complex(0,1),0],[0,1]])\n",
    "e2 = np.array([1,0],dtype=np.complex_)\n",
    "T = 4\n",
    "phaseEstimation(T,U2,e2)"
   ]
  },
  {
   "cell_type": "code",
   "execution_count": 20,
   "metadata": {},
   "outputs": [],
   "source": [
    "def shor(N,qNum,phaseAttempts,orderAttempts,psiAcc):\n",
    "    HDim = 2**qNum\n",
    "\n",
    "    for i in range(orderAttempts):\n",
    "        print(i)\n",
    "        a = np.random.randint(2,high=N)\n",
    "        K = np.gcd(a,N)\n",
    "        if K != 1:\n",
    "            return N/K,K\n",
    "        \n",
    "        #find U_a matrix\n",
    "        U_a = np.zeros([HDim,HDim],dtype=np.complex_)\n",
    "        for j,k in itertools.product(range(HDim), repeat=2):\n",
    "            if j == a*k % N:\n",
    "                U_a[j,k] = 1\n",
    "        \n",
    "        #random number generator models quantum probablities\n",
    "        eigenVal, eigenVec = np.linalg.eig(U_a)\n",
    "        rs = []\n",
    "        print(\"got\")\n",
    "        for l in range(phaseAttempts):\n",
    "            index = np.random.randint(0,high=HDim)\n",
    "            print(eigenVal[index])\n",
    "            phaseEst = getNumber(phaseEstimation(psiAcc,U_a,eigenVec[index]))\n",
    "            print(phaseEst)\n",
    "            if phaseEst != None:\n",
    "                rs.append(index/phaseEst)\n",
    "        if rs == []:\n",
    "            continue\n",
    "\n",
    "        R = np.lcm.reduce(rs)\n",
    "        print(\"got here\")\n",
    "\n",
    "        if R % 2 == 0:\n",
    "            g = np.gcd(a**(R/2) + 1,N)\n",
    "            if g != 1:\n",
    "                return N/g, g\n",
    "            \n",
    "    return \"failed to factorize\"\n"
   ]
  },
  {
   "cell_type": "code",
   "execution_count": 21,
   "metadata": {},
   "outputs": [
    {
     "name": "stdout",
     "output_type": "stream",
     "text": [
      "0\n"
     ]
    },
    {
     "data": {
      "text/plain": [
       "(7.0, 5)"
      ]
     },
     "execution_count": 21,
     "metadata": {},
     "output_type": "execute_result"
    }
   ],
   "source": [
    "shor(35,3,5,10,5)"
   ]
  }
 ],
 "metadata": {
  "kernelspec": {
   "display_name": ".venv",
   "language": "python",
   "name": "python3"
  },
  "language_info": {
   "codemirror_mode": {
    "name": "ipython",
    "version": 3
   },
   "file_extension": ".py",
   "mimetype": "text/x-python",
   "name": "python",
   "nbconvert_exporter": "python",
   "pygments_lexer": "ipython3",
   "version": "3.8.10"
  }
 },
 "nbformat": 4,
 "nbformat_minor": 2
}
