{
 "cells": [
  {
   "cell_type": "code",
   "execution_count": 31,
   "metadata": {},
   "outputs": [],
   "source": [
    "import numpy as np\n",
    "import functools\n"
   ]
  },
  {
   "cell_type": "code",
   "execution_count": 32,
   "metadata": {},
   "outputs": [],
   "source": [
    "\n",
    "\n",
    "# |0> = [1,0], |1> = [0,1]\n",
    "H = np.array([[1,1],[1,-1]])/np.sqrt(2)\n",
    "\n",
    "def phaseEstimation(t,U,e): \n",
    "    \"\"\"\n",
    "    Performs phase estimation.\n",
    "\n",
    "    Inputs:\n",
    "    t - accuracy of psi returned\n",
    "    U - unitary matrix\n",
    "    e - normalised ket\n",
    "    \"\"\"\n",
    "    N = U.shape[0]\n",
    "\n",
    "    @functools.lru_cache(maxsize=N)\n",
    "    def pow(n,prev=np.identity(N)):\n",
    "        next = U @ prev\n",
    "        if n == 1:\n",
    "            return next\n",
    "        return pow(U,n-1,next)\n",
    "\n",
    "    f = np.zeros([t,2])\n",
    "\n",
    "    for i in range(t):\n",
    "        s = np.array([1,0])\n",
    "        s = H @ s\n",
    "\n",
    "        #apply \n",
    "        s[1] *= e @ pow(2**i) @ e\n",
    "        f[t-1-i] = s\n",
    "\n",
    "    return f #apply inverse QFT\n"
   ]
  },
  {
   "cell_type": "code",
   "execution_count": 100,
   "metadata": {},
   "outputs": [],
   "source": [
    "def invQFT(f):\n",
    "    \"\"\"\n",
    "    Performs inverse quantum fourier transform on a tensor products of qubit states.\n",
    "\n",
    "    Intputs:\n",
    "    f - tensor product of qubit states, in form [[qubit 1 state], [qubit 2 state], ...]\n",
    "    \"\"\"\n",
    "\n",
    "    N = f.shape[0]\n",
    "    fInv = np.empty([N,2],dtype=np.complex_)\n",
    "\n",
    "    for i in range(N): \n",
    "        s = f[i]\n",
    "        for k in range(2,N+1-i):\n",
    "            s[1] *= np.exp(-2*np.pi*complex(0,1)/(2**k))\n",
    "        s = H @ s\n",
    "        fInv[i] = s\n",
    "    \n",
    "    return fInv\n"
   ]
  },
  {
   "cell_type": "code",
   "execution_count": 101,
   "metadata": {},
   "outputs": [],
   "source": [
    "def findNumber(s):\n",
    "    \"\"\"\n",
    "    Function that finds the associated number for a qubit tensor product state. \n",
    "    \"\"\"\n",
    "    binaryForm = np.empty(s.shape[0])\n",
    "    for i,ket in enumerate(s):\n",
    "        if np.allclose(ket,np.array([1,0])):\n",
    "            binaryForm[i] = 0\n",
    "        elif np.allclose(ket,np.array([0,1])):\n",
    "            binaryForm[i] = 1\n",
    "        else:\n",
    "            print(\"error\")\n",
    "    \n",
    "    number = sum([b*2**i for i,b in enumerate(np.flip(binaryForm))])\n",
    "    return number\n",
    "\n",
    "        "
   ]
  },
  {
   "cell_type": "code",
   "execution_count": 102,
   "metadata": {},
   "outputs": [
    {
     "name": "stdout",
     "output_type": "stream",
     "text": [
      "2.0\n"
     ]
    }
   ],
   "source": [
    "#test case for invQFT: 3 qubit system, |2> = |010> state should be the result\n",
    "invf = np.array([[1/np.sqrt(2),complex(-1,1)/2],[1/np.sqrt(2),-complex(0,1)/np.sqrt(2)],[1/np.sqrt(2),1/np.sqrt(2)]]) \n",
    "print(findNumber(invQFT(invf)))"
   ]
  },
  {
   "cell_type": "code",
   "execution_count": null,
   "metadata": {},
   "outputs": [],
   "source": []
  },
  {
   "cell_type": "code",
   "execution_count": null,
   "metadata": {},
   "outputs": [],
   "source": []
  }
 ],
 "metadata": {
  "kernelspec": {
   "display_name": ".venv",
   "language": "python",
   "name": "python3"
  },
  "language_info": {
   "codemirror_mode": {
    "name": "ipython",
    "version": 3
   },
   "file_extension": ".py",
   "mimetype": "text/x-python",
   "name": "python",
   "nbconvert_exporter": "python",
   "pygments_lexer": "ipython3",
   "version": "3.8.10"
  }
 },
 "nbformat": 4,
 "nbformat_minor": 2
}
