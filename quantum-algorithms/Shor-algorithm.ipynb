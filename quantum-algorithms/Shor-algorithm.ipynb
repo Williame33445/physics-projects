{
 "cells": [
  {
   "cell_type": "code",
   "execution_count": 449,
   "metadata": {},
   "outputs": [],
   "source": [
    "import numpy as np\n",
    "import itertools"
   ]
  },
  {
   "cell_type": "code",
   "execution_count": 450,
   "metadata": {},
   "outputs": [],
   "source": [
    "# |0> = [1,0], |1> = [0,1], kronecker product used to form composite state basis\n",
    "H = np.array([[1,1],[1,-1]])/np.sqrt(2)"
   ]
  },
  {
   "cell_type": "code",
   "execution_count": 451,
   "metadata": {},
   "outputs": [],
   "source": [
    "def tensorProduct(lst):\n",
    "    \"\"\"\n",
    "    Given a list of numpy arrays (or lists) finds the total tensor product \n",
    "    \"\"\"\n",
    "    prod = np.array(lst[0],dtype=np.complex_)\n",
    "    for l in lst[1:]:\n",
    "        prod = np.kron(prod,np.array(l,dtype=np.complex_))\n",
    "    return prod\n",
    "\n",
    "def getState(i,qNum): #better name\n",
    "    \"\"\"\n",
    "    Gets the state corresponding to i in the binary convention (with n bits)\n",
    "    \"\"\"\n",
    "    i = format(i,\"b\")\n",
    "    \n",
    "    if qNum-len(i) >= 0:\n",
    "        s = tensorProduct([np.array([1,0]) for j in range(qNum-len(i))])\n",
    "    else:\n",
    "        i = i[:qNum]\n",
    "        s = 1\n",
    "\n",
    "    for d in i:\n",
    "        if d == \"0\":\n",
    "            s = np.kron(s,np.array([1,0]))\n",
    "        elif d == \"1\":\n",
    "            s = np.kron(s,np.array([0,1]))\n",
    "    return s\n",
    "\n",
    "def getNumber(s): \n",
    "    \"\"\"\n",
    "    Function that finds the associated number for a qubit tensor product state. \n",
    "    \"\"\"\n",
    "    HDim = s.shape[0]\n",
    "    qNum = int(np.log2(HDim))\n",
    "    for i in range(qNum):\n",
    "        if np.allclose(getState(i,qNum) @ s, 1):\n",
    "            return i\n",
    "    \n",
    "def extendOperator(A,i,qNum):\n",
    "    \"\"\"\n",
    "    Takes a qubit operator and extends it to a n qubit space, the operator created acts on the ith tensor product.\n",
    "    \"\"\"\n",
    "    return tensorProduct([np.eye(2) if j != i else A for j in range(qNum)])"
   ]
  },
  {
   "cell_type": "code",
   "execution_count": 452,
   "metadata": {},
   "outputs": [],
   "source": [
    "def invQFT(f):\n",
    "    \"\"\"\n",
    "    Performs inverse quantum fourier transform on qubit states.\n",
    "    \"\"\"\n",
    "\n",
    "    HDim = f.shape[0]\n",
    "    qNum = int(np.log2(HDim))\n",
    "    fInv = f\n",
    "\n",
    "    for i in range(qNum): \n",
    "        for k in range(2,qNum-i):\n",
    "            cRk = np.eye(2,dtype=np.complex_)\n",
    "            cRk[1,1] = np.exp(-2*np.pi*complex(0,1)/(2**k))\n",
    "            cRkE = extendOperator(cRk,i,qNum)\n",
    "            fInv = cRkE @ fInv\n",
    "        \n",
    "        #apply H\n",
    "        HE = extendOperator(H,i,qNum)\n",
    "        fInv = HE @ fInv\n",
    "    \n",
    "    return fInv\n"
   ]
  },
  {
   "cell_type": "code",
   "execution_count": 453,
   "metadata": {},
   "outputs": [
    {
     "name": "stdout",
     "output_type": "stream",
     "text": [
      "2\n"
     ]
    }
   ],
   "source": [
    "#test case for invQFT: 3 qubit system, |2> = |010> state should be the result\n",
    "f = tensorProduct([[1,np.exp(np.pi*complex(0,0.5))],[1,-1],[1,1]])/np.sqrt(8) \n",
    "print(getNumber(invQFT(f)))\n"
   ]
  },
  {
   "cell_type": "code",
   "execution_count": 454,
   "metadata": {},
   "outputs": [],
   "source": [
    "\n",
    "def phaseEstimation(t,U,e): \n",
    "    \"\"\"\n",
    "    Performs phase estimation.\n",
    "\n",
    "    Inputs:\n",
    "    t - accuracy of psi returned\n",
    "    U - unitary matrix\n",
    "    e - normalised ket\n",
    "    \"\"\"\n",
    "    HDim = U.shape[0]\n",
    "\n",
    "    def pow(n,prev=np.eye(HDim)):\n",
    "        next = U @ prev\n",
    "        if n == 1:\n",
    "            return next\n",
    "        return pow(n-1,next)\n",
    "    \n",
    "    f = tensorProduct([[1,0] for i in range(t)])\n",
    "\n",
    "\n",
    "    for i in range(t):\n",
    "        HE = extendOperator(H,i,t)\n",
    "        f = HE @ f\n",
    "\n",
    "        #apply \n",
    "        Ui = np.eye(2,dtype=np.complex_)\n",
    "        Ui[1,1] = e @ pow(2**i) @ e\n",
    "        UiE = extendOperator(Ui,i,t)\n",
    "        f = UiE @ f\n",
    "        \n",
    "    return invQFT(f) #apply inverse QFT\n"
   ]
  },
  {
   "cell_type": "code",
   "execution_count": 455,
   "metadata": {},
   "outputs": [
    {
     "data": {
      "text/plain": [
       "0"
      ]
     },
     "execution_count": 455,
     "metadata": {},
     "output_type": "execute_result"
    }
   ],
   "source": [
    "#test for phase esimation, identity matrix, result should be 0\n",
    "U1 = np.array([[1,0],[0,1]])\n",
    "e1 = np.array([1,0])\n",
    "getNumber(phaseEstimation(2,U1,e1))"
   ]
  },
  {
   "cell_type": "code",
   "execution_count": 456,
   "metadata": {},
   "outputs": [],
   "source": [
    "def shor(N,qNum,phaseAttempts,orderAttempts,psiAcc):\n",
    "    HDim = 2**qNum\n",
    "\n",
    "    for i in range(orderAttempts):\n",
    "        a = np.random.randint(2,high=N)\n",
    "        K = np.gcd(a,N)\n",
    "        if K != 1:\n",
    "            return N/K,K\n",
    "        \n",
    "        #find U_a matrix\n",
    "        U_a = np.zeros([HDim,HDim],dtype=np.complex_)\n",
    "        for j,k in itertools.product(range(HDim), repeat=2):\n",
    "            if j == a*k % N:\n",
    "                U_a[j,k] = 1\n",
    "        \n",
    "        #random number generator models quantum probablities\n",
    "        eigenVal, eigenVec = np.linalg.eig(U_a) #need to change to |1> thing\n",
    "        rs = []\n",
    "        for l in range(phaseAttempts):\n",
    "            index = np.random.randint(0,high=HDim)\n",
    "            phaseEst = getNumber(phaseEstimation(psiAcc,U_a,eigenVec[index]))\n",
    "            if phaseEst != None:\n",
    "                rs.append(index/phaseEst)\n",
    "        \n",
    "        if rs == []:\n",
    "            continue\n",
    "\n",
    "        R = np.lcm.reduce(rs)\n",
    "\n",
    "        if R % 2 == 0:\n",
    "            g = np.gcd(a**(R/2) + 1,N)\n",
    "            if g != 1:\n",
    "                return N/g, g\n",
    "            \n",
    "    return \"failed to factorize\"\n"
   ]
  },
  {
   "cell_type": "code",
   "execution_count": 457,
   "metadata": {},
   "outputs": [
    {
     "data": {
      "text/plain": [
       "(6.0, 2)"
      ]
     },
     "execution_count": 457,
     "metadata": {},
     "output_type": "execute_result"
    }
   ],
   "source": [
    "shor(12,5,5,10,5)"
   ]
  },
  {
   "cell_type": "code",
   "execution_count": null,
   "metadata": {},
   "outputs": [],
   "source": []
  },
  {
   "cell_type": "code",
   "execution_count": null,
   "metadata": {},
   "outputs": [],
   "source": []
  }
 ],
 "metadata": {
  "kernelspec": {
   "display_name": ".venv",
   "language": "python",
   "name": "python3"
  },
  "language_info": {
   "codemirror_mode": {
    "name": "ipython",
    "version": 3
   },
   "file_extension": ".py",
   "mimetype": "text/x-python",
   "name": "python",
   "nbconvert_exporter": "python",
   "pygments_lexer": "ipython3",
   "version": "3.8.10"
  }
 },
 "nbformat": 4,
 "nbformat_minor": 2
}
