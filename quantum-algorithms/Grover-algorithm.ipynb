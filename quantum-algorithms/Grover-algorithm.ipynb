{
 "cells": [
  {
   "cell_type": "markdown",
   "metadata": {},
   "source": [
    "# Grover algorithm\n",
    "\n",
    "This notebook is part of a set of notebooks on different quantum algorithms. The main source of these notes is Introduction to Quantum Information Science by Vlatko Vedral.\n",
    "\n",
    "## Purpose  \n",
    "\n",
    "The purpose of the Grover algorithm is to deduce the value of i where $f(i) = 1$. The function $f(i)$ has a domain $\\{0,1,...,N \\}$ and is defined in $(1)$.\n",
    "\n",
    "$$ f(i) =  \\left\\{\n",
    "\\begin{array}{ll}\n",
    "      0 & i\\neq x \\\\\n",
    "      1 & i=x \\\\\n",
    "\\end{array} \n",
    "\\right. \\tag{1}\n",
    "$$\n",
    "\n",
    "## Algorithm\n",
    "\n",
    "The algorithm considers $n = \\log_2(N)$ qubits and a basis $\\{\\ket{0},\\ket{1},...,\\ket{N} \\}$ where $\\ket{0} = \\ket{00...0}$, $\\ket{1} = \\ket{10...0}$, ect. The inital state of the system is given by $(2)$.\n",
    "\n",
    "$$\\ket{\\psi} = \\sum^N_{i=1}\\frac{1}{\\sqrt{N}}\\ket{i}\\tag{2}$$\n",
    "\n",
    "The (approximate) ket labelled $x$ is then deduced by the transform given in $(3)$.\n",
    "\n",
    "$$\\ket{\\psi^T} = (\\hat{U}\\hat{O_x})^T\\ket{\\psi}\\tag{3}$$\n",
    "\n",
    "where $T = \\frac{\\pi\\sqrt{N}}{4} -1$, $\\hat{U} = \\hat{I} - 2\\ket{\\psi}\\bra{\\psi}$, $\\hat{O_x} = \\hat{I} - 2\\ket{x}\\bra{x}$ \n",
    "\n",
    "For an explanation of why this method works see Vedral.\n",
    "\n",
    "## Implementation\n",
    "\n",
    "The code bellow implements the algorithm and applies it to a test case."
   ]
  },
  {
   "cell_type": "code",
   "execution_count": 1,
   "metadata": {},
   "outputs": [],
   "source": [
    "import numpy as np"
   ]
  },
  {
   "cell_type": "code",
   "execution_count": 24,
   "metadata": {},
   "outputs": [],
   "source": [
    "def grover(O_x,N):\n",
    "    T = int(np.round(np.pi*np.sqrt(N)/4 - 1))\n",
    "    psi = np.ones(N)/np.sqrt(N)\n",
    "    U =  np.identity(N) - 2*np.ones([N,N])/N\n",
    "\n",
    "    UO_x = U @ O_x\n",
    "    for i in range(T):\n",
    "        psi = UO_x @ psi\n",
    "\n",
    "    print(f\"x occurs at: {np.argmax(psi)}\")\n",
    "    print(f\"Number of iterations: {T}\")\n",
    "    print(f\"Max classical number required: {N}\")\n"
   ]
  },
  {
   "cell_type": "code",
   "execution_count": 27,
   "metadata": {},
   "outputs": [
    {
     "name": "stdout",
     "output_type": "stream",
     "text": [
      "x occurs at: 50\n",
      "Number of iterations: 24\n",
      "Max classical number required: 1024\n"
     ]
    }
   ],
   "source": [
    "testN = 2**10\n",
    "testx = 50\n",
    "testO_x = np.identity(testN)\n",
    "testO_x[testx,testx] -= 2\n",
    "grover(testO_x,testN)"
   ]
  }
 ],
 "metadata": {
  "kernelspec": {
   "display_name": ".venv",
   "language": "python",
   "name": "python3"
  },
  "language_info": {
   "codemirror_mode": {
    "name": "ipython",
    "version": 3
   },
   "file_extension": ".py",
   "mimetype": "text/x-python",
   "name": "python",
   "nbconvert_exporter": "python",
   "pygments_lexer": "ipython3",
   "version": "3.8.10"
  }
 },
 "nbformat": 4,
 "nbformat_minor": 2
}
