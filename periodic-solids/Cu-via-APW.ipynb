{
 "cells": [
  {
   "cell_type": "markdown",
   "metadata": {},
   "source": [
    "# Finding Cu crystal ground state via the Augmented Plane method\n",
    "\n",
    "This project is adapted from Thijssen and uses data taken from Energy Band Structure of Copper by Glenn A. Burdick.\n",
    "\n",
    "## Theory\n",
    "\n",
    "APW is a method for solving the single particle Schrodinger equation in a crystal. It uses the variational principle in the plane wave basis (this is viable due to Bloch's theorem). A basis element for an eigenstate labelled $\\vec{k}$ is:\n",
    "\n",
    "$$\\psi_{\\vec{k} + \\vec{K}} = e^{i(\\vec{k} + \\vec{K})\\cdot\\vec{r}}\\tag{1}$$\n",
    "\n",
    "Due to the size of the potential near the nuclei, the basis set required is too large. APW solves this problem with the Muffin approximation. The equation near the nuclei ($r<R$) is solved exactly and related to the plane waves via boundary conditions at $R$. This allows for the variational method to be applied efficiently. For a full description of the theory see Thijssen. \n",
    "\n",
    "## Implementation\n",
    "\n",
    "The variational equations are not linear, making the problem much harder to solve. In this implementation, a brute force approach has been followed. For a given $\\vec{k}$, a list of energies (mesh) over a certain range is defined; the determinant associated with each of these energies is then found. The energy for $\\vec{k}$ then corresponds to the energy where the determinant changes sign. This approach is not particularly accurate for the size of the mesh considered but it gives the rough band structure.\n",
    "\n",
    "This notebook attempts to apply this method to Cu. The data used for the potential near the nuclei is taken from the paper specified above. The implementation is roughly correct though there may be some errors (it is hard to tell as the root finding method used here isn't very accurate).\n",
    "\n"
   ]
  },
  {
   "cell_type": "code",
   "execution_count": 159,
   "metadata": {},
   "outputs": [],
   "source": [
    "import numpy as np\n",
    "from scipy import special as sp\n",
    "import matplotlib.pyplot as plt\n",
    "from scipy.linalg import eigh\n"
   ]
  },
  {
   "cell_type": "code",
   "execution_count": 224,
   "metadata": {},
   "outputs": [],
   "source": [
    "#constants\n",
    "a = 6.83087\n",
    "vol = 3*(a**3)/4\n",
    "\n",
    "#simulation parameters\n",
    "l_max = 6\n",
    "nLim = 2\n",
    "\n",
    "#recipricol lattice vectors \n",
    "b1 = 2*np.pi*np.array([-1,1,1])/a\n",
    "b2 = 2*np.pi*np.array([1,-1,1])/a\n",
    "b3 = 2*np.pi*np.array([1,1,-1])/a\n",
    "Ks =[l*b1 + m*b2 + n*b3 for l in range(-nLim,nLim+1) for m in range(-nLim,nLim+1) for n in range(-nLim,nLim+1)]\n",
    "\n"
   ]
  },
  {
   "cell_type": "code",
   "execution_count": 230,
   "metadata": {},
   "outputs": [
    {
     "name": "stdout",
     "output_type": "stream",
     "text": [
      "0.62\n"
     ]
    },
    {
     "name": "stderr",
     "output_type": "stream",
     "text": [
      "C:\\Users\\willi\\AppData\\Local\\Temp\\ipykernel_17808\\2650814287.py:20: RuntimeWarning: divide by zero encountered in divide\n",
      "  Vs = -twoZ/(2*rsAll) #factor of 2 is due to units\n"
     ]
    }
   ],
   "source": [
    "#data for potential\n",
    "\n",
    "rsAll = np.array([0,0.005,0.010,0.015,0.020,0.025,0.030,0.035,0.040,\n",
    "              0.050,0.060,0.070,0.080,0.090,0.100,\n",
    "              0.120,0.140,0.160,0.180,0.200,0.220,0.240,0.260,0.280,0.300,\n",
    "              0.340,0.380,0.420,0.460,0.500,0.540,0.580,0.620,0.660,0.700 #32 and 33\n",
    "              ,0.800,0.900,1.00,1.10,1.20, 1.30, 1.40,\n",
    "       1.60, 2.00, 2.40, 2.80])\n",
    "\n",
    "r_max = rsAll[-2]\n",
    "hs = np.array([rsAll[i+1] - rsAll[i] for i in range(len(rsAll)-1)])\n",
    "\n",
    "twoZ = np.array([58.000\n",
    ",57.500,56.206,54.966,53.797,52.688,51.644,50.656,49.720,47.970,46.358,\n",
    "        44.849,43.420,42.060,40.755,38.333,36.140,34.157,32.359,30.741,29.276,27.917,\n",
    "        26.662,25.462,24.264,22.186,20.470,18.851,17.308,15.965,\n",
    "        14.772,13.625,12.631,11.680,10.874,9.099,7.782,\n",
    "        6.749,5.963,5.310,4.778,4.284,3.533,\n",
    "        2.724,2.277,2.629])\n",
    "Vs = -twoZ/(2*rsAll) #factor of 2 is due to units\n"
   ]
  },
  {
   "cell_type": "code",
   "execution_count": 162,
   "metadata": {},
   "outputs": [],
   "source": [
    "#generate A\n",
    "A = np.empty([len(Ks),len(Ks)])\n",
    "for i,K_i in enumerate(Ks):\n",
    "    for j,K_j in enumerate(Ks):\n",
    "        kDiff = np.linalg.norm(K_i-K_j)\n",
    "        if kDiff == 0:\n",
    "            A[i,j] = 1 - 4*np.pi*(r_max**3)/(3*vol)\n",
    "        else:\n",
    "            A[i,j] = -4*np.pi*(r_max**2)*sp.spherical_jn(1,kDiff*r_max)/(vol*kDiff)"
   ]
  },
  {
   "cell_type": "code",
   "execution_count": 163,
   "metadata": {},
   "outputs": [],
   "source": [
    "#code for solution to the muffin part\n",
    "\n",
    "def w(x,t,h,f):\n",
    "    \"\"\"\n",
    "    w function in Numerov's method.\n",
    "    \"\"\"\n",
    "    if x == 0:\n",
    "        return 0\n",
    "    return (1 - f(t)*(h**2)/12)*x\n",
    "\n",
    "def wInv(w,t,h,f):\n",
    "    \"\"\"\n",
    "    Inverse w function in Numerov's method.\n",
    "    \"\"\"\n",
    "    return w/(1 - f(t)*(h**2)/12)\n",
    "\n",
    "\n",
    "def getAllUs(l,E):\n",
    "    \"\"\"\n",
    "    Finds R u and u'.\n",
    "    \"\"\"\n",
    "    def f(r):\n",
    "        \"\"\"\n",
    "        Finds f function for Numerov algorithm.\n",
    "        \"\"\"\n",
    "        if r == 0.6:\n",
    "            return l*(l+1)/r**2 - 2*(E + 21.88)\n",
    "        index = list(rsAll).index(r)\n",
    "        return l*(l+1)/r**2 + 2*(Vs[index] - E)\n",
    "\n",
    "    def getUs(rs,us,h,iLen):\n",
    "        \"\"\"\n",
    "        Runs iLen iterations of Numverov algorithm for rs,us lists (us contains only intial conditions).\n",
    "        \"\"\"\n",
    "        for i in range(2,iLen+2):\n",
    "            w_t = w(us[-1],rs[i-1],h,f)\n",
    "            w_tMinush = w(us[-2],rs[i-2],h,f)\n",
    "            w_rPlush = 2*w_t - w_tMinush + us[i-1]*f(rs[i-1])*(h**2)\n",
    "            us.append(wInv(w_rPlush,rs[i],h,f))\n",
    "        return us\n",
    "    \n",
    "    #runs numerov algorithm for the different values of r (different sections of lists have different size h's)\n",
    "    us1 = getUs(rsAll[:9],[rsAll[0]**(l+1),rsAll[1]**(l+1)],0.005,7)\n",
    "\n",
    "    rs2 = np.insert(rsAll[9:15],0,[rsAll[6],rsAll[8]])\n",
    "    us2 = getUs(rs2,[us1[-3],us1[-1]],0.01,6)\n",
    "\n",
    "    rs3 = np.insert(rsAll[15:25],0,[rsAll[12],rsAll[14]])\n",
    "    us3 = getUs(rs3,[us2[-3],us2[-1]],0.02,10)\n",
    "\n",
    "    rs4 = np.insert(rsAll[25:35],0,[rsAll[22],rsAll[24]])\n",
    "    us4 = getUs(rs4,[us3[-3],us3[-1]],0.04,10)\n",
    "    \n",
    "    uAv = (us4[-4] + us4[-3])/2\n",
    "    rs5 = np.insert(rsAll[35:42],0,[0.6,rsAll[34]])\n",
    "    us5 = getUs(rs5,[uAv,us4[-1]],0.1,7)\n",
    "\n",
    "    rs6 = np.insert(rsAll[42:46],0,[rsAll[37],rsAll[41]])\n",
    "    us6 = getUs(rs6,[us5[-5],us5[-1]],0.4,4)\n",
    "\n",
    "    us = us1 + us2[2:] + us3[2:] + us4[2:] + us5[2:] + us6[2:]\n",
    "    return np.array(us)\n",
    "\n",
    "\n",
    "def getRatio(l,E):\n",
    "    \"\"\"\n",
    "    Finds ratio required for the matrix calculation.\n",
    "    \"\"\"\n",
    "\n",
    "    us = getAllUs(l,E)\n",
    "    usR = us[-2]\n",
    "    uDashR = (us[-1] - us[-3])/(2*0.4)\n",
    "    return uDashR/usR - 1/r_max \n"
   ]
  },
  {
   "cell_type": "code",
   "execution_count": 164,
   "metadata": {},
   "outputs": [],
   "source": [
    "def findDet(k,E):\n",
    "    \"\"\"\n",
    "    Finds variational problem determinant.\n",
    "    \"\"\"\n",
    "\n",
    "    #set up k dependent matricies \n",
    "    B = np.empty([len(Ks),len(Ks)])\n",
    "    C = np.empty([len(Ks),len(Ks),l_max])\n",
    "    qs = [k + K for K in Ks]\n",
    "\n",
    "    #find B and C\n",
    "    for i in range(len(Ks)):\n",
    "        for j in range(len(Ks)):\n",
    "            qDot = np.dot(qs[i],qs[j])\n",
    "            B[i,j] = A[i,j]*qDot/2\n",
    "            qi = np.linalg.norm(qs[i])\n",
    "            qj = np.linalg.norm(qs[j])\n",
    "            for l in range(l_max): \n",
    "                if qi == 0 or qj == 0:\n",
    "                    C[i,j,l] = 0\n",
    "                else: \n",
    "                    C[i,j,l] = (2*l + 1)*2*np.pi*(r_max**2)*sp.eval_legendre(l,qDot/(qi*qj))*sp.spherical_jn(l,qi*r_max)*sp.spherical_jn(l,qj*r_max)/vol\n",
    "    \n",
    "    H = -E*A + B\n",
    "    for l in range(l_max):\n",
    "        H += C[:,:,l]*getRatio(l,E)\n",
    "\n",
    "    #returns +1 if the determinant is positive and -1 if the determinant is negative\n",
    "    detData = np.linalg.slogdet(H - E*np.identity(len(Ks)))\n",
    "    sign = detData[0]\n",
    "    return sign\n"
   ]
  },
  {
   "cell_type": "code",
   "execution_count": 165,
   "metadata": {},
   "outputs": [],
   "source": [
    "def findZero(lst,k):\n",
    "    \"\"\"\n",
    "    Given a list, finds the list elements that change sign and a list the k arrays of the same length.\n",
    "    \"\"\"\n",
    "    ks = []\n",
    "    zeroIndexs = []\n",
    "    for i in range(1,len(lst)):\n",
    "        if lst[i-1]*lst[i] == -1:\n",
    "            ks.append(k)\n",
    "            zeroIndexs.append(int(i))\n",
    "    return ks,zeroIndexs"
   ]
  },
  {
   "cell_type": "code",
   "execution_count": 166,
   "metadata": {},
   "outputs": [
    {
     "ename": "KeyboardInterrupt",
     "evalue": "",
     "output_type": "error",
     "traceback": [
      "\u001b[1;31m---------------------------------------------------------------------------\u001b[0m",
      "\u001b[1;31mKeyboardInterrupt\u001b[0m                         Traceback (most recent call last)",
      "Cell \u001b[1;32mIn[166], line 8\u001b[0m\n\u001b[0;32m      5\u001b[0m indexs \u001b[38;5;241m=\u001b[39m []\n\u001b[0;32m      7\u001b[0m \u001b[38;5;28;01mfor\u001b[39;00m i,k \u001b[38;5;129;01min\u001b[39;00m \u001b[38;5;28menumerate\u001b[39m(ks):\n\u001b[1;32m----> 8\u001b[0m     detList \u001b[38;5;241m=\u001b[39m [findDet(k,E) \u001b[38;5;28;01mfor\u001b[39;00m E \u001b[38;5;129;01min\u001b[39;00m EMesh]\n\u001b[0;32m      9\u001b[0m     tk,tI \u001b[38;5;241m=\u001b[39m  findZero(detList,k)\n\u001b[0;32m     10\u001b[0m     kLst \u001b[38;5;241m+\u001b[39m\u001b[38;5;241m=\u001b[39m tk\n",
      "Cell \u001b[1;32mIn[166], line 8\u001b[0m, in \u001b[0;36m<listcomp>\u001b[1;34m(.0)\u001b[0m\n\u001b[0;32m      5\u001b[0m indexs \u001b[38;5;241m=\u001b[39m []\n\u001b[0;32m      7\u001b[0m \u001b[38;5;28;01mfor\u001b[39;00m i,k \u001b[38;5;129;01min\u001b[39;00m \u001b[38;5;28menumerate\u001b[39m(ks):\n\u001b[1;32m----> 8\u001b[0m     detList \u001b[38;5;241m=\u001b[39m [\u001b[43mfindDet\u001b[49m\u001b[43m(\u001b[49m\u001b[43mk\u001b[49m\u001b[43m,\u001b[49m\u001b[43mE\u001b[49m\u001b[43m)\u001b[49m \u001b[38;5;28;01mfor\u001b[39;00m E \u001b[38;5;129;01min\u001b[39;00m EMesh]\n\u001b[0;32m      9\u001b[0m     tk,tI \u001b[38;5;241m=\u001b[39m  findZero(detList,k)\n\u001b[0;32m     10\u001b[0m     kLst \u001b[38;5;241m+\u001b[39m\u001b[38;5;241m=\u001b[39m tk\n",
      "Cell \u001b[1;32mIn[164], line 14\u001b[0m, in \u001b[0;36mfindDet\u001b[1;34m(k, E)\u001b[0m\n\u001b[0;32m     12\u001b[0m \u001b[38;5;28;01mfor\u001b[39;00m i \u001b[38;5;129;01min\u001b[39;00m \u001b[38;5;28mrange\u001b[39m(\u001b[38;5;28mlen\u001b[39m(Ks)):\n\u001b[0;32m     13\u001b[0m     \u001b[38;5;28;01mfor\u001b[39;00m j \u001b[38;5;129;01min\u001b[39;00m \u001b[38;5;28mrange\u001b[39m(\u001b[38;5;28mlen\u001b[39m(Ks)):\n\u001b[1;32m---> 14\u001b[0m         qDot \u001b[38;5;241m=\u001b[39m \u001b[43mnp\u001b[49m\u001b[38;5;241;43m.\u001b[39;49m\u001b[43mdot\u001b[49m\u001b[43m(\u001b[49m\u001b[43mqs\u001b[49m\u001b[43m[\u001b[49m\u001b[43mi\u001b[49m\u001b[43m]\u001b[49m\u001b[43m,\u001b[49m\u001b[43mqs\u001b[49m\u001b[43m[\u001b[49m\u001b[43mj\u001b[49m\u001b[43m]\u001b[49m\u001b[43m)\u001b[49m\n\u001b[0;32m     15\u001b[0m         B[i,j] \u001b[38;5;241m=\u001b[39m A[i,j]\u001b[38;5;241m*\u001b[39mqDot\u001b[38;5;241m/\u001b[39m\u001b[38;5;241m2\u001b[39m\n\u001b[0;32m     16\u001b[0m         qi \u001b[38;5;241m=\u001b[39m np\u001b[38;5;241m.\u001b[39mlinalg\u001b[38;5;241m.\u001b[39mnorm(qs[i])\n",
      "File \u001b[1;32m<__array_function__ internals>:200\u001b[0m, in \u001b[0;36mdot\u001b[1;34m(*args, **kwargs)\u001b[0m\n",
      "\u001b[1;31mKeyboardInterrupt\u001b[0m: "
     ]
    }
   ],
   "source": [
    "#finds the energies for a list of k's\n",
    "ks = [2*np.pi*np.array([i/10,0,0])/a for i in range(1,11)]\n",
    "EMesh  = np.arange(-0.2,0.5,step=.01)\n",
    "kLst = []\n",
    "indexs = []\n",
    "\n",
    "for i,k in enumerate(ks):\n",
    "    detList = [findDet(k,E) for E in EMesh]\n",
    "    tk,tI =  findZero(detList,k)\n",
    "    kLst += tk\n",
    "    indexs += tI\n",
    "\n",
    "Es = list(map(lambda i: EMesh[i], indexs))"
   ]
  },
  {
   "cell_type": "code",
   "execution_count": null,
   "metadata": {},
   "outputs": [
    {
     "data": {
      "image/png": "[encoded data removed]",
      "text/plain": [
       "<Figure size 640x480 with 1 Axes>"
      ]
     },
     "metadata": {},
     "output_type": "display_data"
    }
   ],
   "source": [
    "#Graphs \n",
    "kx = list(map(lambda k: k[0],kLst))\n",
    "plt.scatter(kx,Es)\n",
    "plt.title(r\"Energy band of Cu along $k_x$ axis\")\n",
    "plt.xlabel(r\"$k_x$ (Bohr)\")\n",
    "plt.ylabel(\"Energy (Hatree)\")\n",
    "plt.show()"
   ]
  },
  {
   "cell_type": "markdown",
   "metadata": {},
   "source": [
    "## LAPW approach"
   ]
  },
  {
   "cell_type": "code",
   "execution_count": 225,
   "metadata": {},
   "outputs": [],
   "source": [
    "def getRDotParams(l,E,R_l):\n",
    "    def F(u,r):\n",
    "        if r == 0.6:\n",
    "            return (l*(l+1)/r**2 - 2*(E + 21.88))*u - r*(R_l[31]+R_l[32]) #is there a better way to do this?\n",
    "        index = list(rsAll).index(r)\n",
    "        return (l*(l+1)/r**2 + 2*(Vs[index] - E))*u - 2*r*R_l[index]\n",
    "\n",
    "    def getUs(rs,us,h,iLen):\n",
    "        for i in range(2,iLen+2):\n",
    "            us.append(2*us[-1] - us[-2] + F(us[-1],rs[i-1])*(h**2))\n",
    "        return us\n",
    "    \n",
    "    us1 = getUs(rsAll[:9],[rsAll[0]**(l+1),rsAll[1]**(l+1)],0.005,7) #this part could be generalised\n",
    "\n",
    "    rs2 = np.insert(rsAll[9:15],0,[rsAll[6],rsAll[8]])\n",
    "    us2 = getUs(rs2,[us1[-3],us1[-1]],0.01,6)\n",
    "\n",
    "    rs3 = np.insert(rsAll[15:25],0,[rsAll[12],rsAll[14]])\n",
    "    us3 = getUs(rs3,[us2[-3],us2[-1]],0.02,10)\n",
    "\n",
    "    rs4 = np.insert(rsAll[25:35],0,[rsAll[22],rsAll[24]])\n",
    "    us4 = getUs(rs4,[us3[-3],us3[-1]],0.04,10)\n",
    "    \n",
    "    uAv = (us4[-4] + us4[-3])/2\n",
    "    rs5 = np.insert(rsAll[35:42],0,[0.6,rsAll[34]])\n",
    "    us5 = getUs(rs5,[uAv,us4[-1]],0.1,7)\n",
    "\n",
    "    rs6 = np.insert(rsAll[42:46],0,[rsAll[37],rsAll[41]])\n",
    "    us6 = getUs(rs6,[us5[-5],us5[-1]],0.4,4)\n",
    "\n",
    "    us = us1 + us2[2:] + us3[2:] + us4[2:] + us5[2:] + us6[2:]\n",
    "    us = np.array(us)\n",
    "\n",
    "    N = np.sum(hs*us[1:]**2)\n",
    "\n",
    "    RDots = np.array([u/rsAll[i] if u != 0 else 0 for i,u in enumerate(us)]) #boundary conditions haven't been applied\n",
    "\n",
    "    RDot_max = RDots[-2]\n",
    "    RDotDash_max = (RDots[-1] - RDots[-3])/(2*0.4)\n",
    "\n",
    "    print(np.sum(hs*RDots[1:]*(R_l[1:]*rsAll[1:])**2))\n",
    "\n",
    "    return RDot_max,RDotDash_max,N\n",
    "\n"
   ]
  },
  {
   "cell_type": "code",
   "execution_count": 226,
   "metadata": {},
   "outputs": [
    {
     "name": "stdout",
     "output_type": "stream",
     "text": [
      "0.28258287896277584\n",
      "-0.35081529312459536\n",
      "-0.42634765133186847\n",
      "-0.11138592768435487\n",
      "2.026213118265056\n",
      "7.4328662320438825\n",
      "-476.0644182716263\n"
     ]
    }
   ],
   "source": [
    "def getE(k,E_p):\n",
    "    #run simulations\n",
    "    Rs = np.empty([l_max,len(rsAll)])\n",
    "    RMax = np.empty(l_max)\n",
    "    RDashMax = np.empty(l_max)\n",
    "    RDotMax = np.empty(l_max)\n",
    "    RDotDashMax = np.empty(l_max)\n",
    "    N = np.empty(l_max)\n",
    "\n",
    "    for l in range(l_max):\n",
    "        Rs[l] = np.array([u/rsAll[i] if u != 0 else 0 for i,u in enumerate(getAllUs(l,E_p))])\n",
    "        #normalisation\n",
    "        Rs[l] /= np.sqrt(np.sum(hs*(rsAll[1:]*Rs[l,1:])**2)) #neater way?\n",
    "        RMax[l] = Rs[l,-2]\n",
    "        RDashMax[l] = (Rs[l,-1] - Rs[l,-3])/(2*0.4)\n",
    "        RDotMax[l], RDotDashMax[l], N[l] = getRDotParams(l,E_p,Rs[l])\n",
    "\n",
    "        #neater way?\n",
    "        normConstant = (r_max**2)*(RDashMax[l]*RDotMax[l] - RMax[l]*RDotDashMax[l])\n",
    "        N[l] /= normConstant**2\n",
    "        RDotMax[l] /= normConstant\n",
    "        RDotDashMax[l] /= normConstant\n",
    "\n",
    "    #define functions required to calcuate matricies\n",
    "    def a(l,q):\n",
    "        qMag = np.linalg.norm(q)\n",
    "        return sp.spherical_jn(l,r_max*qMag,derivative=True)*RDotMax[l] - sp.spherical_jn(l,r_max*qMag)*RDotDashMax[l]\n",
    "        \n",
    "    def b(l,q):\n",
    "        qMag = np.linalg.norm(q) \n",
    "        return sp.spherical_jn(l,r_max*qMag)*RDashMax[l] - sp.spherical_jn(l,r_max*qMag,derivative=True)*RMax[l]\n",
    "\n",
    "    def U(K):\n",
    "        KMag = np.linalg.norm(K)\n",
    "        if KMag == 0:\n",
    "            return 1 - 4*np.pi*(r_max**3)/(3*vol)\n",
    "        return -4*np.pi*(r_max**2)*sp.spherical_jn(1,KMag*r_max)/(KMag*vol)\n",
    "\n",
    "    def s(q1,q2,l):\n",
    "        return a(l,q1)*a(l,q2) + b(l,q1)*b(l,q2)*N[l]\n",
    "    \n",
    "    def gamma(q1,q2,l):\n",
    "        q1Mag = np.linalg.norm(q1)\n",
    "        q2Mag = np.linalg.norm(q2)\n",
    "\n",
    "        term1 = RDashMax[l]*RDotMax[l]*(sp.spherical_jn(l,r_max*q1Mag,derivative=True)*sp.spherical_jn(l,r_max*q2Mag) + sp.spherical_jn(l,r_max*q2Mag,derivative=True)*sp.spherical_jn(l,r_max*q1Mag))\n",
    "        term2 = RDashMax[l]*RDotDashMax[l]*sp.spherical_jn(l,r_max*q1Mag)*sp.spherical_jn(l,r_max*q2Mag)\n",
    "        term3 = RMax[l]*RDotMax[l]*sp.spherical_jn(l,r_max*q1Mag,derivative=True)*sp.spherical_jn(l,r_max*q2Mag,derivative=True)\n",
    "\n",
    "        return term1 - term2 - term3\n",
    "\n",
    "\n",
    "    #calculate matricies\n",
    "    qs = [k + K for K in Ks]\n",
    "\n",
    "    #find overlap matrix\n",
    "    S = np.empty([len(Ks),len(Ks)])\n",
    "\n",
    "    for i,q_i in enumerate(qs):\n",
    "        for j,q_j  in enumerate(qs):\n",
    "            cosThetaij = np.dot(q_i,q_j)/(np.linalg.norm(q_i)*np.linalg.norm(q_j))\n",
    "            S[i,j] = U(q_i - q_j)\n",
    "            for l in range(l_max):\n",
    "                S[i,j] += 4*np.pi*(r_max**4)*(2*l + 1)*sp.eval_legendre(l,cosThetaij)*s(q_i,q_j,l)/vol\n",
    "    #find Hamiltonian\n",
    "    H = np.empty([len(Ks),len(Ks)])\n",
    "\n",
    "    for i,q_i in enumerate(qs):\n",
    "        for j,q_j  in enumerate(qs):\n",
    "            H[i,j] = np.dot(q_i,q_j)*U(q_i - q_j)\n",
    "            for l in range(l_max):\n",
    "                H[i,j] += 4*np.pi*(r_max**4)*(2*l + 1)*sp.eval_legendre(l,E_p*s(q_i,q_j,l) + gamma(q_i,q_j,l))/vol\n",
    "\n",
    "    eigenVal,eigenVec = eigh(H,S,driver=\"gv\") \n",
    "    return eigenVal[0]\n",
    "\n",
    "print(getE(2*np.pi*np.array([1/10,0,0])/a,0)) #0.008421346931798785"
   ]
  },
  {
   "cell_type": "code",
   "execution_count": 209,
   "metadata": {},
   "outputs": [
    {
     "name": "stdout",
     "output_type": "stream",
     "text": [
      "0\n",
      "1\n",
      "2\n",
      "3\n",
      "4\n",
      "5\n",
      "6\n",
      "7\n",
      "8\n",
      "9\n"
     ]
    }
   ],
   "source": [
    "#finds the energies for a list of k's\n",
    "ks2 = [2*np.pi*np.array([i/10,0,0])/a for i in range(1,11)]\n",
    "Es2 = []\n",
    "\n",
    "for i,k in enumerate(ks2):\n",
    "    print(i)\n",
    "    Es2.append(getE(k,0))"
   ]
  },
  {
   "cell_type": "code",
   "execution_count": 210,
   "metadata": {},
   "outputs": [
    {
     "data": {
      "image/png": "[encoded data removed]",
      "text/plain": [
       "<Figure size 640x480 with 1 Axes>"
      ]
     },
     "metadata": {},
     "output_type": "display_data"
    }
   ],
   "source": [
    "#Graphs \n",
    "kx = list(map(lambda k: k[0],ks2))\n",
    "\n",
    "plt.scatter(kx,Es2)\n",
    "plt.title(r\"Energy band of Cu along $k_x$ axis\")\n",
    "plt.xlabel(r\"$k_x$ (Bohr)\")\n",
    "plt.ylabel(\"Energy (Hatree)\")\n",
    "plt.show()"
   ]
  },
  {
   "cell_type": "code",
   "execution_count": null,
   "metadata": {},
   "outputs": [],
   "source": []
  }
 ],
 "metadata": {
  "kernelspec": {
   "display_name": ".venv",
   "language": "python",
   "name": "python3"
  },
  "language_info": {
   "codemirror_mode": {
    "name": "ipython",
    "version": 3
   },
   "file_extension": ".py",
   "mimetype": "text/x-python",
   "name": "python",
   "nbconvert_exporter": "python",
   "pygments_lexer": "ipython3",
   "version": "3.8.10"
  }
 },
 "nbformat": 4,
 "nbformat_minor": 2
}
