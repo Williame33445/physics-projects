{
 "cells": [
  {
   "cell_type": "markdown",
   "metadata": {},
   "source": [
    "# Finding Cu crystal ground state via the Augmented Plane method\n",
    "\n",
    "This project is adapted from Thijssen and uses the potential used in that book. Other sources used are: Energy Band Structure of Copper by Glenn A. Burdick and https://www.physics.rutgers.edu/grad/509/APW.pdf.\n",
    "\n",
    "## Theory\n",
    "\n",
    "APW is a method for solving the single particle Schrodinger equation in a crystal. It uses the variational principle in the plane wave basis (this is viable due to Bloch's theorem). A basis element for an eigenstate labelled $\\vec{k}$ is:\n",
    "\n",
    "$$\\psi_{\\vec{k} + \\vec{K}} = e^{i(\\vec{k} + \\vec{K})\\cdot\\vec{r}}\\tag{1}$$\n",
    "\n",
    "Due to the size of the potential near the nuclei, the basis set required is too large. APW solves this problem with the Muffin approximation. The equation near the nuclei ($r<R$) is solved exactly and related to the plane waves via boundary conditions at $R$. This allows for the variational method to be applied efficiently. For a full description of the theory see Thijssen. \n",
    "\n",
    "## Implementation\n",
    "\n",
    "The variational equations are not linear, making the problem much harder to solve. In this implementation, a brute force approach has been followed. For a given $\\vec{k}$, a list of energies (mesh) over a certain range is defined; the determinant associated with each of these energies is then found. The energy for $\\vec{k}$ then corresponds to the energy where the determinant changes sign. This approach is not particularly accurate for the size of the mesh considered but it gives the rough band structure.\n",
    "\n",
    "This notebook attempts to apply this method to Cu. It is broken at the moment.\n",
    "\n"
   ]
  },
  {
   "cell_type": "code",
   "execution_count": 169,
   "metadata": {},
   "outputs": [],
   "source": [
    "import numpy as np\n",
    "from scipy import special as sp\n",
    "from scipy import linalg as lin\n",
    "import matplotlib.pyplot as plt\n",
    "from collections import defaultdict\n",
    "import sympy as sy"
   ]
  },
  {
   "cell_type": "code",
   "execution_count": 170,
   "metadata": {},
   "outputs": [],
   "source": [
    "#constants\n",
    "a = 6.83087\n",
    "vol = (a**3)/4\n",
    "\n",
    "#simulation parameters\n",
    "l_max = 8\n",
    "nLim = 10\n",
    "\n",
    "#recipricol lattice vectors\n",
    "recipMap = 2*np.pi*np.array([[-1,1,1],[1,-1,1],[1,1,-1]])/a\n",
    "\n",
    "\n",
    "def kMag(k):\n",
    "    l = k[0]\n",
    "    m = k[1]\n",
    "    n = k[2]\n",
    "    return 2*np.pi*np.sqrt(3*l**2 + 3*m**2 + 3*n**2 - 2*l*m - 2*n*l - 2*m*n)/a\n",
    "\n",
    "def minus(k1,k2):\n",
    "    return [k1[0]-k2[0],k1[1]-k2[1],k1[2]-k2[2]]\n",
    "\n",
    "\n",
    "Ks =[[l,m,n] for l in range(-nLim,nLim+1) for m in range(-nLim,nLim+1) for n in range(-nLim,nLim+1)]\n",
    "\n",
    "Cut = 4#8\n",
    "Ks = list(filter(lambda K: kMag(K)<Cut ,Ks))"
   ]
  },
  {
   "cell_type": "code",
   "execution_count": 171,
   "metadata": {},
   "outputs": [],
   "source": [
    "#data for potential\n",
    "\n",
    "rs = np.linspace(0,2.4,num=10**3)\n",
    "h = rs[1] - rs[0]\n",
    "h2 = h**2\n",
    "h12 = h2/12\n",
    "\n",
    "def V(r):\n",
    "    term1 = 29.*np.exp(-2.3151241717834*(r**0.81266614122432) + (2.1984250222603E-2)*(r**4.2246376280056))\n",
    "    term2 = -0.15595606773483*r - (3.1350051440417E-3)*r**2 + (5.1895222293006E-2)*r**3 - (2.8027608685637E-2)*r**4\n",
    "    return -(term1 + term2)/r\n"
   ]
  },
  {
   "cell_type": "code",
   "execution_count": 172,
   "metadata": {},
   "outputs": [],
   "source": [
    "#generate A\n",
    "A = np.empty([len(Ks),len(Ks)])\n",
    "for i in range(len(Ks)):\n",
    "    for j in range(i+1):\n",
    "        if i==j: #changed from kDiff\n",
    "            A[i,j] = 1 - 4*np.pi*(rs[-1]**3)/(3*vol)\n",
    "        else:\n",
    "            kDiff = kMag(minus(Ks[i],Ks[j]))\n",
    "            A[i,j] = -4*np.pi*(rs[-1]**2)*sp.spherical_jn(1,kDiff*rs[-1])/(vol*kDiff)\n",
    "        A[j,i] = A[i,j]"
   ]
  },
  {
   "cell_type": "code",
   "execution_count": 173,
   "metadata": {},
   "outputs": [],
   "source": [
    "#code for solution to the muffin part\n",
    "\n",
    "def getRatio(l,E):\n",
    "    def f(r):\n",
    "        if r == 0:\n",
    "            return 0\n",
    "        return l*(l+1)/r**2 + 2*(V(r) - E) \n",
    "    \n",
    "    us = np.empty(len(rs))\n",
    "    if l == 0:\n",
    "        us[0] = 2*29*h2/12\n",
    "    else:\n",
    "        us[0] = 0\n",
    "    us[1] = rs[1]**(l+1)\n",
    "\n",
    "    fn = f(rs[1])\n",
    "    w0 = 0\n",
    "    w1 = (1 - h12*fn)*us[1]\n",
    "    \n",
    "    for n in range(1,len(rs)-1):\n",
    "        w2 = 2*w1 - w0 + h2*us[n]*fn\n",
    "        fn1 = f(rs[n+1])\n",
    "        us[n+1] = w2/(1 - h12*fn1)\n",
    "        w0 = w1\n",
    "        w1 = w2\n",
    "        fn = fn1\n",
    "\n",
    "    #taken from: https://www.physics.rutgers.edu/grad/509/src_DFT/APW/apw.cc\n",
    "    v1 = f(rs[-1])*us[-1]\n",
    "    v0 = f(rs[-2])*us[-2]\n",
    "    dudr  = (us[-1]-us[-2])/h #+ 0.125*h*(3*v1 + v0)\n",
    "\n",
    "    return dudr/us[-1] -  1/rs[-1]\n"
   ]
  },
  {
   "cell_type": "code",
   "execution_count": 174,
   "metadata": {},
   "outputs": [],
   "source": [
    "def det(M):\n",
    "    M = [row[:] for row in M] # make a copy to keep original M unmodified\n",
    "    N, sign, prev = len(M), 1, 1\n",
    "    for i in range(N-1):\n",
    "        if M[i][i] == 0: # swap with another row having nonzero i's elem\n",
    "            swapto = next( (j for j in range(i+1,N) if M[j][i] != 0), None )\n",
    "            if swapto is None:\n",
    "                return 0 # all M[*][i] are zero => zero determinant\n",
    "            M[i], M[swapto], sign = M[swapto], M[i], -sign\n",
    "        for j in range(i+1,N):\n",
    "            for k in range(i+1,N):\n",
    "                #assert ( M[j][k] * M[i][i] - M[j][i] * M[i][k] ) % prev == 0\n",
    "                M[j][k] = ( M[j][k] * M[i][i] - M[j][i] * M[i][k] ) // prev\n",
    "        prev = M[i][i]\n",
    "    return sign * M[-1][-1]\n",
    "\n",
    "def findDet(k,E):\n",
    "    \"\"\"\n",
    "    Finds variational problem determinant.\n",
    "    \"\"\"\n",
    "\n",
    "    #set up k dependent matricies \n",
    "    B = np.empty([len(Ks),len(Ks)])\n",
    "    C = np.empty([len(Ks),len(Ks),l_max])\n",
    "    qs = [k + recipMap@K for K in Ks]\n",
    "\n",
    "    #find B and C\n",
    "    for i in range(len(Ks)):\n",
    "        qi = np.sqrt(qs[i]@qs[i])\n",
    "        for j in range(i+1):\n",
    "            qj = np.sqrt(qs[j]@qs[j])\n",
    "            qDot = qs[i]@qs[j]\n",
    "            B[i,j] = A[i,j]*qDot/2\n",
    "            cosij = qDot/(qi*qj) if qi != 0 and qj != 0 else 1\n",
    "            for l in range(l_max): \n",
    "                C[i,j,l] = (2*l + 1)*2*np.pi*(rs[-1]**2)*sp.eval_legendre(l,cosij)*sp.spherical_jn(l,qi*rs[-1])*sp.spherical_jn(l,qj*rs[-1])/vol\n",
    "                C[j,i,l] = C[i,j,l]\n",
    "            B[j,i] = B[i,j]\n",
    "            \n",
    "    \n",
    "    H = -E*A + B\n",
    "    for l in range(l_max):\n",
    "        H += C[:,:,l]*getRatio(l,E)\n",
    "\n",
    "    #returns +1 if the determinant is positive and -1 if the determinant is negative\n",
    "    #d = np.linalg.slogdet(H - E*np.identity(len(Ks)))\n",
    "    LU,piv,info = lin.lapack.dgetrf(H)\n",
    "\n",
    "    D = 1\n",
    "    for i in range(len(Ks)):\n",
    "        if i ==  piv[i]:\n",
    "            D *= LU[i,i]\n",
    "        else:\n",
    "            D *= -LU[i,i]\n",
    "    return D #d[0]*np.exp(d[1])\n"
   ]
  },
  {
   "cell_type": "code",
   "execution_count": 175,
   "metadata": {},
   "outputs": [],
   "source": [
    "def findZero(lst,k):\n",
    "    \"\"\"\n",
    "    Given a list, finds the list elements that change sign and a list the k arrays of the same length.\n",
    "    \"\"\"\n",
    "    \n",
    "    ks = []\n",
    "    zeroIndexs = []\n",
    "    for i in range(1,len(lst)):\n",
    "        if lst[i-1]*lst[i] < 0:\n",
    "            ks.append(k)\n",
    "            zeroIndexs.append(int(i))\n",
    "    return ks,zeroIndexs"
   ]
  },
  {
   "cell_type": "code",
   "execution_count": 176,
   "metadata": {},
   "outputs": [
    {
     "name": "stdout",
     "output_type": "stream",
     "text": [
      "0\n",
      "1\n",
      "2\n",
      "3\n",
      "4\n",
      "5\n",
      "6\n",
      "7\n",
      "8\n",
      "9\n"
     ]
    }
   ],
   "source": [
    "#finds the energies for a list of k's\n",
    "ks = [2*np.pi*np.array([i/20,0,0])/a for i in range(1,21)]\n",
    "EMesh  = np.arange(-0.04,0.3,step=.001)\n",
    "kLst = []\n",
    "indexs = []\n",
    "\n",
    "#should remove all elements repeated more than 3 times in the total list (to do)\n",
    "for i,k in enumerate(ks):\n",
    "    print(i)\n",
    "    detList = [findDet(k,E) for E in EMesh]\n",
    "    #print(detList)\n",
    "    tk,tI =  findZero(detList,k)\n",
    "    kLst += tk #better names\n",
    "    indexs += tI\n",
    "\n",
    "Es = list(map(lambda i: EMesh[i], indexs))\n"
   ]
  },
  {
   "cell_type": "code",
   "execution_count": 177,
   "metadata": {},
   "outputs": [
    {
     "name": "stdout",
     "output_type": "stream",
     "text": [
      "[6.917594805775871e-08, 6.091047347321092e-08, 5.3496676819111196e-08, 4.685737426964036e-08, 4.092172244459382e-08, 3.5624738500181365e-08, 3.090685405823001e-08, 2.6713500740637082e-08, 2.299472520149878e-08, 1.970483168995481e-08, 1.680205029626609e-08, 1.4248229149759538e-08, 1.2008548947723013e-08, 1.005125829504954e-08, 8.347428429309113e-09, 6.870725999551264e-09, 5.597202645370478e-09, 4.5051002066401975e-09, 3.5746704624378903e-09, 2.7880083692494144e-09, 2.1288978278543626e-09, 1.5826690672393871e-09, 1.13606678447321e-09, 7.77128226546254e-10, 4.950704390390046e-10, 2.801859399135714e-10, 1.2374610241299727e-10, 1.7911545954802473e-11, -4.435116154536426e-11, -6.934719657105412e-11, -6.272630473507077e-11, -2.955154796949401e-11, 2.5635147079645814e-11, 9.874962711016815e-11, 1.861031279254797e-10, 2.8433937654185027e-10, 3.903692864260317e-10, 5.013007860713913e-10, 6.143605318574825e-10, 7.268031704241845e-10, 8.358023565780182e-10, 9.383158584737456e-10, 1.0309148839321384e-09, 1.1095657549541917e-09, 1.1693518969656042e-09, 1.2041304359358873e-09, 1.2061428735499141e-09, 1.1656755775485603e-09, 1.0710767393370089e-09, 9.099965824016787e-10, 6.741570866761981e-10, 3.733843794773125e-10, 7.04423076212017e-11, -6.618387003193001e-11, -3.969948376132555e-11, -5.864560071990565e-09, -1.3609842097900936e-07, -4.601476340303585e-06, -0.0029088867975983032, 0.0020508094068252287, 1.6470142829846894e-05, 1.8728874476425975e-06]\n"
     ]
    }
   ],
   "source": [
    "rLim = 3\n",
    "def getRepeatedIndicies(lst):\n",
    "    tally = defaultdict(list)\n",
    "    for i,item in enumerate(lst):\n",
    "        tally[item].append(i)\n",
    "    indexLists = [locs for key,locs in tally.items() if len(locs)>rLim]\n",
    "\n",
    "    indexs = []\n",
    "    for l in indexLists:\n",
    "        indexs += l\n",
    "    return indexs\n",
    "\n",
    "#for i in sorted(getRepeatedIndicies(Es),reverse=True):\n",
    "#    del Es[i] \n",
    "#    del kLst[i]\n",
    "print(detList)\n"
   ]
  },
  {
   "cell_type": "code",
   "execution_count": 178,
   "metadata": {},
   "outputs": [
    {
     "data": {
      "image/png": "[encoded data removed]",
      "text/plain": [
       "<Figure size 640x480 with 1 Axes>"
      ]
     },
     "metadata": {},
     "output_type": "display_data"
    }
   ],
   "source": [
    "#Graphs \n",
    "kx = list(map(lambda k: k[0],kLst))\n",
    "plt.scatter(kx,Es)\n",
    "plt.title(r\"Energy band of Cu along $k_x$ axis\")\n",
    "plt.xlabel(r\"$k_x$ (Bohr)\")\n",
    "plt.ylabel(\"Energy (Hatree)\")\n",
    "plt.show()"
   ]
  },
  {
   "cell_type": "code",
   "execution_count": null,
   "metadata": {},
   "outputs": [],
   "source": []
  }
 ],
 "metadata": {
  "kernelspec": {
   "display_name": ".venv",
   "language": "python",
   "name": "python3"
  },
  "language_info": {
   "codemirror_mode": {
    "name": "ipython",
    "version": 3
   },
   "file_extension": ".py",
   "mimetype": "text/x-python",
   "name": "python",
   "nbconvert_exporter": "python",
   "pygments_lexer": "ipython3",
   "version": "3.8.10"
  }
 },
 "nbformat": 4,
 "nbformat_minor": 2
}
