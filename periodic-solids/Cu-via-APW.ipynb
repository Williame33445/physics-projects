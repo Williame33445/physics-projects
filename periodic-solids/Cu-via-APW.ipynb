{
 "cells": [
  {
   "cell_type": "markdown",
   "metadata": {},
   "source": [
    "# Finding Cu crystal ground state via the Augmented Plane method\n",
    "\n",
    "This project is adapted from Thijssen and uses data taken from Energy Band Structure of Copper by Glenn A. Burdick.\n",
    "\n",
    "## Theory\n",
    "\n",
    "APW is a method for solving the single particle Schrodinger equation in a crystal. It uses the variational principle in the plane wave basis (this is viable due to Bloch's theorem). A basis element for an eigenstate labelled $\\vec{k}$ is:\n",
    "\n",
    "$$\\psi_{\\vec{k} + \\vec{K}} = e^{i(\\vec{k} + \\vec{K})\\cdot\\vec{r}}\\tag{1}$$\n",
    "\n",
    "Due to the size of the potential near the nuclei, the basis set required is too large. APW solves this problem with the Muffin approximation. The equation near the nuclei ($r<R$) is solved exactly and related to the plane waves via boundary conditions at $R$. This allows for the variational method to be applied efficiently. For a full description of the theory see Thijssen. \n",
    "\n",
    "## Implementation\n",
    "\n",
    "The variational equations are not linear, making the problem much harder to solve. In this implementation, a brute force approach has been followed. For a given $\\vec{k}$, a list of energies (mesh) over a certain range is defined; the determinant associated with each of these energies is then found. The energy for $\\vec{k}$ then corresponds to the energy where the determinant changes sign. This approach is not particularly accurate for the size of the mesh considered but it gives the rough band structure.\n",
    "\n",
    "This notebook attempts to apply this method to Cu. The data used for the potential near the nuclei is taken from the paper specified above. The implementation is roughly correct though there may be some errors (it is hard to tell as the root finding method used here isn't very accurate).\n",
    "\n"
   ]
  },
  {
   "cell_type": "code",
   "execution_count": 846,
   "metadata": {},
   "outputs": [],
   "source": [
    "import numpy as np\n",
    "from scipy import special as sp\n",
    "import matplotlib.pyplot as plt"
   ]
  },
  {
   "cell_type": "code",
   "execution_count": 847,
   "metadata": {},
   "outputs": [],
   "source": [
    "#constants\n",
    "a = 6.83087\n",
    "vol = 3*(a**3)/4\n",
    "\n",
    "#simulation parameters\n",
    "l_max = 5\n",
    "nLim = 2\n",
    "\n",
    "#recipricol lattice vectors \n",
    "b1 = 2*np.pi*np.array([-1,1,1])/a\n",
    "b2 = 2*np.pi*np.array([1,-1,1])/a\n",
    "b3 = 2*np.pi*np.array([1,1,-1])/a\n",
    "Ks =[l*b1 + m*b2 + n*b3 for l in range(-nLim,nLim+1) for m in range(-nLim,nLim+1) for n in range(-nLim,nLim+1)]\n",
    "\n"
   ]
  },
  {
   "cell_type": "code",
   "execution_count": 848,
   "metadata": {},
   "outputs": [
    {
     "name": "stderr",
     "output_type": "stream",
     "text": [
      "C:\\Users\\willi\\AppData\\Local\\Temp\\ipykernel_20744\\2533544679.py:17: RuntimeWarning: divide by zero encountered in divide\n",
      "  Vs = -twoZ/(2*rsAll) #factor of 2 is due to units\n"
     ]
    }
   ],
   "source": [
    "#data for potential\n",
    "\n",
    "rsAll = np.array([0,0.005,0.010,0.015,0.020,0.025,0.030,0.035,0.040,\n",
    "              0.050,0.060,0.070,0.080,0.090,0.100,\n",
    "              0.120,0.140,0.160,0.180,0.200,0.220,0.240,0.260,0.280,0.300,\n",
    "              0.340,0.380,0.420,0.460,0.500,0.540,0.580,0.620,0.660,0.700\n",
    "              ,0.800,0.900,1.00,1.10,1.20, 1.30, 1.40,\n",
    "       1.60, 2.00, 2.40, 2.80])\n",
    "\n",
    "twoZ = np.array([58.000\n",
    ",57.500,56.206,54.966,53.797,52.688,51.644,50.656,49.720,47.970,46.358,\n",
    "        44.849,43.420,42.060,40.755,38.333,36.140,34.157,32.359,30.741,29.276,27.917,\n",
    "        26.662,25.462,24.264,22.186,20.470,18.851,17.308,15.965,\n",
    "        14.772,13.625,12.631,11.680,10.874,9.099,7.782,\n",
    "        6.749,5.963,5.310,4.778,4.284,3.533,\n",
    "        2.724,2.277,2.629])\n",
    "Vs = -twoZ/(2*rsAll) #factor of 2 is due to units\n"
   ]
  },
  {
   "cell_type": "code",
   "execution_count": 849,
   "metadata": {},
   "outputs": [],
   "source": [
    "#generate A\n",
    "A = np.empty([len(Ks),len(Ks)])\n",
    "for i,K_i in enumerate(Ks):\n",
    "    for j,K_j in enumerate(Ks):\n",
    "        kDiff = np.linalg.norm(K_i-K_j)\n",
    "        if kDiff == 0:\n",
    "            A[i,j] = 1 - 4*np.pi*(rsAll[-2]**3)/(3*vol)\n",
    "        else:\n",
    "            A[i,j] = -4*np.pi*(rsAll[-2]**2)*sp.spherical_jn(1,kDiff*rsAll[-2])/(vol*kDiff)"
   ]
  },
  {
   "cell_type": "code",
   "execution_count": 850,
   "metadata": {},
   "outputs": [],
   "source": [
    "#code for solution to the muffin part\n",
    "\n",
    "def w(x,t,h,f):\n",
    "    \"\"\"\n",
    "    w function in Numerov's method.\n",
    "    \"\"\"\n",
    "    if x == 0:\n",
    "        return 0\n",
    "    return (1 - f(t)*(h**2)/12)*x\n",
    "\n",
    "def wInv(w,t,h,f):\n",
    "    \"\"\"\n",
    "    Inverse w function in Numerov's method.\n",
    "    \"\"\"\n",
    "    return w/(1 - f(t)*(h**2)/12)\n",
    "\n",
    "\n",
    "def getRatio(l,E):\n",
    "    \"\"\"\n",
    "    Finds ratio required for the matrix calculation.\n",
    "    \"\"\"\n",
    "    def f(r):\n",
    "        \"\"\"\n",
    "        Finds f function for Numerov algorithm.\n",
    "        \"\"\"\n",
    "        if r == 0.6:\n",
    "            return l*(l+1)/r**2 - 2*(E + 21.88)\n",
    "        index = list(rsAll).index(r)\n",
    "        return l*(l+1)/r**2 + 2*(Vs[index] - E)\n",
    "\n",
    "    def getUs(rs,us,h,iLen):\n",
    "        \"\"\"\n",
    "        Runs iLen iterations of Numverov algorithm for rs,us lists (us contains only intial conditions).\n",
    "        \"\"\"\n",
    "        for i in range(2,iLen+2):\n",
    "            w_t = w(us[-1],rs[i-1],h,f)\n",
    "            w_tMinush = w(us[-2],rs[i-2],h,f)\n",
    "            w_rPlush = 2*w_t - w_tMinush + us[i-1]*f(rs[i-1])*(h**2)\n",
    "            us.append(wInv(w_rPlush,rs[i],h,f))\n",
    "        return us\n",
    "    \n",
    "    #runs numerov algorithm for the different values of r (different sections of lists have different size h's)\n",
    "    us1 = getUs(rsAll[:9],[rsAll[0]**(l+1),rsAll[1]**(l+1)],0.005,7)\n",
    "\n",
    "    rs2 = np.insert(rsAll[9:15],0,[rsAll[6],rsAll[8]])\n",
    "    us2 = getUs(rs2,[us1[-3],us1[-1]],0.01,6)\n",
    "\n",
    "    rs3 = np.insert(rsAll[15:25],0,[rsAll[12],rsAll[14]])\n",
    "    us3 = getUs(rs3,[us2[-3],us2[-1]],0.02,10)\n",
    "\n",
    "    rs4 = np.insert(rsAll[25:35],0,[rsAll[22],rsAll[24]])\n",
    "    us4 = getUs(rs4,[us3[-3],us3[-1]],0.04,10)\n",
    "    \n",
    "    uAv = (us4[-4] + us4[-3])/2\n",
    "    rs5 = np.insert(rsAll[35:42],0,[0.6,rsAll[34]])\n",
    "    us5 = getUs(rs5,[uAv,us4[-1]],0.1,7)\n",
    "\n",
    "    rs6 = np.insert(rsAll[42:46],0,[rsAll[37],rsAll[41]])\n",
    "    us6 = getUs(rs6,[us5[-5],us5[-1]],0.4,4)\n",
    "\n",
    "    #returns the required ratio\n",
    "    uDotEnd = (us6[-1] - us6[-3])/(2*0.4)\n",
    "    return uDotEnd/us6[-2] - 1/rsAll[-2] "
   ]
  },
  {
   "cell_type": "code",
   "execution_count": 851,
   "metadata": {},
   "outputs": [],
   "source": [
    "def findDet(k,E):\n",
    "    \"\"\"\n",
    "    Finds variational problem determinant.\n",
    "    \"\"\"\n",
    "\n",
    "    #set up k dependent matricies \n",
    "    B = np.empty([len(Ks),len(Ks)])\n",
    "    C = np.empty([len(Ks),len(Ks),l_max])\n",
    "    qs = [k + K for K in Ks]\n",
    "\n",
    "    #find B and C\n",
    "    for i in range(len(Ks)):\n",
    "        for j in range(len(Ks)):\n",
    "            qDot = np.dot(qs[i],qs[j])\n",
    "            B[i,j] = A[i,j]*qDot/2\n",
    "            qi = np.linalg.norm(qs[i])\n",
    "            qj = np.linalg.norm(qs[j])\n",
    "            for l in range(l_max): \n",
    "                if qi == 0 or qj == 0:\n",
    "                    C[i,j,l] = 0\n",
    "                else: \n",
    "                    C[i,j,l] = (2*l + 1)*2*np.pi*(rsAll[-2]**2)*sp.eval_legendre(l,qDot/(qi*qj))*sp.spherical_jn(l,qi*rsAll[-2])*sp.spherical_jn(l,qj*rsAll[-2])/vol\n",
    "    \n",
    "    H = -E*A + B\n",
    "    for l in range(l_max):\n",
    "        H += C[:,:,l]*getRatio(l,E)\n",
    "\n",
    "    #returns +1 if the determinant is positive and -1 if the determinant is negative\n",
    "    detData = np.linalg.slogdet(H - E*np.identity(len(Ks)))\n",
    "    sign = detData[0]\n",
    "    return sign\n"
   ]
  },
  {
   "cell_type": "code",
   "execution_count": 852,
   "metadata": {},
   "outputs": [],
   "source": [
    "def findZero(lst,k):\n",
    "    \"\"\"\n",
    "    Given a list, finds the list elements that change sign and a list the k arrays of the same length.\n",
    "    \"\"\"\n",
    "    ks = []\n",
    "    zeroIndexs = []\n",
    "    for i in range(1,len(lst)):\n",
    "        if lst[i-1]*lst[i] == -1:\n",
    "            ks.append(k)\n",
    "            zeroIndexs.append(int(i))\n",
    "    return ks,zeroIndexs"
   ]
  },
  {
   "cell_type": "code",
   "execution_count": 853,
   "metadata": {},
   "outputs": [],
   "source": [
    "#finds the energies for a list of k's\n",
    "ks = [2*np.pi*np.array([i/10,0,0])/a for i in range(1,11)]\n",
    "EMesh  = np.arange(-0.2,0.5,step=.01)\n",
    "kLst = []\n",
    "indexs = []\n",
    "\n",
    "for i,k in enumerate(ks):\n",
    "    detList = [findDet(k,E) for E in EMesh]\n",
    "    tk,tI =  findZero(detList,k)\n",
    "    kLst += tk\n",
    "    indexs += tI\n",
    "\n",
    "Es = list(map(lambda i: EMesh[i], indexs))"
   ]
  },
  {
   "cell_type": "code",
   "execution_count": null,
   "metadata": {},
   "outputs": [
    {
     "data": {
      "image/png": "[encoded data removed]",
      "text/plain": [
       "<Figure size 640x480 with 1 Axes>"
      ]
     },
     "metadata": {},
     "output_type": "display_data"
    }
   ],
   "source": [
    "#Graphs \n",
    "kx = list(map(lambda k: k[0],kLst))\n",
    "plt.scatter(kx,Es)\n",
    "plt.title(r\"Energy band of Cu along $k_x$ axis\")\n",
    "plt.xlabel(r\"$k_x$ (Bohr)\")\n",
    "plt.ylabel(\"Energy (Hatree)\")\n",
    "plt.show()"
   ]
  },
  {
   "cell_type": "code",
   "execution_count": null,
   "metadata": {},
   "outputs": [],
   "source": []
  }
 ],
 "metadata": {
  "kernelspec": {
   "display_name": ".venv",
   "language": "python",
   "name": "python3"
  },
  "language_info": {
   "codemirror_mode": {
    "name": "ipython",
    "version": 3
   },
   "file_extension": ".py",
   "mimetype": "text/x-python",
   "name": "python",
   "nbconvert_exporter": "python",
   "pygments_lexer": "ipython3",
   "version": "3.8.10"
  }
 },
 "nbformat": 4,
 "nbformat_minor": 2
}
