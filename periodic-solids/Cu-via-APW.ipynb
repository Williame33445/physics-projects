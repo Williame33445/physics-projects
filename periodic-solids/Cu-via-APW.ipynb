{
 "cells": [
  {
   "cell_type": "markdown",
   "metadata": {},
   "source": [
    "# Finding Cu crystal ground state via the Augmented Plane method\n",
    "\n",
    "This project is adapted from Thijssen and uses data taken from Energy Band Structure of Copper by Glenn A. Burdick.\n",
    "\n",
    "## Theory\n",
    "\n",
    "APW is a method for solving the single particle Schrodinger equation in a crystal. It uses the variational principle in the plane wave basis (this is viable due to Bloch's theorem). A basis element for an eigenstate labelled $\\vec{k}$ is:\n",
    "\n",
    "$$\\psi_{\\vec{k} + \\vec{K}} = e^{i(\\vec{k} + \\vec{K})\\cdot\\vec{r}}\\tag{1}$$\n",
    "\n",
    "Due to the size of the potential near the nuclei, the basis set required is too large. APW solves this problem with the Muffin approximation. The equation near the nuclei ($r<R$) is solved exactly and related to the plane waves via boundary conditions at $R$. This allows for the variational method to be applied efficiently. For a full description of the theory see Thijssen. \n",
    "\n",
    "## Implementation\n",
    "\n",
    "The variational equations are not linear, making the problem much harder to solve. In this implementation, a brute force approach has been followed. For a given $\\vec{k}$, a list of energies (mesh) over a certain range is defined; the determinant associated with each of these energies is then found. The energy for $\\vec{k}$ then corresponds to the energy where the determinant changes sign. This approach is not particularly accurate for the size of the mesh considered but it gives the rough band structure.\n",
    "\n",
    "This notebook attempts to apply this method to Cu. The data used for the potential near the nuclei is taken from the paper specified above. The implementation is roughly correct though there may be some errors (it is hard to tell as the root finding method used here isn't very accurate).\n",
    "\n"
   ]
  },
  {
   "cell_type": "code",
   "execution_count": 46,
   "metadata": {},
   "outputs": [],
   "source": [
    "import numpy as np\n",
    "from scipy import special as sp\n",
    "import matplotlib.pyplot as plt\n",
    "from scipy.linalg import eigh\n"
   ]
  },
  {
   "cell_type": "code",
   "execution_count": 91,
   "metadata": {},
   "outputs": [],
   "source": [
    "#constants\n",
    "a = 6.83087\n",
    "vol = 3*(a**3)/4\n",
    "\n",
    "#simulation parameters\n",
    "l_max = 6 #look at where the solutions converge\n",
    "nLim = 2\n",
    "\n",
    "#recipricol lattice vectors \n",
    "b1 = 2*np.pi*np.array([-1,1,1])/a\n",
    "b2 = 2*np.pi*np.array([1,-1,1])/a\n",
    "b3 = 2*np.pi*np.array([1,1,-1])/a\n",
    "Ks =[l*b1 + m*b2 + n*b3 for l in range(-nLim,nLim+1) for m in range(-nLim,nLim+1) for n in range(-nLim,nLim+1)]\n",
    "\n"
   ]
  },
  {
   "cell_type": "code",
   "execution_count": 70,
   "metadata": {},
   "outputs": [
    {
     "data": {
      "text/plain": [
       "[<matplotlib.lines.Line2D at 0x256795ecdc0>]"
      ]
     },
     "execution_count": 70,
     "metadata": {},
     "output_type": "execute_result"
    },
    {
     "data": {
      "image/png": "[encoded data removed]",
      "text/plain": [
       "<Figure size 640x480 with 1 Axes>"
      ]
     },
     "metadata": {},
     "output_type": "display_data"
    }
   ],
   "source": [
    "#data for potential\n",
    "h = 0.005\n",
    "rs = np.arange(0,.5,step=h)\n",
    "r_max = rs[-2]\n",
    "\n",
    "def V(r):\n",
    "    #need to cite where I have taken this from\n",
    "    term1 = 29.*np.exp(-2.3151241717834*(r**0.81266614122432) + (2.1984250222603E-2)*(r**4.2246376280056))\n",
    "    term2 = -0.15595606773483*r - (3.1350051440417E-3)*r**2 + (5.1895222293006E-2)*r**3 - (2.8027608685637E-2)*r**4\n",
    "    return term1 + term2\n",
    "\n",
    "plt.plot(rs,V(rs))"
   ]
  },
  {
   "cell_type": "code",
   "execution_count": 49,
   "metadata": {},
   "outputs": [],
   "source": [
    "#generate A\n",
    "A = np.empty([len(Ks),len(Ks)])\n",
    "for i,K_i in enumerate(Ks):\n",
    "    for j,K_j in enumerate(Ks):\n",
    "        kDiff = np.linalg.norm(K_i-K_j)\n",
    "        if kDiff == 0:\n",
    "            A[i,j] = 1 - 4*np.pi*(r_max**3)/(3*vol)\n",
    "        else:\n",
    "            A[i,j] = -4*np.pi*(r_max**2)*sp.spherical_jn(1,kDiff*r_max)/(vol*kDiff)"
   ]
  },
  {
   "cell_type": "code",
   "execution_count": 64,
   "metadata": {},
   "outputs": [],
   "source": [
    "#code for solution to the muffin part\n",
    "\n",
    "def getAllUs(l,E):\n",
    "    \"\"\"\n",
    "    Finds R u and u'.\n",
    "    \"\"\"\n",
    "    def g(r):\n",
    "        \"\"\"\n",
    "        Finds f function for Numerov algorithm.\n",
    "        \"\"\"\n",
    "        if r == 0:\n",
    "            return 0\n",
    "        return -(l*(l+1)/r**2+ 2*(V(r) - E))\n",
    "    \n",
    "    us = np.empty(len(rs))\n",
    "    us[0] = 0\n",
    "    us[1] = 10\n",
    "    \n",
    "    for n in range(1,len(rs)-1):\n",
    "        #us[n+1] = 2*us[n] - us[n-1] + g(rs[n])*us[n]*h**2\n",
    "        D = 2*us[n]*(1 - 5*(h**2)*g(rs[n])/12) - us[n-1]*(1 + (h**2)*g(rs[n-1])/12)\n",
    "        N = 1 + (h**2)*g(rs[n+1])/12\n",
    "        us[n+1] = D/N\n",
    "\n",
    "    return us\n",
    "\n",
    "def getRatio(l,E):\n",
    "    \"\"\"\n",
    "    Finds ratio required for the matrix calculation.\n",
    "    \"\"\"\n",
    "\n",
    "    us = getAllUs(l,E)\n",
    "    usR = us[-2]\n",
    "    uDashR = (us[-1] - us[-3])/(2*h)\n",
    "    return uDashR/usR - 1/r_max \n",
    "#3.86348075e-01] 0.0005\n",
    "#-3.85107016e-01 0.005\n",
    "#-0.37280416 0.05\n"
   ]
  },
  {
   "cell_type": "code",
   "execution_count": 65,
   "metadata": {},
   "outputs": [],
   "source": [
    "def findDet(k,E):\n",
    "    \"\"\"\n",
    "    Finds variational problem determinant.\n",
    "    \"\"\"\n",
    "\n",
    "    #set up k dependent matricies \n",
    "    B = np.empty([len(Ks),len(Ks)])\n",
    "    C = np.empty([len(Ks),len(Ks),l_max])\n",
    "    qs = [k + K for K in Ks]\n",
    "\n",
    "    #find B and C\n",
    "    for i in range(len(Ks)):\n",
    "        for j in range(len(Ks)):\n",
    "            qDot = np.dot(qs[i],qs[j])\n",
    "            B[i,j] = A[i,j]*qDot/2\n",
    "            qi = np.linalg.norm(qs[i])\n",
    "            qj = np.linalg.norm(qs[j])\n",
    "            for l in range(l_max): \n",
    "                if qi == 0 or qj == 0:\n",
    "                    C[i,j,l] = 0\n",
    "                else: \n",
    "                    C[i,j,l] = (2*l + 1)*2*np.pi*(r_max**2)*sp.eval_legendre(l,qDot/(qi*qj))*sp.spherical_jn(l,qi*r_max)*sp.spherical_jn(l,qj*r_max)/vol\n",
    "    \n",
    "    H = -E*A + B\n",
    "    for l in range(l_max):\n",
    "        H += C[:,:,l]*getRatio(l,E)\n",
    "\n",
    "    #returns +1 if the determinant is positive and -1 if the determinant is negative\n",
    "    detData = np.linalg.slogdet(H - E*np.identity(len(Ks)))\n",
    "    sign = detData[0]\n",
    "    return sign\n"
   ]
  },
  {
   "cell_type": "code",
   "execution_count": 52,
   "metadata": {},
   "outputs": [],
   "source": [
    "def findZero(lst,k):\n",
    "    \"\"\"\n",
    "    Given a list, finds the list elements that change sign and a list the k arrays of the same length.\n",
    "    \"\"\"\n",
    "    ks = []\n",
    "    zeroIndexs = []\n",
    "    for i in range(1,len(lst)):\n",
    "        if lst[i-1]*lst[i] == -1:\n",
    "            ks.append(k)\n",
    "            zeroIndexs.append(int(i))\n",
    "    return ks,zeroIndexs"
   ]
  },
  {
   "cell_type": "code",
   "execution_count": 53,
   "metadata": {},
   "outputs": [
    {
     "ename": "KeyboardInterrupt",
     "evalue": "",
     "output_type": "error",
     "traceback": [
      "\u001b[1;31m---------------------------------------------------------------------------\u001b[0m",
      "\u001b[1;31mKeyboardInterrupt\u001b[0m                         Traceback (most recent call last)",
      "Cell \u001b[1;32mIn[53], line 8\u001b[0m\n\u001b[0;32m      5\u001b[0m indexs \u001b[38;5;241m=\u001b[39m []\n\u001b[0;32m      7\u001b[0m \u001b[38;5;28;01mfor\u001b[39;00m i,k \u001b[38;5;129;01min\u001b[39;00m \u001b[38;5;28menumerate\u001b[39m(ks):\n\u001b[1;32m----> 8\u001b[0m     detList \u001b[38;5;241m=\u001b[39m [findDet(k,E) \u001b[38;5;28;01mfor\u001b[39;00m E \u001b[38;5;129;01min\u001b[39;00m EMesh]\n\u001b[0;32m      9\u001b[0m     tk,tI \u001b[38;5;241m=\u001b[39m  findZero(detList,k)\n\u001b[0;32m     10\u001b[0m     kLst \u001b[38;5;241m+\u001b[39m\u001b[38;5;241m=\u001b[39m tk\n",
      "Cell \u001b[1;32mIn[53], line 8\u001b[0m, in \u001b[0;36m<listcomp>\u001b[1;34m(.0)\u001b[0m\n\u001b[0;32m      5\u001b[0m indexs \u001b[38;5;241m=\u001b[39m []\n\u001b[0;32m      7\u001b[0m \u001b[38;5;28;01mfor\u001b[39;00m i,k \u001b[38;5;129;01min\u001b[39;00m \u001b[38;5;28menumerate\u001b[39m(ks):\n\u001b[1;32m----> 8\u001b[0m     detList \u001b[38;5;241m=\u001b[39m [\u001b[43mfindDet\u001b[49m\u001b[43m(\u001b[49m\u001b[43mk\u001b[49m\u001b[43m,\u001b[49m\u001b[43mE\u001b[49m\u001b[43m)\u001b[49m \u001b[38;5;28;01mfor\u001b[39;00m E \u001b[38;5;129;01min\u001b[39;00m EMesh]\n\u001b[0;32m      9\u001b[0m     tk,tI \u001b[38;5;241m=\u001b[39m  findZero(detList,k)\n\u001b[0;32m     10\u001b[0m     kLst \u001b[38;5;241m+\u001b[39m\u001b[38;5;241m=\u001b[39m tk\n",
      "Cell \u001b[1;32mIn[51], line 16\u001b[0m, in \u001b[0;36mfindDet\u001b[1;34m(k, E)\u001b[0m\n\u001b[0;32m     14\u001b[0m qDot \u001b[38;5;241m=\u001b[39m np\u001b[38;5;241m.\u001b[39mdot(qs[i],qs[j])\n\u001b[0;32m     15\u001b[0m B[i,j] \u001b[38;5;241m=\u001b[39m A[i,j]\u001b[38;5;241m*\u001b[39mqDot\u001b[38;5;241m/\u001b[39m\u001b[38;5;241m2\u001b[39m\n\u001b[1;32m---> 16\u001b[0m qi \u001b[38;5;241m=\u001b[39m \u001b[43mnp\u001b[49m\u001b[38;5;241;43m.\u001b[39;49m\u001b[43mlinalg\u001b[49m\u001b[38;5;241;43m.\u001b[39;49m\u001b[43mnorm\u001b[49m\u001b[43m(\u001b[49m\u001b[43mqs\u001b[49m\u001b[43m[\u001b[49m\u001b[43mi\u001b[49m\u001b[43m]\u001b[49m\u001b[43m)\u001b[49m\n\u001b[0;32m     17\u001b[0m qj \u001b[38;5;241m=\u001b[39m np\u001b[38;5;241m.\u001b[39mlinalg\u001b[38;5;241m.\u001b[39mnorm(qs[j])\n\u001b[0;32m     18\u001b[0m \u001b[38;5;28;01mfor\u001b[39;00m l \u001b[38;5;129;01min\u001b[39;00m \u001b[38;5;28mrange\u001b[39m(l_max): \n",
      "File \u001b[1;32m<__array_function__ internals>:200\u001b[0m, in \u001b[0;36mnorm\u001b[1;34m(*args, **kwargs)\u001b[0m\n",
      "File \u001b[1;32mc:\\workspace\\git-repos\\physics-projects\\.venv\\lib\\site-packages\\numpy\\linalg\\linalg.py:2511\u001b[0m, in \u001b[0;36mnorm\u001b[1;34m(x, ord, axis, keepdims)\u001b[0m\n\u001b[0;32m   2509\u001b[0m     sqnorm \u001b[38;5;241m=\u001b[39m x_real\u001b[38;5;241m.\u001b[39mdot(x_real) \u001b[38;5;241m+\u001b[39m x_imag\u001b[38;5;241m.\u001b[39mdot(x_imag)\n\u001b[0;32m   2510\u001b[0m \u001b[38;5;28;01melse\u001b[39;00m:\n\u001b[1;32m-> 2511\u001b[0m     sqnorm \u001b[38;5;241m=\u001b[39m \u001b[43mx\u001b[49m\u001b[38;5;241;43m.\u001b[39;49m\u001b[43mdot\u001b[49m\u001b[43m(\u001b[49m\u001b[43mx\u001b[49m\u001b[43m)\u001b[49m\n\u001b[0;32m   2512\u001b[0m ret \u001b[38;5;241m=\u001b[39m sqrt(sqnorm)\n\u001b[0;32m   2513\u001b[0m \u001b[38;5;28;01mif\u001b[39;00m keepdims:\n",
      "\u001b[1;31mKeyboardInterrupt\u001b[0m: "
     ]
    }
   ],
   "source": [
    "#finds the energies for a list of k's\n",
    "ks = [2*np.pi*np.array([i/10,0,0])/a for i in range(1,11)]\n",
    "EMesh  = np.arange(-.1,.4,step=.02)\n",
    "kLst = []\n",
    "indexs = []\n",
    "\n",
    "for i,k in enumerate(ks):\n",
    "    detList = [findDet(k,E) for E in EMesh]\n",
    "    tk,tI =  findZero(detList,k)\n",
    "    kLst += tk\n",
    "    indexs += tI\n",
    "\n",
    "Es = list(map(lambda i: EMesh[i], indexs))"
   ]
  },
  {
   "cell_type": "code",
   "execution_count": null,
   "metadata": {},
   "outputs": [
    {
     "data": {
      "image/png": "[encoded data removed]",
      "text/plain": [
       "<Figure size 640x480 with 1 Axes>"
      ]
     },
     "metadata": {},
     "output_type": "display_data"
    }
   ],
   "source": [
    "#Graphs \n",
    "kx = list(map(lambda k: k[0],kLst))\n",
    "plt.scatter(kx,Es)\n",
    "plt.title(r\"Energy band of Cu along $k_x$ axis\")\n",
    "plt.xlabel(r\"$k_x$ (Bohr)\")\n",
    "plt.ylabel(\"Energy (Hatree)\")\n",
    "plt.show()"
   ]
  },
  {
   "cell_type": "markdown",
   "metadata": {},
   "source": [
    "## LAPW approach"
   ]
  },
  {
   "cell_type": "code",
   "execution_count": 92,
   "metadata": {},
   "outputs": [],
   "source": [
    "def simpsons(fs):\n",
    "    sum1 = fs[0] + fs[-1]\n",
    "    fsNoEnds = fs[1:-1]\n",
    "    sum2 = 4*np.sum(fsNoEnds[::2])\n",
    "    sum3 = 2*np.sum(fsNoEnds[1::2])\n",
    "    return h*(sum1 + sum2 + sum3)/3\n"
   ]
  },
  {
   "cell_type": "code",
   "execution_count": 93,
   "metadata": {},
   "outputs": [],
   "source": [
    "def getuDots(l,E,usR):\n",
    "    def g2(r):\n",
    "        if r == 0:\n",
    "            return 0\n",
    "        return -(l*(l+1)/r**2 + 2*(V(r) - E)) #sign?\n",
    "    \n",
    "    def s(r):\n",
    "        index = list(rs).index(r)\n",
    "        return -2*usR[index]\n",
    "\n",
    "\n",
    "    usPar = [0,1] \n",
    "    for i in range(2,len(rs)):\n",
    "        usPar.append((2*usPar[-1]*(1 - 5*(h**2)*g2(rs[i-1])/12) - usPar[-2]*(1 + (h**2)*g2(rs[i-2])/12) + (h**2)*(s(rs[i-2]) + 10*s(rs[i-1]) + s(rs[i]))/12)/(1 + (h**2)*g2(rs[i])/12))\n",
    "\n",
    "    usPar = np.array(usPar) #better names\n",
    "\n",
    "    #orthogonalise\n",
    "    homoConstant = -simpsons(usPar*usR)/simpsons(usR**2)\n",
    "\n",
    "    return homoConstant*usR + usPar\n"
   ]
  },
  {
   "cell_type": "code",
   "execution_count": 106,
   "metadata": {},
   "outputs": [],
   "source": [
    "\n",
    "\n",
    "def getE(k,E_p): #look at numerical derivative method for uDot(should give consistent results)\n",
    "    #run simulations\n",
    "    RMax = np.empty(l_max)\n",
    "    RDashMax = np.empty(l_max)\n",
    "    RDotMax = np.empty(l_max)\n",
    "    RDotDashMax = np.empty(l_max)\n",
    "    N = np.empty(l_max)\n",
    "\n",
    "    for l in range(l_max):\n",
    "        us = getAllUs(l,E_p)\n",
    "        us /= np.sqrt(simpsons(us**2))\n",
    "        RMax[l] = us[-2]/r_max\n",
    "        RDashMax[l] = (us[-1] - us[-3])/(2*h*r_max) - us[-2]/(r_max**2)\n",
    "\n",
    "        uDots = getuDots(l,E_p,us)\n",
    "        RDotMax[l] = uDots[-2]/r_max\n",
    "        RDotDashMax[l] = (uDots[-1] - uDots[-3])/(2*h*r_max) - uDots[-2]/(r_max**2)\n",
    "\n",
    "        #normalise\n",
    "        normConstant = (r_max**2)*(RDashMax[l]*RDotMax[l] - RMax[l]*RDotDashMax[l])\n",
    "        #print(normConstant)\n",
    "        #uDots /= normConstant\n",
    "        #RDotMax[l] /= normConstant\n",
    "        #RDotDashMax[l] /= normConstant\n",
    "\n",
    "\n",
    "\n",
    "        N[l] = simpsons(uDots**2) #better name for function?\n",
    "\n",
    "\n",
    "    #define functions required to calcuate matricies\n",
    "    def a(l,q):\n",
    "        qMag = np.linalg.norm(q)\n",
    "        return sp.spherical_jn(l,r_max*qMag,derivative=True)*qMag*RDotMax[l] - sp.spherical_jn(l,r_max*qMag)*RDotDashMax[l]\n",
    "        \n",
    "    def b(l,q):\n",
    "        qMag = np.linalg.norm(q) \n",
    "        return sp.spherical_jn(l,r_max*qMag)*RDashMax[l] - sp.spherical_jn(l,r_max*qMag,derivative=True)*qMag*RMax[l]\n",
    "\n",
    "    def U(K):\n",
    "        KMag = np.linalg.norm(K)\n",
    "        if KMag == 0:\n",
    "            return 1 - 4*np.pi*(r_max**3)/(3*vol)\n",
    "        return -4*np.pi*(r_max**2)*sp.spherical_jn(1,KMag*r_max)/(KMag*vol)\n",
    "\n",
    "    def s(q1,q2,l):\n",
    "        return a(l,q1)*a(l,q2) + b(l,q1)*b(l,q2)*N[l]\n",
    "    \n",
    "    def gamma(q1,q2,l):\n",
    "        q1Mag = np.linalg.norm(q1)\n",
    "        q2Mag = np.linalg.norm(q2)\n",
    "\n",
    "        term1 = RDashMax[l]*RDotMax[l]*(sp.spherical_jn(l,r_max*q1Mag,derivative=True)*q1Mag*sp.spherical_jn(l,r_max*q2Mag) + sp.spherical_jn(l,r_max*q2Mag,derivative=True)*q2Mag*sp.spherical_jn(l,r_max*q1Mag))\n",
    "        term2 = RDashMax[l]*RDotDashMax[l]*sp.spherical_jn(l,r_max*q1Mag)*sp.spherical_jn(l,r_max*q2Mag)\n",
    "        term3 = RMax[l]*RDotMax[l]*q1Mag*q2Mag*sp.spherical_jn(l,r_max*q1Mag,derivative=True)*sp.spherical_jn(l,r_max*q2Mag,derivative=True)\n",
    "\n",
    "        return term1 - term2 - term3\n",
    "\n",
    "\n",
    "    #calculate matricies\n",
    "    qs = [k + K for K in Ks]\n",
    "\n",
    "    #find overlap matrix\n",
    "    S = np.empty([len(Ks),len(Ks)])\n",
    "\n",
    "    for i,q_i in enumerate(qs):\n",
    "        for j,q_j  in enumerate(qs):\n",
    "            cosThetaij = np.dot(q_i,q_j)/(np.linalg.norm(q_i)*np.linalg.norm(q_j))\n",
    "            S[i,j] = U(q_i - q_j)\n",
    "            for l in range(l_max):\n",
    "                S[i,j] += 4*np.pi*(r_max**4)*(2*l + 1)*sp.eval_legendre(l,cosThetaij)*s(q_i,q_j,l)/vol\n",
    "    \n",
    "    #find Hamiltonian\n",
    "    H = np.empty([len(Ks),len(Ks)])\n",
    "\n",
    "    for i,q_i in enumerate(qs):\n",
    "        for j,q_j  in enumerate(qs):\n",
    "            H[i,j] = np.dot(q_i,q_j)*U(q_i - q_j)\n",
    "            for l in range(l_max):\n",
    "                H[i,j] += 4*np.pi*(r_max**4)*(2*l + 1)*sp.eval_legendre(l,E_p*s(q_i,q_j,l) + gamma(q_i,q_j,l))/vol\n",
    "\n",
    "    eigenVal,eigenVec = eigh(H,S)\n",
    "    return eigenVal\n",
    "\n",
    "#print(getE(2*np.pi*np.array([1/10,0,0])/a,0)[0])\n",
    "#print(getE(2*np.pi*np.array([1,0,0])/a,0)[0])\n",
    "\n",
    "#\n"
   ]
  },
  {
   "cell_type": "code",
   "execution_count": 109,
   "metadata": {},
   "outputs": [],
   "source": [
    "#finds the energies for a list of k's\n",
    "ks2 = [2*np.pi*np.array([i/10,0,0])/a for i in range(1,11)]\n",
    "Es2 = np.empty([len(ks2),6])\n",
    "\n",
    "for i,k in enumerate(ks2):\n",
    "    sol = getE(k,0)\n",
    "    for j in range(6):\n",
    "        Es2[i,j] = sol[j]\n"
   ]
  },
  {
   "cell_type": "code",
   "execution_count": 111,
   "metadata": {},
   "outputs": [
    {
     "data": {
      "image/png": "[encoded data removed]",
      "text/plain": [
       "<Figure size 640x480 with 1 Axes>"
      ]
     },
     "metadata": {},
     "output_type": "display_data"
    }
   ],
   "source": [
    "#Graphs \n",
    "kx = list(map(lambda k: k[0],ks2))\n",
    "\n",
    "plt.scatter(kx,Es2[:,0])\n",
    "plt.scatter(kx,Es2[:,1])\n",
    "plt.scatter(kx,Es2[:,2])\n",
    "plt.scatter(kx,Es2[:,3])\n",
    "plt.scatter(kx,Es2[:,4])\n",
    "plt.scatter(kx,Es2[:,5])\n",
    "plt.title(r\"Energy band of Cu along $k_x$ axis\")\n",
    "plt.xlabel(r\"$k_x$ (Bohr)\")\n",
    "plt.ylabel(\"Energy (Hatree)\")\n",
    "plt.show()"
   ]
  },
  {
   "cell_type": "code",
   "execution_count": null,
   "metadata": {},
   "outputs": [],
   "source": []
  }
 ],
 "metadata": {
  "kernelspec": {
   "display_name": ".venv",
   "language": "python",
   "name": "python3"
  },
  "language_info": {
   "codemirror_mode": {
    "name": "ipython",
    "version": 3
   },
   "file_extension": ".py",
   "mimetype": "text/x-python",
   "name": "python",
   "nbconvert_exporter": "python",
   "pygments_lexer": "ipython3",
   "version": "3.8.10"
  }
 },
 "nbformat": 4,
 "nbformat_minor": 2
}
