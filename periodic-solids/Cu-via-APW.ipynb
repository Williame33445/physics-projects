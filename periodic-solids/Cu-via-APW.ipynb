{
 "cells": [
  {
   "cell_type": "markdown",
   "metadata": {},
   "source": [
    "# Finding Cu crystal ground state via the Augmented Plane method\n",
    "\n",
    "This project is adapted from Thijssen and uses data taken from Energy Band Structure of Copper by Glenn A. Burdick.\n",
    "\n",
    "## Theory\n",
    "\n",
    "APW is a method for solving the single particle Schrodinger equation in a crystal. It uses the variational principle in the plane wave basis (this is viable due to Bloch's theorem). A basis element for an eigenstate labelled $\\vec{k}$ is:\n",
    "\n",
    "$$\\psi_{\\vec{k} + \\vec{K}} = e^{i(\\vec{k} + \\vec{K})\\cdot\\vec{r}}\\tag{1}$$\n",
    "\n",
    "Due to the size of the potential near the nuclei, the basis set required is too large. APW solves this problem with the Muffin approximation. The equation near the nuclei ($r<R$) is solved exactly and related to the plane waves via boundary conditions at $R$. This allows for the variational method to be applied efficiently. For a full description of the theory see Thijssen. \n",
    "\n",
    "## Implementation\n",
    "\n",
    "The variational equations are not linear, making the problem much harder to solve. In this implementation, a brute force approach has been followed. For a given $\\vec{k}$, a list of energies (mesh) over a certain range is defined; the determinant associated with each of these energies is then found. The energy for $\\vec{k}$ then corresponds to the energy where the determinant changes sign. This approach is not particularly accurate for the size of the mesh considered but it gives the rough band structure.\n",
    "\n",
    "This notebook attempts to apply this method to Cu. The data used for the potential near the nuclei is taken from the paper specified above. The implementation is roughly correct though there may be some errors (it is hard to tell as the root finding method used here isn't very accurate).\n",
    "\n"
   ]
  },
  {
   "cell_type": "code",
   "execution_count": 215,
   "metadata": {},
   "outputs": [],
   "source": [
    "import numpy as np\n",
    "from scipy import special as sp\n",
    "import matplotlib.pyplot as plt"
   ]
  },
  {
   "cell_type": "code",
   "execution_count": 216,
   "metadata": {},
   "outputs": [],
   "source": [
    "#constants\n",
    "a = 6.83087\n",
    "vol = (a**3)/4\n",
    "\n",
    "#simulation parameters\n",
    "l_max = 7\n",
    "nLim = 2\n",
    "\n",
    "#recipricol lattice vectors \n",
    "b1 = 2*np.pi*np.array([-1,1,1])/a\n",
    "b2 = 2*np.pi*np.array([1,-1,1])/a\n",
    "b3 = 2*np.pi*np.array([1,1,-1])/a\n",
    "Ks =[l*b1 + m*b2 + n*b3 for l in range(-nLim,nLim+1) for m in range(-nLim,nLim+1) for n in range(-nLim,nLim+1)]\n",
    "\n"
   ]
  },
  {
   "cell_type": "code",
   "execution_count": 217,
   "metadata": {},
   "outputs": [],
   "source": [
    "#data for potential\n",
    "\n",
    "rsAll = np.linspace(0,2,num=10**3)\n",
    "h = rsAll[1] - rsAll[0]\n",
    "h2 = h**2\n",
    "h12 = h2/12\n",
    "\n",
    "def V(r):\n",
    "    term1 = 29.*np.exp(-2.3151241717834*(r**0.81266614122432) + (2.1984250222603E-2)*(r**4.2246376280056))\n",
    "    term2 = -0.15595606773483*r - (3.1350051440417E-3)*r**2 + (5.1895222293006E-2)*r**3 - (2.8027608685637E-2)*r**4\n",
    "    return -(term1 + term2)/r\n",
    "\n",
    "def f(r,l):\n",
    "    if r == 0:\n",
    "        return 0\n",
    "    return l*(l+1)/r**2 + 2*V(r) #-2E\n",
    "\n",
    "F = np.empty([l_max,len(rsAll)])\n",
    "for l in range(l_max):\n",
    "    F[l] = np.vectorize(lambda r: f(r,l))(rsAll)\n",
    "    \n"
   ]
  },
  {
   "cell_type": "code",
   "execution_count": 218,
   "metadata": {},
   "outputs": [],
   "source": [
    "#generate A\n",
    "O = np.empty([len(Ks),len(Ks)])\n",
    "for i,K_i in enumerate(Ks):\n",
    "    for j,K_j in enumerate(Ks):\n",
    "        kDiff = np.linalg.norm(K_i-K_j)\n",
    "        if kDiff == 0:\n",
    "            O[i,j] = 1 - 4*np.pi*(rsAll[-1]**3)/(3*vol)\n",
    "        else:\n",
    "            O[i,j] = -4*np.pi*(rsAll[-1]**2)*sp.spherical_jn(1,kDiff*rsAll[-1])/(vol*kDiff)"
   ]
  },
  {
   "cell_type": "code",
   "execution_count": 219,
   "metadata": {},
   "outputs": [],
   "source": [
    "#code for solution to the muffin part\n",
    "\n",
    "def getRatio(l,E):\n",
    "    Fl = F[l] - 2*E\n",
    "    \n",
    "    us = np.empty(len(rsAll))\n",
    "    us[0] = 0\n",
    "    us[1] = (1-29*rsAll[1]/(l+1))*rsAll[1]**(l+1)\n",
    "\n",
    "    fn = Fl[1]\n",
    "    w0 = 0\n",
    "    w1 = (1 - h12*fn)*us[1]\n",
    "    \n",
    "    for n in range(1,len(rsAll)-1):\n",
    "        w2 = 2*w1 - w0 + h2*us[n]*fn\n",
    "        fn1 = Fl[n+1]\n",
    "        us[n+1] = w2/(1 - h12*fn1)\n",
    "        w0 = w1\n",
    "        w1 = w2\n",
    "        fn = fn1\n",
    "\n",
    "    #taken from: https://www.physics.rutgers.edu/grad/509/src_DFT/APW/apw.cc\n",
    "    v1 = fn1*us[-1]\n",
    "    v0 = Fl[-2]*us[-2]\n",
    "    dudr  = (us[-1]-us[-2])/h + 0.125*h*(3*v1+v0)\n",
    "\n",
    "    return dudr/us[-1] -  1/rsAll[-1]"
   ]
  },
  {
   "cell_type": "code",
   "execution_count": 220,
   "metadata": {},
   "outputs": [],
   "source": [
    "def findDet(k,E):\n",
    "    \"\"\"\n",
    "    Finds variational problem determinant.\n",
    "    \"\"\"\n",
    "\n",
    "    C = np.empty(l_max)\n",
    "    for l in range(l_max):\n",
    "        C[l] = getRatio(l,E)\n",
    "    \n",
    "    \n",
    "    qs = [k + K for K in Ks]\n",
    "\n",
    "    H = np.empty([len(Ks),len(Ks)])\n",
    "    for i in range(len(qs)):\n",
    "        for j in range(i+1):\n",
    "            qiM = np.linalg.norm(qs[i])\n",
    "            qjM = np.linalg.norm(qs[j])\n",
    "            dotij = np.dot(qs[i],qs[j])\n",
    "            cosij = dotij/(qiM*qjM) if qiM*qjM != 0 else 1\n",
    "            H[i,j] = 0.5*dotij*O[i,j]\n",
    "            for l in range(l_max):\n",
    "                deltaD = C[l] - sp.spherical_jn(l,qjM*rsAll[-1],derivative=True)/sp.spherical_jn(l,qjM*rsAll[-1])\n",
    "                H[i,j] += 2*np.pi*(rsAll[-1]**2)*(2*l + 1)*sp.spherical_jn(l,qjM*rsAll[-1])*sp.spherical_jn(l,qiM*rsAll[-1])*sp.eval_legendre(l,cosij)*deltaD/vol\n",
    "            H[j,i] = H[i,j]\n",
    "\n",
    "    \n",
    "\n",
    "    #returns +1 if the determinant is positive and -1 if the determinant is negative\n",
    "    detData = np.linalg.slogdet(H - E*O)\n",
    "    sign = detData[0]\n",
    "    return sign\n"
   ]
  },
  {
   "cell_type": "code",
   "execution_count": 221,
   "metadata": {},
   "outputs": [],
   "source": [
    "def findZero(lst,k):\n",
    "    \"\"\"\n",
    "    Given a list, finds the list elements that change sign and a list the k arrays of the same length.\n",
    "    \"\"\"\n",
    "    ks = []\n",
    "    zeroIndexs = []\n",
    "    for i in range(1,len(lst)):\n",
    "        if lst[i-1]*lst[i] == -1:\n",
    "            ks.append(k)\n",
    "            zeroIndexs.append(int(i))\n",
    "    return ks,zeroIndexs"
   ]
  },
  {
   "cell_type": "code",
   "execution_count": 222,
   "metadata": {},
   "outputs": [
    {
     "name": "stdout",
     "output_type": "stream",
     "text": [
      "0\n",
      "1\n",
      "2\n",
      "3\n",
      "4\n",
      "5\n",
      "6\n",
      "7\n",
      "8\n",
      "9\n"
     ]
    }
   ],
   "source": [
    "#finds the energies for a list of k's\n",
    "ks = [2*np.pi*np.array([i/10,0,0])/a for i in range(1,11)]\n",
    "EMesh  = np.arange(0,0.8,step=.01)\n",
    "kLst = []\n",
    "indexs = []\n",
    "\n",
    "for i,k in enumerate(ks):\n",
    "    print(i)\n",
    "    detList = [findDet(k,E) for E in EMesh]\n",
    "    tk,tI =  findZero(detList,k)\n",
    "    kLst += tk\n",
    "    indexs += tI\n",
    "\n",
    "Es = list(map(lambda i: EMesh[i], indexs))"
   ]
  },
  {
   "cell_type": "code",
   "execution_count": 223,
   "metadata": {},
   "outputs": [
    {
     "data": {
      "image/png": "[encoded data removed]",
      "text/plain": [
       "<Figure size 640x480 with 1 Axes>"
      ]
     },
     "metadata": {},
     "output_type": "display_data"
    }
   ],
   "source": [
    "#Graphs \n",
    "kx = list(map(lambda k: k[0],kLst))\n",
    "plt.scatter(kx,Es)\n",
    "plt.title(r\"Energy band of Cu along $k_x$ axis\")\n",
    "plt.xlabel(r\"$k_x$ (Bohr)\")\n",
    "plt.ylabel(\"Energy (Hatree)\")\n",
    "plt.show()"
   ]
  },
  {
   "cell_type": "code",
   "execution_count": null,
   "metadata": {},
   "outputs": [],
   "source": []
  }
 ],
 "metadata": {
  "kernelspec": {
   "display_name": ".venv",
   "language": "python",
   "name": "python3"
  },
  "language_info": {
   "codemirror_mode": {
    "name": "ipython",
    "version": 3
   },
   "file_extension": ".py",
   "mimetype": "text/x-python",
   "name": "python",
   "nbconvert_exporter": "python",
   "pygments_lexer": "ipython3",
   "version": "3.8.10"
  }
 },
 "nbformat": 4,
 "nbformat_minor": 2
}
