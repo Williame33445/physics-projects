{
 "cells": [
  {
   "cell_type": "markdown",
   "metadata": {},
   "source": [
    "# Finding Cu crystal band structure via the Augmented Plane method\n",
    "\n",
    "This project is adapted from (Thijssen, 2013, p. 135) and uses the potential used in that book.\n",
    "\n",
    "## Theory\n",
    "\n",
    "APW is a method for solving the single particle Schrodinger equation in a crystal. It uses the variational principle in the plane wave basis (this is viable due to Bloch's theorem (Griffiths, 2018, p. 239)). A basis element for an eigenstate labelled $\\vec{k}$ is (Thijssen, 2013, p. 134):\n",
    "\n",
    "$$\\psi_{\\vec{k} + \\vec{K}} = e^{i(\\vec{k} + \\vec{K})\\cdot\\vec{r}}\\tag{1}$$\n",
    "\n",
    "Due to the size of the potential near the nuclei, the basis set required is too large. APW solves this problem with the Muffin approximation. A basis is used that solves the equation near the nuclei ($r<R$) exactly and is a plane wave in the $r>R$ region (these solutions correspond to an exact solution when $r<R$ and a constant potential when $r>R$, for more details see (Slater, 1937, p. 846)). The two parts of the solution are related via boundary conditions at $R$. This allows for the variational method to be applied efficiently. For a full description of the theory see (Thijssen, 2013, p. 135) or (Haule, 2015) or (Slater, 1937, p. 846). For a more in-depth calculation, see (Burdick, 1962, p.138).\n",
    "\n",
    "## Implementation\n",
    "\n",
    "The variational equations are not linear, making the problem much harder to solve. In this implementation, a brute force approach has been followed. For a given $\\vec{k}$, a list of energies (mesh) over a certain range is defined; the determinant associated with each of these energies is then found. The energies for $\\vec{k}$ then corresponds to the energies where the determinant changes sign.\n",
    "\n",
    "This notebook applies this method to Cu between $\\Gamma = \\vec{0}$ and $X = \\frac{2\\pi}{a}\\vec{x}$. The band structure found corresponds to the experimental data (Thijssen, 2013, p. 140). Note that one of the higher energy bands is not found, this is simply due to the mesh used not being fine enough.\n",
    "\n"
   ]
  },
  {
   "cell_type": "code",
   "execution_count": 17,
   "metadata": {},
   "outputs": [],
   "source": [
    "import numpy as np\n",
    "from scipy import special as sp\n",
    "import matplotlib.pyplot as plt\n",
    "import itertools"
   ]
  },
  {
   "cell_type": "code",
   "execution_count": 18,
   "metadata": {},
   "outputs": [],
   "source": [
    "#constants\n",
    "a = 6.83087\n",
    "vol = (a**3)/4\n",
    "\n",
    "#simulation parameters\n",
    "l_max = 6\n",
    "cut = 4\n",
    "N = 10**3"
   ]
  },
  {
   "cell_type": "code",
   "execution_count": 19,
   "metadata": {},
   "outputs": [],
   "source": [
    "#define recipricol lattice vectors\n",
    "b1 = 2*np.pi*np.array([-1,1,1])/a\n",
    "b2 = 2*np.pi*np.array([1,-1,1])/a\n",
    "b3 = 2*np.pi*np.array([1,1,-1])/a\n",
    "\n",
    "Ks = [l*b1 + m*b2 + n*b3 for l,m,n in itertools.product(range(-cut,cut+1), repeat=3) \n",
    "      if np.linalg.norm(l*b1 + m*b2 + n*b3) < cut]\n",
    "nKs = len(Ks)\n",
    "\n",
    "#define muffin tin mesh\n",
    "rs = np.linspace(0,2.4,num=N)\n",
    "r_max = rs[-1]\n",
    "h = rs[1] - rs[0]\n",
    "h2 = h**2\n",
    "h12 = h2/12\n"
   ]
  },
  {
   "cell_type": "code",
   "execution_count": 20,
   "metadata": {},
   "outputs": [
    {
     "name": "stderr",
     "output_type": "stream",
     "text": [
      "C:\\Users\\willi\\AppData\\Local\\Temp\\ipykernel_3868\\3736397557.py:5: RuntimeWarning: divide by zero encountered in divide\n",
      "  return -(term1 + term2)/r\n",
      "C:\\Users\\willi\\AppData\\Local\\Temp\\ipykernel_3868\\3736397557.py:8: RuntimeWarning: invalid value encountered in divide\n",
      "  fls = np.array([l*(l+1)/rs**2 for l in range(l_max)])\n",
      "C:\\Users\\willi\\AppData\\Local\\Temp\\ipykernel_3868\\3736397557.py:8: RuntimeWarning: divide by zero encountered in divide\n",
      "  fls = np.array([l*(l+1)/rs**2 for l in range(l_max)])\n"
     ]
    }
   ],
   "source": [
    "#deduce some of muffin tin f values \n",
    "def V(r):\n",
    "    term1 = 29.*np.exp(-2.3151241717834*(r**0.81266614122432) + (2.1984250222603E-2)*(r**4.2246376280056))\n",
    "    term2 = -0.15595606773483*r - (3.1350051440417E-3)*r**2 + (5.1895222293006E-2)*r**3 - (2.8027608685637E-2)*r**4\n",
    "    return -(term1 + term2)/r\n",
    "\n",
    "Vs = V(rs)\n",
    "fls = np.array([l*(l+1)/rs**2 for l in range(l_max)])\n",
    "fls[:,0] = np.zeros(l_max)\n"
   ]
  },
  {
   "cell_type": "code",
   "execution_count": 21,
   "metadata": {},
   "outputs": [],
   "source": [
    "#generate A\n",
    "A = np.empty([nKs,nKs])\n",
    "for i in range(nKs):\n",
    "    A[i,i] = 1 - 4*np.pi*(r_max**3)/(3*vol)\n",
    "    for j in range(i):\n",
    "        kDiff = np.linalg.norm(Ks[i]-Ks[j])\n",
    "        A[i,j] = -4*np.pi*(r_max**2)*sp.spherical_jn(1,kDiff*r_max)/(vol*kDiff)\n",
    "        A[j,i] = A[i,j]"
   ]
  },
  {
   "cell_type": "code",
   "execution_count": 22,
   "metadata": {},
   "outputs": [],
   "source": [
    "#code for solution to the muffin part\n",
    "def getRatio(l,E):\n",
    "    fs = fls[l] + 2*(Vs - E) \n",
    "    \n",
    "    us = np.empty(N)\n",
    "    us[0] = 0\n",
    "    us[1] = rs[1]**(l+1)\n",
    "\n",
    "    fn = fs[1]\n",
    "    w0 = 0\n",
    "    w1 = (1 - h12*fn)*us[1]\n",
    "    \n",
    "    for n in range(1,N-1):\n",
    "        w2 = 2*w1 - w0 + h2*us[n]*fn\n",
    "        fn1 = fs[n+1]\n",
    "        us[n+1] = w2/(1 - h12*fn1)\n",
    "        w0 = w1\n",
    "        w1 = w2\n",
    "        fn = fn1\n",
    " \n",
    "    dudr  = (us[-1]-us[-2])/h\n",
    "\n",
    "    return dudr/us[-1] -  1/r_max\n"
   ]
  },
  {
   "cell_type": "code",
   "execution_count": 23,
   "metadata": {},
   "outputs": [],
   "source": [
    "def findDet(k,E):\n",
    "    \"\"\"\n",
    "    Finds variational problem determinant.\n",
    "    \"\"\"\n",
    "\n",
    "    #set up k dependent matricies \n",
    "    B = np.empty([nKs,nKs])\n",
    "    C = np.empty([l_max,nKs,nKs])\n",
    "    qs = [k + K for K in Ks]\n",
    "\n",
    "    #find B and C\n",
    "    for i in range(nKs):\n",
    "        qi = np.linalg.norm(qs[i])\n",
    "        for j in range(i+1):\n",
    "            qj = np.linalg.norm(qs[j])\n",
    "            qDot = qs[i] @ qs[j]\n",
    "            B[i,j] = A[i,j]*qDot/2\n",
    "            cosij = qDot/(qi*qj) if qi != 0 and qj != 0 else 1\n",
    "            for l in range(l_max): \n",
    "                C[l,i,j] = (2*l + 1)*2*np.pi*(r_max**2)*sp.eval_legendre(l,cosij)*sp.spherical_jn(l,qi*r_max)*sp.spherical_jn(l,qj*r_max)/vol\n",
    "                C[l,j,i] = C[l,i,j]\n",
    "            B[j,i] = B[i,j]\n",
    "            \n",
    "    #find H\n",
    "    H = -E*A + B\n",
    "    for l in range(l_max):\n",
    "        H += C[l]*getRatio(l,E)\n",
    "    \n",
    "    #find det and return\n",
    "    return np.linalg.det(H)\n"
   ]
  },
  {
   "cell_type": "code",
   "execution_count": 24,
   "metadata": {},
   "outputs": [],
   "source": [
    "def findZero(lst,k):\n",
    "    \"\"\"\n",
    "    Given a list, finds the list elements that change sign and a list the k arrays of the same length.\n",
    "    \"\"\"\n",
    "    \n",
    "    ks = []\n",
    "    zeroIndexs = []\n",
    "    for i in range(1,len(lst)): \n",
    "        if lst[i-1]*lst[i] < 0:\n",
    "            ks.append(k)\n",
    "            zeroIndexs.append(int(i))\n",
    "    return ks,zeroIndexs"
   ]
  },
  {
   "cell_type": "code",
   "execution_count": 25,
   "metadata": {},
   "outputs": [],
   "source": [
    "#finds the energies for a list of k's\n",
    "ks = [2*np.pi*np.array([i/20,0,0])/a for i in range(1,21)]\n",
    "EMesh  = np.arange(-0.04,0.3,step=.005)\n",
    "kLst = []\n",
    "indexs = []\n",
    "\n",
    "for i,k in enumerate(ks):\n",
    "    detList = [findDet(k,E) for E in EMesh]\n",
    "    tk,tI =  findZero(detList,k)\n",
    "    kLst += tk\n",
    "    indexs += tI\n",
    "\n",
    "Es = list(map(lambda i: EMesh[i], indexs))\n"
   ]
  },
  {
   "cell_type": "code",
   "execution_count": 26,
   "metadata": {},
   "outputs": [
    {
     "data": {
      "image/png": "[encoded data removed]",
      "text/plain": [
       "<Figure size 640x480 with 1 Axes>"
      ]
     },
     "metadata": {},
     "output_type": "display_data"
    }
   ],
   "source": [
    "#Graphs \n",
    "kx = list(map(lambda k: k[0],kLst))\n",
    "plt.scatter(kx,Es,s=10)\n",
    "plt.title(r\"Energy band of Cu between $\\Gamma$ and $X$\")\n",
    "plt.xlabel(r\"$k_x$ (Bohr)\")\n",
    "plt.ylabel(\"Energy (Hatree)\")\n",
    "plt.show()"
   ]
  },
  {
   "cell_type": "markdown",
   "metadata": {},
   "source": [
    "## References \n",
    "\n",
    "Thijseen J., 2013. Computational Physics. Cambridge: Cambridge University Press\n",
    "\n",
    "Griffiths D., 2018. Introduction To Quantum Mechanics.  Cambridge: Cambridge University Press\n",
    "\n",
    "Burdick, G., 1962. Energy Band Structure of Copper. Physical Review, Volume 129, pp. 138-150.\n",
    "\n",
    "Haule, K., 2015. Application of DFT to crystals. [Online] \n",
    "Available at: https://www.physics.rutgers.edu/grad/509/APW.pdf\n",
    "[Accessed 9 August 2024].\n",
    "\n",
    "Slater, J., 1937. Wave Functions in a Periodic Potential. Physical Review, Volume 51, pp. 846-851.\n",
    "\n",
    "\n",
    "\n",
    "\n",
    "\n"
   ]
  },
  {
   "cell_type": "markdown",
   "metadata": {},
   "source": []
  }
 ],
 "metadata": {
  "kernelspec": {
   "display_name": ".venv",
   "language": "python",
   "name": "python3"
  },
  "language_info": {
   "codemirror_mode": {
    "name": "ipython",
    "version": 3
   },
   "file_extension": ".py",
   "mimetype": "text/x-python",
   "name": "python",
   "nbconvert_exporter": "python",
   "pygments_lexer": "ipython3",
   "version": "3.8.10"
  }
 },
 "nbformat": 4,
 "nbformat_minor": 2
}
