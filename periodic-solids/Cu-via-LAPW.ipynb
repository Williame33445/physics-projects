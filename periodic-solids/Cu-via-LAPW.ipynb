{
 "cells": [
  {
   "cell_type": "markdown",
   "metadata": {},
   "source": [
    "# LAPW project\n",
    "\n",
    "This project is adapted from Thijssen and uses data taken from Energy Band Structure of Copper by Glenn A. Burdick.\n",
    "\n",
    "This is currently broken."
   ]
  },
  {
   "cell_type": "code",
   "execution_count": 4,
   "metadata": {},
   "outputs": [],
   "source": [
    "import numpy as np\n",
    "from scipy import special as sp\n",
    "import matplotlib.pyplot as plt\n",
    "from scipy.linalg import eigh\n"
   ]
  },
  {
   "cell_type": "code",
   "execution_count": 5,
   "metadata": {},
   "outputs": [],
   "source": [
    "#constants\n",
    "a = 6.83087\n",
    "vol = 3*(a**3)/4\n",
    "\n",
    "#simulation parameters\n",
    "l_max = 10\n",
    "nLim = 2\n",
    "\n",
    "#recipricol lattice vectors \n",
    "b1 = 2*np.pi*np.array([-1,1,1])/a\n",
    "b2 = 2*np.pi*np.array([1,-1,1])/a\n",
    "b3 = 2*np.pi*np.array([1,1,-1])/a\n",
    "Ks =[l*b1 + m*b2 + n*b3 for l in range(-nLim,nLim+1) for m in range(-nLim,nLim+1) for n in range(-nLim,nLim+1)]\n",
    "\n"
   ]
  },
  {
   "cell_type": "code",
   "execution_count": 94,
   "metadata": {},
   "outputs": [],
   "source": [
    "h = 0.005\n",
    "rs = np.arange(0,2,step=h)\n",
    "r_max = rs[-2]\n",
    "\n",
    "def V(r):\n",
    "    term1 = 29.*np.exp(-2.3151241717834*(r**0.81266614122432) + (2.1984250222603E-2)*(r**4.2246376280056))\n",
    "    term2 = -0.15595606773483*r - (3.1350051440417E-3)*r**2 + (5.1895222293006E-2)*r**3 - (2.8027608685637E-2)*r**4\n",
    "    return term1 + term2\n",
    "\n",
    "def simpsons(fs):\n",
    "    sum1 = fs[0] + fs[-1]\n",
    "    fsNoEnds = fs[1:-1]\n",
    "    sum2 = 4*np.sum(fsNoEnds[::2])\n",
    "    sum3 = 2*np.sum(fsNoEnds[1::2])\n",
    "    return h*(sum1 + sum2 + sum3)/3\n"
   ]
  },
  {
   "cell_type": "code",
   "execution_count": 95,
   "metadata": {},
   "outputs": [],
   "source": [
    "\n",
    "def getAllUs(l,E):\n",
    "    def g(r):\n",
    "        if r == 0:\n",
    "            return 0\n",
    "        return l*(l+1)/r**2 + 2*(V(r) - E)\n",
    "    \n",
    "    us = np.empty(len(rs))\n",
    "    us[0] = 0\n",
    "    us[1] = 10\n",
    "    \n",
    "    for n in range(1,len(rs)-1):\n",
    "        D = 2*us[n]*(1 + 5*(h**2)*g(rs[n])/12) - us[n-1]*(1 - (h**2)*g(rs[n-1])/12)\n",
    "        N = 1 - (h**2)*g(rs[n+1])/12\n",
    "        us[n+1] = D/N\n",
    "\n",
    "    return us/np.sqrt(simpsons(us**2))\n",
    "\n"
   ]
  },
  {
   "cell_type": "code",
   "execution_count": 96,
   "metadata": {},
   "outputs": [],
   "source": [
    "def getuDots(l,E,usR):\n",
    "    def g(r):\n",
    "        if r == 0:\n",
    "            return 0\n",
    "        return l*(l+1)/r**2 + 2*(V(r) - E)\n",
    "    \n",
    "    def s(r):\n",
    "        index = list(rs).index(r)\n",
    "        return -2*usR[index]\n",
    "\n",
    "\n",
    "    usPar = np.empty(len(rs))\n",
    "    usPar[0] = 0\n",
    "    usPar[1] = usR[1] #?\n",
    "    \n",
    "    for n in range(1,len(rs)-1):\n",
    "        D = (2*usPar[n]*(1 + 5*(h**2)*g(rs[n])/12) - usPar[n-1]*(1 - (h**2)*g(rs[n-1])/12) + (h**2)*(s(rs[n-1]) + 10*s(rs[n]) + s(rs[n+1]))/12)\n",
    "        N = (1 - (h**2)*g(rs[n+1])/12)\n",
    "        usPar[n+1] = D/N\n",
    "\n",
    "    #orthogonalise\n",
    "    homoConstant = -simpsons(usPar*usR)/simpsons(usR**2)\n",
    "\n",
    "    return 0.5*(homoConstant*usR + usPar) #due to units\n"
   ]
  },
  {
   "cell_type": "code",
   "execution_count": 97,
   "metadata": {},
   "outputs": [],
   "source": [
    "\n",
    "\n",
    "def getE(k,E_p): \n",
    "    RMax = np.empty(l_max)\n",
    "    RDashMax = np.empty(l_max)\n",
    "    RDotMax = np.empty(l_max)\n",
    "    RDotDashMax = np.empty(l_max)\n",
    "    N = np.empty(l_max)\n",
    "\n",
    "    for l in range(l_max):\n",
    "        us = getAllUs(l,E_p)\n",
    "        RMax[l] = us[-2]/r_max\n",
    "        RDashMax[l] = (us[-1] - us[-3])/(2*h*r_max) - us[-2]/(r_max**2)\n",
    "\n",
    "        uDots = (getAllUs(l,E_p+0.0005) - getAllUs(l,E_p-0.0005))/(2*0.001) #getuDots(l,E_p,us)\n",
    "        RDotMax[l] = uDots[-2]/r_max\n",
    "        RDotDashMax[l] = (uDots[-1] - uDots[-3])/(2*h*r_max) - uDots[-2]/(r_max**2)\n",
    "\n",
    "        #print((r_max**2)*(RDashMax[l]*RDotMax[l] - RMax[l]*RDotDashMax[l])) \n",
    "\n",
    "        N[l] = simpsons(uDots**2)\n",
    "\n",
    "\n",
    "    #define functions required to calcuate matricies\n",
    "    def a(l,q):\n",
    "        qMag = np.linalg.norm(q)\n",
    "        return sp.spherical_jn(l,r_max*qMag,derivative=True)*qMag*RDotMax[l] - sp.spherical_jn(l,r_max*qMag)*RDotDashMax[l]\n",
    "        \n",
    "    def b(l,q):\n",
    "        qMag = np.linalg.norm(q) \n",
    "        return sp.spherical_jn(l,r_max*qMag)*RDashMax[l] - sp.spherical_jn(l,r_max*qMag,derivative=True)*qMag*RMax[l]\n",
    "\n",
    "    def U(K):\n",
    "        KMag = np.linalg.norm(K)\n",
    "        if KMag == 0:\n",
    "            return 1 - 4*np.pi*(r_max**3)/(3*vol)\n",
    "        return -4*np.pi*(r_max**2)*sp.spherical_jn(1,KMag*r_max)/(KMag*vol)\n",
    "\n",
    "    def s(q1,q2,l):\n",
    "        return a(l,q1)*a(l,q2) + b(l,q1)*b(l,q2)*N[l]\n",
    "    \n",
    "    def gamma(q1,q2,l):\n",
    "        q1Mag = np.linalg.norm(q1)\n",
    "        q2Mag = np.linalg.norm(q2)\n",
    "\n",
    "        term1 = RDashMax[l]*RDotMax[l]*(sp.spherical_jn(l,r_max*q1Mag,derivative=True)*q1Mag*sp.spherical_jn(l,r_max*q2Mag) + sp.spherical_jn(l,r_max*q2Mag,derivative=True)*q2Mag*sp.spherical_jn(l,r_max*q1Mag))\n",
    "        term2 = RDashMax[l]*RDotDashMax[l]*sp.spherical_jn(l,r_max*q1Mag)*sp.spherical_jn(l,r_max*q2Mag)\n",
    "        term3 = RMax[l]*RDotMax[l]*q1Mag*q2Mag*sp.spherical_jn(l,r_max*q1Mag,derivative=True)*sp.spherical_jn(l,r_max*q2Mag,derivative=True)\n",
    "\n",
    "        return term1 - term2 - term3\n",
    "\n",
    "\n",
    "    #calculate matricies\n",
    "    qs = [k + K for K in Ks]\n",
    "\n",
    "    #find overlap matrix\n",
    "    S = np.empty([len(Ks),len(Ks)])\n",
    "\n",
    "    for i,q_i in enumerate(qs):\n",
    "        for j,q_j  in enumerate(qs):\n",
    "            cosThetaij = np.dot(q_i,q_j)/(np.linalg.norm(q_i)*np.linalg.norm(q_j))\n",
    "            S[i,j] = U(q_i - q_j)\n",
    "            for l in range(l_max):\n",
    "                S[i,j] += 4*np.pi*(r_max**4)*(2*l + 1)*sp.eval_legendre(l,cosThetaij)*s(q_i,q_j,l)/vol\n",
    "    \n",
    "    #find Hamiltonian\n",
    "    H = np.empty([len(Ks),len(Ks)])\n",
    "\n",
    "    for i,q_i in enumerate(qs):\n",
    "        for j,q_j  in enumerate(qs):\n",
    "            H[i,j] = np.dot(q_i,q_j)*U(q_i - q_j)\n",
    "            for l in range(l_max):\n",
    "                H[i,j] += 4*np.pi*(r_max**4)*(2*l + 1)*sp.eval_legendre(l,E_p*s(q_i,q_j,l) + gamma(q_i,q_j,l))/vol\n",
    "\n",
    "    eigenVal,eigenVec = eigh(H,S)\n",
    "    return eigenVal"
   ]
  },
  {
   "cell_type": "code",
   "execution_count": 98,
   "metadata": {},
   "outputs": [],
   "source": [
    "#finds the energies for a list of k's\n",
    "ks2 = [2*np.pi*np.array([i/10,0,0])/a for i in range(1,11)]\n",
    "Es2 = np.empty([len(ks2),4])\n",
    "\n",
    "for i,k in enumerate(ks2):\n",
    "    sol = getE(k,0)\n",
    "    for j in range(4):\n",
    "        Es2[i,j] = sol[j]\n"
   ]
  },
  {
   "cell_type": "code",
   "execution_count": null,
   "metadata": {},
   "outputs": [
    {
     "data": {
      "image/png": "[encoded data removed]",
      "text/plain": [
       "<Figure size 640x480 with 1 Axes>"
      ]
     },
     "metadata": {},
     "output_type": "display_data"
    }
   ],
   "source": [
    "#Graphs \n",
    "kx = list(map(lambda k: k[0],ks2))\n",
    "\n",
    "for i in range(4):\n",
    "    plt.scatter(kx,Es2[:,i])\n",
    "plt.title(r\"Energy band of Cu along $k_x$ axis\")\n",
    "plt.xlabel(r\"$k_x$ (Bohr)\")\n",
    "plt.ylabel(\"Energy (Hatree)\")\n",
    "plt.show()"
   ]
  },
  {
   "cell_type": "code",
   "execution_count": null,
   "metadata": {},
   "outputs": [],
   "source": []
  }
 ],
 "metadata": {
  "kernelspec": {
   "display_name": ".venv",
   "language": "python",
   "name": "python3"
  },
  "language_info": {
   "codemirror_mode": {
    "name": "ipython",
    "version": 3
   },
   "file_extension": ".py",
   "mimetype": "text/x-python",
   "name": "python",
   "nbconvert_exporter": "python",
   "pygments_lexer": "ipython3",
   "version": "3.8.10"
  }
 },
 "nbformat": 4,
 "nbformat_minor": 2
}
