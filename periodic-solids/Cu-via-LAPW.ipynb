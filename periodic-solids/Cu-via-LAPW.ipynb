{
 "cells": [
  {
   "cell_type": "markdown",
   "metadata": {},
   "source": [
    "May put this in same file as APW eventually"
   ]
  },
  {
   "cell_type": "code",
   "execution_count": 1,
   "metadata": {},
   "outputs": [],
   "source": [
    "import numpy as np\n",
    "from scipy import special as sp\n",
    "import matplotlib.pyplot as plt"
   ]
  },
  {
   "cell_type": "code",
   "execution_count": 2,
   "metadata": {},
   "outputs": [],
   "source": [
    "#constants\n",
    "a = 6.83087\n",
    "vol = 3*(a**3)/4\n",
    "\n",
    "#simulation parameters\n",
    "l_max = 5\n",
    "nLim = 2\n",
    "\n",
    "#recipricol lattice vectors \n",
    "b1 = 2*np.pi*np.array([-1,1,1])/a\n",
    "b2 = 2*np.pi*np.array([1,-1,1])/a\n",
    "b3 = 2*np.pi*np.array([1,1,-1])/a\n",
    "Ks =[l*b1 + m*b2 + n*b3 for l in range(-nLim,nLim+1) for m in range(-nLim,nLim+1) for n in range(-nLim,nLim+1)]\n",
    "\n"
   ]
  },
  {
   "cell_type": "code",
   "execution_count": 3,
   "metadata": {},
   "outputs": [
    {
     "name": "stderr",
     "output_type": "stream",
     "text": [
      "C:\\Users\\willi\\AppData\\Local\\Temp\\ipykernel_21188\\2533544679.py:17: RuntimeWarning: divide by zero encountered in divide\n",
      "  Vs = -twoZ/(2*rsAll) #factor of 2 is due to units\n"
     ]
    }
   ],
   "source": [
    "#data for potential\n",
    "\n",
    "rsAll = np.array([0,0.005,0.010,0.015,0.020,0.025,0.030,0.035,0.040,\n",
    "              0.050,0.060,0.070,0.080,0.090,0.100,\n",
    "              0.120,0.140,0.160,0.180,0.200,0.220,0.240,0.260,0.280,0.300,\n",
    "              0.340,0.380,0.420,0.460,0.500,0.540,0.580,0.620,0.660,0.700\n",
    "              ,0.800,0.900,1.00,1.10,1.20, 1.30, 1.40,\n",
    "       1.60, 2.00, 2.40, 2.80])\n",
    "\n",
    "R = rsAll[-1]\n",
    "\n",
    "twoZ = np.array([58.000\n",
    ",57.500,56.206,54.966,53.797,52.688,51.644,50.656,49.720,47.970,46.358,\n",
    "        44.849,43.420,42.060,40.755,38.333,36.140,34.157,32.359,30.741,29.276,27.917,\n",
    "        26.662,25.462,24.264,22.186,20.470,18.851,17.308,15.965,\n",
    "        14.772,13.625,12.631,11.680,10.874,9.099,7.782,\n",
    "        6.749,5.963,5.310,4.778,4.284,3.533,\n",
    "        2.724,2.277,2.629])\n",
    "Vs = -twoZ/(2*rsAll) #factor of 2 is due to units\n"
   ]
  },
  {
   "cell_type": "code",
   "execution_count": 4,
   "metadata": {},
   "outputs": [],
   "source": [
    "#code for solution to the muffin part\n",
    "\n",
    "def w(x,t,h,f):\n",
    "    \"\"\"\n",
    "    w function in Numerov's method.\n",
    "    \"\"\"\n",
    "    if x == 0:\n",
    "        return 0\n",
    "    return (1 - f(t)*(h**2)/12)*x\n",
    "\n",
    "def wInv(w,t,h,f):\n",
    "    \"\"\"\n",
    "    Inverse w function in Numerov's method.\n",
    "    \"\"\"\n",
    "    return w/(1 - f(t)*(h**2)/12)\n",
    "\n",
    "\n",
    "def getRatio(l,E):\n",
    "    \"\"\"\n",
    "    Finds ratio required for the matrix calculation.\n",
    "    \"\"\"\n",
    "    def f(r):\n",
    "        \"\"\"\n",
    "        Finds f function for Numerov algorithm.\n",
    "        \"\"\"\n",
    "        if r == 0.6:\n",
    "            return l*(l+1)/r**2 - 2*(E + 21.88)\n",
    "        index = list(rsAll).index(r)\n",
    "        return l*(l+1)/r**2 + 2*(Vs[index] - E)\n",
    "\n",
    "    def getUs(rs,us,h,iLen):\n",
    "        \"\"\"\n",
    "        Runs iLen iterations of Numverov algorithm for rs,us lists (us contains only intial conditions).\n",
    "        \"\"\"\n",
    "        for i in range(2,iLen+2):\n",
    "            w_t = w(us[-1],rs[i-1],h,f)\n",
    "            w_tMinush = w(us[-2],rs[i-2],h,f)\n",
    "            w_rPlush = 2*w_t - w_tMinush + us[i-1]*f(rs[i-1])*(h**2)\n",
    "            us.append(wInv(w_rPlush,rs[i],h,f))\n",
    "        return us\n",
    "    \n",
    "    #runs numerov algorithm for the different values of r (different sections of lists have different size h's)\n",
    "    us1 = getUs(rsAll[:9],[rsAll[0]**(l+1),rsAll[1]**(l+1)],0.005,7)\n",
    "\n",
    "    rs2 = np.insert(rsAll[9:15],0,[rsAll[6],rsAll[8]])\n",
    "    us2 = getUs(rs2,[us1[-3],us1[-1]],0.01,6)\n",
    "\n",
    "    rs3 = np.insert(rsAll[15:25],0,[rsAll[12],rsAll[14]])\n",
    "    us3 = getUs(rs3,[us2[-3],us2[-1]],0.02,10)\n",
    "\n",
    "    rs4 = np.insert(rsAll[25:35],0,[rsAll[22],rsAll[24]])\n",
    "    us4 = getUs(rs4,[us3[-3],us3[-1]],0.04,10)\n",
    "    \n",
    "    uAv = (us4[-4] + us4[-3])/2\n",
    "    rs5 = np.insert(rsAll[35:42],0,[0.6,rsAll[34]])\n",
    "    us5 = getUs(rs5,[uAv,us4[-1]],0.1,7)\n",
    "\n",
    "    rs6 = np.insert(rsAll[42:46],0,[rsAll[37],rsAll[41]])\n",
    "    us6 = getUs(rs6,[us5[-5],us5[-1]],0.4,4)\n",
    "\n",
    "    #returns the required ratio\n",
    "    uDotEnd = (us6[-1] - us6[-3])/(2*0.4)\n",
    "    return uDotEnd/us6[-2] - 1/rsAll[-2] "
   ]
  },
  {
   "cell_type": "code",
   "execution_count": null,
   "metadata": {},
   "outputs": [],
   "source": [
    "def a(l,q):\n",
    "        qMag = np.linalg.norm(q)\n",
    "        return None\n",
    "    \n",
    "def b(l,q):\n",
    "    qMag = np.linalg.norm(q) #should these stay inside the loop?\n",
    "    return None\n",
    "\n",
    "def U(K,l):\n",
    "    KMag = np.linalg.norm(K)\n",
    "    if KMag == 0:\n",
    "        return 1 - 4*np.pi*(R**3)/(3*vol)\n",
    "    return -4*np.pi*(R**2)*sp.spherical_jn(l,K*R)/K\n",
    "\n",
    "def s(q1,q2,l,N_l):\n",
    "    return a(l,q1)*a(l,q2) - b(l,q1)*b(l,q2)*N_l"
   ]
  },
  {
   "cell_type": "code",
   "execution_count": null,
   "metadata": {},
   "outputs": [],
   "source": [
    "\n",
    "\n",
    "def getE(k):\n",
    "    #run simulations\n",
    "\n",
    "\n",
    "    #find normalisation conditions\n",
    "    N = None #list/array of l's\n",
    "\n",
    "\n",
    "    #calculate matricies\n",
    "    qs = [k + K for K in Ks]\n",
    "\n",
    "    \n",
    "\n",
    "    \n",
    "    #find overlap matrix\n",
    "    S = np.empty([len(Ks),len(Ks)])\n",
    "\n",
    "    for i,q_i in enumerate(qs):\n",
    "        for j,q_j  in enumerate(qs):\n",
    "            cosThetaij = np.dot(q_i,q_j)/(np.linalg.norm(q_i)*np.linalg.norm(q_j))\n",
    "            S[i,j] = U(q_i - q_j)\n",
    "            for l in range(l_max):\n",
    "                S[i,j] += 4*np.pi*(R**4)*(2*l + 1)*sp.eval_legendre(l,cosThetaij)*s(q_i,q_j,l,N[l])/vol\n",
    "\n",
    "\n",
    "\n",
    "    "
   ]
  }
 ],
 "metadata": {
  "kernelspec": {
   "display_name": ".venv",
   "language": "python",
   "name": "python3"
  },
  "language_info": {
   "codemirror_mode": {
    "name": "ipython",
    "version": 3
   },
   "file_extension": ".py",
   "mimetype": "text/x-python",
   "name": "python",
   "nbconvert_exporter": "python",
   "pygments_lexer": "ipython3",
   "version": "3.8.10"
  }
 },
 "nbformat": 4,
 "nbformat_minor": 2
}
