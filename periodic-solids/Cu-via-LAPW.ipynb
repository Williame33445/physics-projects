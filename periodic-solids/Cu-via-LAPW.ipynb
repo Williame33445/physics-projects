{
 "cells": [
  {
   "cell_type": "markdown",
   "metadata": {},
   "source": [
    "# LAPW project\n",
    "\n",
    "This project is adapted from Thijssen and uses data taken from Energy Band Structure of Copper by Glenn A. Burdick.\n",
    "\n",
    "This is currently broken, I believe that its an issue with units.\n",
    "\n",
    "Stuff used:\n",
    "- Thijssen book\n",
    "- Wave Functions and Energy Levels for Cu+ as Found by the Slater Approximation to the Hartree-Fock Equations paper by Pratt\n",
    "- Energy Band Structure of Copper by Glenn A. Burdick\n",
    "- Use of energy derivative of the radial solution in an\n",
    "augmented plane wave method: application to\n",
    "copper by Koelling and Arbman\n",
    "- APW code from: https://github.com/aromanro/APW/tree/master\n"
   ]
  },
  {
   "cell_type": "code",
   "execution_count": 481,
   "metadata": {},
   "outputs": [],
   "source": [
    "import numpy as np\n",
    "from scipy import special as sp\n",
    "import matplotlib.pyplot as plt\n",
    "from scipy import linalg\n",
    "from scipy import integrate\n",
    "import functools\n",
    "\n"
   ]
  },
  {
   "cell_type": "code",
   "execution_count": 482,
   "metadata": {},
   "outputs": [],
   "source": [
    "#constants\n",
    "a = 6.822\n",
    "vol = 3*(a**3)/4\n",
    "\n",
    "#simulation parameters\n",
    "l_max = 7\n",
    "nLim = 2\n",
    "\n",
    "#recipricol lattice vectors \n",
    "b1 = 2*np.pi*np.array([-1,1,1])/a\n",
    "b2 = 2*np.pi*np.array([1,-1,1])/a\n",
    "b3 = 2*np.pi*np.array([1,1,-1])/a\n",
    "Ks =[l*b1 + m*b2 + n*b3 for l in range(-nLim,nLim+1) for m in range(-nLim,nLim+1) for n in range(-nLim,nLim+1)]\n",
    "\n"
   ]
  },
  {
   "cell_type": "code",
   "execution_count": 483,
   "metadata": {},
   "outputs": [],
   "source": [
    "rs = np.linspace(0,1,num=10**4)\n",
    "h = rs[1] - rs[0]\n",
    "h2 = h**2\n",
    "h12 = h2/12\n",
    "r_max = rs[-2]\n",
    "\n",
    "def V(r):\n",
    "    term1 = 29.*np.exp(-2.3151241717834*(r**0.81266614122432) + (2.1984250222603E-2)*(r**4.2246376280056))\n",
    "    term2 = -0.15595606773483*r - (3.1350051440417E-3)*r**2 + (5.1895222293006E-2)*r**3 - (2.8027608685637E-2)*r**4\n",
    "    return -(term1 + term2)/r\n",
    "\n",
    "Es = [0.4,0.4,0.4,0.5,0.6,0.8,0.10,1.2,1.4] \n",
    "#explain where these come from, are these required to get good results\n",
    "\n",
    "#empty global variables\n",
    "RMax = np.empty(l_max)\n",
    "RDashMax = np.empty(l_max)\n",
    "RDotMax = np.empty(l_max)\n",
    "RDotDashMax = np.empty(l_max)\n",
    "N = np.empty(l_max)"
   ]
  },
  {
   "cell_type": "code",
   "execution_count": 484,
   "metadata": {},
   "outputs": [],
   "source": [
    "def getAllUs(l,E):\n",
    "    def f(r):\n",
    "        if r == 0:\n",
    "            return 0\n",
    "        return l*(l+1)/r**2 + 2*V(r) - E\n",
    "    \n",
    "    us = np.empty(len(rs))\n",
    "    us[0] = 0\n",
    "    us[1] = rs[1]**(l+1)*(1-29*rs[1]/(l+1))\n",
    "\n",
    "    fn = f(rs[1])\n",
    "    w0 = 0\n",
    "    w1 = (1 - h12*fn)*us[1]\n",
    "    \n",
    "    for n in range(1,len(rs)-1):\n",
    "        w2 = 2*w1 - w0 + h2*us[n]*fn\n",
    "        fn1 = f(rs[n+1])\n",
    "        us[n+1] = w2/(1 - h12*fn1)\n",
    "        w0 = w1\n",
    "        w1 = w2\n",
    "        fn = fn1\n",
    "\n",
    "    return us/np.sqrt(integrate.simpson(us**2,x=rs))\n",
    "\n"
   ]
  },
  {
   "cell_type": "code",
   "execution_count": 485,
   "metadata": {},
   "outputs": [],
   "source": [
    "def getuDots(l,usR):\n",
    "    def f(r):\n",
    "        if r == 0:\n",
    "            return 0\n",
    "        return l*(l+1)/r**2 + 2*V(r) - Es[l]\n",
    "    \n",
    "\n",
    "    us = np.empty(len(rs))\n",
    "    us[0] = 0\n",
    "    us[1] = rs[1]**(l+1)*(1-29*rs[1]/(l+1))\n",
    "\n",
    "    fn = f(rs[1])\n",
    "    ws0 = 0\n",
    "    ws1 = us[1]*(1 - h12*fn) + h12*usR[1]\n",
    "\n",
    "    \n",
    "    for n in range(1,len(rs)-1):\n",
    "        ws2 = 2*ws1 - ws0 + h2*(us[n]*fn - usR[n])\n",
    "        fn1 = f(rs[n+1])\n",
    "        us[n+1] = (ws2 - h12*usR[n+1])/(1 - h12*fn1)\n",
    "        ws0 = ws1\n",
    "        ws1 = ws2\n",
    "        fn = fn1\n",
    "\n",
    "    #orthogonalise\n",
    "    homoConstant = -integrate.simpson(us*usR,x=rs)/integrate.simpson(usR**2,x=rs)\n",
    "\n",
    "    return homoConstant*usR + us\n",
    "\n",
    "def test(l,uDots,us):\n",
    "    print(f\"---{l}---\")\n",
    "    for n in range(1,len(rs)-1):\n",
    "        dev = abs(((l*(l+1)/(rs[n]**2) + 2*V(rs[n]) - Es[l])*uDots[n] - (uDots[n+1] + uDots[n-1] - 2*uDots[n])/(h**2)) - us[n])\n",
    "        print(f\"{n}: {dev}\")\n"
   ]
  },
  {
   "cell_type": "code",
   "execution_count": 486,
   "metadata": {},
   "outputs": [],
   "source": [
    "#find global variables\n",
    "for l in range(l_max):\n",
    "    #use logarithmic derivative\n",
    "    us = getAllUs(l,Es[l])\n",
    "    RMax[l] = us[-2]/r_max\n",
    "    RDashMax[l] = us[-2]*np.log(us[-1]/us[-3])/(2*h*r_max) - us[-2]/(r_max**2) #log derivative\n",
    "    uDots = getuDots(l,us)\n",
    "    RDotMax[l] = uDots[-2]/r_max\n",
    "    RDotDashMax[l] = uDots[-2]*np.log(uDots[-1]/uDots[-3])/(2*h*r_max) - uDots[-2]/(r_max**2)\n",
    "\n",
    "    #print(uDots -(getAllUs(l,Es[l]+0.0001) - getAllUs(l,Es[l]-0.0001))/(0.0002)) #this is the problem\n",
    "    #print((r_max**2)*(RDashMax[l]*RDotMax[l] - RMax[l]*RDotDashMax[l])) \n",
    "    #print(integrate.simpson(uDots*us))\n",
    "    #if l == l_max-1:\n",
    "    #    test(l,uDots,us)\n",
    "\n",
    "    N[l] = integrate.simpson(uDots**2,x=rs)"
   ]
  },
  {
   "cell_type": "code",
   "execution_count": 487,
   "metadata": {},
   "outputs": [],
   "source": [
    "mConstant = 4*np.pi*(r_max**4)/vol\n",
    "\n",
    "\n",
    "def getE(k): \n",
    "    #define functions required to calcuate matricies\n",
    "    def a(l,q):\n",
    "        qMag = np.linalg.norm(q)\n",
    "        return sp.spherical_jn(l,r_max*qMag,derivative=True)*qMag*RDotMax[l] - sp.spherical_jn(l,r_max*qMag)*RDotDashMax[l]\n",
    "        \n",
    "    def b(l,q):\n",
    "        qMag = np.linalg.norm(q) \n",
    "        return sp.spherical_jn(l,r_max*qMag)*RDashMax[l] - sp.spherical_jn(l,r_max*qMag,derivative=True)*qMag*RMax[l]\n",
    "    \n",
    "    @functools.lru_cache(maxsize=len(Ks)**2)\n",
    "    def U(KMag):\n",
    "        if KMag == 0:\n",
    "            return 1 - 4*np.pi*(r_max**3)/(3*vol)\n",
    "        return -4*np.pi*(r_max**2)*sp.spherical_jn(1,KMag*r_max)/(KMag*vol)\n",
    "\n",
    "    def gamma(q1,q2,l):\n",
    "        q1Mag = np.linalg.norm(q1)\n",
    "        q2Mag = np.linalg.norm(q2)\n",
    "\n",
    "        term1 = RDashMax[l]*RDotMax[l]*(sp.spherical_jn(l,r_max*q1Mag,derivative=True)*q1Mag*sp.spherical_jn(l,r_max*q2Mag) + sp.spherical_jn(l,r_max*q2Mag,derivative=True)*q2Mag*sp.spherical_jn(l,r_max*q1Mag))\n",
    "        term2 = RDashMax[l]*RDotDashMax[l]*sp.spherical_jn(l,r_max*q1Mag)*sp.spherical_jn(l,r_max*q2Mag)\n",
    "        term3 = RMax[l]*RDotMax[l]*q1Mag*q2Mag*sp.spherical_jn(l,r_max*q1Mag,derivative=True)*sp.spherical_jn(l,r_max*q2Mag,derivative=True)\n",
    "\n",
    "        return term1 - term2 - term3\n",
    "\n",
    "\n",
    "    #calculate matricies\n",
    "    qs = [k + K for K in Ks]\n",
    "\n",
    "    S = np.empty([len(Ks),len(Ks)])\n",
    "    H = np.empty([len(Ks),len(Ks)])\n",
    "\n",
    "    for i in range(len(qs)):\n",
    "        for j in range(i+1):\n",
    "            Uij = U(np.linalg.norm(qs[i] - qs[j]))\n",
    "            qi = np.linalg.norm(qs[i])\n",
    "            qj = np.linalg.norm(qs[j])\n",
    "            dotij = np.dot(qs[i],qs[j])\n",
    "            cosThetaij = dotij/(qi*qj) if qi != 0 and qj != 0 else 0\n",
    "            S[i,j] = Uij\n",
    "            H[i,j] = dotij*Uij\n",
    "            \n",
    "            for l in range(l_max):\n",
    "                sij = a(l,qs[i])*a(l,qs[j]) + b(l,qs[i])*b(l,qs[j])*N[l]\n",
    "                S[i,j] += mConstant*(2*l + 1)*sp.eval_legendre(l,cosThetaij)*sij\n",
    "                H[i,j] += mConstant*(2*l + 1)*sp.eval_legendre(l,Es[l]*sij + gamma(qs[i],qs[j],l))\n",
    "            S[j,i] = S[i,j]\n",
    "            H[j,i] = H[i,j]\n",
    "    \n",
    "    return linalg.eigvalsh(H,S)\n"
   ]
  },
  {
   "cell_type": "code",
   "execution_count": 488,
   "metadata": {},
   "outputs": [
    {
     "name": "stdout",
     "output_type": "stream",
     "text": [
      "0\n",
      "1\n",
      "2\n",
      "3\n",
      "4\n",
      "5\n",
      "6\n",
      "7\n",
      "8\n",
      "9\n",
      "10\n",
      "11\n",
      "12\n",
      "13\n",
      "14\n",
      "15\n",
      "16\n",
      "17\n",
      "18\n",
      "19\n",
      "20\n"
     ]
    }
   ],
   "source": [
    "#finds the energies for a list of k's\n",
    "ks2 = [2*np.pi*np.array([i/20,0,0])/a for i in range(21)]\n",
    "Es2 = np.empty([len(ks2),20])\n",
    "\n",
    "for i,k in enumerate(ks2):\n",
    "    print(i)\n",
    "    sol = getE(k)\n",
    "    for j in range(20):\n",
    "        Es2[i,j] = sol[j]\n"
   ]
  },
  {
   "cell_type": "code",
   "execution_count": 491,
   "metadata": {},
   "outputs": [
    {
     "data": {
      "image/png": "[encoded data removed]",
      "text/plain": [
       "<Figure size 640x480 with 1 Axes>"
      ]
     },
     "metadata": {},
     "output_type": "display_data"
    }
   ],
   "source": [
    "#Graphs \n",
    "kx = list(map(lambda k: k[0],ks2))\n",
    "\n",
    "for i in range(1,10):\n",
    "    plt.plot(kx,Es2[:,i]/2)\n",
    "plt.title(r\"Energy band of Cu along $k_x$ axis\")\n",
    "plt.xlabel(r\"$k_x$ (Bohr)\")\n",
    "plt.ylabel(\"Energy (Hatree)\")\n",
    "plt.show()"
   ]
  },
  {
   "cell_type": "code",
   "execution_count": null,
   "metadata": {},
   "outputs": [],
   "source": []
  },
  {
   "cell_type": "code",
   "execution_count": null,
   "metadata": {},
   "outputs": [],
   "source": []
  }
 ],
 "metadata": {
  "kernelspec": {
   "display_name": ".venv",
   "language": "python",
   "name": "python3"
  },
  "language_info": {
   "codemirror_mode": {
    "name": "ipython",
    "version": 3
   },
   "file_extension": ".py",
   "mimetype": "text/x-python",
   "name": "python",
   "nbconvert_exporter": "python",
   "pygments_lexer": "ipython3",
   "version": "3.8.10"
  }
 },
 "nbformat": 4,
 "nbformat_minor": 2
}
