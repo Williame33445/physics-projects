{
 "cells": [
  {
   "cell_type": "markdown",
   "metadata": {},
   "source": [
    "# Hartree Fock (WORK IN PROGRESS)\n",
    "\n",
    "This project uses the Hartree-Fock method to describe simple atoms and molecules. This project used (Thijssen, 2013, p. 43) as a guide, though it goes further than the problems specified in the book. \n",
    "\n",
    "## Theory\n",
    "\n",
    "### Basic approach\n",
    "\n",
    "The full Hamiltonian of a molecular system is given by $(1)$.\n",
    "\n",
    "$$\n",
    "\\hat{H} = \\sum^N_{i=1}\\frac{\\hat{p}_i^2}{2} + \\sum^K_{n=1} \\frac{\\hat{P}_n^2}{2M_n} + \\frac{1}{2}\\sum^N_{i=1}\\sum^N_{i\\neq j}\\frac{1}{|\\vec{r}_i - \\vec{r}_j|} - \\sum^N_{i=1}\\sum^K_{n=1}\\frac{Z_n}{|\\vec{r}_i - \\vec{R}_n|} + \\frac{1}{2}\\sum^K_{n=1}\\sum^K_{m\\neq n}\\frac{Z_n Z_m}{|\\vec{R}_n - \\vec{R}_m|}\\tag{1}\n",
    "$$\n",
    "\n",
    "One of the main problems in molecular physics is to find the eigenstates of $(1)$. It turns out that in most cases analytical solutions are not possible, meaning numerical methods need to be applied.\n",
    "\n",
    "The Hartree-Fock method is a possible numerical method. It uses the Born-Oppenheimer approximation to decouple the electron and nuclei parts (Griffiths, 2018, p. 428),  guesses that the eigenstate is a Slater determinant (Thijssen, 2013, p. 53) and applies variational methods to find an upper bound of the eigenstates. This process reduces $(1)$ to $N$ equations in the form:\n",
    "\n",
    "$$\\hat{F}\\psi_k(\\vec{r},m_s) = \\epsilon_k\\psi_k(\\vec{r},m_s)\\tag{2}$$\n",
    "\n",
    "where $\\psi_k(\\vec{r},m_s)$ is a component of the Slater determinant, $\\hat{F}$ is called the Fock operator (derived in  (Thijssen, 2013, p. 56)) and $\\epsilon_k$ is related to the energy of the total eigenstate.\n",
    "\n",
    "$\\hat{F}$ contains $\\psi_k(\\vec{r},m_s)$ terms in its definition, meaning $(2)$ forms a self-consistency equation. This means $(2)$ does not take the form of an eigen-equation, making it much harder to solve.\n",
    "\n",
    "\n",
    "To solve (2), the variational method is applied again. An upper bound of the total electron energy can then be deduced from $(3)$.\n",
    "\n",
    "$$E = \\frac{1}{2}\\sum\\limits^N_{k=1}\\epsilon_k + \\bra{\\psi_k}-\\frac{\\nabla^2}{2} + \\sum_n\\frac{Z_n}{|\\vec{r}-\\vec{R}_n|}\\ket{\\psi_k}\\tag{3}$$\n",
    "\n",
    "This entire process is the Hatree-Fock method.\n",
    "\n",
    "### Variational method for the Fock Equation\n",
    "\n",
    "For the second application of the variational method, the general form of $\\psi_k(\\vec{r},m_s)$ is guessed. For atomic systems, the most natural guess is a linear combination of Slater-type orbitals (STO). These take the form of $(4)$ (Slater, 1930, p.57).\n",
    "\n",
    "$$\n",
    "\\psi_k(\\vec{r},m_s) = \\sum\\limits_n A_n     r^{n-1}e^{-a_nr}Y_{lm}(\\theta,\\phi)\\chi_{m_s}\\tag{4}\n",
    "$$\n",
    "\n",
    "The coefficients $a_n,A_n$ are then varied to find the stationary $\\epsilon_k$; this corresponds to an upper bound of the eigenstate.\n",
    "\n",
    "However, due to integrals involving STO being hard to calculate, its usually easier to use Gaussian-type orbitals (GTO) (Goings, 2017). These take the form of $(5)$.\n",
    "\n",
    "$$\n",
    "\\psi_k(x,y,z,m_s) = \\sum\\limits_{ijk} A_{ijk} x^iy^jz^ke^{-\\alpha_{ijk}(x^2 + y^2 + z^2)}\\chi_{m_s}\\tag{5}\n",
    "$$  \n",
    "\n",
    "Again, the coefficients $a_{ijk},A_{ijk}$ are then varied to find the stationary $\\epsilon_k$. \n",
    "\n",
    "Whatever basis is chosen, the effect is to transform the problem into a non-linear variational problem. While this can be solved directly, if the $\\alpha_{ijk}$ terms are deduced by some other method, the problem becomes resolvable by (easier) linear methods. This is typically done by either fitting a set of GTOs to an appropriate STO or solving a simpler but appropriate non-linear problem (Thijssen, 2013, p. 67). This project doesn't cover these methods, it only considers the linear method. The $\\alpha_{ijk}$ coefficients used are taken from (Thijssen, 2013, p. 35, p. 50) and (MolSSI, 2020).\n",
    "\n",
    "Given the $\\alpha_{ijk}$ terms, the variational problems can then be written in matrix form as:\n",
    "\n",
    "$$F^+C_k^+ = \\epsilon_k^+SC_k^+,F^-C_k^- = \\epsilon_k^-SC_k^-\\tag{5}$$\n",
    "\n",
    "where $F_{nm}^{\\pm}$ are the matrix elements for the plus/minus parts of the GTO, $S$ is the GTO overlap matrix and $C_k^{\\pm}$ is the representation of $\\psi_k(\\vec{r},\\pm\\frac{\\hbar}{2})$ in the GTO basis (Thijssen, 2013, p. 64).\n",
    "\n",
    "This equation can then be solved iteratively. $F$ is deduced for an initial guess of the $\\psi_k(\\vec{r},m_s)$ 's and the generalised eigenvalue problem is solved. This process is then repeated, using the $\\psi_k(\\vec{r},m_s)$ terms found as the initial guess, until the solution converges. These solutions can then be used to deduce an upper bound of the eigenstate.\n",
    "\n",
    "## Implementation\n",
    "\n",
    "As any basis can be chosen for variational solutions to $(4)$, the matrix elements required to form equation $(5)$ are described in an abstract class called Representation. A subclass of Representation then corresponds to a certain basis. Two subclasses are defined: Rep1sGTO only uses the 1s Gaussian basis and RepGTO considers the general Gaussian basis. In principle, other bases could be added (eg. STO), however this is not implemented here. The matrix elements required for Rep1sGTO are defined in GTO1s_matrix_elements.py; for a derivation of these elements, see (Thijssen, 2013, p. 64). The matrix elements required for RepGTO are found with code taken from (Goings, 2017). These matrix elements are defined in MolecularIntegrals.py.\n",
    "\n",
    "In terms of the actual algorithm, this is implemented in Hartee_Fock.py as a recursive function called iterateHF. The eigenstate that is being calculated is determined by the getTargetEigStates function that is a parameter of iterateHF.\n",
    "\n",
    "## Results\n",
    "\n",
    "Some simple examples of the simulation are given in hartree-fock-calculations.ipynb. Some of the ground state energies found are given in the table below.\n",
    "\n",
    "|  Atom/Molecule   | HTF Energy (hartree) |Experimental Energy (hartree)|\n",
    "| -------- | ------- | -----|\n",
    "| $He$  | -2.855    | -2.862 |\n",
    "| $Li$ | -7.410 | -7.479\n",
    "| $O$    | -74.582    | -75.113\n",
    "\n",
    "Molecular parameters (like bond length) can also be deduced by finding the parameter than minimises the total energy (this is effective as at this level of approximation molecular energy states seem continuous). In hartree-fock-calculations.ipynb, $H_2$ and $H_2O$ are considered. For $H_2$, the bond length found was $1.388$ au. The experimental result is 1.401 au. For $H_2O$, the bond length found was 1.817 au and the angle between bonds found was 107.227 degrees. The experimental values are 1.809 au and 104.5 degrees.\n",
    "\n",
    "# Stuff to do\n",
    "\n",
    "- Modify notes above to make sense in this notebook (add notes on contracted bases and how alphas are deduced)\n",
    "- Need to go over different basis sets and explain advantages.\n",
    "- Pople convention is followed in most cases (Ditchfield, R., Hehre, W., & J.Pople. (1970). Self-Consistent Molecular Orbital Methods. VI. Energy Optimized. The Journal of Chemical Physics, 5001-5006.). Explain.\n",
    "- Clean up code below\n",
    "- look at Kopmann theorm, specra diagrams\n",
    "- look at Generalized X-Ray Scattering Factors ROBERT F. STEWART\n",
    "- using Hartree-Fock approximation to calculate cross-sections due to molecules (Born approx and quantum scattering program?)\n",
    "- more applications (calculation dipole moments + limits to method + ...)\n",
    "- hartree-fock visualisation by density plots (use mesh method and add getValue(x,y,z) to GTO and CGTO)\n"
   ]
  },
  {
   "cell_type": "code",
   "execution_count": 1,
   "metadata": {},
   "outputs": [],
   "source": [
    "from Hartree_Fock import *\n",
    "from representation import *\n",
    "from scipy.optimize import fmin\n",
    "from GTOs import *"
   ]
  },
  {
   "cell_type": "markdown",
   "metadata": {},
   "source": [
    "## Helium\n",
    "\n",
    "Alpha values were taken from (Thijssen, 2013,p. 50).\n"
   ]
  },
  {
   "cell_type": "code",
   "execution_count": 2,
   "metadata": {},
   "outputs": [
    {
     "name": "stdout",
     "output_type": "stream",
     "text": [
      "Energy: -2.8599135339539523 (hartree)\n"
     ]
    }
   ],
   "source": [
    "#sets up 2ZaPa-NR-CV Helium basis set\n",
    "GTOsHe = getGuassians(\"2ZaPa-NR-CV\",2,np.zeros(3),basisType=\"primitive\")\n",
    "\n",
    "#simulation parameters\n",
    "Zs = [2]\n",
    "nucPos = [np.array([0,0,0])]\n",
    "maxError = 1E-4\n",
    "\n",
    "#define representation class\n",
    "rep = RepGTO(GTOsHe,Zs,nucPos)\n",
    "\n",
    "#define intial guess\n",
    "ups = rep.normaliseList([[1 for i in range(len(GTOsHe))]])\n",
    "downs = rep.normaliseList([[1 for i in range(len(GTOsHe))]])\n",
    "EGuess = -2.8\n",
    "\n",
    "#run simulation and print energy\n",
    "E,states = iterateHF(ups,downs,rep,EGuess,maxError,lambda s: takeGroundEigStates(s,2))\n",
    "print(f\"Energy: {E} (hartree)\")"
   ]
  },
  {
   "cell_type": "code",
   "execution_count": 3,
   "metadata": {},
   "outputs": [
    {
     "name": "stdout",
     "output_type": "stream",
     "text": [
      "Energy: -2.784164237157625 (hartree)\n"
     ]
    }
   ],
   "source": [
    "#same calculation but with contracted set\n",
    "\n",
    "#sets up 2ZaPa-NR-CV Helium basis set\n",
    "CGTOsHe = getGuassians(\"2ZaPa-NR-CV\",2,np.zeros(3),basisType=\"contracted\")\n",
    "\n",
    "#simulation parameters\n",
    "Zs = [2]\n",
    "nucPos = [np.array([0,0,0])]\n",
    "maxError = 1E-4\n",
    "\n",
    "#define representation class\n",
    "rep = RepCGTO(CGTOsHe,Zs,nucPos)\n",
    "\n",
    "#define intial guess\n",
    "ups = rep.normaliseList([[1 for i in range(len(CGTOsHe))]])\n",
    "downs = rep.normaliseList([[1 for i in range(len(CGTOsHe))]])\n",
    "EGuess = -2.8\n",
    "\n",
    "#run simulation and print energy\n",
    "E,states = iterateHF(ups,downs,rep,EGuess,maxError,lambda s: takeGroundEigStates(s,2))\n",
    "print(f\"Energy: {E} (hartree)\")"
   ]
  },
  {
   "cell_type": "markdown",
   "metadata": {},
   "source": [
    "## $H_2$ molecule\n",
    "\n",
    "This code defines a function that finds the ground state energy for a given bond length of $H_2$ (uses alpha values from (Thijssen, 2013,p. 35)). It then minimises this function to find an approximation for the bond length and ground state energy (this is a valid argument as at this level of approximation as the nuclear energies appear continuous).\n"
   ]
  },
  {
   "cell_type": "code",
   "execution_count": 4,
   "metadata": {},
   "outputs": [
    {
     "name": "stdout",
     "output_type": "stream",
     "text": [
      "Optimization terminated successfully.\n",
      "         Current function value: -1.122965\n",
      "         Iterations: 13\n",
      "         Function evaluations: 26\n",
      "Bound length: [1.38867188] au\n"
     ]
    }
   ],
   "source": [
    "def findGround(bondLength):\n",
    "    \"\"\"\n",
    "    Function that returns the ground state energy for a given bound length\n",
    "    \"\"\"\n",
    "    #defines simulation parameters\n",
    "    pos1 = np.zeros(3)\n",
    "    pos2 = np.array([0,0,bondLength[0]])\n",
    "    GTOsH2 = getGuassians(\"6-21G\",1,pos1,basisType=\"primitive\") + getGuassians(\"6-21G\",1,pos2,basisType=\"primitive\")\n",
    "    nucPos = [pos1,pos2]\n",
    "    \n",
    "    Zs = [1,1]\n",
    "    maxError = 1E-4\n",
    "    #defines representation\n",
    "    rep = Rep1sGTO(GTOsH2,Zs,nucPos)\n",
    "    \n",
    "    #defines intial guess\n",
    "    ups = rep.normaliseList([[1 for i in range(len(GTOsH2))]])\n",
    "    downs = rep.normaliseList([[1 for i in range(len(GTOsH2))]])\n",
    "    EGuess = 0 \n",
    "\n",
    "    #finds total molecular energy\n",
    "    E_el,states = iterateHF(ups,downs,rep,EGuess,maxError,lambda s: takeGroundEigStates(s,2))\n",
    "    E = 1/bondLength[0]\n",
    "\n",
    "    #returns total molecular energy\n",
    "    return E_el + E\n",
    "\n",
    "#finds the min bound length a prints \n",
    "minBoundLength = fmin(findGround,1.6)\n",
    "print(f\"Bound length: {minBoundLength} au\")\n"
   ]
  },
  {
   "cell_type": "markdown",
   "metadata": {},
   "source": [
    "## Li\n",
    "\n",
    "This code finds the ground state energy of Li. Uses alphas from (MolSSI, 2020)."
   ]
  },
  {
   "cell_type": "code",
   "execution_count": 5,
   "metadata": {},
   "outputs": [
    {
     "name": "stdout",
     "output_type": "stream",
     "text": [
      "Energy: -7.4312433097108554 (hartree)\n"
     ]
    }
   ],
   "source": [
    "#sets up 6-21G lithium basis set\n",
    "GTOs = getGuassians(\"6-21G\",3,np.zeros(3),basisType=\"primitive\")\n",
    "\n",
    "#sets up simulation parameters\n",
    "Zs = [3]\n",
    "nucPos = [np.array([0,0,0])]\n",
    "maxError = 1E-4\n",
    "\n",
    "#sets up representation\n",
    "rep = RepGTO(GTOs,Zs,nucPos)\n",
    "\n",
    "#sets up guess  \n",
    "g = [1 for i in range(len(GTOs))]\n",
    "ups = [g]\n",
    "downs = [g,g]\n",
    "EGuess = -7.5\n",
    "\n",
    "#finds ground state and prints\n",
    "E,state = iterateHF(rep.normaliseList(ups),rep.normaliseList(downs),rep,EGuess,maxError,lambda s: takeGroundEigStates(s,3))\n",
    "print(f\"Energy: {E} (hartree)\")"
   ]
  },
  {
   "cell_type": "markdown",
   "metadata": {},
   "source": [
    "### O\n",
    "\n",
    "This code finds the ground state energy of O. Uses alphas from (MolSSI, 2020)."
   ]
  },
  {
   "cell_type": "code",
   "execution_count": 27,
   "metadata": {},
   "outputs": [
    {
     "name": "stdout",
     "output_type": "stream",
     "text": [
      "Energy: -74.58247930422125 (hartree)\n"
     ]
    }
   ],
   "source": [
    "\n",
    "#sets up 6-21G set for oxygen\n",
    "nullVec = np.array([0,0,0])\n",
    "alphaS = [0.5472270000E+04,0.8178060000E+03,0.1864460000E+03,0.5302300000E+02,0.1718000000E+02,0.5911960000E+01,0.7402940000E+01,0.1576200000E+01,0.3736840000E+00]\n",
    "typeS = [nullVec for i in range(9)]\n",
    "baisS = [nullVec for i in range(9)]\n",
    "alphaP = [0.7402940000E+01,0.1576200000E+01,0.3736840000E+00]\n",
    "basisP = [nullVec for i in range(3)]\n",
    "typePx = [np.array([1,0,0]),np.array([1,0,0]),np.array([1,0,0])]\n",
    "typePy = [np.array([0,1,0]),np.array([0,1,0]),np.array([0,1,0])]\n",
    "typePz = [np.array([0,0,1]),np.array([0,0,1]),np.array([0,0,1])]\n",
    "alphas =  alphaS +  alphaP + alphaP + alphaP\n",
    "basisPos = baisS +  basisP + basisP + basisP\n",
    "type = typeS + typePx + typePy + typePz\n",
    "\n",
    "#sets up simulation parameters\n",
    "Zs = [8]\n",
    "nucPos = [np.array([0,0,0])]\n",
    "maxError = 1E-4\n",
    "\n",
    "#sets up representation\n",
    "rep = RepGTO(Zs,alphas,nucPos,basisPos,type)\n",
    "\n",
    "#sets up intial guess  \n",
    "g =[1 for i in range(1,19)]\n",
    "ups = [g,g,g,g]\n",
    "downs = [g,g,g,g]\n",
    "EGuess = 0\n",
    "\n",
    "#finds energy and prints\n",
    "E,state = iterateHF(rep.normaliseList(ups),rep.normaliseList(downs),rep,EGuess,maxError,lambda s: takeGroundEigStates(s,8))\n",
    "print(f\"Energy: {E} (hartree)\")"
   ]
  },
  {
   "cell_type": "markdown",
   "metadata": {
    "vscode": {
     "languageId": "latex"
    }
   },
   "source": [
    "### $H_2O$ \n",
    "\n",
    "This code performs uses the same method as the $H_2$ section to find the $H_2O$ bond length and the angle between the two hydrogen bonds. Alphas are taken from (Thijssen, 2013, p. 35) and (MolSSI, 2020)."
   ]
  },
  {
   "cell_type": "code",
   "execution_count": 28,
   "metadata": {},
   "outputs": [
    {
     "name": "stdout",
     "output_type": "stream",
     "text": [
      "Optimization terminated successfully.\n",
      "         Current function value: -75.897359\n",
      "         Iterations: 24\n",
      "         Function evaluations: 48\n",
      "Bound length: 1.8169275497809068 au\n",
      "Theta: 107.22733382325602 degrees\n"
     ]
    }
   ],
   "source": [
    "nullVec = np.array([0,0,0])\n",
    "\n",
    "def findGround(params):\n",
    "    \"\"\"\"\n",
    "    Function that takes in a numpy array of [bound length,theta] and returns its energy.\n",
    "    \"\"\"\n",
    "    #finds atom positions\n",
    "    bondLength = params[0]\n",
    "    theta = params[1]\n",
    "    posH1 = np.array([0,0,0])\n",
    "    posH2 = np.array([bondLength*(np.cos(theta)-1),bondLength*np.sin(theta),0])\n",
    "    posOx = np.array([-bondLength,0,0])\n",
    "\n",
    "    #sets up simulation parameters for oxygen, uses 6-21G set for oxygen\n",
    "    alphaS = [0.5472270000E+04,0.8178060000E+03,0.1864460000E+03,0.5302300000E+02,0.1718000000E+02,0.5911960000E+01,0.7402940000E+01,0.1576200000E+01,0.3736840000E+00]\n",
    "    typeS = [nullVec for i in range(9)]\n",
    "    baisS = [posOx for i in range(9)]\n",
    "\n",
    "    alphaP = [0.7402940000E+01,0.1576200000E+01,0.3736840000E+00]\n",
    "    basisP = [posOx for i in range(3)]\n",
    "    typePx = [np.array([1,0,0]) for i in range(3)]\n",
    "    typePy = [np.array([0,1,0]) for i in range(3)]\n",
    "    typePz = [np.array([0,0,1]) for i in range(3)]\n",
    "\n",
    "\n",
    "    #sets up simulation parameters for oxygen\n",
    "    alphasH = [13.00773,1.962079,0.444529,0.1219492]\n",
    "    typeH = [nullVec for i in range(4)]\n",
    "    basisH1 = [posH1 for i in range(4)]\n",
    "    basisH2 = [posH2 for i in range(4)]\n",
    "\n",
    "    #combines simulation parameters\n",
    "    alphas =  alphaS +  alphaP + alphaP + alphaP + alphasH + alphasH\n",
    "    basisPos = baisS +  basisP + basisP + basisP + basisH1 + basisH2\n",
    "    type = typeS + typePx + typePy + typePz + typeH + typeH\n",
    "\n",
    "    #sets up simulation parameters\n",
    "    Zs = [8,1,1]\n",
    "    nucPos = [posOx,posH1,posH2]\n",
    "    maxError = 1E-4\n",
    "\n",
    "    #defines representation\n",
    "    rep = RepGTO(Zs,alphas,nucPos,basisPos,type)\n",
    "\n",
    "    #defines guess\n",
    "    g1 =[1 for i in range(18)] + [0 for i in range(8)]\n",
    "    g2 =[0 for i in range(18)] + [1 for i in range(8)]\n",
    "    ups = [g1,g1,g1,g1,g2]\n",
    "    downs = [g1,g1,g1,g1,g2]\n",
    "    EGuess = 0\n",
    "\n",
    "    #finds energy and returns \n",
    "    E,state = iterateHF(rep.normaliseList(ups),rep.normaliseList(downs),rep,EGuess,maxError,lambda s: takeGroundEigStates(s,10))\n",
    "    return E + 16/bondLength + 1/(bondLength*np.sqrt(2-2*np.cos(theta)))\n",
    "\n",
    "\n",
    "[boundLength,theta] = fmin(findGround,np.array([1.795,1.824]))\n",
    "print(f\"Bound length: {boundLength} au\")\n",
    "print(f\"Theta: {180*theta/np.pi} degrees\")"
   ]
  },
  {
   "cell_type": "markdown",
   "metadata": {},
   "source": [
    "## References\n",
    "\n",
    "Thijseen J., 2013. Computational Physics. Cambridge: Cambridge University Press\n",
    "\n",
    "Griffiths D., 2018. Introduction To Quantum Mechanics.  Cambridge: Cambridge University Press\n",
    "\n",
    "Slater J., 1930. Atomic Shielding Constants. Physical Review: Volume 36\n",
    "\n",
    "Goings, J., 2017. joshuagoings. [Online] \n",
    "Available at: https://joshuagoings.com/2017/04/28/integrals/\n",
    "[Accessed 17 June 2024].\n",
    "\n",
    "The Molecular Sciences Software Institute (MolSSI), V. T., 2020. Basis Set Exchange. [Online] \n",
    "Available at: https://www.basissetexchange.org/\n",
    "[Accessed 17 June 2024].\n"
   ]
  },
  {
   "cell_type": "markdown",
   "metadata": {},
   "source": []
  }
 ],
 "metadata": {
  "kernelspec": {
   "display_name": ".venv",
   "language": "python",
   "name": "python3"
  },
  "language_info": {
   "codemirror_mode": {
    "name": "ipython",
    "version": 3
   },
   "file_extension": ".py",
   "mimetype": "text/x-python",
   "name": "python",
   "nbconvert_exporter": "python",
   "pygments_lexer": "ipython3",
   "version": "3.8.10"
  }
 },
 "nbformat": 4,
 "nbformat_minor": 2
}
