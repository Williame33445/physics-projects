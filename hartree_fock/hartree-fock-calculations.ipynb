{
 "cells": [
  {
   "cell_type": "markdown",
   "metadata": {},
   "source": [
    "# Hartree Fock Calculations\n",
    "\n",
    "This notebook contains examples of Hartree-Fock calculations."
   ]
  },
  {
   "cell_type": "code",
   "execution_count": 23,
   "metadata": {},
   "outputs": [],
   "source": [
    "#intial setup\n",
    "from Hartree_Fock import *\n",
    "from representation import *\n",
    "from scipy.optimize import fmin\n",
    "from molecular_int.GTO1s_matrix_elements import *"
   ]
  },
  {
   "cell_type": "markdown",
   "metadata": {},
   "source": [
    "## Helium\n",
    "\n",
    "Alpha values were taken from (Thijssen, 2013,p. 50)."
   ]
  },
  {
   "cell_type": "code",
   "execution_count": 24,
   "metadata": {},
   "outputs": [
    {
     "name": "stdout",
     "output_type": "stream",
     "text": [
      "Energy: -2.8551714954912644 (hartree)\n"
     ]
    }
   ],
   "source": [
    "#define simulation parameters\n",
    "alphas = [0.298073,1.242567,5.782948,38.474970]\n",
    "basisPos = [np.array([0,0,0]),np.array([0,0,0]),np.array([0,0,0]),np.array([0,0,0])]\n",
    "Zs = [2]\n",
    "nucPos = [np.array([0,0,0])]\n",
    "maxError = 1E-4\n",
    "\n",
    "#define representation class\n",
    "rep = RepGTO(Zs,alphas,nucPos,basisPos,basisPos)\n",
    "\n",
    "#define intial guess\n",
    "ups = [[1,1,1,1]]\n",
    "downs = [[1,1,1,1]]\n",
    "EGuess = -2.8\n",
    "\n",
    "#run simulation and print energy\n",
    "E,states = iterateHF(rep.normaliseList(ups),rep.normaliseList(downs),rep,EGuess,maxError,lambda s: takeGroundEigStates(s,2))\n",
    "print(f\"Energy: {E} (hartree)\")"
   ]
  },
  {
   "cell_type": "markdown",
   "metadata": {},
   "source": [
    "## $H_2$ molecule\n",
    "\n",
    "This code defines a function that finds the ground state energy for a given bond length of $H_2$ (uses alpha values from (Thijssen, 2013,p. 35)). It then minimises this function to find an approximation for the bond length and ground state energy (this is a valid argument as at this level of approximation as the nuclear energies appear continuous).\n"
   ]
  },
  {
   "cell_type": "code",
   "execution_count": 25,
   "metadata": {},
   "outputs": [
    {
     "name": "stdout",
     "output_type": "stream",
     "text": [
      "Optimization terminated successfully.\n",
      "         Current function value: -1.126562\n",
      "         Iterations: 11\n",
      "         Function evaluations: 22\n",
      "Bound length: [1.38810547] au\n"
     ]
    }
   ],
   "source": [
    "#defines H2 alphas\n",
    "alphasH2 = [13.00773,1.962079,0.444529,0.1219492,13.00773,1.962079,0.444529,0.1219492]\n",
    "\n",
    "def findGround(bondLength):\n",
    "    \"\"\"\n",
    "    Function that returns the ground state energy for a given bound length\n",
    "    \"\"\"\n",
    "    #defines simulation parameters \n",
    "    basisPos = [np.array([0,0,0]),np.array([0,0,0]),np.array([0,0,0]),np.array([0,0,0]),np.array([0,0,bondLength[0]]),np.array([0,0,bondLength[0]]),np.array([0,0,bondLength[0]]),np.array([0,0,bondLength[0]])]\n",
    "    Zs = [1,1]\n",
    "    nucPos = [np.array([0,0,0]),np.array([0,0,bondLength[0]])]\n",
    "    alphas = [np.array([0,0,0]),np.array([0,0,0]),np.array([0,0,0]),np.array([0,0,0]),np.array([0,0,0]),np.array([0,0,0]),np.array([0,0,0]),np.array([0,0,0])]\n",
    "    maxError = 1E-4\n",
    "\n",
    "    #defines representation\n",
    "    rep = RepGTO(Zs,alphasH2,nucPos,basisPos,alphas)\n",
    "    \n",
    "    #defines intial guess\n",
    "    ups = [[1,1,1,1,1,1,1,1]]\n",
    "    downs = [[1,1,1,1,1,1,1,1]]\n",
    "    EGuess = 0 \n",
    "\n",
    "    #finds total molecular energy\n",
    "    E_el,states = iterateHF(rep.normaliseList(ups),rep.normaliseList(downs),rep,EGuess,maxError,lambda s: takeGroundEigStates(s,2))\n",
    "    E = 1/bondLength\n",
    "\n",
    "    #returns total molecular energy\n",
    "    return E_el + E\n",
    "\n",
    "#finds the min bound length a prints \n",
    "minBoundLength = fmin(findGround,1.3)\n",
    "print(f\"Bound length: {minBoundLength} au\")"
   ]
  },
  {
   "cell_type": "markdown",
   "metadata": {},
   "source": [
    "## Li\n",
    "\n",
    "This code finds the ground state energy of Li. Uses alphas from (MolSSI, 2020)."
   ]
  },
  {
   "cell_type": "code",
   "execution_count": 26,
   "metadata": {},
   "outputs": [
    {
     "name": "stdout",
     "output_type": "stream",
     "text": [
      "Energy: -7.409525098525094 (hartree)\n"
     ]
    }
   ],
   "source": [
    "#sets up 6-21G lithium basis set\n",
    "nullVec = np.array([0,0,0])\n",
    "alphaS = [642.4180000,96.51640000,22.01740000,6.176450000,1.935110000,0.6395770000,0.5402050000,0.1022550000,0.2856450000]\n",
    "typeS = [nullVec for i in range(9)]\n",
    "baisS = typeS\n",
    "alphaP = [0.5402050000,0.1022550000,0.2856450000]\n",
    "basisP = [nullVec for i in range(3)]\n",
    "typePx = [np.array([1,0,0]) for i in range(3)]\n",
    "typePy = [np.array([0,1,0]) for i in range(3)]\n",
    "typePz = [np.array([0,0,1]) for i in range(3)]\n",
    "alphas = alphaS +  alphaP + alphaP + alphaP\n",
    "basisPos = baisS +  basisP + basisP + basisP\n",
    "type = typeS + typePx + typePy + typePz\n",
    "\n",
    "#sets up simulation parameters\n",
    "Zs = [3]\n",
    "nucPos = [np.array([0,0,0])]\n",
    "maxError = 1E-4\n",
    "\n",
    "#sets up representation\n",
    "rep = RepGTO(Zs,alphas,nucPos,basisPos,type)\n",
    "\n",
    "#sets up guess  \n",
    "g = [1 for i in range(1,19)]\n",
    "ups = [g]\n",
    "downs = [g,g]\n",
    "EGuess = -7.5\n",
    "\n",
    "#finds ground state and prints\n",
    "E,state = iterateHF(rep.normaliseList(ups),rep.normaliseList(downs),rep,EGuess,maxError,lambda s: takeGroundEigStates(s,3))\n",
    "print(f\"Energy: {E} (hartree)\")\n"
   ]
  },
  {
   "cell_type": "markdown",
   "metadata": {},
   "source": [
    "### O\n",
    "\n",
    "This code finds the ground state energy of O. Uses alphas from (MolSSI, 2020)."
   ]
  },
  {
   "cell_type": "code",
   "execution_count": 27,
   "metadata": {},
   "outputs": [
    {
     "name": "stdout",
     "output_type": "stream",
     "text": [
      "Energy: -74.58247930422125 (hartree)\n"
     ]
    }
   ],
   "source": [
    "\n",
    "#sets up 6-21G set for oxygen\n",
    "nullVec = np.array([0,0,0])\n",
    "alphaS = [0.5472270000E+04,0.8178060000E+03,0.1864460000E+03,0.5302300000E+02,0.1718000000E+02,0.5911960000E+01,0.7402940000E+01,0.1576200000E+01,0.3736840000E+00]\n",
    "typeS = [nullVec for i in range(9)]\n",
    "baisS = [nullVec for i in range(9)]\n",
    "alphaP = [0.7402940000E+01,0.1576200000E+01,0.3736840000E+00]\n",
    "basisP = [nullVec for i in range(3)]\n",
    "typePx = [np.array([1,0,0]),np.array([1,0,0]),np.array([1,0,0])]\n",
    "typePy = [np.array([0,1,0]),np.array([0,1,0]),np.array([0,1,0])]\n",
    "typePz = [np.array([0,0,1]),np.array([0,0,1]),np.array([0,0,1])]\n",
    "alphas =  alphaS +  alphaP + alphaP + alphaP\n",
    "basisPos = baisS +  basisP + basisP + basisP\n",
    "type = typeS + typePx + typePy + typePz\n",
    "\n",
    "#sets up simulation parameters\n",
    "Zs = [8]\n",
    "nucPos = [np.array([0,0,0])]\n",
    "maxError = 1E-4\n",
    "\n",
    "#sets up representation\n",
    "rep = RepGTO(Zs,alphas,nucPos,basisPos,type)\n",
    "\n",
    "#sets up intial guess  \n",
    "g =[1 for i in range(1,19)]\n",
    "ups = [g,g,g,g]\n",
    "downs = [g,g,g,g]\n",
    "EGuess = 0\n",
    "\n",
    "#finds energy and prints\n",
    "E,state = iterateHF(rep.normaliseList(ups),rep.normaliseList(downs),rep,EGuess,maxError,lambda s: takeGroundEigStates(s,8))\n",
    "print(f\"Energy: {E} (hartree)\")"
   ]
  },
  {
   "cell_type": "markdown",
   "metadata": {
    "vscode": {
     "languageId": "latex"
    }
   },
   "source": [
    "### $H_2O$ \n",
    "\n",
    "This code performs uses the same method as the $H_2$ section to find the $H_2O$ bond length and the angle between the two hydrogen bonds. Alphas are taken from (Thijssen, 2013, p. 35) and (MolSSI, 2020)."
   ]
  },
  {
   "cell_type": "code",
   "execution_count": 28,
   "metadata": {},
   "outputs": [
    {
     "name": "stdout",
     "output_type": "stream",
     "text": [
      "Optimization terminated successfully.\n",
      "         Current function value: -75.897359\n",
      "         Iterations: 24\n",
      "         Function evaluations: 48\n",
      "Bound length: 1.8169275497809068 au\n",
      "Theta: 107.22733382325602 degrees\n"
     ]
    }
   ],
   "source": [
    "nullVec = np.array([0,0,0])\n",
    "\n",
    "def findGround(params):\n",
    "    \"\"\"\"\n",
    "    Function that takes in a numpy array of [bound length,theta] and returns its energy.\n",
    "    \"\"\"\n",
    "    #finds atom positions\n",
    "    bondLength = params[0]\n",
    "    theta = params[1]\n",
    "    posH1 = np.array([0,0,0])\n",
    "    posH2 = np.array([bondLength*(np.cos(theta)-1),bondLength*np.sin(theta),0])\n",
    "    posOx = np.array([-bondLength,0,0])\n",
    "\n",
    "    #sets up simulation parameters for oxygen, uses 6-21G set for oxygen\n",
    "    alphaS = [0.5472270000E+04,0.8178060000E+03,0.1864460000E+03,0.5302300000E+02,0.1718000000E+02,0.5911960000E+01,0.7402940000E+01,0.1576200000E+01,0.3736840000E+00]\n",
    "    typeS = [nullVec for i in range(9)]\n",
    "    baisS = [posOx for i in range(9)]\n",
    "\n",
    "    alphaP = [0.7402940000E+01,0.1576200000E+01,0.3736840000E+00]\n",
    "    basisP = [posOx for i in range(3)]\n",
    "    typePx = [np.array([1,0,0]) for i in range(3)]\n",
    "    typePy = [np.array([0,1,0]) for i in range(3)]\n",
    "    typePz = [np.array([0,0,1]) for i in range(3)]\n",
    "\n",
    "\n",
    "    #sets up simulation parameters for oxygen\n",
    "    alphasH = [13.00773,1.962079,0.444529,0.1219492]\n",
    "    typeH = [nullVec for i in range(4)]\n",
    "    basisH1 = [posH1 for i in range(4)]\n",
    "    basisH2 = [posH2 for i in range(4)]\n",
    "\n",
    "    #combines simulation parameters\n",
    "    alphas =  alphaS +  alphaP + alphaP + alphaP + alphasH + alphasH\n",
    "    basisPos = baisS +  basisP + basisP + basisP + basisH1 + basisH2\n",
    "    type = typeS + typePx + typePy + typePz + typeH + typeH\n",
    "\n",
    "    #sets up simulation parameters\n",
    "    Zs = [8,1,1]\n",
    "    nucPos = [posOx,posH1,posH2]\n",
    "    maxError = 1E-4\n",
    "\n",
    "    #defines representation\n",
    "    rep = RepGTO(Zs,alphas,nucPos,basisPos,type)\n",
    "\n",
    "    #defines guess\n",
    "    g1 =[1 for i in range(18)] + [0 for i in range(8)]\n",
    "    g2 =[0 for i in range(18)] + [1 for i in range(8)]\n",
    "    ups = [g1,g1,g1,g1,g2]\n",
    "    downs = [g1,g1,g1,g1,g2]\n",
    "    EGuess = 0\n",
    "\n",
    "    #finds energy and returns \n",
    "    E,state = iterateHF(rep.normaliseList(ups),rep.normaliseList(downs),rep,EGuess,maxError,lambda s: takeGroundEigStates(s,10))\n",
    "    return E + 16/bondLength + 1/(bondLength*np.sqrt(2-2*np.cos(theta)))\n",
    "\n",
    "\n",
    "[boundLength,theta] = fmin(findGround,np.array([1.795,1.824]))\n",
    "print(f\"Bound length: {boundLength} au\")\n",
    "print(f\"Theta: {180*theta/np.pi} degrees\")"
   ]
  },
  {
   "cell_type": "markdown",
   "metadata": {},
   "source": [
    "## References\n",
    "\n",
    "The Molecular Sciences Software Institute (MolSSI), V. T., 2020. Basis Set Exchange. [Online] Available at: https://www.basissetexchange.org/ [Accessed 17 June 2024].\n",
    "\n",
    "Thijseen J., 2013. Computational Physics. Cambridge: Cambridge University Press"
   ]
  },
  {
   "cell_type": "markdown",
   "metadata": {},
   "source": []
  }
 ],
 "metadata": {
  "kernelspec": {
   "display_name": ".venv",
   "language": "python",
   "name": "python3"
  },
  "language_info": {
   "codemirror_mode": {
    "name": "ipython",
    "version": 3
   },
   "file_extension": ".py",
   "mimetype": "text/x-python",
   "name": "python",
   "nbconvert_exporter": "python",
   "pygments_lexer": "ipython3",
   "version": "3.8.10"
  }
 },
 "nbformat": 4,
 "nbformat_minor": 2
}
