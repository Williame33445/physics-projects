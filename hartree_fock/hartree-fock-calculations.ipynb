{
 "cells": [
  {
   "cell_type": "markdown",
   "metadata": {},
   "source": [
    "# Hartree Fock (WORK IN PROGRESS)\n",
    "\n",
    "This project uses the Hartree-Fock method to describe simple atoms and molecules. This project used (Thijssen, 2013, p. 43) as a guide, though it goes further than the problems specified in the book. \n",
    "\n",
    "## Theory\n",
    "\n",
    "### Basic approach\n",
    "\n",
    "The full Hamiltonian of a molecular system is given by $(1)$.\n",
    "\n",
    "$$\n",
    "\\hat{H} = \\sum^N_{i=1}\\frac{\\hat{p}_i^2}{2} + \\sum^K_{n=1} \\frac{\\hat{P}_n^2}{2M_n} + \\frac{1}{2}\\sum^N_{i=1}\\sum^N_{i\\neq j}\\frac{1}{|\\vec{r}_i - \\vec{r}_j|} - \\sum^N_{i=1}\\sum^K_{n=1}\\frac{Z_n}{|\\vec{r}_i - \\vec{R}_n|} + \\frac{1}{2}\\sum^K_{n=1}\\sum^K_{m\\neq n}\\frac{Z_n Z_m}{|\\vec{R}_n - \\vec{R}_m|}\\tag{1}\n",
    "$$\n",
    "\n",
    "One of the main problems in molecular physics is to find the eigenstates of $(1)$. It turns out that in most cases analytical solutions are not possible, meaning numerical methods need to be applied.\n",
    "\n",
    "The Hartree-Fock method is a possible numerical method. It uses the Born-Oppenheimer approximation to decouple the electron and nuclei parts (Griffiths, 2018, p. 428),  guesses that the eigenstate is a Slater determinant (Thijssen, 2013, p. 53) and applies variational methods to find an upper bound of the eigenstates. This process reduces $(1)$ to $N$ equations in the form:\n",
    "\n",
    "$$\\hat{F}\\psi_k(\\vec{r},m_s) = \\epsilon_k\\psi_k(\\vec{r},m_s)\\tag{2}$$\n",
    "\n",
    "where $\\psi_k(\\vec{r},m_s)$ is a component of the Slater determinant, $\\hat{F}$ is called the Fock operator (derived in  (Thijssen, 2013, p. 56)) and $\\epsilon_k$ is related to the energy of the total eigenstate.\n",
    "\n",
    "$\\hat{F}$ contains $\\psi_k(\\vec{r},m_s)$ terms in its definition, meaning $(2)$ forms a self-consistency equation. This means $(2)$ does not take the form of an eigen-equation, making it much harder to solve.\n",
    "\n",
    "\n",
    "To solve (2), the variational method is applied again. An upper bound of the total electron energy can then be deduced from $(3)$.\n",
    "\n",
    "$$E = \\frac{1}{2}\\sum\\limits^N_{k=1}\\epsilon_k + \\bra{\\psi_k}-\\frac{\\nabla^2}{2} + \\sum_n\\frac{Z_n}{|\\vec{r}-\\vec{R}_n|}\\ket{\\psi_k}\\tag{3}$$\n",
    "\n",
    "This entire process is the Hatree-Fock method.\n",
    "\n",
    "### Variational method for the Fock Equation\n",
    "\n",
    "For the second application of the variational method, the general form of $\\psi_k(\\vec{r},m_s)$ is guessed. For atomic systems, the most natural guess is a linear combination of Slater-type orbitals (STO). These take the form of $(4)$ (Slater, 1930, p.57).\n",
    "\n",
    "$$\n",
    "\\psi_k(\\vec{r},m_s) = \\sum\\limits_n A_n     r^{n-1}e^{-a_nr}Y_{lm}(\\theta,\\phi)\\chi_{m_s}\\tag{4}\n",
    "$$\n",
    "\n",
    "The coefficients $a_n,A_n$ are then varied to find the stationary $\\epsilon_k$; this corresponds to an upper bound of the eigenstate.\n",
    "\n",
    "However, due to integrals involving STO being hard to calculate, its usually easier to use Gaussian-type orbitals (GTO) (Goings, 2017). These take the form of $(5)$.\n",
    "\n",
    "$$\n",
    "\\psi_k(x,y,z,m_s) = \\sum\\limits_{ijk} A_{ijk} x^iy^jz^ke^{-\\alpha_{ijk}(x^2 + y^2 + z^2)}\\chi_{m_s}\\tag{5}\n",
    "$$  \n",
    "\n",
    "Again, the coefficients $a_{ijk},A_{ijk}$ are then varied to find the stationary $\\epsilon_k$. \n",
    "\n",
    "Whatever basis is chosen, the effect is to transform the problem into a non-linear variational problem. While this can be solved directly, if the $\\alpha_{ijk}$ terms are deduced by some other method, the problem becomes resolvable by (easier) linear methods. This is typically done by either fitting a set of GTOs to an appropriate STO or solving a simpler but appropriate non-linear problem (Thijssen, 2013, p. 67). This project doesn't cover these methods, it only considers the linear method. The $\\alpha_{ijk}$ coefficients used are taken from (Thijssen, 2013, p. 35, p. 50) and (MolSSI, 2020).\n",
    "\n",
    "Given the $\\alpha_{ijk}$ terms, the variational problems can then be written in matrix form as:\n",
    "\n",
    "$$F^+C_k^+ = \\epsilon_k^+SC_k^+,F^-C_k^- = \\epsilon_k^-SC_k^-\\tag{5}$$\n",
    "\n",
    "where $F_{nm}^{\\pm}$ are the matrix elements for the plus/minus parts of the GTO, $S$ is the GTO overlap matrix and $C_k^{\\pm}$ is the representation of $\\psi_k(\\vec{r},\\pm\\frac{\\hbar}{2})$ in the GTO basis (Thijssen, 2013, p. 64).\n",
    "\n",
    "This equation can then be solved iteratively. $F$ is deduced for an initial guess of the $\\psi_k(\\vec{r},m_s)$ 's and the generalised eigenvalue problem is solved. This process is then repeated, using the $\\psi_k(\\vec{r},m_s)$ terms found as the initial guess, until the solution converges. These solutions can then be used to deduce an upper bound of the eigenstate.\n",
    "\n",
    "## Implementation\n",
    "\n",
    "As any basis can be chosen for variational solutions to $(4)$, the matrix elements required to form equation $(5)$ are described in an abstract class called Representation. A subclass of Representation then corresponds to a certain basis. Two subclasses are defined: Rep1sGTO only uses the 1s Gaussian basis and RepGTO considers the general Gaussian basis. In principle, other bases could be added (eg. STO), however this is not implemented here. The matrix elements required for Rep1sGTO are defined in GTO1s_matrix_elements.py; for a derivation of these elements, see (Thijssen, 2013, p. 64). The matrix elements required for RepGTO are found with code taken from (Goings, 2017). These matrix elements are defined in MolecularIntegrals.py.\n",
    "\n",
    "In terms of the actual algorithm, this is implemented in Hartee_Fock.py as a recursive function called iterateHF. The eigenstate that is being calculated is determined by the getTargetEigStates function that is a parameter of iterateHF.\n",
    "\n",
    "## Results\n",
    "\n",
    "Some simple examples of the simulation are given in hartree-fock-calculations.ipynb. Some of the ground state energies found are given in the table below.\n",
    "\n",
    "|  Atom/Molecule   | HTF Energy (hartree) |Experimental Energy (hartree)|\n",
    "| -------- | ------- | -----|\n",
    "| $He$  | -2.855    | -2.862 |\n",
    "| $Li$ | -7.410 | -7.479\n",
    "| $O$    | -74.582    | -75.113\n",
    "\n",
    "Molecular parameters (like bond length) can also be deduced by finding the parameter than minimises the total energy (this is effective as at this level of approximation molecular energy states seem continuous). In hartree-fock-calculations.ipynb, $H_2$ and $H_2O$ are considered. For $H_2$, the bond length found was $1.388$ au. The experimental result is 1.401 au. For $H_2O$, the bond length found was 1.817 au and the angle between bonds found was 107.227 degrees. The experimental values are 1.809 au and 104.5 degrees.\n",
    "\n",
    "# Stuff to do\n",
    "\n",
    "- Modify notes above to make sense in this notebook (add notes on contracted bases and how alphas are deduced)\n",
    "- Need to go over different basis sets and explain advantages.\n",
    "- Pople convention is followed in most cases (Ditchfield, R., Hehre, W., & J.Pople. (1970). Self-Consistent Molecular Orbital Methods. VI. Energy Optimized. The Journal of Chemical Physics, 5001-5006.). Explain.\n",
    "- Clean up code below\n",
    "- look at Kopmann theorm, specra diagrams\n",
    "- look at Generalized X-Ray Scattering Factors ROBERT F. STEWART\n",
    "- using Hartree-Fock approximation to calculate cross-sections due to molecules (Born approx and quantum scattering program?)\n",
    "- more applications (calculation dipole moments + limits to method + ...)\n",
    "- hartree-fock visualisation by density plots (use mesh method and add getValue(x,y,z) to GTO and CGTO)\n",
    "\n",
    "\n",
    "This program will work with every atom except for hydrogen, the ups and downs then can't be filled creating problems."
   ]
  },
  {
   "cell_type": "code",
   "execution_count": 1,
   "metadata": {},
   "outputs": [],
   "source": [
    "from Hartree_Fock import *\n",
    "from representation import *\n",
    "from get_GTOs_from_BSE import *\n",
    "from scipy.optimize import fmin\n",
    "from GTOs import *\n",
    "import matplotlib.pyplot as plt"
   ]
  },
  {
   "cell_type": "code",
   "execution_count": 118,
   "metadata": {},
   "outputs": [],
   "source": [
    "def zPlaneDensityPlot(low,high,N,electrons,GTOs,atomName):\n",
    "    x = np.linspace(low, high, 2*N+1)\n",
    "    y = np.linspace(low, high, 2*N+1)\n",
    "    z = np.linspace(low, high, 2*N+1)\n",
    "    xv, yv, zv = np.meshgrid(x, y, z)\n",
    "\n",
    "    density = getDensity(xv, yv, zv, electrons, GTOs) #\n",
    "\n",
    "    title = atomName.rstrip() + \" electron density in z=0 plane\"\n",
    "    plt.imshow(density[:,:,N], extent = [low, high, low, high],cmap=\"jet\")\n",
    "    plt.xlabel(\"x\")\n",
    "    plt.ylabel(\"y\")\n",
    "    plt.title(title)\n",
    "    plt.show()"
   ]
  },
  {
   "cell_type": "markdown",
   "metadata": {},
   "source": [
    "## Helium\n",
    "\n",
    "Alpha values were taken from (Thijssen, 2013,p. 50).\n"
   ]
  },
  {
   "cell_type": "code",
   "execution_count": 76,
   "metadata": {},
   "outputs": [],
   "source": [
    "#sets up 3ZaPa-NR-CV Helium basis set (should be better for excited states)\n",
    "GTOsHe = getGuassians(\"3ZaPa-NR-CV\", 2, np.zeros(3), basisType=\"primitive\")\n",
    "\n",
    "#simulation parameters\n",
    "Zs = [2]\n",
    "nucPos = [np.array([0, 0, 0])]\n",
    "maxError = 1E-4\n",
    "\n",
    "#define representation class\n",
    "rep = RepGTO(GTOsHe, Zs, nucPos)\n",
    "\n",
    "#define intial guess\n",
    "ups = rep.normaliseList([[1 for i in range(len(GTOsHe))]])\n",
    "downs = rep.normaliseList([[1 for i in range(len(GTOsHe))]])\n",
    "EGuess = -2.8"
   ]
  },
  {
   "cell_type": "code",
   "execution_count": 121,
   "metadata": {},
   "outputs": [
    {
     "name": "stdout",
     "output_type": "stream",
     "text": [
      "['up', 'down']\n",
      "-1.9677148747722513\n",
      "[-8.69017775e-02 -1.63927729e-01 -2.67456647e-01 -3.95407037e-01\n",
      " -4.05842603e-01 -1.85363200e-01 -1.54255276e-02 -2.92972349e-02\n",
      " -2.92256420e-04  3.36739799e-04 -9.78598590e-06 -9.78598590e-06\n",
      " -1.05422947e-05 -2.18032048e-05 -2.18032048e-05 -2.19269506e-05\n",
      " -3.93888146e-06 -3.93888146e-06 -3.93001219e-06  5.07164205e-03\n",
      " -1.19111911e-02 -1.19111911e-02 -2.73330043e-03 -2.73330043e-03]\n"
     ]
    }
   ],
   "source": [
    "E0, HeElec0 = iterateHF(ups, downs, rep, EGuess, maxError, lambda s: takeGroundEigStates(s,2))\n",
    "E1, HeElec1 = iterateHF(ups, downs, rep, EGuess, maxError, lambda s: takeLthExcitedSpin(s,2,0,\"up\"))\n",
    "E2, HeElec2 = iterateHF(ups, downs, rep, EGuess, maxError, lambda s: takeLthExcitedSpin(s,2,1,\"up\"))\n",
    "E3, HeElec3 = iterateHF(ups, downs, rep, EGuess, maxError, lambda s: takeLthExcitedSpin(s,2,2,\"up\"))\n",
    "E4, HeElec4 = iterateHF(ups, downs, rep, EGuess, maxError, lambda s: takeLthExcitedSpin(s,2,3,\"up\"))\n",
    "E8, HeElec8 = iterateHF(ups, downs, rep, EGuess, maxError, lambda s: takeLthExcitedSpin(s,2,4,\"up\"))\n",
    "\n",
    "\n",
    "E5, HeElec5 = iterateHF(ups, downs, rep, EGuess, maxError, lambda s: takeLthExcitedSpin(s,2,1,\"down\"))\n",
    "E6, HeElec6 = iterateHF(ups, downs, rep, EGuess, maxError, lambda s: takeLthExcitedSpin(s,2,2,\"down\"))\n",
    "E7, HeElec7 = iterateHF(ups, downs, rep, EGuess, maxError, lambda s: takeLthExcitedSpin(s,2,3,\"down\"))\n",
    "\n",
    "\n",
    "#data should be similar to https://nukephysik101.wordpress.com/2017/10/29/hartree-fock-for-helium-excited-state-ii/\n",
    "#by looking at symetry and spins the different energy levels should be able to be deduced\n",
    "#If this fails then I think that the problem is the data set\n",
    "#For more accurate results use 4ZaPa-NR-CV (need to add to getType for F type gaussians)\n",
    "print([s.spin for s in HeElec7])\n",
    "print(E2)\n",
    "print(HeElec7[0].ds)"
   ]
  },
  {
   "cell_type": "code",
   "execution_count": 123,
   "metadata": {},
   "outputs": [
    {
     "data": {
      "image/png": "[encoded data removed]",
      "text/plain": [
       "<Figure size 640x480 with 1 Axes>"
      ]
     },
     "metadata": {},
     "output_type": "display_data"
    }
   ],
   "source": [
    "zPlaneDensityPlot(-4,4,50,HeElec2,GTOsHe,\"He\")\n",
    "#why is asymetry so weak (better graph) + it seems to be asymetric (could getType be wrong for P)"
   ]
  },
  {
   "cell_type": "code",
   "execution_count": 5,
   "metadata": {},
   "outputs": [
    {
     "name": "stdout",
     "output_type": "stream",
     "text": [
      "Energy: -2.784164237157625 (hartree)\n"
     ]
    }
   ],
   "source": [
    "#same calculation but with contracted set\n",
    "\n",
    "#sets up 2ZaPa-NR-CV Helium basis set\n",
    "CGTOsHe = getGuassians(\"2ZaPa-NR-CV\", 2, np.zeros(3), basisType=\"contracted\")\n",
    "\n",
    "#simulation parameters\n",
    "Zs = [2]\n",
    "nucPos = [np.array([0, 0, 0])]\n",
    "maxError = 1E-4\n",
    "\n",
    "#define representation class\n",
    "rep = RepCGTO(CGTOsHe, Zs, nucPos)\n",
    "\n",
    "#define intial guess\n",
    "ups = rep.normaliseList([[1 for i in range(len(CGTOsHe))]])\n",
    "downs = rep.normaliseList([[1 for i in range(len(CGTOsHe))]])\n",
    "EGuess = -2.8\n",
    "\n",
    "#run simulation and print energy\n",
    "E, HeElectrons = iterateHF(ups,downs,rep,EGuess,maxError,lambda s: takeGroundEigStates(s,2))\n",
    "print(f\"Energy: {E} (hartree)\")"
   ]
  },
  {
   "cell_type": "markdown",
   "metadata": {},
   "source": [
    "## $H_2$ molecule\n",
    "\n",
    "This code defines a function that finds the ground state energy for a given bond length of $H_2$ (uses alpha values from (Thijssen, 2013,p. 35)). It then minimises this function to find an approximation for the bond length and ground state energy (this is a valid argument as at this level of approximation as the nuclear energies appear continuous).\n"
   ]
  },
  {
   "cell_type": "code",
   "execution_count": 21,
   "metadata": {},
   "outputs": [
    {
     "name": "stdout",
     "output_type": "stream",
     "text": [
      "Optimization terminated successfully.\n",
      "         Current function value: -1.122965\n",
      "         Iterations: 13\n",
      "         Function evaluations: 26\n",
      "Bound length: [1.38867188] au\n"
     ]
    }
   ],
   "source": [
    "def findH2Ground(bondLength):\n",
    "    \"\"\"\n",
    "    Function that returns the ground state energy, electron states and GTOs for a given bound length\n",
    "    \"\"\"\n",
    "    #defines simulation parameters\n",
    "    posH1 = np.array([-bondLength[0]/2, 0, 0])\n",
    "    posH2 = np.array([bondLength[0]/2, 0, 0])\n",
    "    GTOsH2 = getGuassians(\"6-21G\", 1, posH1, basisType=\"primitive\") + getGuassians(\"6-21G\", 1, posH2, basisType=\"primitive\")\n",
    "    nucPos = [posH1,posH2]\n",
    "    Zs = [1,1]\n",
    "    maxError = 1E-4\n",
    "\n",
    "    #defines representation\n",
    "    rep = Rep1sGTO(GTOsH2, Zs, nucPos)\n",
    "    \n",
    "    #defines intial guess\n",
    "    ups = rep.normaliseList([[1 for i in range(len(GTOsH2))]])\n",
    "    downs = rep.normaliseList([[1 for i in range(len(GTOsH2))]])\n",
    "    EGuess = 0 \n",
    "\n",
    "    #finds total molecular energy\n",
    "    E_el, H2Electrons = iterateHF(ups, downs, rep, EGuess, maxError, lambda s: takeGroundEigStates(s,2))\n",
    "    E = 1/bondLength[0]\n",
    "\n",
    "    #returns total molecular energy\n",
    "    return E_el + E, H2Electrons, GTOsH2\n",
    "\n",
    "def findH2GroundEnergy(bondLength):\n",
    "    \"\"\"\n",
    "    Function that returns the ground state energy for a given bound length\n",
    "    \"\"\"\n",
    "    E, H2Electrons, GTOsH2 = findH2Ground(bondLength)\n",
    "    return E\n",
    "\n",
    "#finds the min bound length a prints \n",
    "minBoundLength = fmin(findH2GroundEnergy,1.6)\n",
    "print(f\"Bound length: {minBoundLength} au\")\n"
   ]
  },
  {
   "cell_type": "code",
   "execution_count": 23,
   "metadata": {},
   "outputs": [
    {
     "data": {
      "image/png": "[encoded data removed]",
      "text/plain": [
       "<Figure size 640x480 with 1 Axes>"
      ]
     },
     "metadata": {},
     "output_type": "display_data"
    }
   ],
   "source": [
    "#density plot\n",
    "E, H2Electrons, GTOsH2 = findH2Ground([1.3887])\n",
    "zPlaneDensityPlot(-2,2,50,H2Electrons,GTOsH2,\"H2\")"
   ]
  },
  {
   "cell_type": "markdown",
   "metadata": {},
   "source": [
    "## Li\n",
    "\n",
    "This code finds the ground state energy of Li. Uses alphas from (MolSSI, 2020)."
   ]
  },
  {
   "cell_type": "code",
   "execution_count": 25,
   "metadata": {},
   "outputs": [
    {
     "name": "stdout",
     "output_type": "stream",
     "text": [
      "Energy: -7.4312433097108554 (hartree)\n"
     ]
    }
   ],
   "source": [
    "#sets up 6-21G lithium basis set\n",
    "GTOsLi = getGuassians(\"6-21G\", 3, np.zeros(3), basisType=\"primitive\")\n",
    "\n",
    "#sets up simulation parameters\n",
    "Zs = [3]\n",
    "nucPos = [np.array([0,0,0])]\n",
    "maxError = 1E-4\n",
    "\n",
    "#sets up representation\n",
    "rep = RepGTO(GTOsLi, Zs, nucPos)\n",
    "\n",
    "#sets up guess  \n",
    "g = [1 for i in range(len(GTOsLi))]\n",
    "ups = [g]\n",
    "downs = [g,g]\n",
    "EGuess = -7.5\n",
    "\n",
    "#finds ground state and prints\n",
    "E,LiElectrons = iterateHF(rep.normaliseList(ups), rep.normaliseList(downs), rep, EGuess,\n",
    "                          maxError, lambda s: takeGroundEigStates(s,3))\n",
    "print(f\"Energy: {E} (hartree)\")"
   ]
  },
  {
   "cell_type": "code",
   "execution_count": 30,
   "metadata": {},
   "outputs": [
    {
     "data": {
      "image/png": "[encoded data removed]",
      "text/plain": [
       "<Figure size 640x480 with 1 Axes>"
      ]
     },
     "metadata": {},
     "output_type": "display_data"
    }
   ],
   "source": [
    "zPlaneDensityPlot(-0.5,0.5,50,LiElectrons,GTOsLi,\"Li\")"
   ]
  },
  {
   "cell_type": "markdown",
   "metadata": {},
   "source": [
    "### O\n",
    "\n",
    "This code finds the ground state energy of O. Uses alphas from (MolSSI, 2020)."
   ]
  },
  {
   "cell_type": "code",
   "execution_count": 27,
   "metadata": {},
   "outputs": [
    {
     "name": "stdout",
     "output_type": "stream",
     "text": [
      "Energy: -74.58247930422125 (hartree)\n"
     ]
    }
   ],
   "source": [
    "\n",
    "#sets up 6-21G set for oxygen\n",
    "nullVec = np.array([0,0,0])\n",
    "alphaS = [0.5472270000E+04,0.8178060000E+03,0.1864460000E+03,0.5302300000E+02,0.1718000000E+02,0.5911960000E+01,0.7402940000E+01,0.1576200000E+01,0.3736840000E+00]\n",
    "typeS = [nullVec for i in range(9)]\n",
    "baisS = [nullVec for i in range(9)]\n",
    "alphaP = [0.7402940000E+01,0.1576200000E+01,0.3736840000E+00]\n",
    "basisP = [nullVec for i in range(3)]\n",
    "typePx = [np.array([1,0,0]),np.array([1,0,0]),np.array([1,0,0])]\n",
    "typePy = [np.array([0,1,0]),np.array([0,1,0]),np.array([0,1,0])]\n",
    "typePz = [np.array([0,0,1]),np.array([0,0,1]),np.array([0,0,1])]\n",
    "alphas =  alphaS +  alphaP + alphaP + alphaP\n",
    "basisPos = baisS +  basisP + basisP + basisP\n",
    "type = typeS + typePx + typePy + typePz\n",
    "\n",
    "#sets up simulation parameters\n",
    "Zs = [8]\n",
    "nucPos = [np.array([0,0,0])]\n",
    "maxError = 1E-4\n",
    "\n",
    "#sets up representation\n",
    "rep = RepGTO(Zs,alphas,nucPos,basisPos,type)\n",
    "\n",
    "#sets up intial guess  \n",
    "g =[1 for i in range(1,19)]\n",
    "ups = [g,g,g,g]\n",
    "downs = [g,g,g,g]\n",
    "EGuess = 0\n",
    "\n",
    "#finds energy and prints\n",
    "E,state = iterateHF(rep.normaliseList(ups),rep.normaliseList(downs),rep,EGuess,maxError,lambda s: takeGroundEigStates(s,8))\n",
    "print(f\"Energy: {E} (hartree)\")"
   ]
  },
  {
   "cell_type": "markdown",
   "metadata": {
    "vscode": {
     "languageId": "latex"
    }
   },
   "source": [
    "### $H_2O$ \n",
    "\n",
    "This code performs uses the same method as the $H_2$ section to find the $H_2O$ bond length and the angle between the two hydrogen bonds. Alphas are taken from (Thijssen, 2013, p. 35) and (MolSSI, 2020)."
   ]
  },
  {
   "cell_type": "code",
   "execution_count": 28,
   "metadata": {},
   "outputs": [
    {
     "name": "stdout",
     "output_type": "stream",
     "text": [
      "Optimization terminated successfully.\n",
      "         Current function value: -75.897359\n",
      "         Iterations: 24\n",
      "         Function evaluations: 48\n",
      "Bound length: 1.8169275497809068 au\n",
      "Theta: 107.22733382325602 degrees\n"
     ]
    }
   ],
   "source": [
    "nullVec = np.array([0,0,0])\n",
    "\n",
    "def findGround(params):\n",
    "    \"\"\"\"\n",
    "    Function that takes in a numpy array of [bound length,theta] and returns its energy.\n",
    "    \"\"\"\n",
    "    #finds atom positions\n",
    "    bondLength = params[0]\n",
    "    theta = params[1]\n",
    "    posH1 = np.array([0,0,0])\n",
    "    posH2 = np.array([bondLength*(np.cos(theta)-1),bondLength*np.sin(theta),0])\n",
    "    posOx = np.array([-bondLength,0,0])\n",
    "\n",
    "    #sets up simulation parameters for oxygen, uses 6-21G set for oxygen\n",
    "    alphaS = [0.5472270000E+04,0.8178060000E+03,0.1864460000E+03,0.5302300000E+02,0.1718000000E+02,0.5911960000E+01,0.7402940000E+01,0.1576200000E+01,0.3736840000E+00]\n",
    "    typeS = [nullVec for i in range(9)]\n",
    "    baisS = [posOx for i in range(9)]\n",
    "\n",
    "    alphaP = [0.7402940000E+01,0.1576200000E+01,0.3736840000E+00]\n",
    "    basisP = [posOx for i in range(3)]\n",
    "    typePx = [np.array([1,0,0]) for i in range(3)]\n",
    "    typePy = [np.array([0,1,0]) for i in range(3)]\n",
    "    typePz = [np.array([0,0,1]) for i in range(3)]\n",
    "\n",
    "\n",
    "    #sets up simulation parameters for oxygen\n",
    "    alphasH = [13.00773,1.962079,0.444529,0.1219492]\n",
    "    typeH = [nullVec for i in range(4)]\n",
    "    basisH1 = [posH1 for i in range(4)]\n",
    "    basisH2 = [posH2 for i in range(4)]\n",
    "\n",
    "    #combines simulation parameters\n",
    "    alphas =  alphaS +  alphaP + alphaP + alphaP + alphasH + alphasH\n",
    "    basisPos = baisS +  basisP + basisP + basisP + basisH1 + basisH2\n",
    "    type = typeS + typePx + typePy + typePz + typeH + typeH\n",
    "\n",
    "    #sets up simulation parameters\n",
    "    Zs = [8,1,1]\n",
    "    nucPos = [posOx,posH1,posH2]\n",
    "    maxError = 1E-4\n",
    "\n",
    "    #defines representation\n",
    "    rep = RepGTO(Zs,alphas,nucPos,basisPos,type)\n",
    "\n",
    "    #defines guess\n",
    "    g1 =[1 for i in range(18)] + [0 for i in range(8)]\n",
    "    g2 =[0 for i in range(18)] + [1 for i in range(8)]\n",
    "    ups = [g1,g1,g1,g1,g2]\n",
    "    downs = [g1,g1,g1,g1,g2]\n",
    "    EGuess = 0\n",
    "\n",
    "    #finds energy and returns \n",
    "    E,state = iterateHF(rep.normaliseList(ups),rep.normaliseList(downs),rep,EGuess,maxError,lambda s: takeGroundEigStates(s,10))\n",
    "    return E + 16/bondLength + 1/(bondLength*np.sqrt(2-2*np.cos(theta)))\n",
    "\n",
    "\n",
    "[boundLength,theta] = fmin(findGround,np.array([1.795,1.824]))\n",
    "print(f\"Bound length: {boundLength} au\")\n",
    "print(f\"Theta: {180*theta/np.pi} degrees\")"
   ]
  },
  {
   "cell_type": "markdown",
   "metadata": {},
   "source": [
    "## References\n",
    "\n",
    "Thijseen J., 2013. Computational Physics. Cambridge: Cambridge University Press\n",
    "\n",
    "Griffiths D., 2018. Introduction To Quantum Mechanics.  Cambridge: Cambridge University Press\n",
    "\n",
    "Slater J., 1930. Atomic Shielding Constants. Physical Review: Volume 36\n",
    "\n",
    "Goings, J., 2017. joshuagoings. [Online] \n",
    "Available at: https://joshuagoings.com/2017/04/28/integrals/\n",
    "[Accessed 17 June 2024].\n",
    "\n",
    "The Molecular Sciences Software Institute (MolSSI), V. T., 2020. Basis Set Exchange. [Online] \n",
    "Available at: https://www.basissetexchange.org/\n",
    "[Accessed 17 June 2024].\n"
   ]
  },
  {
   "cell_type": "markdown",
   "metadata": {},
   "source": []
  }
 ],
 "metadata": {
  "kernelspec": {
   "display_name": ".venv",
   "language": "python",
   "name": "python3"
  },
  "language_info": {
   "codemirror_mode": {
    "name": "ipython",
    "version": 3
   },
   "file_extension": ".py",
   "mimetype": "text/x-python",
   "name": "python",
   "nbconvert_exporter": "python",
   "pygments_lexer": "ipython3",
   "version": "3.8.10"
  }
 },
 "nbformat": 4,
 "nbformat_minor": 2
}
