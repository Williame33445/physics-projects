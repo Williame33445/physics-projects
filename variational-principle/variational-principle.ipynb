{
 "cells": [
  {
   "cell_type": "markdown",
   "metadata": {},
   "source": [
    "# Variational Principle\n",
    "\n",
    "The variational principle is a method for deducing upper bounds of energy eigenstates (usually used on the ground state). This notebook considers the application of the variational principle to simple molecular problems.\n",
    "\n",
    "## Variational method\n",
    "\n",
    "Consider a subset of Hilbert space (denoted by $H_s$) whose energy expectation values are greater than some eigenstate's energy that we want to find. It can be shown that the min energy expectation value of any superposition of these states is greater than or equal to the eigenenergy we want (see (Thijssen, 2013, p. 30) for the full proof or (Griffiths, 2018, p. 327) for the simple case). This is the variational principle.\n",
    "\n",
    "## Different basis functions\n",
    "\n",
    "The $H_c$ considered is usually defined by set of functions (called a basis) where the set of all normalised linear superpositions of these functions correspond to the subset.\n",
    "\n",
    "For atomic systems, the most natural basis elements are Slater-type orbitals (STO). The simplest STO takes the form (Slater, 1930, p.57): $\\psi_a = e^{-ar}$ (STOs in this form are enough for Hydrogen and Helium calculations). For these STOs, the general state in $H_c$ is:\n",
    "\n",
    "$$\\psi = \\sum_i A_i e^{-a_i r}$$\n",
    "\n",
    "The variational principle can then be applied by varying $A_i$ and $a_i$.\n",
    "\n",
    "However, due to integrals involving STO being hard to calculate for more complex atoms (not actually true in cases considered in this notebook), most molecular calculations are done with Gaussian-type orbitals (GTO) (Goings, 2017). The simplest GTO takes the form: $\\psi_a = e^{-\\alpha r^2}$ (again this form is enough for Hydrogen and Helium calculations). The general state in $H_c$ is:\n",
    "\n",
    "$$\\psi = \\sum_i d_i e^{-\\alpha_i r^2}$$\n",
    "\n",
    "$\\alpha_i$ and $d_i$ can then be varied to apply the variational principle. GTOs will be considered in this notebook.\n",
    "\n",
    "## Linear variational method\n",
    "\n",
    "The variational problem for a set of GTOs turns out to be a non-linear problem if both $d_i$ s and $\\alpha_i$ s are varied and a linear problem if only the $d_i$ s are varied. Because linear problems are easier we shall consider the linear problem first.\n",
    "\n",
    "Given a set of $\\alpha$ s, we can construct a set of kets $\\{\\ket{n}|n=1,2,3,...\\}$. Then, a general ket in $H_c$ takes the form:\n",
    "\n",
    "$$\\ket{\\phi} = \\sum\\limits_{i}C_i\\ket{i}$$\n",
    "\n",
    "$$\\implies \\bra{\\phi}\\hat{H}\\ket{\\phi} = \\dfrac{\\sum\\limits_{i,j}C_i^{*}C_jH_{ij}}{\\sum\\limits_{i,j}C_i^{*}C_jS_{ij}}$$\n",
    "\n",
    "where $H_{ij} = \\bra{i}\\hat{H}\\ket{j}$ and $S_{ij} = \\bra{i}\\hat{S}\\ket{j}$\n",
    "\n",
    "Minimising $\\bra{\\phi}\\hat{H}\\ket{\\phi}$ by calculus gives:\n",
    "\n",
    "$$\\sum\\limits_{j}C_j(H_{ij} - E S_{ij})$$\n",
    "\n",
    "This can be rewritten as a matrix equation $\\bf{H}\\bf{C} = E \\bf{S}\\bf{C}$\n",
    "\n",
    "## Linear variational method for the Hydrogen atom\n",
    "\n",
    "Set up four simple GTOs with $ \\alpha_1 = 13.00773, \\alpha_2 = 1.962079, \\alpha_3 = 0.444529, \\alpha_4 = 0.1219492 $ (taken from (Ditchfield & et al, 1970, p. 5001)). \n",
    "\n",
    "For Hydrogen, the matrix elements for the linear variational method are (Thijssen, 2013, p. 30):\n",
    "\n",
    "$$S_{nm} = \\left( \\frac{\\pi}{\\alpha_n + \\alpha_m} \\right)^{\\frac{3}{2}}$$\n",
    "\n",
    "$$H_{nm} = 3\\frac{\\alpha_n\\alpha_m\\pi^{\\frac{3}{2}}}{(\\alpha_n + \\alpha_m)^{\\frac{5}{2}}} - \\frac{2\\pi}{\\alpha_n + \\alpha_m}$$\n",
    "\n",
    "The following program implements this approach and considers a few simple applications."
   ]
  },
  {
   "cell_type": "code",
   "execution_count": 1,
   "metadata": {},
   "outputs": [],
   "source": [
    "import numpy as np\n",
    "from scipy.linalg import eigh\n",
    "import matplotlib.pyplot as plt\n",
    "from scipy.special import erfc"
   ]
  },
  {
   "cell_type": "code",
   "execution_count": 2,
   "metadata": {},
   "outputs": [],
   "source": [
    "#functions that calculate components \n",
    "def Sij(alpha_i,alpha_j):\n",
    "    return (np.pi/(alpha_i + alpha_j))**1.5\n",
    "\n",
    "def Hij(alpha_i,alpha_j):\n",
    "    return 3*(alpha_i*alpha_j*(np.pi**1.5))/((alpha_i + alpha_j)**(5/2)) - 2*np.pi/(alpha_i + alpha_j)\n",
    "\n",
    "#values of alpha\n",
    "alphas_H = np.array([13.00773, 1.962079, 0.444529, 0.1219492])\n",
    "\n",
    "def findHydrogenGroundState(alphas):\n",
    "    \"\"\"\n",
    "    Function to solve the linear variational equations for the Hydrogen ground state.\n",
    "    \"\"\"\n",
    "    #finding matrices as lists\n",
    "    S = np.array([[Sij(a_i,a_j) for a_i in alphas] for a_j in alphas])\n",
    "    H = np.array([[Hij(a_i,a_j) for a_i in alphas] for a_j in alphas])\n",
    "\n",
    "    #find eigenvalues\n",
    "    eigenvalues, eigenvectors = eigh(H,S)\n",
    "    return eigenvalues[0], eigenvectors[0]\n",
    "\n",
    "\n",
    "def findHydrogenGroundEnergy(alphas):\n",
    "    \"\"\"\n",
    "    Function to find the hydrogen ground state energy by linear variational problem.\n",
    "    \"\"\"\n",
    "    energy, state = findHydrogenGroundState(alphas) \n",
    "    \n",
    "    return energy\n"
   ]
  },
  {
   "cell_type": "code",
   "execution_count": 3,
   "metadata": {},
   "outputs": [
    {
     "name": "stdout",
     "output_type": "stream",
     "text": [
      "Ground energy is -0.49927840566748466 hartree. The correct value is -0.5 hartree.\n"
     ]
    }
   ],
   "source": [
    "#ground state calculation\n",
    "groundEnergy = findHydrogenGroundEnergy(alphas_H)\n",
    "print(f\"Ground energy is {groundEnergy} hartree. The correct value is -0.5 hartree.\")"
   ]
  },
  {
   "cell_type": "markdown",
   "metadata": {},
   "source": [
    "The following code graphs the density plot of the ground state deduced above."
   ]
  },
  {
   "cell_type": "code",
   "execution_count": 4,
   "metadata": {},
   "outputs": [
    {
     "data": {
      "text/plain": [
       "Text(0, 0.5, 'y')"
      ]
     },
     "execution_count": 4,
     "metadata": {},
     "output_type": "execute_result"
    },
    {
     "data": {
      "image/png": "[encoded data removed]",
      "text/plain": [
       "<Figure size 640x480 with 1 Axes>"
      ]
     },
     "metadata": {},
     "output_type": "display_data"
    }
   ],
   "source": [
    "energy_H, states_H = findHydrogenGroundState(alphas_H)\n",
    "\n",
    "def getProbDensity(contractionCoeff,alphas,halfWidth,N): \n",
    "    \"\"\"\n",
    "    Function finds the prob density for a GTO basis in the z=0 plane.\n",
    "    \"\"\"\n",
    "    x = np.linspace(-halfWidth, halfWidth, N)\n",
    "    y = np.linspace(-halfWidth, halfWidth, N)\n",
    "    xv, yv = np.meshgrid(x, y)\n",
    "\n",
    "    wavefunction = np.zeros((N,N))\n",
    "    for i in range(alphas.shape[0]):\n",
    "        wavefunction +=  contractionCoeff[i]*np.exp(-alphas[i]*(xv**2 + yv**2))\n",
    "\n",
    "    return wavefunction**2\n",
    "\n",
    "plt.imshow(getProbDensity(states_H,alphas_H,5,100))\n",
    "plt.title(\"Probability density of a hydrogen atom in z=0 plane\")\n",
    "plt.xlabel(\"x\")\n",
    "plt.ylabel(\"y\")"
   ]
  },
  {
   "cell_type": "markdown",
   "metadata": {},
   "source": [
    "## Finding $\\alpha_i$ s for the Hydrogen atom\n",
    "\n",
    "As described in (Ditchfield & et al, 1970, p. 5001) and (Thijssen, 2013, p. 67), there are two common methods to deduce $\\alpha_i$ s appropriate for the variational problem: fit a linear combination of GTOs to a previously found solution or consider the full variational problem with both $\\alpha$ s and $d$ s being varied. Both these problems are considered in the simple case of hydrogen below."
   ]
  },
  {
   "cell_type": "markdown",
   "metadata": {},
   "source": [
    "### Full variational problem approach\n",
    "\n",
    "To solve this problem, a slightly more efficient approach than in (Ditchfield & et al, 1970,p. 5001) is used. Ditchfield's approach varies both $\\alpha$ s and $d$ s via the iterative Direct Search method (Hooke & Jeeves, 1961, p. 213). However, as the linear method gives an efficient solution to the problem if the $\\alpha$ s are known, the energy function can be viewed as a function of $\\alpha$ s only and the direct method (which is less efficient) can be applied only to the $\\alpha$ s. This approach is implemented below.\n",
    "\n",
    "Note that the Direct  Search method is written for a general function that is being minimised (as this method is used in other parts of the notebook).\n"
   ]
  },
  {
   "cell_type": "code",
   "execution_count": 5,
   "metadata": {},
   "outputs": [
    {
     "name": "stdout",
     "output_type": "stream",
     "text": [
      "Energy found is  -0.4962408180680613, the alpha accuracy used is 0.1\n",
      "Energy found is  -0.49915702949875584, the alpha accuracy used is 0.01\n",
      "Energy found is  -0.49924121009263805, the alpha accuracy used is 0.001\n",
      "Energy found is  -0.4992421104376131, the alpha accuracy used is 0.0001\n"
     ]
    }
   ],
   "source": [
    "def getNewAlphasByDirectSearch(alphas,delta,getEnergy,depth=0):\n",
    "    \"\"\" \n",
    "    Function takes an intial guess of the alphas and applies the direct search method recursively to find the \n",
    "    alphas that minimise the ground state energy.\n",
    "\n",
    "    Inputs:\n",
    "    alphas - inital guess alpha array\n",
    "    delta -  accuracy to which the direct search method will be applied \n",
    "    getEnergy - function of alphas that gets the energy of the system\n",
    "    depth - depth of recursion\n",
    "    \"\"\"\n",
    "\n",
    "    dim = alphas.shape[0]\n",
    "    assert np.all(alphas > np.zeros(dim))\n",
    "    assert np.unique(alphas).shape[0] == dim\n",
    "\n",
    "    newAlphas = np.copy(alphas)\n",
    "    for i in range(dim):\n",
    "        alphasUp = np.copy(alphas)\n",
    "        alphasUp[i] += delta\n",
    "\n",
    "        alphasDown = np.copy(alphas)\n",
    "        #as alphas have to be positive \n",
    "        if alphasDown[i] <= delta:\n",
    "            alphasDown[i] /= 2\n",
    "        else:\n",
    "            alphasDown[i] -= delta\n",
    "\n",
    "        E = getEnergy(alphas)\n",
    "        EUp = getEnergy(alphasUp)\n",
    "        EDown = getEnergy(alphasDown)\n",
    "\n",
    "        if EUp-E >= 0 and EDown - E >= 0:\n",
    "            pass\n",
    "        elif EUp - E > 0:\n",
    "            newAlphas[i] = alphasDown[i]\n",
    "        elif EUp - E <= 0:\n",
    "            newAlphas[i] = alphasUp[i]\n",
    "    \n",
    "    #1/10 factor means that no change is alphas has occured\n",
    "    if np.allclose(newAlphas,alphas,rtol=delta/10):\n",
    "        return newAlphas\n",
    "    elif depth == 999:\n",
    "        return newAlphas\n",
    "    else:\n",
    "        return getNewAlphasByDirectSearch(newAlphas,delta,getEnergy,depth+1)\n",
    "\n",
    "\n",
    "def getNewAlphas(intialAlphas,deltaInital,n,getEnergy=findHydrogenGroundEnergy):\n",
    "    \"\"\"\n",
    "    Function that takes an intial guess for the alphas and applies the direct search method recursively \n",
    "    for smaller and smaller deltas. Assumes deltaInital is less that 1.\n",
    "    \"\"\"\n",
    "    alphas = np.copy(intialAlphas)\n",
    "    delta = deltaInital\n",
    "    for i in range(n):\n",
    "        alphas = getNewAlphasByDirectSearch(alphas,delta,getEnergy)\n",
    "        delta *= deltaInital\n",
    "    return alphas\n",
    "\n",
    "#application for some intial guess for different accuracies\n",
    "intialAlphaGuess = np.array([17, 1, 1.5, 2])\n",
    "for i in range(1,5):\n",
    "    newAlphas = getNewAlphas(intialAlphaGuess,0.1,i)\n",
    "    print(f\"Energy found is  {findHydrogenGroundEnergy(newAlphas)}, the alpha accuracy used is {np.round(0.1**(i),i)}\")"
   ]
  },
  {
   "cell_type": "markdown",
   "metadata": {},
   "source": [
    "### Fitting to previously found solution\n",
    "\n",
    "Following the methods described in (Hehre & et al, 1969, p. 2658) and  (Stewart, 1969, p. 432), the STO basis solution (which turns out to be the exact solution for Hydrogen) can be decomposed into a set of GTOs by minimising:\n",
    "\n",
    "$$R = \\lambda\\left(\\int dV \\left(\\sum_id_ie^{-\\alpha_ir^2}\\right)^2 - 1\\right) + \\int dV \\left(\\frac{1}{\\sqrt{\\pi}}e^{-r} - \\sum_id_ie^{-\\alpha_ir^2}\\right)^2$$\n",
    "\n",
    "This can be done efficiently by recursively minimising $R$ for the $\\alpha$ terms by the Direct Search method (Hooke & Jeeves, 1961, p. 213) and finding the associated $d_i$ s by solving the matrix problem formed from $\\frac{\\partial R}{\\partial d_i} = 0$. "
   ]
  },
  {
   "cell_type": "code",
   "execution_count": 6,
   "metadata": {},
   "outputs": [],
   "source": [
    "def getResidual(ds,alphas):\n",
    "    \"\"\"\n",
    "    Function that finds the R given a set of ds and alpahas\n",
    "    \"\"\"\n",
    "    n = ds.shape[0]\n",
    "    residual = np.sqrt(np.pi/8)\n",
    "    residual -= np.sqrt(np.pi)*np.sum((-2/alphas**2 + (1 + 2*alphas)*np.exp(1/(4*alphas))*np.sqrt(np.pi)*erfc(1/(2*np.sqrt(alphas)))/alphas**2.5)*ds)\n",
    "\n",
    "    S = np.array([[(np.pi/(alphas[i] + alphas[j]))**1.5 for i in range(n)] for j in range(n)])\n",
    "    residual += np.einsum('ij,i,j', S, ds, ds) \n",
    "\n",
    "    return residual\n",
    "\n",
    "\n",
    "def leastSquaresOnDs(alphas):\n",
    "    \"\"\"\n",
    "    Applies the linear least squares method to find the associated ds.\n",
    "    \"\"\"\n",
    "    N = alphas.shape[0]\n",
    "\n",
    "    C = np.sqrt(np.pi)*(-2/alphas**2 + (1 + 2*alphas)*np.exp(1/(4*alphas))*np.sqrt(np.pi)*erfc(1/(2*np.sqrt(alphas)))/alphas**2.5)\n",
    "\n",
    "    M = np.empty((N,N))\n",
    "    for i in range(N):\n",
    "        M[i,i] = (np.pi/(2*alphas[i]))**1.5\n",
    "        for j in range(i):\n",
    "            M[i,j] = (np.pi/(alphas[i] + alphas[j]))**1.5\n",
    "            M[j,i] = M[i,j]\n",
    "    \n",
    "    newDs = np.linalg.inv(M) @ C\n",
    "\n",
    "    S = np.array([[Sij(a_i,a_j) for a_i in alphas] for a_j in alphas])\n",
    "    newDs /= np.sqrt(np.einsum('ij,i,j', S, newDs, newDs))\n",
    "\n",
    "    return newDs\n",
    "\n",
    "def expandHinGuassian(alphas,ds,deltaAlphas,deltaDs,depth=0):\n",
    "    \"\"\"\n",
    "    Function that finds appropriate alphas and ds for a GTO expansion of a hydrogen STO. \n",
    "\n",
    "    Inputs:\n",
    "    alphas - inital guess of alphas\n",
    "    ds - intial guess of ds\n",
    "    deltaAlphas - accuracy that the alphas are found to\n",
    "    deltaDs - accuracy that the ds are found to\n",
    "    depth - depth of recursion\n",
    "    \"\"\"\n",
    "    newAlphas = getNewAlphas(alphas,deltaAlphas,10,getEnergy=lambda a: getResidual(ds,a))\n",
    "    newDs = leastSquaresOnDs(newAlphas)\n",
    "    if np.allclose(newAlphas,alphas,rtol=deltaAlphas/10) and np.allclose(newDs,ds,rtol=deltaDs/10): \n",
    "        return newAlphas,newDs\n",
    "    elif depth == 999:\n",
    "        return newAlphas,newDs\n",
    "    else:\n",
    "        return expandHinGuassian(newAlphas,newDs,deltaAlphas,deltaDs,depth+1)\n"
   ]
  },
  {
   "cell_type": "code",
   "execution_count": 7,
   "metadata": {},
   "outputs": [
    {
     "name": "stdout",
     "output_type": "stream",
     "text": [
      "Energy is: -0.48839114276738915\n"
     ]
    }
   ],
   "source": [
    "def getEnergy(alphas,ds): \n",
    "    \"\"\"\n",
    "    Function that finds the energy associated with a set of alphas and ds.\n",
    "    \"\"\"       \n",
    "    #finding matrices as lists\n",
    "    S = np.array([[Sij(a_i,a_j) for a_i in alphas] for a_j in alphas])\n",
    "    H = np.array([[Hij(a_i,a_j) for a_i in alphas] for a_j in alphas])\n",
    "\n",
    "    return np.einsum('ij,i,j', H, ds, ds)/np.einsum('ij,i,j', S, ds, ds) \n",
    "\n",
    "#example solution\n",
    "alphasInit = np.array([12, 0.1, 0.5, 1.9])\n",
    "dsInit = np.array([-0.1, 0.2, 0.1, -0.3])\n",
    "\n",
    "a,d = expandHinGuassian(alphasInit,dsInit,0.1,0.1)\n",
    "\n",
    "print(f\"Energy is: {getEnergy(a,d)}\")"
   ]
  },
  {
   "cell_type": "markdown",
   "metadata": {},
   "source": [
    "## Helium atom \n",
    "\n",
    "In this part of the notebook the Hartree-Fock method is used to deduce the ground state of Helium (it follows (Thijssen, 2013, p. 49)). The method is deduced below.\n",
    "\n",
    "Via the Born-Oppenheimer approximation, the Helium atom Hamiltonian is:\n",
    "\n",
    "$$\\hat{H} = -\\frac{1}{2}\\nabla_1^2 -\\frac{1}{2}\\nabla_2^2 + \\frac{1}{|\\vec{r_1} - \\vec{r_2}|}  - \\frac{2}{r_1} - \\frac{2}{r_2}$$\n",
    "\n",
    "As the ground state energy is in a singlet spin state, the position part of the wavefunction is $\\psi (\\vec{r_1},\\vec{r_2}) = \\phi (\\vec{r_1})\\phi (\\vec{r_2})$. Assuming that $\\phi (\\vec{r})$ is normalised, it can be shown that (Thijssen, 2013, p. 46):\n",
    "\n",
    "$$\\left(-\\frac{1}{2}\\nabla_1^2 - \\frac{2}{r_1} + \\int dV_2 \\frac{|\\phi(\\vec{r_2})|^2}{|\\vec{r_1} - \\vec{r_2}|}\\right)\\phi(\\vec{r_1}) = E\\phi\\left(\\vec{r_1}\\right)$$\n",
    "\n",
    "This equation cannot be solved exactly. So we apply the linear variational method with the GTO basis ($\\alpha$ s are taken from (Thijssen, 2013, p. 50)). This gives the following matrix problem:\n",
    "\n",
    "$$\\sum\\limits_{q}\\left(h_{pq} + \\sum\\limits_{r,s}C_s C_r Q_{prqs}\\right)C_q = E\\sum\\limits_{q} S_{pq}C_q$$\n",
    "\n",
    "where\n",
    "\n",
    "$h_{pq} = \\bra{\\psi_{\\alpha_p}}-\\frac{1}{2}\\nabla^2 - \\frac{2}{r}\\ket{\\psi_{\\alpha_p}}$, $Q_{prqs} = \\int dV_1 dV_2 \\frac{\\psi_{\\alpha_p}(\\vec{r_1})\\psi_{\\alpha_r}(\\vec{r_2})\\psi_{\\alpha_q}(\\vec{r_1})\\psi_{\\alpha_s}(\\vec{r_2})}{|\\vec{r_1}-\\vec{r_2}|}$, $S_{pq} = \\braket{\\psi_{\\alpha_p}|\\psi_{\\alpha_q}}$\n",
    "\n",
    "This can be solved by guessing the $C$ values, plugging them into the $Q$ part of the expression and solving the eigenvalue equation produced. The process can then be repeated recursively with the $C$ s found until the error is below some specified value (works because the ground state energy is a stable fixed point under this map).\n",
    "\n",
    "The ground state energy can then be deduced from:\n",
    "\n",
    "$$E_G = 2\\sum\\limits_{p,q}C_p C_q h_{pq} +\\sum\\limits_{p,q,r,s} Q_{prqs}C_p C_q C_s C_r$$\n",
    "\n",
    "This process is implemented below."
   ]
  },
  {
   "cell_type": "code",
   "execution_count": 8,
   "metadata": {},
   "outputs": [],
   "source": [
    "#simulation parameters\n",
    "alphas2 = [0.298073, 1.242567, 5.782948, 38.47497]"
   ]
  },
  {
   "cell_type": "code",
   "execution_count": 9,
   "metadata": {},
   "outputs": [],
   "source": [
    "#functions to calculate matrix elements \n",
    "\n",
    "def Qijkl(alpha_i,alpha_j,alpha_k,alpha_l):\n",
    "    \"\"\"\n",
    "    Calculates the components of the Q matrix.\n",
    "    \"\"\"\n",
    "    denominator = (alpha_i + alpha_k)*(alpha_j + alpha_l)*((alpha_i + alpha_j + alpha_k + alpha_l)**0.5)\n",
    "    return 2*(np.pi**2.5)/denominator\n",
    "\n",
    "def hij(alpha_i,alpha_j):\n",
    "    \"\"\"\n",
    "    Finds components of h matrix\n",
    "    \"\"\"\n",
    "    return (3*alpha_i*alpha_j*(np.pi**1.5))/((alpha_i + alpha_j)**2.5) -  4*np.pi/(alpha_i + alpha_j)\n",
    "\n"
   ]
  },
  {
   "cell_type": "code",
   "execution_count": 10,
   "metadata": {},
   "outputs": [],
   "source": [
    "#find matricies\n",
    "h = np.zeros((4, 4))\n",
    "S2 = np.zeros((4, 4))\n",
    "Q = np.zeros((4, 4, 4, 4))\n",
    "\n",
    "for i in range(4):\n",
    "    for j in range(4):\n",
    "        h[i,j] = hij(alphas2[i],alphas2[j])\n",
    "        S2[i,j] = Sij(alphas2[i], alphas2[j])\n",
    "        for k in range(4):\n",
    "            for l in range(4):\n",
    "                Q[i, j, k, l]= Qijkl(alphas2[i],alphas2[j],alphas2[k],alphas2[l])\n",
    "\n"
   ]
  },
  {
   "cell_type": "code",
   "execution_count": 11,
   "metadata": {},
   "outputs": [],
   "source": [
    "\n",
    "#normalisation function \n",
    "def normalise(C):\n",
    "    \"\"\"\n",
    "    Normalises C (remember that the set doesn't have to be orthonomal so this is not trivial)\n",
    "    \"\"\"\n",
    "    innerProduct = 0\n",
    "    for i,c_i in enumerate(C):\n",
    "        for j,c_j in enumerate(C):\n",
    "            innerProduct += c_i*c_j*S2[i][j]\n",
    "\n",
    "    return C/(innerProduct**0.5)  "
   ]
  },
  {
   "cell_type": "code",
   "execution_count": 12,
   "metadata": {},
   "outputs": [
    {
     "name": "stdout",
     "output_type": "stream",
     "text": [
      "Ground energy is -2.8551603823702516 hartree. The correct value is -2.903 hartree.\n"
     ]
    }
   ],
   "source": [
    "#intial guess\n",
    "CGuess = normalise(np.array([1, 1, 1, 1])) \n",
    "EGuess = 0\n",
    "\n",
    "#run simulation\n",
    "def iterateC(C,EPrev):\n",
    "    \"\"\"\n",
    "    Performs one iteration of the recursive cycle   \n",
    "    \"\"\"\n",
    "    #finds F matrix\n",
    "    F = h + np.einsum('ikjl,k,l', Q, C, C) \n",
    "\n",
    "    #finds new C values\n",
    "    eigenvalues, eignestates = eigh(F,S2,eigvals_only=False)\n",
    "    CNew = normalise(eignestates[:,0])\n",
    "\n",
    "    #find E\n",
    "    groundEnergyFound =  2*np.einsum('ij,i,j', h, CNew, CNew) + np.einsum('ikjl,i,j,k,l', Q, CNew, CNew, CNew, CNew)\n",
    "    \n",
    "    #iterates agian if difference between previous iteration is not less than max error\n",
    "    if abs(groundEnergyFound - EPrev) < 1E-14:\n",
    "        return groundEnergyFound \n",
    "    else:\n",
    "        return iterateC(CNew,groundEnergyFound)\n",
    "\n",
    "print(f\"Ground energy is {iterateC(CGuess,EGuess)} hartree. The correct value is -2.903 hartree.\")"
   ]
  },
  {
   "cell_type": "markdown",
   "metadata": {},
   "source": [
    "## References\n",
    "\n",
    "Thijseen J., 2013. Computational Physics. Cambridge: Cambridge University Press\n",
    "\n",
    "Griffiths D., 2018. Introduction To Quantum Mechanics.  Cambridge: Cambridge University Press\n",
    "\n",
    "Ditchfield, R., Hehre, W., & J.Pople. (1970). Self-Consistent Molecular Orbital Methods. VI. Energy Optimized. The Journal of Chemical Physics, 5001-5006.\n",
    "\n",
    "Hooke, R., & Jeeves, T. (1961). \"Direct Search\" Solution of Numerical and Statistical Problems. Journal of the ACM, 212 - 229.\n",
    "\n",
    "Slater J., 1930. Atomic Shielding Constants. Physical Review: Volume 36\n",
    "\n",
    "Goings, J., 2017. joshuagoings. [Online] \n",
    "Available at: https://joshuagoings.com/2017/04/28/integrals/\n",
    "[Accessed 17 June 2024].\n",
    "\n",
    "Hehre, W., Stewart, R., & Pople, J. (1969). Self-Consistent Molecular-Orbital Methods. I. Use of Gaussian Expansions of Slater-Type Atomic Orbitals. The Journal of Chemical Physics, 2657-2664.\n",
    "\n",
    "Stewart, R. (1969). Small Gaussian Expansions of Slater-Type Orbitals . Tth Journal of Chemical Physics , 431-438."
   ]
  },
  {
   "cell_type": "markdown",
   "metadata": {},
   "source": []
  }
 ],
 "metadata": {
  "kernelspec": {
   "display_name": ".venv",
   "language": "python",
   "name": "python3"
  },
  "language_info": {
   "codemirror_mode": {
    "name": "ipython",
    "version": 3
   },
   "file_extension": ".py",
   "mimetype": "text/x-python",
   "name": "python",
   "nbconvert_exporter": "python",
   "pygments_lexer": "ipython3",
   "version": "3.8.10"
  }
 },
 "nbformat": 4,
 "nbformat_minor": 2
}
