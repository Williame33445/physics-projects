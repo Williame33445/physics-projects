{
 "cells": [
  {
   "cell_type": "markdown",
   "metadata": {},
   "source": [
    "# Variational Principle method\n",
    "\n",
    "This notebook follows (Thijssen, 2013, p. 29). The variational method is a method for deducing upper bounds of energy eigenstates (usually used on the ground state). \n",
    "\n",
    "## Theory \n",
    "\n",
    "Consider a subset of Hilbert space whose energy expectation values are greater than some eigenstate's energy that we want to find. It can be shown that the min energy expectation value of any superposition of these states is greater than or equal to the eigenenergy we want (see (Thijssen, 2013, p. 30) for the full proof or (Griffiths, 2018, p. 327) for the simple case).\n",
    "\n",
    "This can be reformed mathematically into a matrix problem.\n",
    "\n",
    "If the subset of states is $\\{\\ket{n}|n=1,2,3,...\\}$ (this set doesn't have to be orthonormal), then a general ket takes the form:\n",
    "\n",
    "$\\ket{\\phi} = \\sum\\limits_{i = 1}^{\\infty}C_i\\ket{i}$\n",
    "\n",
    "$\\implies \\bra{\\phi}\\hat{H}\\ket{\\phi} = \\dfrac{\\sum\\limits_{i,j = 1}^{\\infty}C_i^{*}C_jH_{ij}}{\\sum\\limits_{i,j = 1}^{\\infty}C_i^{*}C_jS_{ij}}$\n",
    "\n",
    "where $H_{ij} = \\bra{i}\\hat{H}\\ket{j}$ and $S_{ij} = \\bra{i}\\hat{S}\\ket{j}$\n",
    "\n",
    "Minimising $\\bra{\\phi}\\hat{H}\\ket{\\phi}$ by calculus gives:\n",
    "\n",
    "$\\sum\\limits_{j = 1}^{\\infty}C_j(H_{ij} - E S_{ij})$ for all i\n",
    "\n",
    "This can be rewritten as a matrix equation $\\bf{H}\\bf{C} = E \\bf{S}\\bf{C}$"
   ]
  },
  {
   "cell_type": "code",
   "execution_count": null,
   "metadata": {
    "vscode": {
     "languageId": "plaintext"
    }
   },
   "outputs": [],
   "source": []
  },
  {
   "cell_type": "markdown",
   "metadata": {},
   "source": [
    "## References\n",
    "\n",
    "Thijseen J., 2013. Computational Physics. Cambridge: Cambridge University Press\n",
    "\n",
    "Griffiths D., 2018. Introduction To Quantum Mechanics.  Cambridge: Cambridge University Press"
   ]
  },
  {
   "cell_type": "markdown",
   "metadata": {},
   "source": []
  }
 ],
 "metadata": {
  "language_info": {
   "name": "python"
  }
 },
 "nbformat": 4,
 "nbformat_minor": 2
}
