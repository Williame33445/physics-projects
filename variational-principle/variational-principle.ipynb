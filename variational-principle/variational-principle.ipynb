{
 "cells": [
  {
   "cell_type": "markdown",
   "metadata": {},
   "source": [
    "# Variational Principle method\n",
    "\n",
    "This notebook follows (Thijssen, 2013, p. 29). The variational method is a method for deducing upper bounds of energy eigenstates (usually used on the ground state). \n",
    "\n",
    "## Theory \n",
    "\n",
    "Consider a subset of Hilbert space whose energy expectation values are greater than some eigenstate's energy that we want to find. It can be shown that the min energy expectation value of any superposition of these states is greater than or equal to the eigenenergy we want (see (Thijssen, 2013, p. 30) for the full proof or (Griffiths, 2018, p. 327) for the simple case).\n",
    "\n",
    "In the linear case this can be reformed into a matrix problem.\n",
    "\n",
    "If the subset of states is $\\{\\ket{n}|n=1,2,3,...\\}$ (this set doesn't have to be orthonormal), then a general ket takes the form:\n",
    "\n",
    "$\\ket{\\phi} = \\sum\\limits_{i = 1}^{\\infty}C_i\\ket{i}$\n",
    "\n",
    "$\\implies \\bra{\\phi}\\hat{H}\\ket{\\phi} = \\dfrac{\\sum\\limits_{i,j = 1}^{\\infty}C_i^{*}C_jH_{ij}}{\\sum\\limits_{i,j = 1}^{\\infty}C_i^{*}C_jS_{ij}}$\n",
    "\n",
    "where $H_{ij} = \\bra{i}\\hat{H}\\ket{j}$ and $S_{ij} = \\bra{i}\\hat{S}\\ket{j}$\n",
    "\n",
    "Minimising $\\bra{\\phi}\\hat{H}\\ket{\\phi}$ by calculus gives:\n",
    "\n",
    "$\\sum\\limits_{j = 1}^{\\infty}C_j(H_{ij} - E S_{ij})$ for all i\n",
    "\n",
    "This can be rewritten as a matrix equation $\\bf{H}\\bf{C} = E \\bf{S}\\bf{C}$"
   ]
  },
  {
   "cell_type": "markdown",
   "metadata": {
    "vscode": {
     "languageId": "plaintext"
    }
   },
   "source": [
    "## Linear variational method for the Hydrogen atom\n",
    "\n",
    "In atomic units the time-independent Schrödinger equation is:\n",
    "\n",
    "$(\\frac{1}{2}\\nabla^2 - \\frac{1}{r})\\psi(\\vec{r}) = E\\psi(\\vec{r})$\n",
    "\n",
    "Apply the linear variational principle method, where the guessed wavefunction is a linear superposition of:\n",
    "\n",
    "$\\psi_{\\alpha_n}(\\vec{r}) = e^{-\\alpha_n r^2}$\n",
    "\n",
    "where $\\alpha \\in \\{ \\alpha_1 = 13.00773, \\alpha_2 = 1.962079, \\alpha_3 = 0.444529, \\alpha_4 = 0.1219492 \\}$\n",
    "\n",
    "The corresponding matrix elements are:\n",
    "\n",
    "$S_{nm} = \\left( \\frac{\\pi}{\\alpha_n + \\alpha_m} \\right)^{\\frac{3}{2}}$\n",
    "\n",
    "$H_{nm} = 3\\frac{\\alpha_n\\alpha_m\\pi^{\\frac{3}{2}}}{(\\alpha_n + \\alpha_m)^{\\frac{5}{2}}} - \\frac{2\\pi}{\\alpha_n + \\alpha_m}$\n",
    "\n",
    "The following program implements this approach."
   ]
  },
  {
   "cell_type": "code",
   "execution_count": 2,
   "metadata": {},
   "outputs": [],
   "source": [
    "import numpy as np\n",
    "from scipy.linalg import eigh\n",
    "from scipy.optimize import fmin\n",
    "import matplotlib.pyplot as plt\n"
   ]
  },
  {
   "cell_type": "code",
   "execution_count": 3,
   "metadata": {},
   "outputs": [],
   "source": [
    "\n",
    "#functions that calculate components \n",
    "def Sij(alpha_i,alpha_j):\n",
    "    return (np.pi/(alpha_i + alpha_j))**1.5\n",
    "\n",
    "def Hij(alpha_i,alpha_j):\n",
    "    return 3*(alpha_i*alpha_j*(np.pi**1.5))/((alpha_i + alpha_j)**(5/2)) - 2*np.pi/(alpha_i + alpha_j)\n",
    "\n",
    "\n",
    "#values of alpha\n",
    "alphas_H = np.array([13.00773, 1.962079, 0.444529, 0.1219492])\n",
    "\n",
    "def findHydrogenGroundState(alphas):\n",
    "        \n",
    "    #finding matrices as lists\n",
    "    S = np.array([[Sij(a_i,a_j) for a_i in alphas] for a_j in alphas])\n",
    "    H = np.array([[Hij(a_i,a_j) for a_i in alphas] for a_j in alphas])\n",
    "\n",
    "    #find eigenvalues\n",
    "    eigenvalues, eigenvectors = eigh(H,S)\n",
    "\n",
    "    return eigenvalues[0], eigenvectors[0]#/(eigenvectors[0] @ S @ eigenvectors[0])\n",
    "\n",
    "\n",
    "def findHydrogenGroundEnergy(alphas):\n",
    "    \n",
    "    eigenvalues, eigenvectors = findHydrogenGroundState(alphas) #better names\n",
    "    \n",
    "    return eigenvalues\n"
   ]
  },
  {
   "cell_type": "code",
   "execution_count": 4,
   "metadata": {},
   "outputs": [
    {
     "name": "stdout",
     "output_type": "stream",
     "text": [
      "Ground energy is -0.49927840566748466 hartree. The correct value is -0.5 hartree.\n"
     ]
    }
   ],
   "source": [
    "#ground state calculation\n",
    "groundEnergy = findHydrogenGroundEnergy(alphas_H)\n",
    "print(f\"Ground energy is {groundEnergy} hartree. The correct value is -0.5 hartree.\")"
   ]
  },
  {
   "cell_type": "code",
   "execution_count": 5,
   "metadata": {},
   "outputs": [
    {
     "data": {
      "text/plain": [
       "<matplotlib.image.AxesImage at 0x27b16e43dc0>"
      ]
     },
     "execution_count": 5,
     "metadata": {},
     "output_type": "execute_result"
    },
    {
     "data": {
      "image/png": "[encoded data removed]",
      "text/plain": [
       "<Figure size 640x480 with 1 Axes>"
      ]
     },
     "metadata": {},
     "output_type": "display_data"
    }
   ],
   "source": [
    "#excited states can't be found with just spherical basis (unless you approximated by shifting positions)\n",
    "#hence only the ground state can be described \n",
    "\n",
    "energy_H, states_H = findHydrogenGroundState(alphas_H) #better name for states?\n",
    "\n",
    "def getProbDensity(contractionCoeff,alphas,halfWidth,N): #z=0\n",
    "    x = np.linspace(-halfWidth, halfWidth, N)\n",
    "    y = np.linspace(-halfWidth, halfWidth, N)\n",
    "    xv, yv = np.meshgrid(x, y)\n",
    "\n",
    "    wavefunction = np.zeros((N,N))\n",
    "    for i in range(alphas.shape[0]):\n",
    "        wavefunction +=  contractionCoeff[i]*np.exp(-alphas[i]*(xv**2 + yv**2))\n",
    "\n",
    "    return wavefunction**2\n",
    "\n",
    "plt.imshow(getProbDensity(states_H,alphas_H,5,100))\n",
    "plt.title(\"Density plot of a hydrogen atom in z=0 plane\")\n",
    "plt.xlabel(\"x\")\n",
    "plt.ylabel(\"y\")"
   ]
  },
  {
   "cell_type": "code",
   "execution_count": 37,
   "metadata": {},
   "outputs": [
    {
     "name": "stdout",
     "output_type": "stream",
     "text": [
      "Energy found is  -0.32961354366849316, the alpha accuracy used is 0.1\n",
      "Energy found is  -0.49898344123840493, the alpha accuracy used is 0.01\n",
      "Energy found is  -0.4990131865331641, the alpha accuracy used is 0.001\n",
      "Energy found is  -0.4990177440121908, the alpha accuracy used is 0.0001\n"
     ]
    }
   ],
   "source": [
    "#look at Kopmann theorm for Helium\n",
    "\n",
    "#Self-Consistent Molecular Orbital Methods. VI. Energy Optimized Gaussian Atomic Orbitals\n",
    "#\"Direct Search\" Solution of Numerical and Statistical Problems*\n",
    "\n",
    "#this method could be generalised, though other methods are more efficient\n",
    "#when combined with the linear method above it solves the non-linear problem\n",
    "#this is good method as its easy to take into account contraints on the problem (eg alphas can't be negative)\n",
    "#more computationally efficient method would start with larger deltas and decrease the size\n",
    "#can run into problems with equal alpha values being generated but with decent seperation this usually is fine\n",
    "\n",
    "\n",
    "def getNewAlphasByDirectSearch(alphas,delta,depth=0):\n",
    "    \"\"\"\n",
    "    Function takes an intial guess of the alphas and applies the direct search method recursively to find the \n",
    "    alphas that minimise the ground state energy.\n",
    "\n",
    "    Inputs:\n",
    "    alphas - inital guess alpha array\n",
    "    delta -  accuracy to which the direct search method will be applied \n",
    "    depth - depth of recursion\n",
    "    \"\"\"\n",
    "\n",
    "    dim = alphas.shape[0]\n",
    "    assert np.all(alphas > np.zeros(dim))\n",
    "    assert np.unique(alphas).shape[0] == dim\n",
    "\n",
    "    newAlphas = np.copy(alphas)\n",
    "    for i in range(dim):\n",
    "        alphasUp = np.copy(alphas)\n",
    "        alphasUp[i] += delta\n",
    "\n",
    "        alphasDown = np.copy(alphas)\n",
    "        #as alphas have to be positive \n",
    "        if alphasDown[i] <= delta:\n",
    "            alphasDown[i] /= 2\n",
    "        else:\n",
    "            alphasDown[i] -= delta\n",
    "\n",
    "        E = findHydrogenGroundEnergy(alphas)\n",
    "        EUp = findHydrogenGroundEnergy(alphasUp)\n",
    "        EDown = findHydrogenGroundEnergy(alphasDown)\n",
    "\n",
    "        if EUp-E >= 0 and EDown - E >= 0:\n",
    "            pass\n",
    "        elif EUp - E > 0:\n",
    "            newAlphas[i] = alphasDown[i]\n",
    "        elif EUp - E <= 0:\n",
    "            newAlphas[i] = alphasUp[i]\n",
    "    \n",
    "    #muliplication by 1.1 is to allow alphas difference to be on the edge\n",
    "    if np.allclose(newAlphas,alphas,rtol=1.1*delta): \n",
    "        return newAlphas\n",
    "    elif depth == 999:\n",
    "        print(\"max depth reached\")\n",
    "        return newAlphas\n",
    "    else:\n",
    "        return getNewAlphasByDirectSearch(newAlphas,delta,depth+1)\n",
    "\n",
    "\n",
    "def getNewAlphas(intialAlphas,deltaInital,n):\n",
    "    \"\"\"\n",
    "    Function that takes an intial guess for the alphas and applies the direct search method recursively \n",
    "    for smaller and smaller deltas. Assumes deltaInital is less that 1.\n",
    "    \"\"\"\n",
    "    alphas = np.copy(intialAlphas)\n",
    "    delta = deltaInital\n",
    "    for i in range(n):\n",
    "        alphas = getNewAlphasByDirectSearch(alphas,delta)\n",
    "        delta *= deltaInital\n",
    "    return alphas\n",
    "\n",
    "\n",
    "\n",
    "intialAlphaGuess = np.array([17, 1, 1.5, 2])\n",
    "for i in range(1,5):\n",
    "    newAlphas = getNewAlphas(intialAlphaGuess,0.1,i)\n",
    "    print(f\"Energy found is  {findHydrogenGroundEnergy(newAlphas)}, the alpha accuracy used is {np.round(0.1**(i),i)}\")\n",
    "\n",
    "\n"
   ]
  },
  {
   "cell_type": "markdown",
   "metadata": {},
   "source": [
    "## Helium atom \n",
    "\n",
    "Via the Born-Oppenheimer, the Helium atom Hamiltonian is:\n",
    "\n",
    "$\\hat{H} = -\\frac{1}{2}\\nabla_1^2 -\\frac{1}{2}\\nabla_2^2 + \\frac{1}{|\\vec{r_1} - \\vec{r_2}|}  - \\frac{2}{r_1} - \\frac{2}{r_2}$\n",
    "\n",
    "As the ground state energy is in a singlet spin state, the position part of the wavefunction is $\\psi (\\vec{r_1},\\vec{r_2}) = \\phi (\\vec{r_1})\\phi (\\vec{r_2})$. Assuming that $\\phi (\\vec{r})$ is normalised, it can be shown that (Thijssen, 2013, p. 46):\n",
    "\n",
    "$(-\\frac{1}{2}\\nabla_1^2 - \\frac{2}{r_1} + \\int dV_2 \\frac{|\\phi{\\vec{r_2}}|^2}{|\\vec{r_1} - \\vec{r_2}|})\\phi(\\vec{r_1}) = E\\phi(\\vec{r_1})$\n",
    "\n",
    "This equation cannot be solved exactly. However, we can get an upper bound using the linear variational method described above. Using the same $\\psi_{\\alpha_n}(\\vec{r})$ with different values of $\\alpha$, this can be reformulated into a matrix problem:\n",
    "\n",
    "$\\sum\\limits_{q}(h_{pq} + \\sum\\limits_{r,s}C_s C_r Q_{prqs})C_q = E\\sum\\limits_{q} S_{pq}C_q$\n",
    "\n",
    "where\n",
    "\n",
    "$h_{pq} = \\bra{\\psi_{\\alpha_p}}-\\frac{1}{2}\\nabla^2 - \\frac{2}{r}\\ket{\\psi_{\\alpha_p}}$\n",
    "\n",
    "$Q_{prqs} = \\int dV_1 dV_2 \\frac{\\psi_{\\alpha_p}(\\vec{r_1})\\psi_{\\alpha_r}(\\vec{r_2})\\psi_{\\alpha_q}(\\vec{r_1})\\psi_{\\alpha_s}(\\vec{r_2})}{|\\vec{r_1}-\\vec{r_2}|}$\n",
    "\n",
    "$S_{pq} = \\bra{\\psi_{\\alpha_p}}\\ket{\\psi_{\\alpha_q}}$\n",
    "\n",
    "This can be solved by guessing the $C$ values, plugging them into the $Q$ part of the expression and solving the eigenvalue equation produced. The process can then be repeated recursively with the $C$ s found until the error is below some specified value (works because the ground state energy is a stable fixed point under this map).\n",
    "\n",
    "The ground state energy can then be deduced from:\n",
    "\n",
    "$E_G = 2\\sum\\limits_{p,q}C_p C_q h_{pq} +\\sum\\limits_{p,q,r,s} Q_{prqs}C_p C_q C_s C_r$\n",
    "\n",
    "This process is implemented below."
   ]
  },
  {
   "cell_type": "code",
   "execution_count": 7,
   "metadata": {},
   "outputs": [],
   "source": [
    "#simulation parameters\n",
    "alphas2 = [0.298073, 1.242567, 5.782948, 38.47497]\n"
   ]
  },
  {
   "cell_type": "code",
   "execution_count": 8,
   "metadata": {},
   "outputs": [],
   "source": [
    "#functions to calculate matrix elements \n",
    "\n",
    "def Qijkl(alpha_i,alpha_j,alpha_k,alpha_l):\n",
    "    \"\"\"\n",
    "    Calculates the components of the Q matrix.\n",
    "    \"\"\"\n",
    "    denominator = (alpha_i + alpha_k)*(alpha_j + alpha_l)*((alpha_i + alpha_j + alpha_k + alpha_l)**0.5)\n",
    "    return 2*(np.pi**2.5)/denominator\n",
    "\n",
    "def hij(alpha_i,alpha_j):\n",
    "    \"\"\"\n",
    "    Finds components of h matrix\n",
    "    \"\"\"\n",
    "    return (3*alpha_i*alpha_j*(np.pi**1.5))/((alpha_i + alpha_j)**2.5) -  4*np.pi/(alpha_i + alpha_j)\n",
    "\n"
   ]
  },
  {
   "cell_type": "code",
   "execution_count": 9,
   "metadata": {},
   "outputs": [],
   "source": [
    "#find matricies\n",
    "h = np.zeros((4, 4))\n",
    "S2 = np.zeros((4, 4))\n",
    "Q = np.zeros((4, 4, 4, 4))\n",
    "\n",
    "for i in range(4):\n",
    "    for j in range(4):\n",
    "        h[i,j] = hij(alphas2[i],alphas2[j])\n",
    "        S2[i,j] = Sij(alphas2[i], alphas2[j])\n",
    "        for k in range(4):\n",
    "            for l in range(4):\n",
    "                Q[i, j, k, l]= Qijkl(alphas2[i],alphas2[j],alphas2[k],alphas2[l])\n",
    "\n"
   ]
  },
  {
   "cell_type": "code",
   "execution_count": 10,
   "metadata": {},
   "outputs": [],
   "source": [
    "\n",
    "#normalisation function \n",
    "def normalise(C):\n",
    "    \"\"\"\n",
    "    Normalises C (remember that the set doesn't have to be orthonomal so this is not trivial)\n",
    "    \"\"\"\n",
    "    innerProduct = 0\n",
    "    for i,c_i in enumerate(C):\n",
    "        for j,c_j in enumerate(C):\n",
    "            innerProduct += c_i*c_j*S2[i][j]\n",
    "\n",
    "    return C/(innerProduct**0.5)  \n",
    "\n"
   ]
  },
  {
   "cell_type": "code",
   "execution_count": 11,
   "metadata": {},
   "outputs": [
    {
     "name": "stdout",
     "output_type": "stream",
     "text": [
      "Ground energy is -2.8551603823702516 hartree. The correct value is -2.903 hartree.\n"
     ]
    }
   ],
   "source": [
    "#intial guess\n",
    "CGuess = normalise(np.array([1, 1, 1, 1])) \n",
    "EGuess = 0\n",
    "\n",
    "#run simulation\n",
    "def iterateC(C,EPrev):\n",
    "    \"\"\"\n",
    "    Performs one iteration of the recursive cycle   \n",
    "    \"\"\"\n",
    "    #finds F matrix\n",
    "    F = h + np.einsum('ikjl,k,l', Q, C, C) \n",
    "\n",
    "    #finds new C values\n",
    "    eigenvalues, eignestates = eigh(F,S2,eigvals_only=False)\n",
    "    CNew = normalise(eignestates[:,0])\n",
    "\n",
    "    #find E\n",
    "    groundEnergyFound =  2*np.einsum('ij,i,j', h, CNew, CNew) + np.einsum('ikjl,i,j,k,l', Q, CNew, CNew, CNew, CNew)\n",
    "    \n",
    "    #iterates agian if difference between previous iteration is not less than max error\n",
    "    if abs(groundEnergyFound - EPrev) < 1E-14:\n",
    "        return groundEnergyFound \n",
    "    else:\n",
    "        return iterateC(CNew,groundEnergyFound)\n",
    "\n",
    "print(f\"Ground energy is {iterateC(CGuess,EGuess)} hartree. The correct value is -2.903 hartree.\")"
   ]
  },
  {
   "cell_type": "markdown",
   "metadata": {},
   "source": [
    "## References\n",
    "\n",
    "Thijseen J., 2013. Computational Physics. Cambridge: Cambridge University Press\n",
    "\n",
    "Griffiths D., 2018. Introduction To Quantum Mechanics.  Cambridge: Cambridge University Press"
   ]
  },
  {
   "cell_type": "markdown",
   "metadata": {},
   "source": []
  }
 ],
 "metadata": {
  "kernelspec": {
   "display_name": ".venv",
   "language": "python",
   "name": "python3"
  },
  "language_info": {
   "codemirror_mode": {
    "name": "ipython",
    "version": 3
   },
   "file_extension": ".py",
   "mimetype": "text/x-python",
   "name": "python",
   "nbconvert_exporter": "python",
   "pygments_lexer": "ipython3",
   "version": "3.8.10"
  }
 },
 "nbformat": 4,
 "nbformat_minor": 2
}
