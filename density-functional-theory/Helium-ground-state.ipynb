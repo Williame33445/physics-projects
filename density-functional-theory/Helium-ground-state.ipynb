{
 "cells": [
  {
   "cell_type": "markdown",
   "metadata": {},
   "source": [
    "# Helium Ground state by DFT\n",
    "\n",
    "This notebook calculates the Helium atom ground state using DFT. The notebook is based on chapter 5 of Thijseen's Computational Physics."
   ]
  },
  {
   "cell_type": "code",
   "execution_count": 7,
   "metadata": {},
   "outputs": [],
   "source": [
    "import numpy as np\n",
    "import matplotlib.pyplot as plt"
   ]
  },
  {
   "cell_type": "code",
   "execution_count": 8,
   "metadata": {},
   "outputs": [],
   "source": [
    "#constants\n",
    "r_max = 10\n",
    "h = 1e-3\n",
    "secMin = 1e-4\n",
    "EAcc = 1e-4\n",
    "\n",
    "rs = np.arange(0,r_max,step=h)\n",
    "rsF = np.flip(rs)\n",
    "N = rs.shape[0]"
   ]
  },
  {
   "cell_type": "code",
   "execution_count": 9,
   "metadata": {},
   "outputs": [],
   "source": [
    "def getRadialWavefunc(E,Vs):\n",
    "    \"\"\"\n",
    "    Finds the radial wave equation associated with energy E and hartree potential Vs. Uses Verlet method.\n",
    "    \"\"\"\n",
    "    us = np.empty(N)\n",
    "    VsF = np.flip(Vs)\n",
    "\n",
    "    us[0] = rsF[0]*np.exp(-rsF[0])\n",
    "    us[1] = rsF[1]*np.exp(-rsF[1])\n",
    "\n",
    "    for i in range(2,N):\n",
    "        us[i] = 2*us[i-1] - us[i-2] + 2*(VsF[i-1] - 2/rsF[i-1] - E)*us[i-1]*h**2\n",
    "    \n",
    "    us /= np.sqrt(h*np.sum(us**2))\n",
    "\n",
    "    return np.flip(us)"
   ]
  },
  {
   "cell_type": "code",
   "execution_count": 10,
   "metadata": {},
   "outputs": [],
   "source": [
    "def secant(x0,x1,f):\n",
    "    \"\"\"\n",
    "    Applies secant method.\n",
    "    \"\"\"\n",
    "    x2 = (x1*f(x0) -x0*f(x1))/(f(x0) - f(x1))\n",
    "    if abs(f(x2)) < secMin:\n",
    "        return x2\n",
    "    else:\n",
    "        return secant(x0,x2,f)"
   ]
  },
  {
   "cell_type": "code",
   "execution_count": 11,
   "metadata": {},
   "outputs": [],
   "source": [
    "def getVs(us):\n",
    "    \"\"\"\n",
    "    Finds Vs for a given radial solution. Uses Verlet method.\n",
    "    \"\"\"\n",
    "    Us = np.empty(rs.shape)\n",
    "\n",
    "    Us[0] = 0\n",
    "    Us[1] = h\n",
    "\n",
    "    for i in range(2,rs.shape[0]):\n",
    "        Us[i] = 2*Us[i-1] - Us[i-2] - (us[i-1]**2/rs[i-1])*h**2 \n",
    "\n",
    "    alpha = (h*np.sum(us**2) -  Us[-1])/rs[-1]\n",
    "\n",
    "    Us += alpha*rs\n",
    "\n",
    "    Vs = Us\n",
    "    Vs[1:] /= rs[1:] \n",
    "    return Vs\n"
   ]
  },
  {
   "cell_type": "code",
   "execution_count": 12,
   "metadata": {},
   "outputs": [],
   "source": [
    "def findGroundState(us,EPrev):\n",
    "    \"\"\"\n",
    "    Recursively solves DFT Helium problem to deduce the ground state.\n",
    "    \"\"\"\n",
    "    Vs = getVs(us)\n",
    "\n",
    "    #finds us with correct boundary conditions\n",
    "    getU0 = lambda E: getRadialWavefunc(E,Vs)[0]\n",
    "    epsilon = secant(-3,-1,getU0)\n",
    "\n",
    "    usNew = getRadialWavefunc(epsilon,Vs)\n",
    "    VsNew = getVs(usNew)\n",
    "    ENew = 2*epsilon - h*np.sum(VsNew*usNew**2)\n",
    "\n",
    "    if abs(ENew - EPrev) < EAcc:\n",
    "        return ENew\n",
    "    return findGroundState(usNew,ENew)\n"
   ]
  },
  {
   "cell_type": "code",
   "execution_count": 13,
   "metadata": {},
   "outputs": [
    {
     "name": "stdout",
     "output_type": "stream",
     "text": [
      "Energy found: -2.861 Hartree. Experimental value is: -2.861 Hartree\n"
     ]
    }
   ],
   "source": [
    "#simple guess of radial solution\n",
    "us0 = getRadialWavefunc(-2,np.zeros(N))\n",
    "\n",
    "#finds radial solution\n",
    "print(f\"Energy found: {np.round(findGroundState(us0,-2),3)} Hartree. Experimental value is: -2.861 Hartree\")\n"
   ]
  },
  {
   "cell_type": "code",
   "execution_count": null,
   "metadata": {},
   "outputs": [],
   "source": []
  }
 ],
 "metadata": {
  "kernelspec": {
   "display_name": ".venv",
   "language": "python",
   "name": "python3"
  },
  "language_info": {
   "codemirror_mode": {
    "name": "ipython",
    "version": 3
   },
   "file_extension": ".py",
   "mimetype": "text/x-python",
   "name": "python",
   "nbconvert_exporter": "python",
   "pygments_lexer": "ipython3",
   "version": "3.8.10"
  }
 },
 "nbformat": 4,
 "nbformat_minor": 2
}
