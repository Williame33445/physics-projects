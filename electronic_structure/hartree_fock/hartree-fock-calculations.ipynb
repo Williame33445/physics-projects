{
 "cells": [
  {
   "cell_type": "markdown",
   "metadata": {},
   "source": [
    "# Hartree Fock Calculations\n",
    "\n",
    "## Theory\n",
    "\n",
    "explain how alphas are found\n",
    "\n",
    "## Code\n",
    "\n",
    "## Examples\n",
    "\n",
    "### Helium\n",
    "\n",
    "Only works when there are 2 or more electrons. As otherwise the guess is taken into account.\n"
   ]
  },
  {
   "cell_type": "code",
   "execution_count": 1,
   "metadata": {},
   "outputs": [],
   "source": [
    "from Hartree_Fock import *\n",
    "from representation import *\n",
    "from scipy.optimize import fmin\n",
    "from molecular_int.GTO1s_matrix_elements import *\n"
   ]
  },
  {
   "cell_type": "code",
   "execution_count": null,
   "metadata": {},
   "outputs": [],
   "source": []
  },
  {
   "cell_type": "code",
   "execution_count": 2,
   "metadata": {},
   "outputs": [
    {
     "name": "stdout",
     "output_type": "stream",
     "text": [
      "[{'e': -1.0272533372740613, 'state': array([ 0.03041191,  0.58175093,  0.85834051, -0.30707443]), 'spin': 'up'}, {'e': -1.0272533372740613, 'state': array([ 0.03041191,  0.58175093,  0.85834051, -0.30707443]), 'spin': 'down'}]\n",
      "-2.8091441246173456\n"
     ]
    }
   ],
   "source": [
    "#5-21G\n",
    "alphas = [0.298073,1.242567,5.782948,38.474970]\n",
    "\n",
    "basisPos = [np.array([0,0,0]),np.array([0,0,0]),np.array([0,0,0]),np.array([0,0,0])]\n",
    "Zs = [2]\n",
    "nucPos = [np.array([0,0,0])]\n",
    "\n",
    "rep = Rep1s2p(Zs,alphas,nucPos,basisPos,basisPos)\n",
    "\n",
    "\n",
    "\n",
    "ups = [[1,1,1,1]]\n",
    "downs = [[1,1,1,1]]\n",
    "EGuess = -2.8\n",
    "maxError = 0.1\n",
    "\n",
    "print(iterateHF(rep.normaliseList(ups),rep.normaliseList(downs),rep,EGuess,maxError,lambda s: takeGroundEigStates(s,2)))\n",
    "\n"
   ]
  },
  {
   "cell_type": "markdown",
   "metadata": {},
   "source": [
    "### H_2 molecule\n",
    "\n",
    "bond length = 7.4 × 10 −11 m = 1.4 a_0 , should be able to deduce this.\n",
    "\n"
   ]
  },
  {
   "cell_type": "code",
   "execution_count": 3,
   "metadata": {},
   "outputs": [
    {
     "name": "stdout",
     "output_type": "stream",
     "text": [
      "[{'e': -0.469125947472365, 'state': array([ 0.44310575,  0.58224522, -0.00786469, -0.01666974,  0.2389482 ,\n",
      "        0.08215369,  0.00772262, -0.1333664 ]), 'spin': 'up'}, {'e': -0.469125947472365, 'state': array([ 0.44310575,  0.58224522, -0.00786469, -0.01666974,  0.2389482 ,\n",
      "        0.08215369,  0.00772262, -0.1333664 ]), 'spin': 'down'}]\n",
      "[{'e': -0.4526540920135907, 'state': array([ 0.4392147 ,  0.59155424, -0.00743212, -0.01788381,  0.24304616,\n",
      "        0.08686896,  0.0142043 , -0.13355319]), 'spin': 'up'}, {'e': -0.4526540920135907, 'state': array([ 0.4392147 ,  0.59155424, -0.00743212, -0.01788381,  0.24304616,\n",
      "        0.08686896,  0.0142043 , -0.13355319]), 'spin': 'down'}]\n",
      "[{'e': -0.4318801869381466, 'state': array([ 0.42579647,  0.6103236 , -0.0061224 , -0.01817457,  0.24854175,\n",
      "        0.09173921,  0.01875621, -0.13387103]), 'spin': 'up'}, {'e': -0.4318801869381466, 'state': array([ 0.42579647,  0.6103236 , -0.0061224 , -0.01817457,  0.24854175,\n",
      "        0.09173921,  0.01875621, -0.13387103]), 'spin': 'down'}]\n",
      "[{'e': -0.46148992657953986, 'state': array([ 0.44220783,  0.58564423, -0.00774896, -0.01739384,  0.24078341,\n",
      "        0.08448285,  0.01120781, -0.13344079]), 'spin': 'up'}, {'e': -0.46148992657953986, 'state': array([ 0.44220783,  0.58564423, -0.00774896, -0.01739384,  0.24078341,\n",
      "        0.08448285,  0.01120781, -0.13344079]), 'spin': 'down'}]\n",
      "[{'e': -0.4690839425633213, 'state': array([ 0.4430261 ,  0.58223788, -0.00786572, -0.01666793,  0.23893095,\n",
      "        0.0821454 ,  0.00770344, -0.13336462]), 'spin': 'up'}, {'e': -0.4690839425633213, 'state': array([ 0.4430261 ,  0.58223788, -0.00786572, -0.01666793,  0.23893095,\n",
      "        0.0821454 ,  0.00770344, -0.13336462]), 'spin': 'down'}]\n",
      "[{'e': -0.457172512210442, 'state': array([ 0.44090703,  0.5882927 , -0.00761787, -0.01766619,  0.24185066,\n",
      "        0.08566192,  0.01274915, -0.13349079]), 'spin': 'up'}, {'e': -0.457172512210442, 'state': array([ 0.44090703,  0.5882927 , -0.00761787, -0.01766619,  0.24185066,\n",
      "        0.08566192,  0.01274915, -0.13349079]), 'spin': 'down'}]\n",
      "[{'e': -0.465468063828572, 'state': array([ 0.44291254,  0.58361149, -0.00783125, -0.01706098,  0.23980635,\n",
      "        0.08330956,  0.00952718, -0.13339927]), 'spin': 'up'}, {'e': -0.465468063828572, 'state': array([ 0.44291254,  0.58361149, -0.00783125, -0.01706098,  0.23980635,\n",
      "        0.08330956,  0.00952718, -0.13339927]), 'spin': 'down'}]\n",
      "[{'e': -0.4593481180741534, 'state': array([ 0.44158729,  0.58688867, -0.00769038, -0.01753647,  0.24129664,\n",
      "        0.0850669 ,  0.01198524, -0.13346388]), 'spin': 'up'}, {'e': -0.4593481180741534, 'state': array([ 0.44158729,  0.58688867, -0.00769038, -0.01753647,  0.24129664,\n",
      "        0.0850669 ,  0.01198524, -0.13346388]), 'spin': 'down'}]\n",
      "[{'e': -0.46351727032470014, 'state': array([ 0.44262367,  0.58454754, -0.0077963 , -0.01723472,  0.24028072,\n",
      "        0.08389419,  0.01038271, -0.13341885]), 'spin': 'up'}, {'e': -0.46351727032470014, 'state': array([ 0.44262367,  0.58454754, -0.0077963 , -0.01723472,  0.24028072,\n",
      "        0.08389419,  0.01038271, -0.13341885]), 'spin': 'down'}]\n",
      "[{'e': -0.46040924652640103, 'state': array([ 0.44187825,  0.58624349, -0.00772183, -0.01746612,  0.24102914,\n",
      "        0.08477062,  0.01159207, -0.13345137]), 'spin': 'up'}, {'e': -0.46040924652640103, 'state': array([ 0.44187825,  0.58624349, -0.00772183, -0.01746612,  0.24102914,\n",
      "        0.08477062,  0.01159207, -0.13345137]), 'spin': 'down'}]\n",
      "[{'e': -0.4593481180741534, 'state': array([ 0.44158729,  0.58688867, -0.00769038, -0.01753647,  0.24129664,\n",
      "        0.0850669 ,  0.01198524, -0.13346388]), 'spin': 'up'}, {'e': -0.4593481180741534, 'state': array([ 0.44158729,  0.58688867, -0.00769038, -0.01753647,  0.24129664,\n",
      "        0.0850669 ,  0.01198524, -0.13346388]), 'spin': 'down'}]\n",
      "[{'e': -0.4609330188380299, 'state': array([ 0.44201159,  0.5859353 , -0.00773637, -0.01742958,  0.24089783,\n",
      "        0.0846228 ,  0.01139268, -0.13344535]), 'spin': 'up'}, {'e': -0.4609330188380299, 'state': array([ 0.44201159,  0.5859353 , -0.00773637, -0.01742958,  0.24089783,\n",
      "        0.0846228 ,  0.01139268, -0.13344535]), 'spin': 'down'}]\n",
      "[{'e': -0.46148992657953475, 'state': array([ 0.44220783,  0.58564423, -0.00774896, -0.01739384,  0.24078341,\n",
      "        0.08448285,  0.01120781, -0.13344079]), 'spin': 'up'}, {'e': -0.46148992657953475, 'state': array([ 0.44220783,  0.58564423, -0.00774896, -0.01739384,  0.24078341,\n",
      "        0.08448285,  0.01120781, -0.13344079]), 'spin': 'down'}]\n",
      "[{'e': -0.46067170259369794, 'state': array([ 0.44194593,  0.58608819, -0.0077292 , -0.01744796,  0.24096328,\n",
      "        0.08469668,  0.01149261, -0.13344834]), 'spin': 'up'}, {'e': -0.46067170259369794, 'state': array([ 0.44194593,  0.58608819, -0.0077292 , -0.01744796,  0.24096328,\n",
      "        0.08469668,  0.01149261, -0.13344834]), 'spin': 'down'}]\n",
      "[{'e': -0.46123127439506134, 'state': array([ 0.44214689,  0.58579237, -0.00774217, -0.01741271,  0.24084817,\n",
      "        0.0845567 ,  0.01130882, -0.13344371]), 'spin': 'up'}, {'e': -0.46123127439506134, 'state': array([ 0.44214689,  0.58579237, -0.00774217, -0.01741271,  0.24084817,\n",
      "        0.0845567 ,  0.01130882, -0.13344371]), 'spin': 'down'}]\n",
      "[{'e': -0.4608025034959374, 'state': array([ 0.44197901,  0.58601145, -0.00773281, -0.0174388 ,  0.2409305 ,\n",
      "        0.08465974,  0.0114427 , -0.13344684]), 'spin': 'up'}, {'e': -0.4608025034959374, 'state': array([ 0.44197901,  0.58601145, -0.00773281, -0.0174388 ,  0.2409305 ,\n",
      "        0.08465974,  0.0114427 , -0.13344684]), 'spin': 'down'}]\n",
      "[{'e': -0.46110151844292674, 'state': array([ 0.44211567,  0.58586735, -0.00773869, -0.01742205,  0.24088071,\n",
      "        0.08459365,  0.01135916, -0.13344518]), 'spin': 'up'}, {'e': -0.46110151844292674, 'state': array([ 0.44211567,  0.58586735, -0.00773869, -0.01742205,  0.24088071,\n",
      "        0.08459365,  0.01135916, -0.13344518]), 'spin': 'down'}]\n",
      "[{'e': -0.4608677969001136, 'state': array([ 0.44199536,  0.5859733 , -0.0077346 , -0.0174342 ,  0.24091415,\n",
      "        0.08464127,  0.0114177 , -0.13344609]), 'spin': 'up'}, {'e': -0.4608677969001136, 'state': array([ 0.44199536,  0.5859733 , -0.0077346 , -0.0174342 ,  0.24091415,\n",
      "        0.08464127,  0.0114177 , -0.13344609]), 'spin': 'down'}]\n",
      "[{'e': -0.4610365332793205, 'state': array([ 0.44209988,  0.58590506, -0.00773694, -0.01742671,  0.24089702,\n",
      "        0.08461213,  0.01138428, -0.13344592]), 'spin': 'up'}, {'e': -0.4610365332793205, 'state': array([ 0.44209988,  0.58590506, -0.00773694, -0.01742671,  0.24089702,\n",
      "        0.08461213,  0.01138428, -0.13344592]), 'spin': 'down'}]\n",
      "[{'e': -0.4609389217701026, 'state': array([ 0.44207595,  0.58596192, -0.00773428, -0.01743366,  0.24092153,\n",
      "        0.08463985,  0.01142191, -0.13344704]), 'spin': 'up'}, {'e': -0.4609389217701026, 'state': array([ 0.44207595,  0.58596192, -0.00773428, -0.01743366,  0.24092153,\n",
      "        0.08463985,  0.01142191, -0.13344704]), 'spin': 'down'}]\n",
      "[{'e': -0.4609389217701026, 'state': array([ 0.44207595,  0.58596192, -0.00773428, -0.01743366,  0.24092153,\n",
      "        0.08463985,  0.01142191, -0.13344704]), 'spin': 'up'}, {'e': -0.4609389217701026, 'state': array([ 0.44207595,  0.58596192, -0.00773428, -0.01743366,  0.24092153,\n",
      "        0.08463985,  0.01142191, -0.13344704]), 'spin': 'down'}]\n",
      "[{'e': -0.46101048967178115, 'state': array([ 0.44210455,  0.58592545, -0.00773584, -0.01742933,  0.24090796,\n",
      "        0.08462275,  0.01139972, -0.13344651]), 'spin': 'up'}, {'e': -0.46101048967178115, 'state': array([ 0.44210455,  0.58592545, -0.00773584, -0.01742933,  0.24090796,\n",
      "        0.08462275,  0.01139972, -0.13344651]), 'spin': 'down'}]\n",
      "[{'e': -0.46095520149282737, 'state': array([ 0.44207995,  0.58595242, -0.00773473, -0.0174325 ,  0.24091744,\n",
      "        0.08463523,  0.01141564, -0.13344685]), 'spin': 'up'}, {'e': -0.46095520149282737, 'state': array([ 0.44207995,  0.58595242, -0.00773473, -0.0174325 ,  0.24091744,\n",
      "        0.08463523,  0.01141564, -0.13344685]), 'spin': 'down'}]\n",
      "Optimization terminated successfully.\n",
      "         Current function value: 0.244214\n",
      "         Iterations: 11\n",
      "         Function evaluations: 23\n",
      "[1.33453125]\n"
     ]
    }
   ],
   "source": [
    "alphasH2 = [13.00773,1.962079,0.444529,0.1219492,13.00773,1.962079,0.444529,0.1219492]\n",
    "\n",
    "def findGround(bondLength):\n",
    "    boundLength = abs(bondLength)\n",
    "    basisPos = [np.array([0,0,0]),np.array([0,0,0]),np.array([0,0,0]),np.array([0,0,0]),np.array([0,0,bondLength[0]]),np.array([0,0,bondLength[0]]),np.array([0,0,bondLength[0]]),np.array([0,0,bondLength[0]])]\n",
    "    Zs = [1,1]\n",
    "    nucPos = [np.array([0,0,0]),np.array([0,0,bondLength[0]])]\n",
    "    alphas = [np.array([0,0,0]),np.array([0,0,0]),np.array([0,0,0]),np.array([0,0,0]),np.array([0,0,0]),np.array([0,0,0]),np.array([0,0,0]),np.array([0,0,0])]\n",
    "\n",
    "    rep = Rep1s2p(Zs,alphasH2,nucPos,basisPos,alphas)\n",
    "\n",
    "\n",
    "\n",
    "    ups = [[1,1,1,1,1,1,1,1]]\n",
    "    downs = [[1,1,1,1,1,1,1,1]]\n",
    "    EGuess = 0  \n",
    "    maxError = 0.0001\n",
    "\n",
    "    E_hf = iterateHF(rep.normaliseList(ups),rep.normaliseList(downs),rep,EGuess,maxError,lambda s: takeGroundEigStates(s,2))\n",
    "    E = 1/bondLength\n",
    "\n",
    "    return E_hf + E\n",
    "\n",
    "print(fmin(findGround,1.3))"
   ]
  },
  {
   "cell_type": "markdown",
   "metadata": {},
   "source": [
    "### Li"
   ]
  },
  {
   "cell_type": "code",
   "execution_count": 4,
   "metadata": {},
   "outputs": [
    {
     "ename": "LinAlgError",
     "evalue": "Singular matrix",
     "output_type": "error",
     "traceback": [
      "\u001b[1;31m---------------------------------------------------------------------------\u001b[0m",
      "\u001b[1;31mLinAlgError\u001b[0m                               Traceback (most recent call last)",
      "Cell \u001b[1;32mIn[4], line 21\u001b[0m\n\u001b[0;32m     18\u001b[0m Zs \u001b[38;5;241m=\u001b[39m [\u001b[38;5;241m3\u001b[39m]\n\u001b[0;32m     19\u001b[0m nucPos \u001b[38;5;241m=\u001b[39m [np\u001b[38;5;241m.\u001b[39marray([\u001b[38;5;241m0\u001b[39m,\u001b[38;5;241m0\u001b[39m,\u001b[38;5;241m0\u001b[39m])]\n\u001b[1;32m---> 21\u001b[0m rep \u001b[38;5;241m=\u001b[39m \u001b[43mRep1s2p\u001b[49m\u001b[43m(\u001b[49m\u001b[43mZs\u001b[49m\u001b[43m,\u001b[49m\u001b[43malphas\u001b[49m\u001b[43m,\u001b[49m\u001b[43mnucPos\u001b[49m\u001b[43m,\u001b[49m\u001b[43mbasisPos\u001b[49m\u001b[43m,\u001b[49m\u001b[43mbasisPos\u001b[49m\u001b[43m)\u001b[49m\n\u001b[0;32m     25\u001b[0m ups \u001b[38;5;241m=\u001b[39m [[\u001b[38;5;241m1\u001b[39m,\u001b[38;5;241m1\u001b[39m,\u001b[38;5;241m1\u001b[39m,\u001b[38;5;241m1\u001b[39m,\u001b[38;5;241m1\u001b[39m,\u001b[38;5;241m1\u001b[39m,\u001b[38;5;241m1\u001b[39m,\u001b[38;5;241m1\u001b[39m,\u001b[38;5;241m1\u001b[39m,\u001b[38;5;241m1\u001b[39m,\u001b[38;5;241m1\u001b[39m,\u001b[38;5;241m1\u001b[39m,\u001b[38;5;241m1\u001b[39m,\u001b[38;5;241m1\u001b[39m,\u001b[38;5;241m1\u001b[39m]]\n\u001b[0;32m     26\u001b[0m downs \u001b[38;5;241m=\u001b[39m [[\u001b[38;5;241m1\u001b[39m,\u001b[38;5;241m1\u001b[39m,\u001b[38;5;241m1\u001b[39m,\u001b[38;5;241m1\u001b[39m,\u001b[38;5;241m1\u001b[39m,\u001b[38;5;241m1\u001b[39m,\u001b[38;5;241m1\u001b[39m,\u001b[38;5;241m1\u001b[39m,\u001b[38;5;241m1\u001b[39m,\u001b[38;5;241m1\u001b[39m,\u001b[38;5;241m1\u001b[39m,\u001b[38;5;241m1\u001b[39m,\u001b[38;5;241m1\u001b[39m,\u001b[38;5;241m1\u001b[39m,\u001b[38;5;241m1\u001b[39m],[\u001b[38;5;241m1\u001b[39m,\u001b[38;5;241m1\u001b[39m,\u001b[38;5;241m1\u001b[39m,\u001b[38;5;241m1\u001b[39m,\u001b[38;5;241m1\u001b[39m,\u001b[38;5;241m1\u001b[39m,\u001b[38;5;241m1\u001b[39m,\u001b[38;5;241m1\u001b[39m,\u001b[38;5;241m1\u001b[39m,\u001b[38;5;241m1\u001b[39m,\u001b[38;5;241m1\u001b[39m,\u001b[38;5;241m1\u001b[39m,\u001b[38;5;241m0\u001b[39m,\u001b[38;5;241m0\u001b[39m,\u001b[38;5;241m0\u001b[39m]]\n",
      "File \u001b[1;32mc:\\workspace\\git-repos\\physics-projects\\electronic_structure\\hartree_fock\\representation.py:181\u001b[0m, in \u001b[0;36mRep1s2p.__init__\u001b[1;34m(self, Zs, alphas, nuclearPositions, basisPositions, type)\u001b[0m\n\u001b[0;32m    178\u001b[0m \u001b[38;5;28mself\u001b[39m\u001b[38;5;241m.\u001b[39mbasisPositions \u001b[38;5;241m=\u001b[39m basisPositions \u001b[38;5;66;03m#all R's need to be arrays\u001b[39;00m\n\u001b[0;32m    179\u001b[0m \u001b[38;5;28mself\u001b[39m\u001b[38;5;241m.\u001b[39mtype \u001b[38;5;241m=\u001b[39m \u001b[38;5;28mtype\u001b[39m \u001b[38;5;66;03m#[[i,j,k],...] points in direction that the integral is performed, 0 if s\u001b[39;00m\n\u001b[1;32m--> 181\u001b[0m \u001b[43mRepresentation\u001b[49m\u001b[38;5;241;43m.\u001b[39;49m\u001b[38;5;21;43m__init__\u001b[39;49m\u001b[43m(\u001b[49m\u001b[38;5;28;43mself\u001b[39;49m\u001b[43m,\u001b[49m\u001b[43mZs\u001b[49m\u001b[43m,\u001b[49m\u001b[43mnuclearPositions\u001b[49m\u001b[43m,\u001b[49m\u001b[38;5;28;43mlen\u001b[39;49m\u001b[43m(\u001b[49m\u001b[43malphas\u001b[49m\u001b[43m)\u001b[49m\u001b[43m)\u001b[49m\n",
      "File \u001b[1;32mc:\\workspace\\git-repos\\physics-projects\\electronic_structure\\hartree_fock\\representation.py:31\u001b[0m, in \u001b[0;36mRepresentation.__init__\u001b[1;34m(self, Zs, nuclearPositions, repNumb)\u001b[0m\n\u001b[0;32m     28\u001b[0m \u001b[38;5;28mself\u001b[39m\u001b[38;5;241m.\u001b[39mh \u001b[38;5;241m=\u001b[39m \u001b[38;5;28mself\u001b[39m\u001b[38;5;241m.\u001b[39mfindh()\n\u001b[0;32m     29\u001b[0m \u001b[38;5;28mself\u001b[39m\u001b[38;5;241m.\u001b[39mtwoElecInts \u001b[38;5;241m=\u001b[39m \u001b[38;5;28mself\u001b[39m\u001b[38;5;241m.\u001b[39mfindTwoElecInts()\n\u001b[1;32m---> 31\u001b[0m \u001b[38;5;28mself\u001b[39m\u001b[38;5;241m.\u001b[39minvS \u001b[38;5;241m=\u001b[39m \u001b[43mnp\u001b[49m\u001b[38;5;241;43m.\u001b[39;49m\u001b[43mlinalg\u001b[49m\u001b[38;5;241;43m.\u001b[39;49m\u001b[43minv\u001b[49m\u001b[43m(\u001b[49m\u001b[38;5;28;43mself\u001b[39;49m\u001b[38;5;241;43m.\u001b[39;49m\u001b[43mS\u001b[49m\u001b[43m)\u001b[49m\n",
      "File \u001b[1;32m<__array_function__ internals>:200\u001b[0m, in \u001b[0;36minv\u001b[1;34m(*args, **kwargs)\u001b[0m\n",
      "File \u001b[1;32mc:\\workspace\\git-repos\\physics-projects\\.venv\\lib\\site-packages\\numpy\\linalg\\linalg.py:538\u001b[0m, in \u001b[0;36minv\u001b[1;34m(a)\u001b[0m\n\u001b[0;32m    536\u001b[0m signature \u001b[38;5;241m=\u001b[39m \u001b[38;5;124m'\u001b[39m\u001b[38;5;124mD->D\u001b[39m\u001b[38;5;124m'\u001b[39m \u001b[38;5;28;01mif\u001b[39;00m isComplexType(t) \u001b[38;5;28;01melse\u001b[39;00m \u001b[38;5;124m'\u001b[39m\u001b[38;5;124md->d\u001b[39m\u001b[38;5;124m'\u001b[39m\n\u001b[0;32m    537\u001b[0m extobj \u001b[38;5;241m=\u001b[39m get_linalg_error_extobj(_raise_linalgerror_singular)\n\u001b[1;32m--> 538\u001b[0m ainv \u001b[38;5;241m=\u001b[39m \u001b[43m_umath_linalg\u001b[49m\u001b[38;5;241;43m.\u001b[39;49m\u001b[43minv\u001b[49m\u001b[43m(\u001b[49m\u001b[43ma\u001b[49m\u001b[43m,\u001b[49m\u001b[43m \u001b[49m\u001b[43msignature\u001b[49m\u001b[38;5;241;43m=\u001b[39;49m\u001b[43msignature\u001b[49m\u001b[43m,\u001b[49m\u001b[43m \u001b[49m\u001b[43mextobj\u001b[49m\u001b[38;5;241;43m=\u001b[39;49m\u001b[43mextobj\u001b[49m\u001b[43m)\u001b[49m\n\u001b[0;32m    539\u001b[0m \u001b[38;5;28;01mreturn\u001b[39;00m wrap(ainv\u001b[38;5;241m.\u001b[39mastype(result_t, copy\u001b[38;5;241m=\u001b[39m\u001b[38;5;28;01mFalse\u001b[39;00m))\n",
      "File \u001b[1;32mc:\\workspace\\git-repos\\physics-projects\\.venv\\lib\\site-packages\\numpy\\linalg\\linalg.py:89\u001b[0m, in \u001b[0;36m_raise_linalgerror_singular\u001b[1;34m(err, flag)\u001b[0m\n\u001b[0;32m     88\u001b[0m \u001b[38;5;28;01mdef\u001b[39;00m \u001b[38;5;21m_raise_linalgerror_singular\u001b[39m(err, flag):\n\u001b[1;32m---> 89\u001b[0m     \u001b[38;5;28;01mraise\u001b[39;00m LinAlgError(\u001b[38;5;124m\"\u001b[39m\u001b[38;5;124mSingular matrix\u001b[39m\u001b[38;5;124m\"\u001b[39m)\n",
      "\u001b[1;31mLinAlgError\u001b[0m: Singular matrix"
     ]
    }
   ],
   "source": [
    "#6-21G\n",
    "nullVec = np.array([0,0,0])\n",
    "alphaS = [642.4180000,96.51640000,22.01740000,6.176450000,1.935110000,0.6395770000,0.5402050000,0.1022550000,0.2856450000]\n",
    "typeS = [nullVec,nullVec,nullVec,nullVec,nullVec,nullVec,nullVec,nullVec,nullVec]\n",
    "baisS = [nullVec,nullVec,nullVec,nullVec,nullVec,nullVec,nullVec,nullVec,nullVec]\n",
    "alphaP = [0.5402050000,0.1022550000]\n",
    "basisP = [nullVec,nullVec]\n",
    "typePx = [np.array([1,0,0]),np.array([1,0,0])]\n",
    "typePy = [np.array([0,1,0]),np.array([0,1,0])]\n",
    "typePz = [np.array([0,0,1]),np.array([0,0,1])]\n",
    "\n",
    "\n",
    "#basis is 15\n",
    "\n",
    "alphas = alphaS + alphaP + alphaP + alphaP\n",
    "\n",
    "basisPos = baisS + basisP + basisP + basisP\n",
    "Zs = [3]\n",
    "nucPos = [np.array([0,0,0])]\n",
    "\n",
    "rep = Rep1s2p(Zs,alphas,nucPos,basisPos,basisPos)\n",
    "\n",
    "\n",
    "\n",
    "ups = [[1,1,1,1,1,1,1,1,1,1,1,1,1,1,1]]\n",
    "downs = [[1,1,1,1,1,1,1,1,1,1,1,1,1,1,1],[1,1,1,1,1,1,1,1,1,1,1,1,0,0,0]]\n",
    "EGuess = 0\n",
    "maxError = 0.01\n",
    "\n",
    "print(iterateHF(rep.normaliseList(ups),rep.normaliseList(downs),rep,EGuess,maxError,lambda s: takeGroundEigStates(s,3)))\n",
    "\n"
   ]
  },
  {
   "cell_type": "code",
   "execution_count": null,
   "metadata": {},
   "outputs": [],
   "source": []
  }
 ],
 "metadata": {
  "kernelspec": {
   "display_name": ".venv",
   "language": "python",
   "name": "python3"
  },
  "language_info": {
   "codemirror_mode": {
    "name": "ipython",
    "version": 3
   },
   "file_extension": ".py",
   "mimetype": "text/x-python",
   "name": "python",
   "nbconvert_exporter": "python",
   "pygments_lexer": "ipython3",
   "version": "3.8.10"
  }
 },
 "nbformat": 4,
 "nbformat_minor": 2
}
