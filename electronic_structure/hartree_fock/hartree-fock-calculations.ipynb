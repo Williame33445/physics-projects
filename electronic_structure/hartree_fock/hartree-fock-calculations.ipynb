{
 "cells": [
  {
   "cell_type": "markdown",
   "metadata": {},
   "source": [
    "# Hartree Fock Calculations\n",
    "\n",
    "## Theory\n",
    "\n",
    "explain how alphas are found\n",
    "\n",
    "## Code\n",
    "\n",
    "## Examples\n",
    "\n",
    "### Helium\n",
    "\n",
    "Only works when there are 2 or more electrons. As otherwise the guess is taken into account.\n"
   ]
  },
  {
   "cell_type": "code",
   "execution_count": 1,
   "metadata": {},
   "outputs": [],
   "source": [
    "from Hartree_Fock import *\n",
    "from representation import *\n",
    "from scipy.optimize import fmin\n",
    "from molecular_int.GTO1s_matrix_elements import *\n",
    "\n",
    "\n"
   ]
  },
  {
   "cell_type": "code",
   "execution_count": null,
   "metadata": {},
   "outputs": [],
   "source": []
  },
  {
   "cell_type": "code",
   "execution_count": 2,
   "metadata": {},
   "outputs": [
    {
     "name": "stdout",
     "output_type": "stream",
     "text": [
      "-2.8551714954912644\n"
     ]
    }
   ],
   "source": [
    "#5-21G?\n",
    "alphas = [0.298073,1.242567,5.782948,38.474970]\n",
    "\n",
    "basisPos = [np.array([0,0,0]),np.array([0,0,0]),np.array([0,0,0]),np.array([0,0,0])]\n",
    "Zs = [2]\n",
    "nucPos = [np.array([0,0,0])]\n",
    "\n",
    "rep = RepGTO(Zs,alphas,nucPos,basisPos,basisPos)\n",
    "\n",
    "\n",
    "\n",
    "ups = [[1,1,1,1]]\n",
    "downs = [[1,1,1,1]]\n",
    "EGuess = -2.8\n",
    "maxError = 1E-4\n",
    "\n",
    "E,states = iterateHF(rep.normaliseList(ups),rep.normaliseList(downs),rep,EGuess,maxError,lambda s: takeGroundEigStates(s,2))\n",
    "\n",
    "print(E)"
   ]
  },
  {
   "cell_type": "markdown",
   "metadata": {},
   "source": [
    "### H_2 molecule\n",
    "\n",
    "bond length = 7.4 × 10 −11 m = 1.4 a_0 , should be able to deduce this.\n",
    "\n"
   ]
  },
  {
   "cell_type": "code",
   "execution_count": 3,
   "metadata": {},
   "outputs": [
    {
     "name": "stdout",
     "output_type": "stream",
     "text": [
      "Optimization terminated successfully.\n",
      "         Current function value: -1.126562\n",
      "         Iterations: 11\n",
      "         Function evaluations: 22\n",
      "[1.38810547]\n"
     ]
    }
   ],
   "source": [
    "alphasH2 = [13.00773,1.962079,0.444529,0.1219492,13.00773,1.962079,0.444529,0.1219492]\n",
    "\n",
    "def findGround(bondLength):\n",
    "    basisPos = [np.array([0,0,0]),np.array([0,0,0]),np.array([0,0,0]),np.array([0,0,0]),np.array([0,0,bondLength[0]]),np.array([0,0,bondLength[0]]),np.array([0,0,bondLength[0]]),np.array([0,0,bondLength[0]])]\n",
    "    Zs = [1,1]\n",
    "    nucPos = [np.array([0,0,0]),np.array([0,0,bondLength[0]])]\n",
    "    alphas = [np.array([0,0,0]),np.array([0,0,0]),np.array([0,0,0]),np.array([0,0,0]),np.array([0,0,0]),np.array([0,0,0]),np.array([0,0,0]),np.array([0,0,0])]\n",
    "\n",
    "    rep = RepGTO(Zs,alphasH2,nucPos,basisPos,alphas)\n",
    "\n",
    "\n",
    "\n",
    "    ups = [[1,1,1,1,1,1,1,1]]\n",
    "    downs = [[1,1,1,1,1,1,1,1]]\n",
    "    EGuess = 0  \n",
    "    maxError = 1E-4\n",
    "\n",
    "    E_hf,states = iterateHF(rep.normaliseList(ups),rep.normaliseList(downs),rep,EGuess,maxError,lambda s: takeGroundEigStates(s,2))\n",
    "    E = 1/bondLength\n",
    "\n",
    "    return E_hf + E\n",
    "\n",
    "print(fmin(findGround,1.3))"
   ]
  },
  {
   "cell_type": "markdown",
   "metadata": {},
   "source": [
    "### Li"
   ]
  },
  {
   "cell_type": "code",
   "execution_count": 4,
   "metadata": {},
   "outputs": [
    {
     "name": "stdout",
     "output_type": "stream",
     "text": [
      "-7.427483101683181\n"
     ]
    }
   ],
   "source": [
    "#6-21G lithium basis set, taken from basis set exchange\n",
    "nullVec = np.array([0,0,0])\n",
    "alphaS = [642.4180000,96.51640000,22.01740000,6.176450000,1.935110000,0.6395770000,0.5402050000,0.1022550000,0.2856450000]\n",
    "typeS = [nullVec,nullVec,nullVec,nullVec,nullVec,nullVec,nullVec,nullVec,nullVec]\n",
    "baisS = [nullVec,nullVec,nullVec,nullVec,nullVec,nullVec,nullVec,nullVec,nullVec]\n",
    "alphaP = [0.5402050000,0.1022550000,0.2856450000]\n",
    "basisP = [nullVec,nullVec,nullVec]\n",
    "typePx = [np.array([1,0,0]),np.array([1,0,0]),np.array([1,0,0])]\n",
    "typePy = [np.array([0,1,0]),np.array([0,1,0]),np.array([0,1,0])]\n",
    "typePz = [np.array([0,0,1]),np.array([0,0,1]),np.array([0,0,1])]\n",
    "\n",
    "#data taken from computational methods book\n",
    "alphaHe = [0.298073,1.242567,5.782948,38.474970]\n",
    "basisHe = [nullVec,nullVec,nullVec,nullVec]\n",
    "alphaH = [13.00773, 1.962079, 0.444529, 0.1219492]\n",
    "basisH = [nullVec,nullVec,nullVec,nullVec]\n",
    "\n",
    "alphas = alphaH+alphaHe+  alphaS +  alphaP + alphaP + alphaP\n",
    "\n",
    "basisPos =basisH+ basisH+  baisS +  basisP + basisP + basisP\n",
    "Zs = [3]\n",
    "nucPos = [np.array([0,0,0])]\n",
    "type = basisH+ basisH+typeS + typePx + typePy + typePz\n",
    "\n",
    "rep = RepGTO(Zs,alphas,nucPos,basisPos,type)\n",
    "    \n",
    "t1 = [0,0,0,0,0,0,0,0]+[1 for i in range(1,19)]\n",
    "\n",
    "t2 = [1,1,1,1,1,1,1,1]+[0 for i in range(1,19)]\n",
    "\n",
    "ups = [t2]\n",
    "downs = [t2,t1]\n",
    "EGuess = -7.5\n",
    "maxError = 1E-4\n",
    "\n",
    "E,state = iterateHF(rep.normaliseList(ups),rep.normaliseList(downs),rep,EGuess,maxError,lambda s: takeGroundEigStates(s,3))\n",
    "print(E)\n"
   ]
  },
  {
   "cell_type": "markdown",
   "metadata": {},
   "source": [
    "### O"
   ]
  },
  {
   "cell_type": "code",
   "execution_count": 5,
   "metadata": {},
   "outputs": [
    {
     "name": "stdout",
     "output_type": "stream",
     "text": [
      "-74.58247930422125\n"
     ]
    }
   ],
   "source": [
    "\n",
    "# 6-21G set for oxygen\n",
    "nullVec = np.array([0,0,0])\n",
    "alphaS = [0.5472270000E+04,0.8178060000E+03,0.1864460000E+03,0.5302300000E+02,0.1718000000E+02,0.5911960000E+01,0.7402940000E+01,0.1576200000E+01,0.3736840000E+00]\n",
    "typeS = [nullVec,nullVec,nullVec,nullVec,nullVec,nullVec,nullVec,nullVec,nullVec]\n",
    "baisS = [nullVec,nullVec,nullVec,nullVec,nullVec,nullVec,nullVec,nullVec,nullVec]\n",
    "\n",
    "alphaP = [0.7402940000E+01,0.1576200000E+01,0.3736840000E+00]\n",
    "basisP = [nullVec,nullVec,nullVec]\n",
    "typePx = [np.array([1,0,0]),np.array([1,0,0]),np.array([1,0,0])]\n",
    "typePy = [np.array([0,1,0]),np.array([0,1,0]),np.array([0,1,0])]\n",
    "typePz = [np.array([0,0,1]),np.array([0,0,1]),np.array([0,0,1])]\n",
    "\n",
    "\n",
    "alphas =  alphaS +  alphaP + alphaP + alphaP\n",
    "\n",
    "basisPos = baisS +  basisP + basisP + basisP\n",
    "Zs = [8]\n",
    "nucPos = [np.array([0,0,0])]\n",
    "type = typeS + typePx + typePy + typePz\n",
    "\n",
    "rep = RepGTO(Zs,alphas,nucPos,basisPos,type)\n",
    "    \n",
    "t =[1 for i in range(1,19)]\n",
    "\n",
    "\n",
    "ups = [t,t,t,t]\n",
    "downs = [t,t,t,t]\n",
    "EGuess = 0\n",
    "maxError = 1E-4\n",
    "\n",
    "E,state = iterateHF(rep.normaliseList(ups),rep.normaliseList(downs),rep,EGuess,maxError,lambda s: takeGroundEigStates(s,8))\n",
    "print(E)\n",
    "#experimental value is -75.113 hartree\n"
   ]
  },
  {
   "cell_type": "markdown",
   "metadata": {
    "vscode": {
     "languageId": "latex"
    }
   },
   "source": [
    "### H20 calculation"
   ]
  },
  {
   "cell_type": "code",
   "execution_count": null,
   "metadata": {},
   "outputs": [],
   "source": [
    "def findGround(params):\n",
    "    #params = [bound length,theta]\n",
    "    bondLength = params[0]\n",
    "    theta = params[1]\n",
    "    pos = np.array([bondLength*np.cos(theta),bondLength*np.sin(theta),0])\n",
    "    pos1 = np.array([bondLength,0,0])\n",
    "    # 6-21G set for oxygen\n",
    "    nullVec = np.array([0,0,0])\n",
    "    alphaS = [0.5472270000E+04,0.8178060000E+03,0.1864460000E+03,0.5302300000E+02,0.1718000000E+02,0.5911960000E+01,0.7402940000E+01,0.1576200000E+01,0.3736840000E+00]\n",
    "    typeS = [nullVec,nullVec,nullVec,nullVec,nullVec,nullVec,nullVec,nullVec,nullVec]\n",
    "    baisS = [nullVec,nullVec,nullVec,nullVec,nullVec,nullVec,nullVec,nullVec,nullVec]\n",
    "\n",
    "    alphaP = [0.7402940000E+01,0.1576200000E+01,0.3736840000E+00]\n",
    "    basisP = [nullVec,nullVec,nullVec]\n",
    "    typePx = [np.array([1,0,0]),np.array([1,0,0]),np.array([1,0,0])]\n",
    "    typePy = [np.array([0,1,0]),np.array([0,1,0]),np.array([0,1,0])]\n",
    "    typePz = [np.array([0,0,1]),np.array([0,0,1]),np.array([0,0,1])]\n",
    "\n",
    "\n",
    "    #hydrogen\n",
    "    alphasH = [13.00773,1.962079,0.444529,0.1219492]\n",
    "    typeH = [nullVec,nullVec,nullVec,nullVec]\n",
    "    basis1 = [pos1,pos1,pos1,pos1] #need to make naming clear\n",
    "    basis2 = [pos,pos,pos,pos]\n",
    "\n",
    "\n",
    "\n",
    "    alphas =  alphaS +  alphaP + alphaP + alphaP + alphasH + alphasH\n",
    "\n",
    "    basisPos = baisS +  basisP + basisP + basisP + basis1 + basis2\n",
    "    Zs = [8,1,1]\n",
    "    nucPos = [np.array([0,0,0]),np.array([bondLength,0,0]),pos]\n",
    "    type = typeS + typePx + typePy + typePz + typeH + typeH\n",
    "\n",
    "    rep = RepGTO(Zs,alphas,nucPos,basisPos,type)\n",
    "        \n",
    "    t1 =[1 for i in range(1,19)] + [0 for i in range(8)]\n",
    "    t2 =[0 for i in range(1,19)]  + [1,1,1,1,1,1,1,1]\n",
    "\n",
    "\n",
    "    ups = [t1,t1,t1,t1,t2]\n",
    "    downs = [t1,t1,t1,t1,t2]\n",
    "    EGuess = 0\n",
    "    maxError = 1E-4\n",
    "\n",
    "    E,state = iterateHF(rep.normaliseList(ups),rep.normaliseList(downs),rep,EGuess,maxError,lambda s: takeGroundEigStates(s,10))\n",
    "    return E + 16/bondLength + 1/(bondLength*np.sqrt(2-2*np.cos(theta)))\n",
    "\n",
    "print(fmin(findGround,np.array([1.795,1.824])))\n",
    "\n"
   ]
  },
  {
   "cell_type": "code",
   "execution_count": null,
   "metadata": {},
   "outputs": [],
   "source": [
    "#To do\n",
    "# comments (make clear difference between hartree energy and ground energy, also add units)\n",
    "# notes on theory\n",
    "#excited states\n",
    "#when does this approx fail and why?\n"
   ]
  }
 ],
 "metadata": {
  "kernelspec": {
   "display_name": ".venv",
   "language": "python",
   "name": "python3"
  },
  "language_info": {
   "codemirror_mode": {
    "name": "ipython",
    "version": 3
   },
   "file_extension": ".py",
   "mimetype": "text/x-python",
   "name": "python",
   "nbconvert_exporter": "python",
   "pygments_lexer": "ipython3",
   "version": "3.8.10"
  }
 },
 "nbformat": 4,
 "nbformat_minor": 2
}
