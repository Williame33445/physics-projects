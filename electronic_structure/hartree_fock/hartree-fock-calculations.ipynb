{
 "cells": [
  {
   "cell_type": "markdown",
   "metadata": {},
   "source": [
    "# Hartree Fock Calculations\n",
    "\n",
    "## Theory\n",
    "\n",
    "explain how alphas are found\n",
    "\n",
    "## Code\n",
    "\n",
    "## Examples\n",
    "\n",
    "### Helium\n",
    "\n",
    "Only works when there are 2 or more electrons. As otherwise the guess is taken into account.\n"
   ]
  },
  {
   "cell_type": "code",
   "execution_count": 1,
   "metadata": {},
   "outputs": [],
   "source": [
    "from Hartree_Fock import *\n",
    "from representation import *\n",
    "from scipy.optimize import fmin\n",
    "from molecular_int.GTO1s_matrix_elements import *\n"
   ]
  },
  {
   "cell_type": "code",
   "execution_count": null,
   "metadata": {},
   "outputs": [],
   "source": []
  },
  {
   "cell_type": "code",
   "execution_count": 2,
   "metadata": {},
   "outputs": [
    {
     "name": "stdout",
     "output_type": "stream",
     "text": [
      "-2.855160382370253\n"
     ]
    }
   ],
   "source": [
    "#5-21G\n",
    "alphas = [0.298073,1.242567,5.782948,38.474970]\n",
    "\n",
    "basisPos = [np.array([0,0,0]),np.array([0,0,0]),np.array([0,0,0]),np.array([0,0,0])]\n",
    "Zs = [2]\n",
    "nucPos = [np.array([0,0,0])]\n",
    "\n",
    "rep = RepGTO(Zs,alphas,nucPos,basisPos,basisPos)\n",
    "\n",
    "\n",
    "\n",
    "ups = [[1,1,1,1]]\n",
    "downs = [[1,1,1,1]]\n",
    "EGuess = -2.8\n",
    "maxError = 1E-15\n",
    "\n",
    "E,states = iterateHF(rep.normaliseList(ups),rep.normaliseList(downs),rep,EGuess,maxError,lambda s: takeGroundEigStates(s,2))\n",
    "\n",
    "print(E)"
   ]
  },
  {
   "cell_type": "markdown",
   "metadata": {},
   "source": [
    "### H_2 molecule\n",
    "\n",
    "bond length = 7.4 × 10 −11 m = 1.4 a_0 , should be able to deduce this.\n",
    "\n"
   ]
  },
  {
   "cell_type": "code",
   "execution_count": 3,
   "metadata": {},
   "outputs": [
    {
     "name": "stdout",
     "output_type": "stream",
     "text": [
      "Optimization terminated successfully.\n",
      "         Current function value: -1.126545\n",
      "         Iterations: 11\n",
      "         Function evaluations: 22\n",
      "[1.38810547]\n"
     ]
    }
   ],
   "source": [
    "alphasH2 = [13.00773,1.962079,0.444529,0.1219492,13.00773,1.962079,0.444529,0.1219492]\n",
    "\n",
    "def findGround(bondLength):\n",
    "    basisPos = [np.array([0,0,0]),np.array([0,0,0]),np.array([0,0,0]),np.array([0,0,0]),np.array([0,0,bondLength[0]]),np.array([0,0,bondLength[0]]),np.array([0,0,bondLength[0]]),np.array([0,0,bondLength[0]])]\n",
    "    Zs = [1,1]\n",
    "    nucPos = [np.array([0,0,0]),np.array([0,0,bondLength[0]])]\n",
    "    alphas = [np.array([0,0,0]),np.array([0,0,0]),np.array([0,0,0]),np.array([0,0,0]),np.array([0,0,0]),np.array([0,0,0]),np.array([0,0,0]),np.array([0,0,0])]\n",
    "\n",
    "    rep = RepGTO(Zs,alphasH2,nucPos,basisPos,alphas)\n",
    "\n",
    "\n",
    "\n",
    "    ups = [[1,1,1,1,1,1,1,1]]\n",
    "    downs = [[1,1,1,1,1,1,1,1]]\n",
    "    EGuess = 0  \n",
    "    maxError = 1E-15\n",
    "\n",
    "    E_hf,states = iterateHF(rep.normaliseList(ups),rep.normaliseList(downs),rep,EGuess,maxError,lambda s: takeGroundEigStates(s,2))\n",
    "    E = 1/bondLength\n",
    "\n",
    "    return E_hf + E\n",
    "\n",
    "print(fmin(findGround,1.3))"
   ]
  },
  {
   "cell_type": "markdown",
   "metadata": {},
   "source": [
    "### Li"
   ]
  },
  {
   "cell_type": "code",
   "execution_count": 4,
   "metadata": {},
   "outputs": [
    {
     "ename": "NameError",
     "evalue": "name 'Rep1s2p' is not defined",
     "output_type": "error",
     "traceback": [
      "\u001b[1;31m---------------------------------------------------------------------------\u001b[0m",
      "\u001b[1;31mNameError\u001b[0m                                 Traceback (most recent call last)",
      "Cell \u001b[1;32mIn[4], line 21\u001b[0m\n\u001b[0;32m     18\u001b[0m Zs \u001b[38;5;241m=\u001b[39m [\u001b[38;5;241m3\u001b[39m]\n\u001b[0;32m     19\u001b[0m nucPos \u001b[38;5;241m=\u001b[39m [np\u001b[38;5;241m.\u001b[39marray([\u001b[38;5;241m0\u001b[39m,\u001b[38;5;241m0\u001b[39m,\u001b[38;5;241m0\u001b[39m])]\n\u001b[1;32m---> 21\u001b[0m rep \u001b[38;5;241m=\u001b[39m \u001b[43mRep1s2p\u001b[49m(Zs,alphas,nucPos,basisPos,basisPos)\n\u001b[0;32m     25\u001b[0m ups \u001b[38;5;241m=\u001b[39m [[\u001b[38;5;241m1\u001b[39m,\u001b[38;5;241m1\u001b[39m,\u001b[38;5;241m1\u001b[39m,\u001b[38;5;241m1\u001b[39m,\u001b[38;5;241m1\u001b[39m,\u001b[38;5;241m1\u001b[39m,\u001b[38;5;241m1\u001b[39m,\u001b[38;5;241m1\u001b[39m,\u001b[38;5;241m1\u001b[39m,\u001b[38;5;241m1\u001b[39m,\u001b[38;5;241m1\u001b[39m,\u001b[38;5;241m1\u001b[39m,\u001b[38;5;241m1\u001b[39m,\u001b[38;5;241m1\u001b[39m,\u001b[38;5;241m1\u001b[39m]]\n\u001b[0;32m     26\u001b[0m downs \u001b[38;5;241m=\u001b[39m [[\u001b[38;5;241m1\u001b[39m,\u001b[38;5;241m1\u001b[39m,\u001b[38;5;241m1\u001b[39m,\u001b[38;5;241m1\u001b[39m,\u001b[38;5;241m1\u001b[39m,\u001b[38;5;241m1\u001b[39m,\u001b[38;5;241m1\u001b[39m,\u001b[38;5;241m1\u001b[39m,\u001b[38;5;241m1\u001b[39m,\u001b[38;5;241m1\u001b[39m,\u001b[38;5;241m1\u001b[39m,\u001b[38;5;241m1\u001b[39m,\u001b[38;5;241m1\u001b[39m,\u001b[38;5;241m1\u001b[39m,\u001b[38;5;241m1\u001b[39m],[\u001b[38;5;241m1\u001b[39m,\u001b[38;5;241m1\u001b[39m,\u001b[38;5;241m1\u001b[39m,\u001b[38;5;241m1\u001b[39m,\u001b[38;5;241m1\u001b[39m,\u001b[38;5;241m1\u001b[39m,\u001b[38;5;241m1\u001b[39m,\u001b[38;5;241m1\u001b[39m,\u001b[38;5;241m1\u001b[39m,\u001b[38;5;241m1\u001b[39m,\u001b[38;5;241m1\u001b[39m,\u001b[38;5;241m1\u001b[39m,\u001b[38;5;241m0\u001b[39m,\u001b[38;5;241m0\u001b[39m,\u001b[38;5;241m0\u001b[39m]]\n",
      "\u001b[1;31mNameError\u001b[0m: name 'Rep1s2p' is not defined"
     ]
    }
   ],
   "source": [
    "#6-21G\n",
    "nullVec = np.array([0,0,0])\n",
    "alphaS = [642.4180000,96.51640000,22.01740000,6.176450000,1.935110000,0.6395770000,0.5402050000,0.1022550000,0.2856450000]\n",
    "typeS = [nullVec,nullVec,nullVec,nullVec,nullVec,nullVec,nullVec,nullVec,nullVec]\n",
    "baisS = [nullVec,nullVec,nullVec,nullVec,nullVec,nullVec,nullVec,nullVec,nullVec]\n",
    "alphaP = [0.5402050000,0.1022550000]\n",
    "basisP = [nullVec,nullVec]\n",
    "typePx = [np.array([1,0,0]),np.array([1,0,0])]\n",
    "typePy = [np.array([0,1,0]),np.array([0,1,0])]\n",
    "typePz = [np.array([0,0,1]),np.array([0,0,1])]\n",
    "\n",
    "\n",
    "#basis is 15\n",
    "\n",
    "alphas = alphaS + alphaP + alphaP + alphaP\n",
    "\n",
    "basisPos = baisS + basisP + basisP + basisP\n",
    "Zs = [3]\n",
    "nucPos = [np.array([0,0,0])]\n",
    "\n",
    "rep = Rep1s2p(Zs,alphas,nucPos,basisPos,basisPos)\n",
    "\n",
    "\n",
    "\n",
    "ups = [[1,1,1,1,1,1,1,1,1,1,1,1,1,1,1]]\n",
    "downs = [[1,1,1,1,1,1,1,1,1,1,1,1,1,1,1],[1,1,1,1,1,1,1,1,1,1,1,1,0,0,0]]\n",
    "EGuess = 0\n",
    "maxError = 0.01\n",
    "\n",
    "print(iterateHF(rep.normaliseList(ups),rep.normaliseList(downs),rep,EGuess,maxError,lambda s: takeGroundEigStates(s,3)))\n",
    "\n"
   ]
  },
  {
   "cell_type": "code",
   "execution_count": null,
   "metadata": {},
   "outputs": [],
   "source": []
  }
 ],
 "metadata": {
  "kernelspec": {
   "display_name": ".venv",
   "language": "python",
   "name": "python3"
  },
  "language_info": {
   "codemirror_mode": {
    "name": "ipython",
    "version": 3
   },
   "file_extension": ".py",
   "mimetype": "text/x-python",
   "name": "python",
   "nbconvert_exporter": "python",
   "pygments_lexer": "ipython3",
   "version": "3.8.10"
  }
 },
 "nbformat": 4,
 "nbformat_minor": 2
}
