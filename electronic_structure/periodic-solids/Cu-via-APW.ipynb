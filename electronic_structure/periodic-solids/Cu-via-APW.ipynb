{
 "cells": [
  {
   "cell_type": "markdown",
   "metadata": {},
   "source": [
    "# Finding Cu crystal ground state via the Augmented Plane method\n",
    "\n",
    "This project is adapted from Thijssen.\n",
    "\n",
    "## Theory\n",
    "\n",
    "Bloch's theorem constrains the form of eigenstates in a crystal. A simple basis for an eigenstate labelled by $\\vec{k}$ is the plane wave basis:\n",
    "\n",
    "$$\\psi_{\\vec{k} + \\vec{K}} = e^{i(\\vec{k} + \\vec{K})\\cdot\\vec{r}}\\tag{1}$$\n",
    "\n",
    "Variational methods can then be used to deduce the eigenstate.\n",
    "\n",
    "However, due to the size of the potential near the nuclei, this basis is inefficient. A way round this problem is to us the Muffin approximation. Near the nuclei the solution is solved exactly and then related to the plane waves via boundary conditions at some radius $R$. The variational method can then be applied efficiently to this basis. For a full description of the theory see Thijssen.\n",
    "\n",
    "WHat is it being solved for (single electron?)\n",
    "\n",
    "## Implementation\n",
    "\n",
    "The variational equations are not linear, making the problem much harder to solve. In this implementation a brute force approach has been followed, the energy found for a given $\\vec{k}$ is where the determinant changes sign.\n",
    "\n",
    "The solution near the nuclei is a hard problem to solve. In the project, a \n",
    "\n",
    "\n",
    "\n",
    "\n"
   ]
  },
  {
   "cell_type": "code",
   "execution_count": 363,
   "metadata": {},
   "outputs": [],
   "source": [
    "import numpy as np\n",
    "from scipy import special as sp\n",
    "import matplotlib.pyplot as plt"
   ]
  },
  {
   "cell_type": "code",
   "execution_count": 364,
   "metadata": {},
   "outputs": [],
   "source": [
    "#constants\n",
    "a = 6.822 \n",
    "R = 2.5\n",
    "vol = 3*(a**3)/4\n",
    "\n",
    "l_max = 2*(2+1) +3\n",
    "nLim = 2 \n",
    "\n",
    "#define recipricol lattice vectors \n",
    "b1 = 2*np.pi*np.array([-1,1,1])/a\n",
    "b2 = 2*np.pi*np.array([1,-1,1])/a\n",
    "b3 = 2*np.pi*np.array([1,1,-1])/a\n",
    "Ks =[l*b1 + m*b2 + n*b3 for l in range(-nLim,nLim+1) for m in range(-nLim,nLim+1) for n in range(-nLim,nLim+1)]\n",
    "\n"
   ]
  },
  {
   "cell_type": "code",
   "execution_count": 365,
   "metadata": {},
   "outputs": [],
   "source": [
    "#generate A\n",
    "A = np.empty([len(Ks),len(Ks)])\n",
    "\n",
    "for i,K_i in enumerate(Ks):\n",
    "    for j,K_j in enumerate(Ks):\n",
    "        kDiff = np.linalg.norm(K_i-K_j)\n",
    "        if kDiff == 0:\n",
    "            A[i,j] = 1\n",
    "        else:\n",
    "            A[i,j] = -4*np.pi*(R**2)*sp.spherical_jn(1,kDiff*R)/(vol*kDiff)\n",
    "\n",
    "\n",
    "\n"
   ]
  },
  {
   "cell_type": "code",
   "execution_count": 366,
   "metadata": {},
   "outputs": [],
   "source": [
    "def iterateRK4(t_n,y_n,h,f):\n",
    "    \"\"\"\n",
    "    Iterates by RK4 method.\n",
    "    \"\"\"\n",
    "    k_1 = f(t_n, y_n)\n",
    "    k_2 = f(t_n + h/2, y_n + h*k_1/2)\n",
    "    k_3 = f(t_n + h/2, y_n + h*k_2/2)\n",
    "    k_4 = f(t_n + h, y_n + h*k_3)\n",
    "\n",
    "    return y_n + h*(k_1 + 2*k_2 + 2*k_3 + k_4)/6\n",
    "\n",
    "def intialCond(l,r_0):\n",
    "    #from small r solution to radial schrodinger eq, remember its u not R\n",
    "    return np.array([r_0**(l+1),(l+1)*r_0**l])\n",
    "\n",
    "r_c = 0.25*2\n",
    "def V(r):\n",
    "    return -13.201*np.exp(-r/r_c)/r \n",
    "\n",
    "n = 10\n",
    "def getfRadial(l,E):\n",
    "    def f(r,y):\n",
    "        u = y[0]\n",
    "        p = y[1] #p = du/dr\n",
    "        f_u = p\n",
    "        f_p = (l*(l+1)/(r**2) - 2*E + 2*V(r))*u\n",
    "        return np.array([f_u,f_p])\n",
    "    return f\n",
    "        \n",
    "r_0 = 0.05\n",
    "h = 0.05\n",
    "lim = 0.1\n",
    "\n",
    "def getRatio(l,E):\n",
    "    rs = [r_0]\n",
    "    ys = [intialCond(l,r_0)]\n",
    "    for i in range(int((R - r_0)/h)):\n",
    "        rs.append(rs[-1]+h)\n",
    "        ys.append(iterateRK4(rs[-1],ys[-1],h,getfRadial(l,E)))\n",
    "\n",
    "    return ys[-1][1]/ys[-1][0] - 1/R\n",
    "    "
   ]
  },
  {
   "cell_type": "code",
   "execution_count": 367,
   "metadata": {},
   "outputs": [],
   "source": [
    "def findDet(k,E):\n",
    "    #set up k dependent matricies \n",
    "    B = np.empty([len(Ks),len(Ks)])\n",
    "    C = np.empty([len(Ks),len(Ks),len(Ks)])\n",
    "    qs = [k + K for K in Ks]\n",
    "\n",
    "    #find B and C\n",
    "    for i in range(len(Ks)):\n",
    "        for j in range(len(Ks)):\n",
    "            qDot = np.dot(qs[i],qs[j])\n",
    "            B[i,j] = A[i,j]*qDot/2\n",
    "            qi = np.linalg.norm(qs[i])\n",
    "            qj = np.linalg.norm(qs[j])\n",
    "            for l in range(l_max): \n",
    "                if qi == 0 or qj == 0:\n",
    "                    C[i,j,l] = 0\n",
    "                else: \n",
    "                    C[i,j,l] = (2*l + 1)*2*np.pi*(R**2)*sp.eval_legendre(l,qDot/(qi*qj))*sp.spherical_jn(l,qi*R)*sp.spherical_jn(l,qj*R)/vol\n",
    "    \n",
    "    H = -E*A + B\n",
    "    for l in range(l_max):\n",
    "        H += C[:,:,l]*getRatio(l,E)\n",
    "\n",
    "    #this function is more approriate for large matrices\n",
    "    detData = np.linalg.slogdet(H - E*np.identity(len(Ks))) #returns in (sign,absolute val\n",
    "    det = detData[0]*detData[1]\n",
    "    return det\n"
   ]
  },
  {
   "cell_type": "code",
   "execution_count": 368,
   "metadata": {},
   "outputs": [],
   "source": [
    "def findZero(lst,j):\n",
    "    t = 0\n",
    "    for i in range(1,len(lst)):\n",
    "        if (lst[i-1]>0 and lst[i]<0) or (lst[i-1]<0 and lst[i]>0) or abs(lst[i])<1:\n",
    "            if t == j:\n",
    "                return i\n",
    "            else:\n",
    "                t+=1\n",
    "    return len(lst)-1"
   ]
  },
  {
   "cell_type": "code",
   "execution_count": 369,
   "metadata": {},
   "outputs": [],
   "source": [
    "\n",
    "ks =[2*np.pi*np.array([0.1,0,0])/a,2*np.pi*np.array([1,0,0])/a] #[2*np.pi*np.array([i,0,0])/a for i in range(1,11)]\n",
    "Es = np.empty(len(ks))\n",
    "EMesh  = np.arange(0,0.5,step=0.01) #np.arange(-0.02,0.25,step=0.01)\n",
    "E_0 = 0.09\n",
    "\n",
    "for i,k in enumerate(ks):\n",
    "    Es[i] = EMesh[int(findZero([findDet(k,E) for E in EMesh],0))] \n",
    "    print(Es[i])\n",
    "    print(f\"{(i+1)*10}%\")\n",
    "\n",
    "print(Es)\n"
   ]
  },
  {
   "cell_type": "code",
   "execution_count": null,
   "metadata": {},
   "outputs": [
    {
     "data": {
      "text/plain": [
       "Text(0, 0.5, 'Energy (Hartree)')"
      ]
     },
     "execution_count": 327,
     "metadata": {},
     "output_type": "execute_result"
    },
    {
     "data": {
      "image/png": "[encoded data removed]",
      "text/plain": [
       "<Figure size 640x480 with 1 Axes>"
      ]
     },
     "metadata": {},
     "output_type": "display_data"
    }
   ],
   "source": [
    "plt.plot(list(map(lambda k: k[0],ks)),Es)\n",
    "plt.title(\"Lowest energy band of Cu\")\n",
    "plt.xlabel(r\"$k_x$ (Bohr)\")\n",
    "plt.ylabel(\"Energy (Hartree)\")"
   ]
  },
  {
   "cell_type": "code",
   "execution_count": null,
   "metadata": {},
   "outputs": [],
   "source": []
  }
 ],
 "metadata": {
  "kernelspec": {
   "display_name": ".venv",
   "language": "python",
   "name": "python3"
  },
  "language_info": {
   "codemirror_mode": {
    "name": "ipython",
    "version": 3
   },
   "file_extension": ".py",
   "mimetype": "text/x-python",
   "name": "python",
   "nbconvert_exporter": "python",
   "pygments_lexer": "ipython3",
   "version": "3.8.10"
  }
 },
 "nbformat": 4,
 "nbformat_minor": 2
}
