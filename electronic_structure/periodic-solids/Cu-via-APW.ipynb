{
 "cells": [
  {
   "cell_type": "markdown",
   "metadata": {},
   "source": [
    "# Finding Cu crystal ground state via the Augmented Plane method\n",
    "\n",
    "This project is adapted from Thijssen.\n",
    "\n",
    "## Theory\n",
    "\n",
    "APW is a method for solving the single particle Schrodinger equation in a crystal. It uses the variational principle in the plane wave basis (this is viable due to Bloch's theorem). A basis element for an eigenstate labelled $\\vec{k}$ is:\n",
    "\n",
    "$$\\psi_{\\vec{k} + \\vec{K}} = e^{i(\\vec{k} + \\vec{K})\\cdot\\vec{r}}\\tag{1}$$\n",
    "\n",
    "Due to the size of the potential near the nuclei, the basis set required is too large. APW solves this problem with the Muffin approximation. The equation near the nuclei ($r<R$) is solved exactly and related to the plane waves via boundary conditions at $R$. This allows for the variational method to be applied efficiently to the basis. For a full description of the theory see Thijssen. \n",
    "\n",
    "## Implementation\n",
    "\n",
    "The variational equations are not linear, making the problem much harder to solve. In this implementation a brute force approach has been followed, the energy found for a given $\\vec{k}$ is where the determinant changes sign.\n",
    "\n",
    "This notebook attempts to apply this method to Cu. However, I can no longer access the data used in Thijssen for the potential. Because of this I have modelled the valence electrons potential (ignoring interaction between valence electrons) as:\n",
    "\n",
    "$$V(r) = -Z_{eff}\\frac{e^{-\\frac{r}{r_0}}}{r}\\tag{2}$$\n",
    "\n",
    "where $Z_{eff}$ is the effective charge of the nuclei of the valence electron and $r_0$ has been found via the Thomas–Fermi approximation (this term represents the shielding of the nuclei by other electrons). \n",
    "\n",
    "These approximations are not particularly accurate; however, the implementation of the algorithm is correct.\n",
    "\n"
   ]
  },
  {
   "cell_type": "code",
   "execution_count": 393,
   "metadata": {},
   "outputs": [],
   "source": [
    "import numpy as np\n",
    "from scipy import special as sp\n",
    "import matplotlib.pyplot as plt"
   ]
  },
  {
   "cell_type": "code",
   "execution_count": 394,
   "metadata": {},
   "outputs": [],
   "source": [
    "#constants\n",
    "a = 6.822 \n",
    "vol = 3*(a**3)/4\n",
    "\n",
    "l_max = 2*(3+2+1) + 4\n",
    "nLim = 2 \n",
    "\n",
    "#define recipricol lattice vectors \n",
    "b1 = 2*np.pi*np.array([-1,1,1])/a\n",
    "b2 = 2*np.pi*np.array([1,-1,1])/a\n",
    "b3 = 2*np.pi*np.array([1,1,-1])/a\n",
    "Ks =[l*b1 + m*b2 + n*b3 for l in range(-nLim,nLim+1) for m in range(-nLim,nLim+1) for n in range(-nLim,nLim+1)]\n",
    "\n"
   ]
  },
  {
   "cell_type": "code",
   "execution_count": 395,
   "metadata": {},
   "outputs": [],
   "source": [
    "#taken from Energy Band Structure of Copper* GLENN A. BURDICK/f.\n",
    "\n",
    "r = np.array([0.005,0.010,0.015,0.020,0.025,0.030,0.035,0.040,\n",
    "              0.050,0.060,0.070,0.080,0.090,0.100,\n",
    "              0.120,0.140,0.160,0.180,0.200,0.220,0.240,0.260,0.280,0.300,\n",
    "              0.340,0.380,0.420,0.460,0.500,0.540,0.580,0.620,0.660,0.700\n",
    "              ,0.800,0.900,1.00,1.10,1.20, 1.30, 1.40,\n",
    "       1.60, 2.00, 2.40, 2.80])\n",
    "\n",
    "twoZ = np.array([57.500,56.206,54.966,53.797,52.688,51.644,50.656,49.720,47.970,46.358,\n",
    "        44.849,43.420,42.060,40.755,38.333,36.140,34.157,32.359,30.741,29.276,27.917,\n",
    "        26.662,25.462,24.264,22.186,20.470,18.851,17.308,15.965,\n",
    "        14.772,13.625,12.631,11.680,10.874,9.099,7.782,\n",
    "        6.749,5.963,5.310,4.778,4.284,3.533,\n",
    "        2.724,2.277,2.629])\n",
    "V = -twoZ/r\n"
   ]
  },
  {
   "cell_type": "code",
   "execution_count": 396,
   "metadata": {},
   "outputs": [],
   "source": [
    "#generate A\n",
    "A = np.empty([len(Ks),len(Ks)])\n",
    "for i,K_i in enumerate(Ks):\n",
    "    for j,K_j in enumerate(Ks):\n",
    "        kDiff = np.linalg.norm(K_i-K_j)\n",
    "        if kDiff == 0:\n",
    "            A[i,j] = 1\n",
    "        else:\n",
    "            A[i,j] = -4*np.pi*(r[-2]**2)*sp.spherical_jn(1,kDiff*r[-2])/(vol*kDiff)\n"
   ]
  },
  {
   "cell_type": "code",
   "execution_count": 397,
   "metadata": {},
   "outputs": [],
   "source": [
    "#code for solution to the muffin part\n",
    "\n",
    "def w(x,t,h,f):\n",
    "    return (1 - f(t)*(h**2)/12)*x\n",
    "\n",
    "def wInv(w,t,h,f):\n",
    "    return w/(1 - f(t)*(h**2)/12)\n",
    "\n",
    "def intialCond(l):\n",
    "    \"\"\"\n",
    "    Finds intial conditions near r=0.\n",
    "    \"\"\"\n",
    "    return [r[0]**(l+1),r[1]**(l+1)] #may want to add r=0 part\n",
    "\n",
    "\n",
    "def getf(l,E):\n",
    "    def f(rVal):\n",
    "        if rVal == 0.6:\n",
    "            return l*(l+1)/rVal**2 + V[31] + V[30] - 2*E\n",
    "        index = list(r).index(rVal)\n",
    "        return l*(l+1)/rVal**2 + 2*(V[index] - E)\n",
    "\n",
    "    return f\n",
    "\n",
    "\n",
    "def getRatio(l,E):\n",
    "    \"\"\"\n",
    "    Finds ration required for the matrix calculation.\n",
    "    \"\"\"\n",
    "    def getUs(us,h,iLen,rs):\n",
    "        \n",
    "        for i in range(2,iLen+2):\n",
    "            w_t = w(us[-1],rs[i-1],h,getf(l,E))\n",
    "            w_tMinush = w(us[-2],rs[i-2],h,getf(l,E))\n",
    "            w_rPlush = 2*w_t - w_tMinush + rs[i-1]*getf(l,E)(rs[i-1])*(h**2)\n",
    "            us.append(wInv(w_rPlush,rs[i],h,getf(l,E)))\n",
    "        return us\n",
    "\n",
    "    us1 = getUs(intialCond(l),0.005,6,r[:8])\n",
    "\n",
    "    rs2 = np.insert(np.insert(r[8:14],0,r[7]),0,r[5]) #more elagant way of doing this?\n",
    "    us2 = getUs([us1[-3],us1[-1]],0.01,6,rs2)\n",
    "\n",
    "    rs3 = np.insert(np.insert(r[14:24],0,r[13]),0,r[11])\n",
    "    us3 = getUs([us2[-3],us2[-1]],0.02,10,rs3)\n",
    "\n",
    "    rs4 = np.insert(np.insert(r[24:34],0,r[23]),0,r[21])\n",
    "    us4 = getUs([us3[-3],us3[-1]],0.04,10,rs4)\n",
    "    \n",
    "    wAv = (us4[-4] + us4[-3])/2\n",
    "    rs5 = np.insert(np.insert(r[34:41],0,r[33]),0,0.6)\n",
    "    us5 = getUs([wAv,us4[-1]],0.1,7,rs5)\n",
    "\n",
    "    rs6 = np.insert(np.insert(r[41:45],0,r[40]),0,r[36])\n",
    "    us6 = getUs([us5[-5],us5[-1]],0.4,4,rs6)\n",
    "\n",
    "    uDotEnd = ((1-(0.4**2)*getf(l,E)(r[-1])/6)*us6[-1] - (1-(0.4**2)*getf(l,E)(r[-3])/6)*us6[-3])/(2*0.4)\n",
    "    return uDotEnd/us6[-2] - 1/r[-2] #this may not be very accurate\n"
   ]
  },
  {
   "cell_type": "code",
   "execution_count": 398,
   "metadata": {},
   "outputs": [],
   "source": [
    "def findDet(k,E):\n",
    "    \"\"\"\n",
    "    Finds variational problem determinant\n",
    "    \"\"\"\n",
    "\n",
    "    #set up k dependent matricies \n",
    "    B = np.empty([len(Ks),len(Ks)])\n",
    "    C = np.empty([len(Ks),len(Ks),len(Ks)])\n",
    "    qs = [k + K for K in Ks]\n",
    "\n",
    "    #find B and C\n",
    "    for i in range(len(Ks)):\n",
    "        for j in range(len(Ks)):\n",
    "            qDot = np.dot(qs[i],qs[j])\n",
    "            B[i,j] = A[i,j]*qDot/2\n",
    "            qi = np.linalg.norm(qs[i])\n",
    "            qj = np.linalg.norm(qs[j])\n",
    "            for l in range(l_max): \n",
    "                if qi == 0 or qj == 0:\n",
    "                    C[i,j,l] = 0\n",
    "                else: \n",
    "                    C[i,j,l] = (2*l + 1)*2*np.pi*(r[-2]**2)*sp.eval_legendre(l,qDot/(qi*qj))*sp.spherical_jn(l,qi*r[-2])*sp.spherical_jn(l,qj*r[-2])/vol\n",
    "    \n",
    "    H = -E*A + B\n",
    "    for l in range(l_max):\n",
    "        H += C[:,:,l]*getRatio(l,E)\n",
    "\n",
    "    #this function is more approriate for large matrices, returns in (sign,absolute val\n",
    "    detData = np.linalg.slogdet(H - E*np.identity(len(Ks)))\n",
    "    det = detData[0]*detData[1]\n",
    "    return det\n"
   ]
  },
  {
   "cell_type": "code",
   "execution_count": 399,
   "metadata": {},
   "outputs": [],
   "source": [
    "def findZero(lst,j):\n",
    "    \"\"\"\n",
    "    Given a list, finds the list elements that change sign.\n",
    "    \"\"\"\n",
    "    t = 0\n",
    "    for i in range(1,len(lst)):\n",
    "        if (lst[i-1]>0 and lst[i]<0) or (lst[i-1]<0 and lst[i]>0) or lst[i-1] == 0:\n",
    "            if t == j:\n",
    "                return i\n",
    "            else:\n",
    "                t+=1\n",
    "    return len(lst)-1"
   ]
  },
  {
   "cell_type": "code",
   "execution_count": 400,
   "metadata": {},
   "outputs": [
    {
     "ename": "KeyboardInterrupt",
     "evalue": "",
     "output_type": "error",
     "traceback": [
      "\u001b[1;31m---------------------------------------------------------------------------\u001b[0m",
      "\u001b[1;31mKeyboardInterrupt\u001b[0m                         Traceback (most recent call last)",
      "Cell \u001b[1;32mIn[400], line 10\u001b[0m\n\u001b[0;32m      7\u001b[0m E3s \u001b[38;5;241m=\u001b[39m np\u001b[38;5;241m.\u001b[39mempty(\u001b[38;5;28mlen\u001b[39m(ks))\n\u001b[0;32m      9\u001b[0m \u001b[38;5;28;01mfor\u001b[39;00m i,k \u001b[38;5;129;01min\u001b[39;00m \u001b[38;5;28menumerate\u001b[39m(ks):\n\u001b[1;32m---> 10\u001b[0m     detList \u001b[38;5;241m=\u001b[39m [findDet(k,E) \u001b[38;5;28;01mfor\u001b[39;00m E \u001b[38;5;129;01min\u001b[39;00m EMesh]\n\u001b[0;32m     11\u001b[0m     E0s[i] \u001b[38;5;241m=\u001b[39m EMesh[\u001b[38;5;28mint\u001b[39m(findZero(detList,\u001b[38;5;241m0\u001b[39m))] \n\u001b[0;32m     12\u001b[0m     E1s[i] \u001b[38;5;241m=\u001b[39m EMesh[\u001b[38;5;28mint\u001b[39m(findZero(detList,\u001b[38;5;241m1\u001b[39m))]\n",
      "Cell \u001b[1;32mIn[400], line 10\u001b[0m, in \u001b[0;36m<listcomp>\u001b[1;34m(.0)\u001b[0m\n\u001b[0;32m      7\u001b[0m E3s \u001b[38;5;241m=\u001b[39m np\u001b[38;5;241m.\u001b[39mempty(\u001b[38;5;28mlen\u001b[39m(ks))\n\u001b[0;32m      9\u001b[0m \u001b[38;5;28;01mfor\u001b[39;00m i,k \u001b[38;5;129;01min\u001b[39;00m \u001b[38;5;28menumerate\u001b[39m(ks):\n\u001b[1;32m---> 10\u001b[0m     detList \u001b[38;5;241m=\u001b[39m [\u001b[43mfindDet\u001b[49m\u001b[43m(\u001b[49m\u001b[43mk\u001b[49m\u001b[43m,\u001b[49m\u001b[43mE\u001b[49m\u001b[43m)\u001b[49m \u001b[38;5;28;01mfor\u001b[39;00m E \u001b[38;5;129;01min\u001b[39;00m EMesh]\n\u001b[0;32m     11\u001b[0m     E0s[i] \u001b[38;5;241m=\u001b[39m EMesh[\u001b[38;5;28mint\u001b[39m(findZero(detList,\u001b[38;5;241m0\u001b[39m))] \n\u001b[0;32m     12\u001b[0m     E1s[i] \u001b[38;5;241m=\u001b[39m EMesh[\u001b[38;5;28mint\u001b[39m(findZero(detList,\u001b[38;5;241m1\u001b[39m))]\n",
      "Cell \u001b[1;32mIn[398], line 22\u001b[0m, in \u001b[0;36mfindDet\u001b[1;34m(k, E)\u001b[0m\n\u001b[0;32m     20\u001b[0m                 C[i,j,l] \u001b[38;5;241m=\u001b[39m \u001b[38;5;241m0\u001b[39m\n\u001b[0;32m     21\u001b[0m             \u001b[38;5;28;01melse\u001b[39;00m: \n\u001b[1;32m---> 22\u001b[0m                 C[i,j,l] \u001b[38;5;241m=\u001b[39m (\u001b[38;5;241m2\u001b[39m\u001b[38;5;241m*\u001b[39ml \u001b[38;5;241m+\u001b[39m \u001b[38;5;241m1\u001b[39m)\u001b[38;5;241m*\u001b[39m\u001b[38;5;241m2\u001b[39m\u001b[38;5;241m*\u001b[39mnp\u001b[38;5;241m.\u001b[39mpi\u001b[38;5;241m*\u001b[39m(r[\u001b[38;5;241m-\u001b[39m\u001b[38;5;241m2\u001b[39m]\u001b[38;5;241m*\u001b[39m\u001b[38;5;241m*\u001b[39m\u001b[38;5;241m2\u001b[39m)\u001b[38;5;241m*\u001b[39msp\u001b[38;5;241m.\u001b[39meval_legendre(l,qDot\u001b[38;5;241m/\u001b[39m(qi\u001b[38;5;241m*\u001b[39mqj))\u001b[38;5;241m*\u001b[39m\u001b[43msp\u001b[49m\u001b[38;5;241;43m.\u001b[39;49m\u001b[43mspherical_jn\u001b[49m\u001b[43m(\u001b[49m\u001b[43ml\u001b[49m\u001b[43m,\u001b[49m\u001b[43mqi\u001b[49m\u001b[38;5;241;43m*\u001b[39;49m\u001b[43mr\u001b[49m\u001b[43m[\u001b[49m\u001b[38;5;241;43m-\u001b[39;49m\u001b[38;5;241;43m2\u001b[39;49m\u001b[43m]\u001b[49m\u001b[43m)\u001b[49m\u001b[38;5;241m*\u001b[39msp\u001b[38;5;241m.\u001b[39mspherical_jn(l,qj\u001b[38;5;241m*\u001b[39mr[\u001b[38;5;241m-\u001b[39m\u001b[38;5;241m2\u001b[39m])\u001b[38;5;241m/\u001b[39mvol\n\u001b[0;32m     24\u001b[0m H \u001b[38;5;241m=\u001b[39m \u001b[38;5;241m-\u001b[39mE\u001b[38;5;241m*\u001b[39mA \u001b[38;5;241m+\u001b[39m B\n\u001b[0;32m     25\u001b[0m \u001b[38;5;28;01mfor\u001b[39;00m l \u001b[38;5;129;01min\u001b[39;00m \u001b[38;5;28mrange\u001b[39m(l_max):\n",
      "\u001b[1;31mKeyboardInterrupt\u001b[0m: "
     ]
    }
   ],
   "source": [
    "#defines a energy mess and finds the energy values where the determinant vanishes\n",
    "ks = [2*np.pi*np.array([i/10,0,0])/a for i in range(1,11)]\n",
    "EMesh  = np.arange(0,1,step=0.02) #-0.2 regime for no 1/2 may contain it?\n",
    "E0s = np.empty(len(ks))\n",
    "E1s = np.empty(len(ks))\n",
    "E2s = np.empty(len(ks))\n",
    "E3s = np.empty(len(ks))\n",
    "\n",
    "for i,k in enumerate(ks):\n",
    "    detList = [findDet(k,E) for E in EMesh]\n",
    "    E0s[i] = EMesh[int(findZero(detList,0))] \n",
    "    E1s[i] = EMesh[int(findZero(detList,1))]\n",
    "    E2s[i] = EMesh[int(findZero(detList,2))] \n",
    "    E3s[i] = EMesh[int(findZero(detList,3))] "
   ]
  },
  {
   "cell_type": "code",
   "execution_count": null,
   "metadata": {},
   "outputs": [
    {
     "data": {
      "image/png": "[encoded data removed]",
      "text/plain": [
       "<Figure size 640x480 with 1 Axes>"
      ]
     },
     "metadata": {},
     "output_type": "display_data"
    }
   ],
   "source": [
    "#graphs, due to lack of electron-electron interactions this is not going to be very accurate\n",
    "kx = list(map(lambda k: k[0],ks))\n",
    "plt.scatter(kx,E0s)\n",
    "plt.scatter(kx,E1s)\n",
    "plt.scatter(kx,E2s)\n",
    "plt.scatter(kx,E3s)\n",
    "plt.title(R\"Lowest energy band of Cu along $k_x$ axis\")\n",
    "plt.xlabel(r\"$k_x$ (Bohr)\")\n",
    "plt.ylabel(\"Energy (Hartree)\")\n",
    "plt.show() #have added 0 at the end\n",
    "\n",
    "#look at root finding algorithms "
   ]
  },
  {
   "cell_type": "markdown",
   "metadata": {},
   "source": []
  }
 ],
 "metadata": {
  "kernelspec": {
   "display_name": ".venv",
   "language": "python",
   "name": "python3"
  },
  "language_info": {
   "codemirror_mode": {
    "name": "ipython",
    "version": 3
   },
   "file_extension": ".py",
   "mimetype": "text/x-python",
   "name": "python",
   "nbconvert_exporter": "python",
   "pygments_lexer": "ipython3",
   "version": "3.8.10"
  }
 },
 "nbformat": 4,
 "nbformat_minor": 2
}
