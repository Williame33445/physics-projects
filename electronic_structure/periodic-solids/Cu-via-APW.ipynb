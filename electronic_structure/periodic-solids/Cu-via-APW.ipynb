{
 "cells": [
  {
   "cell_type": "markdown",
   "metadata": {},
   "source": [
    "# Finding Cu crystal ground state via the Augmented Plane method\n",
    "\n",
    "Adapted from Thijssen"
   ]
  },
  {
   "cell_type": "code",
   "execution_count": 1,
   "metadata": {},
   "outputs": [],
   "source": [
    "import numpy as np\n",
    "from scipy import special as sp"
   ]
  },
  {
   "cell_type": "code",
   "execution_count": 2,
   "metadata": {},
   "outputs": [],
   "source": [
    "# constants\n",
    "a = 6.822 #au\n",
    "R = 1\n",
    "V = 3*(a**3)/4\n",
    "\n",
    "l_max = 3\n",
    "nLim = 3 \n",
    "\n",
    "b1 = 2*np.pi*np.array([-1,1,1])/a\n",
    "b2 = 2*np.pi*np.array([1,-1,1])/a\n",
    "b3 = 2*np.pi*np.array([1,1,-1])/a\n",
    "Ks =[l*b1 + m*b2 + n*b3 for l in range(-nLim,nLim+1) for m in range(-nLim,nLim+1) for n in range(-nLim,nLim+1)]\n",
    "\n"
   ]
  },
  {
   "cell_type": "code",
   "execution_count": 3,
   "metadata": {},
   "outputs": [
    {
     "name": "stdout",
     "output_type": "stream",
     "text": [
      "[[ 1.00000000e+00 -1.35026863e-02 -5.09872972e-03 ... -6.24728351e-04\n",
      "  -6.24843489e-04 -5.61053190e-04]\n",
      " [-1.35026863e-02  1.00000000e+00 -1.35026863e-02 ... -6.24843489e-04\n",
      "  -6.24728351e-04 -6.24843489e-04]\n",
      " [-5.09872972e-03 -1.35026863e-02  1.00000000e+00 ... -5.61053190e-04\n",
      "  -6.24843489e-04 -6.24728351e-04]\n",
      " ...\n",
      " [-6.24728351e-04 -6.24843489e-04 -5.61053190e-04 ...  1.00000000e+00\n",
      "  -1.35026863e-02 -5.09872972e-03]\n",
      " [-6.24843489e-04 -6.24728351e-04 -6.24843489e-04 ... -1.35026863e-02\n",
      "   1.00000000e+00 -1.35026863e-02]\n",
      " [-5.61053190e-04 -6.24843489e-04 -6.24728351e-04 ... -5.09872972e-03\n",
      "  -1.35026863e-02  1.00000000e+00]]\n"
     ]
    }
   ],
   "source": [
    "#generate A\n",
    "A = np.empty([len(Ks),len(Ks)])\n",
    "for i,K_i in enumerate(Ks):\n",
    "    for j,K_j in enumerate(Ks):\n",
    "        kDiff = np.linalg.norm(K_i-K_j)\n",
    "        if kDiff == 0:\n",
    "            A[i,j] = 1\n",
    "        else:\n",
    "            A[i,j] = -4*np.pi*(R**2)*sp.spherical_jn(1,kDiff*R)/(V*kDiff)\n",
    "\n",
    "print(A)\n",
    "\n",
    "\n"
   ]
  },
  {
   "cell_type": "code",
   "execution_count": 4,
   "metadata": {},
   "outputs": [],
   "source": [
    "#shall use hydrogen atom approximation as all other electrons have a shielding effect (this is rough)\n",
    "\n",
    "def iterateRK4(t_n,y_n,h,f):\n",
    "    \"\"\"\n",
    "    Iterates by RK4 method.\n",
    "    \"\"\"\n",
    "    k_1 = f(t_n, y_n)\n",
    "    k_2 = f(t_n + h/2, y_n + h*k_1/2)\n",
    "    k_3 = f(t_n + h/2, y_n + h*k_2/2)\n",
    "    k_4 = f(t_n + h, y_n + h*k_3)\n",
    "\n",
    "    return y_n + h*(k_1 + 2*k_2 + 2*k_3 + k_4)/6\n",
    "\n",
    "def intialCond(l,r_0):\n",
    "    #from small r solution to radial schrodinger eq, remember its u not R\n",
    "    return np.array([r_0**(l+1),(l+1)*r_0**l])\n",
    "\n",
    "def getfRadial(l,E):\n",
    "    def f(r,y):\n",
    "        u = y[0]\n",
    "        p = y[1] #p = du/dr\n",
    "        f_u = p\n",
    "        f_p = (l*(l+1)/(r**2) - 2*E - 2/r)*u\n",
    "        return np.array([f_u,f_p])\n",
    "    return f\n",
    "        \n",
    "r_0 = 0.1\n",
    "h = 0.05\n",
    "def getRatio(l,E):\n",
    "    rs = [r_0]\n",
    "    ys = [intialCond(l,r_0)]\n",
    "    for i in range(int((R - r_0)/h)):\n",
    "        rs.append(rs[-1]+h)\n",
    "        ys.append(iterateRK4(rs[-1],ys[-1],h,getfRadial(l,E)))\n",
    "    \n",
    "    yBoundary = ys[-1]\n",
    "    return yBoundary[1]/yBoundary[0] - 1/R"
   ]
  },
  {
   "cell_type": "code",
   "execution_count": 8,
   "metadata": {},
   "outputs": [],
   "source": [
    "def findDet(k,E):\n",
    "    #set up k dependent matricies \n",
    "    B = np.empty([len(Ks),len(Ks)])\n",
    "    C = np.empty([len(Ks),len(Ks),len(Ks)])\n",
    "    qs = [k + K for K in Ks]\n",
    "\n",
    "    #find B and C\n",
    "    for i in range(len(Ks)):\n",
    "        for j in range(len(Ks)):\n",
    "            qDot = np.dot(qs[i],qs[j])\n",
    "            B[i,j] = A[i,j]*qDot/2\n",
    "            qi = np.linalg.norm(qs[i])\n",
    "            qj = np.linalg.norm(qs[j])\n",
    "            for l in range(l_max): \n",
    "                if qi == 0 or qj == 0:\n",
    "                    C[i,j,l] = 0\n",
    "                else: \n",
    "                    C[i,j,l] = (2*l + 1)*2*np.pi*(R**2)*sp.eval_legendre(l,qDot/(qi*qj))*sp.spherical_jn(l,qi*R)*sp.spherical_jn(l,qj*R)/V\n",
    "    \n",
    "    H = -E*A + B\n",
    "    print(H)\n",
    "    for l in range(l_max):\n",
    "        H += C[:,:,l]*getRatio(l,E)\n",
    "    \n",
    "    return np.linalg.det(H - E*np.identity(len(Ks)))\n"
   ]
  },
  {
   "cell_type": "code",
   "execution_count": 9,
   "metadata": {},
   "outputs": [
    {
     "name": "stdout",
     "output_type": "stream",
     "text": [
      "[[ 1.15517030e+01 -1.38798049e-01 -4.59236472e-02 ...  5.50190768e-03\n",
      "   6.29797969e-03  6.36890917e-03]\n",
      " [-1.38798049e-01  1.02792915e+01 -1.38798049e-01 ...  6.29797969e-03\n",
      "   6.29681918e-03  6.29797969e-03]\n",
      " [-4.59236472e-02 -1.38798049e-01  1.15517030e+01 ...  6.36890917e-03\n",
      "   6.29797969e-03  5.50190768e-03]\n",
      " ...\n",
      " [ 5.50190768e-03  6.29797969e-03  6.36890917e-03 ...  1.15517030e+01\n",
      "  -1.38798049e-01 -4.59236472e-02]\n",
      " [ 6.29797969e-03  6.29681918e-03  6.29797969e-03 ... -1.38798049e-01\n",
      "   1.02792915e+01 -1.38798049e-01]\n",
      " [ 6.36890917e-03  6.29797969e-03  5.50190768e-03 ... -4.59236472e-02\n",
      "  -1.38798049e-01  1.15517030e+01]]\n"
     ]
    },
    {
     "name": "stderr",
     "output_type": "stream",
     "text": [
      "c:\\workspace\\git-repos\\physics-projects\\.venv\\lib\\site-packages\\numpy\\linalg\\linalg.py:2139: RuntimeWarning: overflow encountered in det\n",
      "  r = _umath_linalg.det(a, signature=signature)\n"
     ]
    },
    {
     "name": "stdout",
     "output_type": "stream",
     "text": [
      "[[ 1.15517030e+01 -1.38798049e-01 -4.59236472e-02 ...  5.50190768e-03\n",
      "   6.29797969e-03  6.36890917e-03]\n",
      " [-1.38798049e-01  1.02792915e+01 -1.38798049e-01 ...  6.29797969e-03\n",
      "   6.29681918e-03  6.29797969e-03]\n",
      " [-4.59236472e-02 -1.38798049e-01  1.15517030e+01 ...  6.36890917e-03\n",
      "   6.29797969e-03  5.50190768e-03]\n",
      " ...\n",
      " [ 5.50190768e-03  6.29797969e-03  6.36890917e-03 ...  1.15517030e+01\n",
      "  -1.38798049e-01 -4.59236472e-02]\n",
      " [ 6.29797969e-03  6.29681918e-03  6.29797969e-03 ... -1.38798049e-01\n",
      "   1.02792915e+01 -1.38798049e-01]\n",
      " [ 6.36890917e-03  6.29797969e-03  5.50190768e-03 ... -4.59236472e-02\n",
      "  -1.38798049e-01  1.15517030e+01]]\n",
      "[[ 1.15517030e+01 -1.38798049e-01 -4.59236472e-02 ...  5.50190768e-03\n",
      "   6.29797969e-03  6.36890917e-03]\n",
      " [-1.38798049e-01  1.02792915e+01 -1.38798049e-01 ...  6.29797969e-03\n",
      "   6.29681918e-03  6.29797969e-03]\n",
      " [-4.59236472e-02 -1.38798049e-01  1.15517030e+01 ...  6.36890917e-03\n",
      "   6.29797969e-03  5.50190768e-03]\n",
      " ...\n",
      " [ 5.50190768e-03  6.29797969e-03  6.36890917e-03 ...  1.15517030e+01\n",
      "  -1.38798049e-01 -4.59236472e-02]\n",
      " [ 6.29797969e-03  6.29681918e-03  6.29797969e-03 ... -1.38798049e-01\n",
      "   1.02792915e+01 -1.38798049e-01]\n",
      " [ 6.36890917e-03  6.29797969e-03  5.50190768e-03 ... -4.59236472e-02\n",
      "  -1.38798049e-01  1.15517030e+01]]\n"
     ]
    },
    {
     "ename": "KeyboardInterrupt",
     "evalue": "",
     "output_type": "error",
     "traceback": [
      "\u001b[1;31m---------------------------------------------------------------------------\u001b[0m",
      "\u001b[1;31mKeyboardInterrupt\u001b[0m                         Traceback (most recent call last)",
      "Cell \u001b[1;32mIn[9], line 5\u001b[0m\n\u001b[0;32m      2\u001b[0m EMesh  \u001b[38;5;241m=\u001b[39m np\u001b[38;5;241m.\u001b[39marange(\u001b[38;5;241m-\u001b[39m\u001b[38;5;241m0.1\u001b[39m,\u001b[38;5;241m0.2\u001b[39m)\n\u001b[0;32m      4\u001b[0m \u001b[38;5;28;01mfor\u001b[39;00m k \u001b[38;5;129;01min\u001b[39;00m ks:\n\u001b[1;32m----> 5\u001b[0m     detOfE \u001b[38;5;241m=\u001b[39m \u001b[43mnp\u001b[49m\u001b[38;5;241;43m.\u001b[39;49m\u001b[43mvectorize\u001b[49m\u001b[43m(\u001b[49m\u001b[43mfindDet\u001b[49m\u001b[43m)\u001b[49m\u001b[43m(\u001b[49m\u001b[43mk\u001b[49m\u001b[43m,\u001b[49m\u001b[43mEMesh\u001b[49m\u001b[43m)\u001b[49m\n\u001b[0;32m      6\u001b[0m     \u001b[38;5;28mprint\u001b[39m(detOfE)\n",
      "File \u001b[1;32mc:\\workspace\\git-repos\\physics-projects\\.venv\\lib\\site-packages\\numpy\\lib\\function_base.py:2329\u001b[0m, in \u001b[0;36mvectorize.__call__\u001b[1;34m(self, *args, **kwargs)\u001b[0m\n\u001b[0;32m   2326\u001b[0m     vargs \u001b[38;5;241m=\u001b[39m [args[_i] \u001b[38;5;28;01mfor\u001b[39;00m _i \u001b[38;5;129;01min\u001b[39;00m inds]\n\u001b[0;32m   2327\u001b[0m     vargs\u001b[38;5;241m.\u001b[39mextend([kwargs[_n] \u001b[38;5;28;01mfor\u001b[39;00m _n \u001b[38;5;129;01min\u001b[39;00m names])\n\u001b[1;32m-> 2329\u001b[0m \u001b[38;5;28;01mreturn\u001b[39;00m \u001b[38;5;28;43mself\u001b[39;49m\u001b[38;5;241;43m.\u001b[39;49m\u001b[43m_vectorize_call\u001b[49m\u001b[43m(\u001b[49m\u001b[43mfunc\u001b[49m\u001b[38;5;241;43m=\u001b[39;49m\u001b[43mfunc\u001b[49m\u001b[43m,\u001b[49m\u001b[43m \u001b[49m\u001b[43margs\u001b[49m\u001b[38;5;241;43m=\u001b[39;49m\u001b[43mvargs\u001b[49m\u001b[43m)\u001b[49m\n",
      "File \u001b[1;32mc:\\workspace\\git-repos\\physics-projects\\.venv\\lib\\site-packages\\numpy\\lib\\function_base.py:2412\u001b[0m, in \u001b[0;36mvectorize._vectorize_call\u001b[1;34m(self, func, args)\u001b[0m\n\u001b[0;32m   2409\u001b[0m \u001b[38;5;66;03m# Convert args to object arrays first\u001b[39;00m\n\u001b[0;32m   2410\u001b[0m inputs \u001b[38;5;241m=\u001b[39m [asanyarray(a, dtype\u001b[38;5;241m=\u001b[39m\u001b[38;5;28mobject\u001b[39m) \u001b[38;5;28;01mfor\u001b[39;00m a \u001b[38;5;129;01min\u001b[39;00m args]\n\u001b[1;32m-> 2412\u001b[0m outputs \u001b[38;5;241m=\u001b[39m \u001b[43mufunc\u001b[49m\u001b[43m(\u001b[49m\u001b[38;5;241;43m*\u001b[39;49m\u001b[43minputs\u001b[49m\u001b[43m)\u001b[49m\n\u001b[0;32m   2414\u001b[0m \u001b[38;5;28;01mif\u001b[39;00m ufunc\u001b[38;5;241m.\u001b[39mnout \u001b[38;5;241m==\u001b[39m \u001b[38;5;241m1\u001b[39m:\n\u001b[0;32m   2415\u001b[0m     res \u001b[38;5;241m=\u001b[39m asanyarray(outputs, dtype\u001b[38;5;241m=\u001b[39motypes[\u001b[38;5;241m0\u001b[39m])\n",
      "Cell \u001b[1;32mIn[8], line 12\u001b[0m, in \u001b[0;36mfindDet\u001b[1;34m(k, E)\u001b[0m\n\u001b[0;32m     10\u001b[0m qDot \u001b[38;5;241m=\u001b[39m np\u001b[38;5;241m.\u001b[39mdot(qs[i],qs[j])\n\u001b[0;32m     11\u001b[0m B[i,j] \u001b[38;5;241m=\u001b[39m A[i,j]\u001b[38;5;241m*\u001b[39mqDot\u001b[38;5;241m/\u001b[39m\u001b[38;5;241m2\u001b[39m\n\u001b[1;32m---> 12\u001b[0m qi \u001b[38;5;241m=\u001b[39m \u001b[43mnp\u001b[49m\u001b[38;5;241;43m.\u001b[39;49m\u001b[43mlinalg\u001b[49m\u001b[38;5;241;43m.\u001b[39;49m\u001b[43mnorm\u001b[49m\u001b[43m(\u001b[49m\u001b[43mqs\u001b[49m\u001b[43m[\u001b[49m\u001b[43mi\u001b[49m\u001b[43m]\u001b[49m\u001b[43m)\u001b[49m\n\u001b[0;32m     13\u001b[0m qj \u001b[38;5;241m=\u001b[39m np\u001b[38;5;241m.\u001b[39mlinalg\u001b[38;5;241m.\u001b[39mnorm(qs[j])\n\u001b[0;32m     14\u001b[0m \u001b[38;5;28;01mfor\u001b[39;00m l \u001b[38;5;129;01min\u001b[39;00m \u001b[38;5;28mrange\u001b[39m(l_max): \n",
      "File \u001b[1;32m<__array_function__ internals>:200\u001b[0m, in \u001b[0;36mnorm\u001b[1;34m(*args, **kwargs)\u001b[0m\n",
      "File \u001b[1;32mc:\\workspace\\git-repos\\physics-projects\\.venv\\lib\\site-packages\\numpy\\linalg\\linalg.py:2511\u001b[0m, in \u001b[0;36mnorm\u001b[1;34m(x, ord, axis, keepdims)\u001b[0m\n\u001b[0;32m   2509\u001b[0m     sqnorm \u001b[38;5;241m=\u001b[39m x_real\u001b[38;5;241m.\u001b[39mdot(x_real) \u001b[38;5;241m+\u001b[39m x_imag\u001b[38;5;241m.\u001b[39mdot(x_imag)\n\u001b[0;32m   2510\u001b[0m \u001b[38;5;28;01melse\u001b[39;00m:\n\u001b[1;32m-> 2511\u001b[0m     sqnorm \u001b[38;5;241m=\u001b[39m \u001b[43mx\u001b[49m\u001b[38;5;241;43m.\u001b[39;49m\u001b[43mdot\u001b[49m\u001b[43m(\u001b[49m\u001b[43mx\u001b[49m\u001b[43m)\u001b[49m\n\u001b[0;32m   2512\u001b[0m ret \u001b[38;5;241m=\u001b[39m sqrt(sqnorm)\n\u001b[0;32m   2513\u001b[0m \u001b[38;5;28;01mif\u001b[39;00m keepdims:\n",
      "\u001b[1;31mKeyboardInterrupt\u001b[0m: "
     ]
    }
   ],
   "source": [
    "ks = [2*np.pi*np.array([i/10,0,0])/a for i in range(10)]\n",
    "EMesh  = np.arange(-0.1,0.2)\n",
    "\n",
    "for k in ks:\n",
    "    detOfE = np.vectorize(findDet)(k,EMesh)\n",
    "    print(detOfE)"
   ]
  },
  {
   "cell_type": "code",
   "execution_count": null,
   "metadata": {},
   "outputs": [],
   "source": []
  }
 ],
 "metadata": {
  "kernelspec": {
   "display_name": ".venv",
   "language": "python",
   "name": "python3"
  },
  "language_info": {
   "codemirror_mode": {
    "name": "ipython",
    "version": 3
   },
   "file_extension": ".py",
   "mimetype": "text/x-python",
   "name": "python",
   "nbconvert_exporter": "python",
   "pygments_lexer": "ipython3",
   "version": "3.8.10"
  }
 },
 "nbformat": 4,
 "nbformat_minor": 2
}
