{
 "cells": [
  {
   "cell_type": "markdown",
   "metadata": {},
   "source": [
    "# Finding Cu crystal ground state via the Augmented Plane method\n",
    "\n",
    "Adapted from Thijssen"
   ]
  },
  {
   "cell_type": "code",
   "execution_count": 70,
   "metadata": {},
   "outputs": [],
   "source": [
    "import numpy as np\n",
    "from scipy import special as sp\n",
    "import matplotlib.pyplot as plt"
   ]
  },
  {
   "cell_type": "code",
   "execution_count": 33,
   "metadata": {},
   "outputs": [],
   "source": [
    "# constants\n",
    "a = 6.822 #au\n",
    "R = 1\n",
    "V = 3*(a**3)/4\n",
    "\n",
    "l_max = 2*(3+2+1) +3\n",
    "nLim = 3 \n",
    "\n",
    "b1 = 2*np.pi*np.array([-1,1,1])/a\n",
    "b2 = 2*np.pi*np.array([1,-1,1])/a\n",
    "b3 = 2*np.pi*np.array([1,1,-1])/a\n",
    "Ks =[l*b1 + m*b2 + n*b3 for l in range(-nLim,nLim+1) for m in range(-nLim,nLim+1) for n in range(-nLim,nLim+1)]\n",
    "\n"
   ]
  },
  {
   "cell_type": "code",
   "execution_count": 34,
   "metadata": {},
   "outputs": [
    {
     "name": "stdout",
     "output_type": "stream",
     "text": [
      "[[ 1.00000000e+00 -1.35026863e-02 -5.09872972e-03 ...  1.43263837e-03\n",
      "   1.46185786e-03  1.27006053e-03]\n",
      " [-1.35026863e-02  1.00000000e+00 -1.35026863e-02 ...  1.11366118e-03\n",
      "   1.43263837e-03  1.46185786e-03]\n",
      " [-5.09872972e-03 -1.35026863e-02  1.00000000e+00 ...  3.37244015e-04\n",
      "   1.11366118e-03  1.43263837e-03]\n",
      " ...\n",
      " [ 1.43263837e-03  1.11366118e-03  3.37244015e-04 ...  1.00000000e+00\n",
      "  -1.35026863e-02 -5.09872972e-03]\n",
      " [ 1.46185786e-03  1.43263837e-03  1.11366118e-03 ... -1.35026863e-02\n",
      "   1.00000000e+00 -1.35026863e-02]\n",
      " [ 1.27006053e-03  1.46185786e-03  1.43263837e-03 ... -5.09872972e-03\n",
      "  -1.35026863e-02  1.00000000e+00]]\n"
     ]
    }
   ],
   "source": [
    "#generate A\n",
    "A = np.empty([len(Ks),len(Ks)])\n",
    "for i,K_i in enumerate(Ks):\n",
    "    for j,K_j in enumerate(Ks):\n",
    "        kDiff = np.linalg.norm(K_i-K_j)\n",
    "        if kDiff == 0:\n",
    "            A[i,j] = 1\n",
    "        else:\n",
    "            A[i,j] = -4*np.pi*(R**2)*sp.spherical_jn(1,kDiff*R)/(V*kDiff)\n",
    "\n",
    "print(A)\n",
    "\n",
    "\n"
   ]
  },
  {
   "cell_type": "code",
   "execution_count": 35,
   "metadata": {},
   "outputs": [],
   "source": [
    "#shall use hydrogen atom approximation as all other electrons have a shielding effect (this is rough)\n",
    "\n",
    "def iterateRK4(t_n,y_n,h,f):\n",
    "    \"\"\"\n",
    "    Iterates by RK4 method.\n",
    "    \"\"\"\n",
    "    k_1 = f(t_n, y_n)\n",
    "    k_2 = f(t_n + h/2, y_n + h*k_1/2)\n",
    "    k_3 = f(t_n + h/2, y_n + h*k_2/2)\n",
    "    k_4 = f(t_n + h, y_n + h*k_3)\n",
    "\n",
    "    return y_n + h*(k_1 + 2*k_2 + 2*k_3 + k_4)/6\n",
    "\n",
    "def intialCond(l,r_0):\n",
    "    #from small r solution to radial schrodinger eq, remember its u not R\n",
    "    return np.array([r_0**(l+1),(l+1)*r_0**l])\n",
    "\n",
    "def getfRadial(l,E):\n",
    "    def f(r,y):\n",
    "        u = y[0]\n",
    "        p = y[1] #p = du/dr\n",
    "        f_u = p\n",
    "        f_p = (l*(l+1)/(r**2) - 2*E - 2/r)*u\n",
    "        return np.array([f_u,f_p])\n",
    "    return f\n",
    "        \n",
    "r_0 = 0.1\n",
    "h = 0.05\n",
    "def getRatio(l,E):\n",
    "    rs = [r_0]\n",
    "    ys = [intialCond(l,r_0)]\n",
    "    for i in range(int((R - r_0)/h)):\n",
    "        rs.append(rs[-1]+h)\n",
    "        ys.append(iterateRK4(rs[-1],ys[-1],h,getfRadial(l,E)))\n",
    "    \n",
    "    yBoundary = ys[-1]\n",
    "    return yBoundary[1]/yBoundary[0] - 1/R"
   ]
  },
  {
   "cell_type": "code",
   "execution_count": 58,
   "metadata": {},
   "outputs": [],
   "source": [
    "def findDet(k,E):\n",
    "    #set up k dependent matricies \n",
    "    B = np.empty([len(Ks),len(Ks)])\n",
    "    C = np.empty([len(Ks),len(Ks),len(Ks)])\n",
    "    qs = [k + K for K in Ks]\n",
    "\n",
    "    #find B and C\n",
    "    for i in range(len(Ks)):\n",
    "        for j in range(len(Ks)):\n",
    "            qDot = np.dot(qs[i],qs[j])\n",
    "            B[i,j] = A[i,j]*qDot/2\n",
    "            qi = np.linalg.norm(qs[i])\n",
    "            qj = np.linalg.norm(qs[j])\n",
    "            for l in range(l_max): \n",
    "                if qi == 0 or qj == 0:\n",
    "                    C[i,j,l] = 0\n",
    "                else: \n",
    "                    C[i,j,l] = (2*l + 1)*2*np.pi*(R**2)*sp.eval_legendre(l,qDot/(qi*qj))*sp.spherical_jn(l,qi*R)*sp.spherical_jn(l,qj*R)/V\n",
    "    \n",
    "    H = -E*A + B\n",
    "    for l in range(l_max):\n",
    "        H += C[:,:,l]*getRatio(l,E)\n",
    "\n",
    "    #this function is more approriate for large matrices\n",
    "    detData = np.linalg.slogdet(H - E*np.identity(len(Ks))) #returns in (sign,absolute val\n",
    "    det = detData[0]*detData[1]\n",
    "    return det\n"
   ]
  },
  {
   "cell_type": "code",
   "execution_count": 61,
   "metadata": {},
   "outputs": [],
   "source": [
    "def findZero(lst):\n",
    "    for i in range(1,len(lst)):\n",
    "        if (lst[i-1]>0 and lst[i]<0) or (lst[i-1]<0 and lst[i]>0):\n",
    "            return i\n",
    "    return len(lst)"
   ]
  },
  {
   "cell_type": "code",
   "execution_count": 79,
   "metadata": {},
   "outputs": [
    {
     "name": "stdout",
     "output_type": "stream",
     "text": [
      "-0.01000000000000005\n",
      "-0.01000000000000005\n",
      "-5.551115123125783e-17\n",
      "0.019999999999999934\n",
      "0.039999999999999925\n",
      "0.059999999999999915\n",
      "0.08999999999999989\n",
      "0.11999999999999988\n",
      "0.14999999999999988\n",
      "0.17999999999999985\n",
      "[-1.00000000e-02 -1.00000000e-02 -5.55111512e-17  2.00000000e-02\n",
      "  4.00000000e-02  6.00000000e-02  9.00000000e-02  1.20000000e-01\n",
      "  1.50000000e-01  1.80000000e-01]\n"
     ]
    }
   ],
   "source": [
    "\n",
    "\n",
    "ks = [2*np.pi*np.array([i/10,0,0])/a for i in range(1,11)]\n",
    "EMesh  = np.arange(-0.1,0.2,step=0.01)\n",
    "Es = np.empty(len(ks))\n",
    "\n",
    "\n",
    "for i,k in enumerate(ks):\n",
    "    Es[i] = EMesh[int(findZero([findDet(k,E) for E in EMesh]))]\n",
    "    print(Es[i])\n",
    "\n",
    "print(Es)\n",
    "    "
   ]
  },
  {
   "cell_type": "code",
   "execution_count": 81,
   "metadata": {},
   "outputs": [
    {
     "data": {
      "text/plain": [
       "[<matplotlib.lines.Line2D at 0x29f83087f10>]"
      ]
     },
     "execution_count": 81,
     "metadata": {},
     "output_type": "execute_result"
    },
    {
     "data": {
      "image/png": "[encoded data removed]",
      "text/plain": [
       "<Figure size 640x480 with 1 Axes>"
      ]
     },
     "metadata": {},
     "output_type": "display_data"
    }
   ],
   "source": [
    "\n",
    "plt.plot(list(map(lambda k: k[0],ks)),Es)"
   ]
  },
  {
   "cell_type": "code",
   "execution_count": null,
   "metadata": {},
   "outputs": [],
   "source": []
  }
 ],
 "metadata": {
  "kernelspec": {
   "display_name": ".venv",
   "language": "python",
   "name": "python3"
  },
  "language_info": {
   "codemirror_mode": {
    "name": "ipython",
    "version": 3
   },
   "file_extension": ".py",
   "mimetype": "text/x-python",
   "name": "python",
   "nbconvert_exporter": "python",
   "pygments_lexer": "ipython3",
   "version": "3.8.10"
  }
 },
 "nbformat": 4,
 "nbformat_minor": 2
}
