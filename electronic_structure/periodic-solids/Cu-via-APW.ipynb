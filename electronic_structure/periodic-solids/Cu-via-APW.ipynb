{
 "cells": [
  {
   "cell_type": "markdown",
   "metadata": {},
   "source": [
    "# Finding Cu crystal ground state via the Augmented Plane method\n",
    "\n",
    "Adapted from Thijssen"
   ]
  },
  {
   "cell_type": "code",
   "execution_count": 1,
   "metadata": {},
   "outputs": [],
   "source": [
    "import numpy as np\n",
    "from scipy import special as sp"
   ]
  },
  {
   "cell_type": "code",
   "execution_count": 7,
   "metadata": {},
   "outputs": [],
   "source": [
    "# constants\n",
    "a = 6.822 #au\n",
    "R = 1\n",
    "V = 3*(a**3)/4\n",
    "\n",
    "nLim = 3 \n",
    "\n",
    "b1 = 2*np.pi*np.array([-1,1,1])/a\n",
    "b2 = 2*np.pi*np.array([1,-1,1])/a\n",
    "b3 = 2*np.pi*np.array([1,1,-1])/a\n",
    "Ks =[l*b1 + m*b2 + n*b3 for l in range(-nLim,nLim+1) for m in range(-nLim,nLim+1) for n in range(-nLim,nLim+1)]\n",
    "\n"
   ]
  },
  {
   "cell_type": "code",
   "execution_count": 19,
   "metadata": {},
   "outputs": [
    {
     "name": "stdout",
     "output_type": "stream",
     "text": [
      "[[ 1.00000000e+00 -1.35026863e-02 -5.09872972e-03 ... -6.24728351e-04\n",
      "  -6.24843489e-04 -5.61053190e-04]\n",
      " [-1.35026863e-02  1.00000000e+00 -1.35026863e-02 ... -6.24843489e-04\n",
      "  -6.24728351e-04 -6.24843489e-04]\n",
      " [-5.09872972e-03 -1.35026863e-02  1.00000000e+00 ... -5.61053190e-04\n",
      "  -6.24843489e-04 -6.24728351e-04]\n",
      " ...\n",
      " [-6.24728351e-04 -6.24843489e-04 -5.61053190e-04 ...  1.00000000e+00\n",
      "  -1.35026863e-02 -5.09872972e-03]\n",
      " [-6.24843489e-04 -6.24728351e-04 -6.24843489e-04 ... -1.35026863e-02\n",
      "   1.00000000e+00 -1.35026863e-02]\n",
      " [-5.61053190e-04 -6.24843489e-04 -6.24728351e-04 ... -5.09872972e-03\n",
      "  -1.35026863e-02  1.00000000e+00]]\n"
     ]
    }
   ],
   "source": [
    "#generate A\n",
    "def kroneckerDelta(i,j):\n",
    "    if i == j:\n",
    "        return 1\n",
    "    return 0\n",
    "\n",
    "A = np.empty([len(Ks),len(Ks)])\n",
    "for i,K_i in enumerate(Ks):\n",
    "    for j,K_j in enumerate(Ks):\n",
    "        kDiff = np.linalg.norm(K_i-K_j)\n",
    "        if kDiff == 0:\n",
    "            A[i,j] = 1\n",
    "        else:\n",
    "            A[i,j] = -4*np.pi*(R**2)*sp.spherical_jn(1,kDiff*R)/(V*kDiff)\n",
    "\n",
    "print(A)\n",
    "\n",
    "\n"
   ]
  },
  {
   "cell_type": "code",
   "execution_count": null,
   "metadata": {},
   "outputs": [],
   "source": [
    "#shall use hydrogen atom approximation as all other electrons have a shielding effect (this is rough)"
   ]
  },
  {
   "cell_type": "code",
   "execution_count": null,
   "metadata": {},
   "outputs": [],
   "source": [
    "def getH(k):\n",
    "    #set up k dependent matricies \n",
    "    B = np.empty([len(Ks),len(Ks)])\n",
    "    C = np.empty([len(Ks),len(Ks),len(Ks)])\n",
    "    qs = [k + K for K in Ks]\n",
    "\n",
    "    #find B and C\n",
    "    for i in range(len(Ks)):\n",
    "        for j in range(len(Ks)):\n",
    "            qDot = np.dot(qs[i],qs[j])\n",
    "            B[i,j] = A[i,j]*qDot/2\n",
    "            qi = np.linalg.norm(qs[i])\n",
    "            qj = np.linalg.norm(qs[j])\n",
    "            for l,K_l in enumerate(Ks):\n",
    "                if qi == 0 or qj == 0:\n",
    "                    C[i,j,l] = 0\n",
    "                else: \n",
    "                    C[i,j,l] = (2*l + 1)*2*np.pi*(R**2)*sp.eval_legendre(l,qDot/(qi*qj))*sp.spherical_jn(l,qi*R)*sp.spherical_jn(l,qj*R)/V\n",
    "    \n",
    "    #find H with these matricies\n",
    "\n",
    "\n"
   ]
  }
 ],
 "metadata": {
  "kernelspec": {
   "display_name": ".venv",
   "language": "python",
   "name": "python3"
  },
  "language_info": {
   "codemirror_mode": {
    "name": "ipython",
    "version": 3
   },
   "file_extension": ".py",
   "mimetype": "text/x-python",
   "name": "python",
   "nbconvert_exporter": "python",
   "pygments_lexer": "ipython3",
   "version": "3.8.10"
  }
 },
 "nbformat": 4,
 "nbformat_minor": 2
}
