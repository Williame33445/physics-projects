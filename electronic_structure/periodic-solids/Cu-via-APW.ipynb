{
 "cells": [
  {
   "cell_type": "markdown",
   "metadata": {},
   "source": [
    "# Finding Cu crystal ground state via the Augmented Plane method\n",
    "\n",
    "This project is adapted from Thijssen.\n",
    "\n",
    "## Theory\n",
    "\n",
    "APW is a method for solving the single particle Schrodinger equation in a crystal. It uses the variational principle in the plane wave basis (this is viable due to Bloch's theorem). A basis element for an eigenstate labelled $\\vec{k}$ is:\n",
    "\n",
    "$$\\psi_{\\vec{k} + \\vec{K}} = e^{i(\\vec{k} + \\vec{K})\\cdot\\vec{r}}\\tag{1}$$\n",
    "\n",
    "Due to the size of the potential near the nuclei, the basis set required is too large. APW solves this problem with the Muffin approximation. The equation near the nuclei ($r<R$) is solved exactly and related to the plane waves via boundary conditions at $R$. This allows for the variational method to be applied efficiently to the basis. For a full description of the theory see Thijssen. \n",
    "\n",
    "## Implementation\n",
    "\n",
    "The variational equations are not linear, making the problem much harder to solve. In this implementation a brute force approach has been followed, the energy found for a given $\\vec{k}$ is where the determinant changes sign.\n",
    "\n",
    "This notebook attempts to apply this method to Cu. However, I can no longer access the data used in Thijssen for the potential. Because of this I have modelled the valence electrons potential (ignoring interaction between valence electrons) as:\n",
    "\n",
    "$$V(r) = -Z_{eff}\\frac{e^{-\\frac{r}{r_0}}}{r}\\tag{2}$$\n",
    "\n",
    "where $Z_{eff}$ is the effective charge of the nuclei of the valence electron and $r_0$ has been found via the Thomas–Fermi approximation (this term represents the shielding of the nuclei by other electrons). \n",
    "\n",
    "These approximations are not particularly accurate; however, the implementation of the algorithm is correct.\n",
    "\n"
   ]
  },
  {
   "cell_type": "code",
   "execution_count": 747,
   "metadata": {},
   "outputs": [],
   "source": [
    "import numpy as np\n",
    "from scipy import special as sp\n",
    "import matplotlib.pyplot as plt"
   ]
  },
  {
   "cell_type": "code",
   "execution_count": 748,
   "metadata": {},
   "outputs": [],
   "source": [
    "#constants\n",
    "a = 6.822 \n",
    "vol = 3*(a**3)/4\n",
    "\n",
    "l_max = 2*(3+2+1) + 4\n",
    "nLim = 2 \n",
    "\n",
    "#define recipricol lattice vectors \n",
    "b1 = 2*np.pi*np.array([-1,1,1])/a\n",
    "b2 = 2*np.pi*np.array([1,-1,1])/a\n",
    "b3 = 2*np.pi*np.array([1,1,-1])/a\n",
    "Ks =[l*b1 + m*b2 + n*b3 for l in range(-nLim,nLim+1) for m in range(-nLim,nLim+1) for n in range(-nLim,nLim+1)]\n",
    "\n"
   ]
  },
  {
   "cell_type": "code",
   "execution_count": 749,
   "metadata": {},
   "outputs": [],
   "source": [
    "#taken from Energy Band Structure of Copper* GLENN A. BURDICK/f.\n",
    "\n",
    "r = np.array([1,0.005,0.010,0.015,0.020,0.025,0.030,0.035,0.040,\n",
    "              0.050,0.060,0.070,0.080,0.090,0.100,\n",
    "              0.120,0.140,0.160,0.180,0.200,0.220,0.240,0.260,0.280,0.300,\n",
    "              0.340,0.380,0.420,0.460,0.500,0.540,0.580,0.620,0.660,0.700,0.800,0.900,1.00,1.10,1.20, 1.30, 1.40,\n",
    "       1.60, 2.00, 2.40, 2.80])\n",
    "\n",
    "twoZ = np.array([0,57.500,56.206,54.966,53.797,52.688,51.644,50.656,49.720,47.970,46.358,\n",
    "        44.849,43.420,42.060,40.755,38.333,36.140,34.157,32.359,30.741,29.276,27.917,\n",
    "        26.662,25.462,24.264,22.186,20.470,18.851,17.308,15.965,\n",
    "        14.772,13.625,12.631,11.680,10.874,9.099,7.782,\n",
    "        6.749,5.963,5.310,4.778,4.284,3.533,\n",
    "        2.724,2.277,2.629])\n",
    "V = -twoZ/r \n",
    "r[0] = 0"
   ]
  },
  {
   "cell_type": "code",
   "execution_count": 750,
   "metadata": {},
   "outputs": [],
   "source": [
    "#generate A\n",
    "A = np.empty([len(Ks),len(Ks)])\n",
    "for i,K_i in enumerate(Ks):\n",
    "    for j,K_j in enumerate(Ks):\n",
    "        kDiff = np.linalg.norm(K_i-K_j)\n",
    "        if kDiff == 0:\n",
    "            A[i,j] = 1\n",
    "        else:\n",
    "            A[i,j] = -4*np.pi*(r[-2]**2)*sp.spherical_jn(1,kDiff*r[-2])/(vol*kDiff)\n"
   ]
  },
  {
   "cell_type": "code",
   "execution_count": 751,
   "metadata": {},
   "outputs": [],
   "source": [
    "#code for solution to the muffin part\n",
    "\n",
    "def w(x,t,h,f):\n",
    "    return (1 - f(t)*(h**2)/12)*x\n",
    "\n",
    "def wInv(w,t,h,f):\n",
    "    return w/(1 - f(t)*(h**2)/12)\n",
    "\n",
    "def iterateNumerov(x_t,x_tMinush,t,h,f):\n",
    "    w_t = w(x_t,t,h,f)\n",
    "    w_tMinush = w(x_tMinush,t,h,f)\n",
    "    w_rPlush = 2*w_t - w_tMinush + x_t*f(t)*(h**2)\n",
    "    return wInv(w_rPlush,t,h,f)\n",
    "\n",
    "def intialCond(l):\n",
    "    \"\"\"\n",
    "    Finds intial conditions near r=0.\n",
    "    \"\"\"\n",
    "    return [r[0]**(l+1),r[1]**(l+1)] #may want to add r=0 part\n",
    "\n",
    "\n",
    "def getf(i,l,E):\n",
    "    return lambda r: l*(l+1)/r**2 + 2*(V[i] - E)  \n",
    "\n",
    "\n",
    "def getRatio(l,E):\n",
    "    \"\"\"\n",
    "    Finds ration required for the matrix calculation.\n",
    "    \"\"\"\n",
    "    us1 = intialCond(l)\n",
    "    h1 = 0.005\n",
    "    for i in range(2,8):\n",
    "        us1.append(iterateNumerov(us1[-1],us1[-2],r[i-1],h1,getf(i,l,E)))\n",
    "    \n",
    "    us2 = [us1[-3],us1[-1]]\n",
    "    h2 = 0.01\n",
    "    for i in range(8,14):\n",
    "        us2.append(iterateNumerov(us2[-1],us2[-2],r[i-1],h2,getf(i,l,E)))\n",
    "\n",
    "    us3 = [us2[-3],us2[-1]]\n",
    "    h3 = 0.02\n",
    "    for i in range(14,24):\n",
    "        us3.append(iterateNumerov(us3[-1],us3[-2],r[i-1],h3,getf(i,l,E)))\n",
    "\n",
    "    us4 = [us3[-3],us3[-1]]\n",
    "    h4 = 0.04\n",
    "    for i in range(24,45):\n",
    "        us4.append(iterateNumerov(us4[-1],us4[-2],r[i-1],h4,getf(i,l,E)))\n",
    "\n",
    "    uDotEnd = ((1-(h4**2)*getf(-1,l,E)(r[-1])/6)*us4[-1] - (1-(h4**2)*getf(-3,l,E)(r[-3])/6)*us4[-3])/(2*h4)\n",
    "\n",
    "    return uDotEnd/us4[-2] - 1/r[-2] #this may not be very accurate\n",
    "    "
   ]
  },
  {
   "cell_type": "code",
   "execution_count": 752,
   "metadata": {},
   "outputs": [],
   "source": [
    "def findDet(k,E):\n",
    "    \"\"\"\n",
    "    Finds variational problem determinant\n",
    "    \"\"\"\n",
    "\n",
    "    #set up k dependent matricies \n",
    "    B = np.empty([len(Ks),len(Ks)])\n",
    "    C = np.empty([len(Ks),len(Ks),len(Ks)])\n",
    "    qs = [k + K for K in Ks]\n",
    "\n",
    "    #find B and C\n",
    "    for i in range(len(Ks)):\n",
    "        for j in range(len(Ks)):\n",
    "            qDot = np.dot(qs[i],qs[j])\n",
    "            B[i,j] = A[i,j]*qDot/2\n",
    "            qi = np.linalg.norm(qs[i])\n",
    "            qj = np.linalg.norm(qs[j])\n",
    "            for l in range(l_max): \n",
    "                if qi == 0 or qj == 0:\n",
    "                    C[i,j,l] = 0\n",
    "                else: \n",
    "                    C[i,j,l] = (2*l + 1)*2*np.pi*(r[-2]**2)*sp.eval_legendre(l,qDot/(qi*qj))*sp.spherical_jn(l,qi*r[-2])*sp.spherical_jn(l,qj*r[-2])/vol\n",
    "    \n",
    "    H = -E*A + B\n",
    "    for l in range(l_max):\n",
    "        H += C[:,:,l]*getRatio(l,E)\n",
    "\n",
    "    #this function is more approriate for large matrices, returns in (sign,absolute val\n",
    "    detData = np.linalg.slogdet(H - E*np.identity(len(Ks)))\n",
    "    det = detData[0]*detData[1]\n",
    "    return det\n"
   ]
  },
  {
   "cell_type": "code",
   "execution_count": 753,
   "metadata": {},
   "outputs": [],
   "source": [
    "def findZero(lst,j):\n",
    "    \"\"\"\n",
    "    Given a list, finds the list elements that change sign.\n",
    "    \"\"\"\n",
    "    t = 0\n",
    "    for i in range(1,len(lst)):\n",
    "        if (lst[i-1]>0 and lst[i]<0) or (lst[i-1]<0 and lst[i]>0):\n",
    "            if t == j:\n",
    "                return i\n",
    "            else:\n",
    "                t+=1\n",
    "    return len(lst)-1"
   ]
  },
  {
   "cell_type": "code",
   "execution_count": 754,
   "metadata": {},
   "outputs": [],
   "source": [
    "#defines a energy mess and finds the energy values where the determinant vanishes\n",
    "ks = [2*np.pi*np.array([i/10,0,0])/a for i in range(1,11)]\n",
    "EMesh  = np.arange(-0.1,.25,step=0.01) \n",
    "E0s = np.empty(len(ks))\n",
    "E1s = np.empty(len(ks))\n",
    "\n",
    "for i,k in enumerate(ks):\n",
    "    detList = [findDet(k,E) for E in EMesh]\n",
    "    E0s[i] = EMesh[int(findZero(detList,0))] \n",
    "    E1s[i] = EMesh[int(findZero(detList,1))] "
   ]
  },
  {
   "cell_type": "code",
   "execution_count": null,
   "metadata": {},
   "outputs": [
    {
     "data": {
      "image/png": "[encoded data removed]",
      "text/plain": [
       "<Figure size 640x480 with 1 Axes>"
      ]
     },
     "metadata": {},
     "output_type": "display_data"
    }
   ],
   "source": [
    "#graphs, due to lack of electron-electron interactions this is not going to be very accurate\n",
    "kx = list(map(lambda k: k[0],ks))\n",
    "plt.plot(kx,E0s)\n",
    "plt.plot(kx,E1s)\n",
    "plt.title(R\"Lowest energy band of Cu along $k_x$ axis\")\n",
    "plt.xlabel(r\"$k_x$ (Bohr)\")\n",
    "plt.ylabel(\"Energy (Hartree)\")\n",
    "plt.show() #have added 0 at the end"
   ]
  },
  {
   "cell_type": "markdown",
   "metadata": {},
   "source": []
  }
 ],
 "metadata": {
  "kernelspec": {
   "display_name": ".venv",
   "language": "python",
   "name": "python3"
  },
  "language_info": {
   "codemirror_mode": {
    "name": "ipython",
    "version": 3
   },
   "file_extension": ".py",
   "mimetype": "text/x-python",
   "name": "python",
   "nbconvert_exporter": "python",
   "pygments_lexer": "ipython3",
   "version": "3.8.10"
  }
 },
 "nbformat": 4,
 "nbformat_minor": 2
}
